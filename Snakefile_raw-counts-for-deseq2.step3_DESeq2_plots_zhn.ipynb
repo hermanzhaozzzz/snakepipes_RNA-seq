{
 "cells": [
  {
   "cell_type": "markdown",
   "metadata": {},
   "source": [
    "# DESeq2 DE Analysis Pipeline\n",
    "- 依赖包:\n",
    "   - DESeq2\n",
    "   - RColorBrewer\n",
    "   - gplots\n",
    "   - pheatmap\n",
    "   - ggplot2\n",
    "- DESeq2对于输入数据的要求\n",
    "   - 输入数据为整数构成的矩阵\n",
    "   - 此矩阵必须是没有经过标准化(归一化/Normalize) \n",
    "- DESeq2进行差异表达分析\n",
    "   - 构建dds矩阵\n",
    "       ```\n",
    "       dds <- DESeqDataSetFromMatrix(\n",
    "                   countData = cts, \n",
    "                   colData = coldata, \n",
    "                   design= ~ batch + condition) \n",
    "       #~在R里面用于构建公式对象，~左边为因变量，右边为自变量。\n",
    "       ```\n",
    "\n",
    "   - 标准化/归一化\n",
    "       ```\n",
    "       dds <- DESeq(dds) \n",
    "       #标准化\n",
    "       ```\n",
    "   - 差异分析\n",
    "       ```\n",
    "       res <- results(dds, contrast=c(\"condition\",\"treated\",\"control\")) \n",
    "       #差异分析结果\n",
    "       ```"
   ]
  },
  {
   "cell_type": "code",
   "execution_count": 1,
   "metadata": {},
   "outputs": [
    {
     "data": {
      "text/html": [
       "<style>\n",
       ".list-inline {list-style: none; margin:0; padding: 0}\n",
       ".list-inline>li {display: inline-block}\n",
       ".list-inline>li:not(:last-child)::after {content: \"\\00b7\"; padding: 0 .5ex}\n",
       "</style>\n",
       "<ol class=list-inline><li>55401</li><li>8</li></ol>\n"
      ],
      "text/latex": [
       "\\begin{enumerate*}\n",
       "\\item 55401\n",
       "\\item 8\n",
       "\\end{enumerate*}\n"
      ],
      "text/markdown": [
       "1. 55401\n",
       "2. 8\n",
       "\n",
       "\n"
      ],
      "text/plain": [
       "[1] 55401     8"
      ]
     },
     "metadata": {},
     "output_type": "display_data"
    }
   ],
   "source": [
    "### read data ------------------------------------------------------------------------------>\n",
    "colData <- read.table(\"sample.csv\",header = TRUE)\n",
    "rawcts <- read.table(\"../featureCounts/all_feature_fix.csv\",header = TRUE,row.names = 1)\n",
    "dim(rawcts)"
   ]
  },
  {
   "cell_type": "code",
   "execution_count": 2,
   "metadata": {},
   "outputs": [
    {
     "data": {
      "text/html": [
       "<table>\n",
       "<caption>A data.frame: 4 × 8</caption>\n",
       "<thead>\n",
       "\t<tr><th></th><th scope=col>WT1</th><th scope=col>WT2</th><th scope=col>WT3</th><th scope=col>WT4</th><th scope=col>KO1</th><th scope=col>KO2</th><th scope=col>KO3</th><th scope=col>KO4</th></tr>\n",
       "\t<tr><th></th><th scope=col>&lt;int&gt;</th><th scope=col>&lt;int&gt;</th><th scope=col>&lt;int&gt;</th><th scope=col>&lt;int&gt;</th><th scope=col>&lt;int&gt;</th><th scope=col>&lt;int&gt;</th><th scope=col>&lt;int&gt;</th><th scope=col>&lt;int&gt;</th></tr>\n",
       "</thead>\n",
       "<tbody>\n",
       "\t<tr><th scope=row>ENSMUSG00000102693.1</th><td>0</td><td>0</td><td>0</td><td>0</td><td>0</td><td>0</td><td>0</td><td>0</td></tr>\n",
       "\t<tr><th scope=row>ENSMUSG00000064842.1</th><td>0</td><td>0</td><td>0</td><td>0</td><td>0</td><td>0</td><td>0</td><td>0</td></tr>\n",
       "\t<tr><th scope=row>ENSMUSG00000051951.5</th><td>0</td><td>0</td><td>0</td><td>0</td><td>0</td><td>0</td><td>0</td><td>0</td></tr>\n",
       "\t<tr><th scope=row>ENSMUSG00000102851.1</th><td>0</td><td>0</td><td>0</td><td>0</td><td>0</td><td>0</td><td>0</td><td>0</td></tr>\n",
       "</tbody>\n",
       "</table>\n"
      ],
      "text/latex": [
       "A data.frame: 4 × 8\n",
       "\\begin{tabular}{r|llllllll}\n",
       "  & WT1 & WT2 & WT3 & WT4 & KO1 & KO2 & KO3 & KO4\\\\\n",
       "  & <int> & <int> & <int> & <int> & <int> & <int> & <int> & <int>\\\\\n",
       "\\hline\n",
       "\tENSMUSG00000102693.1 & 0 & 0 & 0 & 0 & 0 & 0 & 0 & 0\\\\\n",
       "\tENSMUSG00000064842.1 & 0 & 0 & 0 & 0 & 0 & 0 & 0 & 0\\\\\n",
       "\tENSMUSG00000051951.5 & 0 & 0 & 0 & 0 & 0 & 0 & 0 & 0\\\\\n",
       "\tENSMUSG00000102851.1 & 0 & 0 & 0 & 0 & 0 & 0 & 0 & 0\\\\\n",
       "\\end{tabular}\n"
      ],
      "text/markdown": [
       "\n",
       "A data.frame: 4 × 8\n",
       "\n",
       "| <!--/--> | WT1 &lt;int&gt; | WT2 &lt;int&gt; | WT3 &lt;int&gt; | WT4 &lt;int&gt; | KO1 &lt;int&gt; | KO2 &lt;int&gt; | KO3 &lt;int&gt; | KO4 &lt;int&gt; |\n",
       "|---|---|---|---|---|---|---|---|---|\n",
       "| ENSMUSG00000102693.1 | 0 | 0 | 0 | 0 | 0 | 0 | 0 | 0 |\n",
       "| ENSMUSG00000064842.1 | 0 | 0 | 0 | 0 | 0 | 0 | 0 | 0 |\n",
       "| ENSMUSG00000051951.5 | 0 | 0 | 0 | 0 | 0 | 0 | 0 | 0 |\n",
       "| ENSMUSG00000102851.1 | 0 | 0 | 0 | 0 | 0 | 0 | 0 | 0 |\n",
       "\n"
      ],
      "text/plain": [
       "                     WT1 WT2 WT3 WT4 KO1 KO2 KO3 KO4\n",
       "ENSMUSG00000102693.1 0   0   0   0   0   0   0   0  \n",
       "ENSMUSG00000064842.1 0   0   0   0   0   0   0   0  \n",
       "ENSMUSG00000051951.5 0   0   0   0   0   0   0   0  \n",
       "ENSMUSG00000102851.1 0   0   0   0   0   0   0   0  "
      ]
     },
     "metadata": {},
     "output_type": "display_data"
    }
   ],
   "source": [
    "head(rawcts,4)"
   ]
  },
  {
   "cell_type": "markdown",
   "metadata": {},
   "source": [
    "1. 读取样本信息（sample.txt）\n",
    "2. 读取featureCounts产生的各个bam文件的counts信息\n",
    "3. 检查rawcts中的所有记录(row)的个数，这里代表count到的gene的个数, geneid被指定为row.names了所以不计在内"
   ]
  },
  {
   "cell_type": "code",
   "execution_count": 3,
   "metadata": {},
   "outputs": [
    {
     "data": {
      "text/html": [
       "<style>\n",
       ".list-inline {list-style: none; margin:0; padding: 0}\n",
       ".list-inline>li {display: inline-block}\n",
       ".list-inline>li:not(:last-child)::after {content: \"\\00b7\"; padding: 0 .5ex}\n",
       "</style>\n",
       "<ol class=list-inline><li>55401</li><li>8</li></ol>\n"
      ],
      "text/latex": [
       "\\begin{enumerate*}\n",
       "\\item 55401\n",
       "\\item 8\n",
       "\\end{enumerate*}\n"
      ],
      "text/markdown": [
       "1. 55401\n",
       "2. 8\n",
       "\n",
       "\n"
      ],
      "text/plain": [
       "[1] 55401     8"
      ]
     },
     "metadata": {},
     "output_type": "display_data"
    }
   ],
   "source": [
    "# 21653 transcripts, 104 exps\n",
    "dim(rawcts)"
   ]
  },
  {
   "cell_type": "code",
   "execution_count": 4,
   "metadata": {},
   "outputs": [
    {
     "data": {
      "text/html": [
       "<table>\n",
       "<caption>A data.frame: 6 × 3</caption>\n",
       "<thead>\n",
       "\t<tr><th></th><th scope=col>sample</th><th scope=col>condition</th><th scope=col>type</th></tr>\n",
       "\t<tr><th></th><th scope=col>&lt;chr&gt;</th><th scope=col>&lt;chr&gt;</th><th scope=col>&lt;chr&gt;</th></tr>\n",
       "</thead>\n",
       "<tbody>\n",
       "\t<tr><th scope=row>1</th><td>WT1</td><td>ctrl </td><td>ctrl </td></tr>\n",
       "\t<tr><th scope=row>2</th><td>WT2</td><td>ctrl </td><td>ctrl </td></tr>\n",
       "\t<tr><th scope=row>3</th><td>WT3</td><td>ctrl </td><td>ctrl </td></tr>\n",
       "\t<tr><th scope=row>4</th><td>WT4</td><td>ctrl </td><td>ctrl </td></tr>\n",
       "\t<tr><th scope=row>5</th><td>KO1</td><td>treat</td><td>treat</td></tr>\n",
       "\t<tr><th scope=row>6</th><td>KO2</td><td>treat</td><td>treat</td></tr>\n",
       "</tbody>\n",
       "</table>\n"
      ],
      "text/latex": [
       "A data.frame: 6 × 3\n",
       "\\begin{tabular}{r|lll}\n",
       "  & sample & condition & type\\\\\n",
       "  & <chr> & <chr> & <chr>\\\\\n",
       "\\hline\n",
       "\t1 & WT1 & ctrl  & ctrl \\\\\n",
       "\t2 & WT2 & ctrl  & ctrl \\\\\n",
       "\t3 & WT3 & ctrl  & ctrl \\\\\n",
       "\t4 & WT4 & ctrl  & ctrl \\\\\n",
       "\t5 & KO1 & treat & treat\\\\\n",
       "\t6 & KO2 & treat & treat\\\\\n",
       "\\end{tabular}\n"
      ],
      "text/markdown": [
       "\n",
       "A data.frame: 6 × 3\n",
       "\n",
       "| <!--/--> | sample &lt;chr&gt; | condition &lt;chr&gt; | type &lt;chr&gt; |\n",
       "|---|---|---|---|\n",
       "| 1 | WT1 | ctrl  | ctrl  |\n",
       "| 2 | WT2 | ctrl  | ctrl  |\n",
       "| 3 | WT3 | ctrl  | ctrl  |\n",
       "| 4 | WT4 | ctrl  | ctrl  |\n",
       "| 5 | KO1 | treat | treat |\n",
       "| 6 | KO2 | treat | treat |\n",
       "\n"
      ],
      "text/plain": [
       "  sample condition type \n",
       "1 WT1    ctrl      ctrl \n",
       "2 WT2    ctrl      ctrl \n",
       "3 WT3    ctrl      ctrl \n",
       "4 WT4    ctrl      ctrl \n",
       "5 KO1    treat     treat\n",
       "6 KO2    treat     treat"
      ]
     },
     "metadata": {},
     "output_type": "display_data"
    }
   ],
   "source": [
    "# 看一下colData\n",
    "# 样本名称、处理条件\n",
    "head(colData)"
   ]
  },
  {
   "cell_type": "code",
   "execution_count": 5,
   "metadata": {},
   "outputs": [
    {
     "data": {
      "text/html": [
       "<table>\n",
       "<caption>A data.frame: 6 × 3</caption>\n",
       "<thead>\n",
       "\t<tr><th></th><th scope=col>sample</th><th scope=col>condition</th><th scope=col>type</th></tr>\n",
       "\t<tr><th></th><th scope=col>&lt;chr&gt;</th><th scope=col>&lt;chr&gt;</th><th scope=col>&lt;chr&gt;</th></tr>\n",
       "</thead>\n",
       "<tbody>\n",
       "\t<tr><th scope=row>1</th><td>WT1</td><td>ctrl </td><td>ctrl </td></tr>\n",
       "\t<tr><th scope=row>2</th><td>WT2</td><td>ctrl </td><td>ctrl </td></tr>\n",
       "\t<tr><th scope=row>3</th><td>WT3</td><td>ctrl </td><td>ctrl </td></tr>\n",
       "\t<tr><th scope=row>4</th><td>WT4</td><td>ctrl </td><td>ctrl </td></tr>\n",
       "\t<tr><th scope=row>5</th><td>KO1</td><td>treat</td><td>treat</td></tr>\n",
       "\t<tr><th scope=row>6</th><td>KO2</td><td>treat</td><td>treat</td></tr>\n",
       "</tbody>\n",
       "</table>\n"
      ],
      "text/latex": [
       "A data.frame: 6 × 3\n",
       "\\begin{tabular}{r|lll}\n",
       "  & sample & condition & type\\\\\n",
       "  & <chr> & <chr> & <chr>\\\\\n",
       "\\hline\n",
       "\t1 & WT1 & ctrl  & ctrl \\\\\n",
       "\t2 & WT2 & ctrl  & ctrl \\\\\n",
       "\t3 & WT3 & ctrl  & ctrl \\\\\n",
       "\t4 & WT4 & ctrl  & ctrl \\\\\n",
       "\t5 & KO1 & treat & treat\\\\\n",
       "\t6 & KO2 & treat & treat\\\\\n",
       "\\end{tabular}\n"
      ],
      "text/markdown": [
       "\n",
       "A data.frame: 6 × 3\n",
       "\n",
       "| <!--/--> | sample &lt;chr&gt; | condition &lt;chr&gt; | type &lt;chr&gt; |\n",
       "|---|---|---|---|\n",
       "| 1 | WT1 | ctrl  | ctrl  |\n",
       "| 2 | WT2 | ctrl  | ctrl  |\n",
       "| 3 | WT3 | ctrl  | ctrl  |\n",
       "| 4 | WT4 | ctrl  | ctrl  |\n",
       "| 5 | KO1 | treat | treat |\n",
       "| 6 | KO2 | treat | treat |\n",
       "\n"
      ],
      "text/plain": [
       "  sample condition type \n",
       "1 WT1    ctrl      ctrl \n",
       "2 WT2    ctrl      ctrl \n",
       "3 WT3    ctrl      ctrl \n",
       "4 WT4    ctrl      ctrl \n",
       "5 KO1    treat     treat\n",
       "6 KO2    treat     treat"
      ]
     },
     "metadata": {},
     "output_type": "display_data"
    }
   ],
   "source": [
    "head(colData)"
   ]
  },
  {
   "cell_type": "code",
   "execution_count": 6,
   "metadata": {},
   "outputs": [
    {
     "data": {
      "text/html": [
       "<table>\n",
       "<caption>A data.frame: 6 × 8</caption>\n",
       "<thead>\n",
       "\t<tr><th></th><th scope=col>WT1</th><th scope=col>WT2</th><th scope=col>WT3</th><th scope=col>WT4</th><th scope=col>KO1</th><th scope=col>KO2</th><th scope=col>KO3</th><th scope=col>KO4</th></tr>\n",
       "\t<tr><th></th><th scope=col>&lt;int&gt;</th><th scope=col>&lt;int&gt;</th><th scope=col>&lt;int&gt;</th><th scope=col>&lt;int&gt;</th><th scope=col>&lt;int&gt;</th><th scope=col>&lt;int&gt;</th><th scope=col>&lt;int&gt;</th><th scope=col>&lt;int&gt;</th></tr>\n",
       "</thead>\n",
       "<tbody>\n",
       "\t<tr><th scope=row>ENSMUSG00000102693.1</th><td>0</td><td>0</td><td>0</td><td>0</td><td>0</td><td>0</td><td>0</td><td>0</td></tr>\n",
       "\t<tr><th scope=row>ENSMUSG00000064842.1</th><td>0</td><td>0</td><td>0</td><td>0</td><td>0</td><td>0</td><td>0</td><td>0</td></tr>\n",
       "\t<tr><th scope=row>ENSMUSG00000051951.5</th><td>0</td><td>0</td><td>0</td><td>0</td><td>0</td><td>0</td><td>0</td><td>0</td></tr>\n",
       "\t<tr><th scope=row>ENSMUSG00000102851.1</th><td>0</td><td>0</td><td>0</td><td>0</td><td>0</td><td>0</td><td>0</td><td>0</td></tr>\n",
       "\t<tr><th scope=row>ENSMUSG00000103377.1</th><td>0</td><td>0</td><td>0</td><td>0</td><td>0</td><td>0</td><td>0</td><td>0</td></tr>\n",
       "\t<tr><th scope=row>ENSMUSG00000104017.1</th><td>0</td><td>0</td><td>0</td><td>0</td><td>0</td><td>0</td><td>0</td><td>0</td></tr>\n",
       "</tbody>\n",
       "</table>\n"
      ],
      "text/latex": [
       "A data.frame: 6 × 8\n",
       "\\begin{tabular}{r|llllllll}\n",
       "  & WT1 & WT2 & WT3 & WT4 & KO1 & KO2 & KO3 & KO4\\\\\n",
       "  & <int> & <int> & <int> & <int> & <int> & <int> & <int> & <int>\\\\\n",
       "\\hline\n",
       "\tENSMUSG00000102693.1 & 0 & 0 & 0 & 0 & 0 & 0 & 0 & 0\\\\\n",
       "\tENSMUSG00000064842.1 & 0 & 0 & 0 & 0 & 0 & 0 & 0 & 0\\\\\n",
       "\tENSMUSG00000051951.5 & 0 & 0 & 0 & 0 & 0 & 0 & 0 & 0\\\\\n",
       "\tENSMUSG00000102851.1 & 0 & 0 & 0 & 0 & 0 & 0 & 0 & 0\\\\\n",
       "\tENSMUSG00000103377.1 & 0 & 0 & 0 & 0 & 0 & 0 & 0 & 0\\\\\n",
       "\tENSMUSG00000104017.1 & 0 & 0 & 0 & 0 & 0 & 0 & 0 & 0\\\\\n",
       "\\end{tabular}\n"
      ],
      "text/markdown": [
       "\n",
       "A data.frame: 6 × 8\n",
       "\n",
       "| <!--/--> | WT1 &lt;int&gt; | WT2 &lt;int&gt; | WT3 &lt;int&gt; | WT4 &lt;int&gt; | KO1 &lt;int&gt; | KO2 &lt;int&gt; | KO3 &lt;int&gt; | KO4 &lt;int&gt; |\n",
       "|---|---|---|---|---|---|---|---|---|\n",
       "| ENSMUSG00000102693.1 | 0 | 0 | 0 | 0 | 0 | 0 | 0 | 0 |\n",
       "| ENSMUSG00000064842.1 | 0 | 0 | 0 | 0 | 0 | 0 | 0 | 0 |\n",
       "| ENSMUSG00000051951.5 | 0 | 0 | 0 | 0 | 0 | 0 | 0 | 0 |\n",
       "| ENSMUSG00000102851.1 | 0 | 0 | 0 | 0 | 0 | 0 | 0 | 0 |\n",
       "| ENSMUSG00000103377.1 | 0 | 0 | 0 | 0 | 0 | 0 | 0 | 0 |\n",
       "| ENSMUSG00000104017.1 | 0 | 0 | 0 | 0 | 0 | 0 | 0 | 0 |\n",
       "\n"
      ],
      "text/plain": [
       "                     WT1 WT2 WT3 WT4 KO1 KO2 KO3 KO4\n",
       "ENSMUSG00000102693.1 0   0   0   0   0   0   0   0  \n",
       "ENSMUSG00000064842.1 0   0   0   0   0   0   0   0  \n",
       "ENSMUSG00000051951.5 0   0   0   0   0   0   0   0  \n",
       "ENSMUSG00000102851.1 0   0   0   0   0   0   0   0  \n",
       "ENSMUSG00000103377.1 0   0   0   0   0   0   0   0  \n",
       "ENSMUSG00000104017.1 0   0   0   0   0   0   0   0  "
      ]
     },
     "metadata": {},
     "output_type": "display_data"
    }
   ],
   "source": [
    "# 看一下rawcts\n",
    "# 这个很简单就是geneid为index，样本信息的counts数为columns\n",
    "head(rawcts)"
   ]
  },
  {
   "cell_type": "markdown",
   "metadata": {},
   "source": [
    "4. 过滤掉行的和为0，也就是没有bam文件中count到reads的genes"
   ]
  },
  {
   "cell_type": "code",
   "execution_count": 7,
   "metadata": {},
   "outputs": [
    {
     "data": {
      "text/html": [
       "<style>\n",
       ".list-inline {list-style: none; margin:0; padding: 0}\n",
       ".list-inline>li {display: inline-block}\n",
       ".list-inline>li:not(:last-child)::after {content: \"\\00b7\"; padding: 0 .5ex}\n",
       "</style>\n",
       "<ol class=list-inline><li>19614</li><li>8</li></ol>\n"
      ],
      "text/latex": [
       "\\begin{enumerate*}\n",
       "\\item 19614\n",
       "\\item 8\n",
       "\\end{enumerate*}\n"
      ],
      "text/markdown": [
       "1. 19614\n",
       "2. 8\n",
       "\n",
       "\n"
      ],
      "text/plain": [
       "[1] 19614     8"
      ]
     },
     "metadata": {},
     "output_type": "display_data"
    }
   ],
   "source": [
    "### filt genes that don't express in all sample -------------------------------------------->\n",
    "rawcts <- rawcts[rowSums(rawcts)>0,]\n",
    "dim(rawcts)"
   ]
  },
  {
   "cell_type": "markdown",
   "metadata": {},
   "source": [
    "5. rownames函数调用矩阵的row.names\n",
    "6. 调用stringr package中的str_split函数，去除geneid中的gene名的.以及后面的内容\n",
    "7. 使用duplicated函数去掉重复的gn id   \n",
    "   - 去重63个"
   ]
  },
  {
   "cell_type": "code",
   "execution_count": 8,
   "metadata": {},
   "outputs": [
    {
     "data": {
      "text/html": [
       "<style>\n",
       ".list-inline {list-style: none; margin:0; padding: 0}\n",
       ".list-inline>li {display: inline-block}\n",
       ".list-inline>li:not(:last-child)::after {content: \"\\00b7\"; padding: 0 .5ex}\n",
       "</style>\n",
       "<ol class=list-inline><li>19614</li><li>8</li></ol>\n"
      ],
      "text/latex": [
       "\\begin{enumerate*}\n",
       "\\item 19614\n",
       "\\item 8\n",
       "\\end{enumerate*}\n"
      ],
      "text/markdown": [
       "1. 19614\n",
       "2. 8\n",
       "\n",
       "\n"
      ],
      "text/plain": [
       "[1] 19614     8"
      ]
     },
     "metadata": {},
     "output_type": "display_data"
    }
   ],
   "source": [
    "### remove version in ensembl id ----------------------------------------------------------->\n",
    "gn <- stringr::str_split(rownames(rawcts),\"\\\\.\",simplify = T)[,1]\n",
    "# remove duplicate\n",
    "rawcts <- rawcts[!duplicated(gn),]\n",
    "rownames(rawcts) <- gn[!duplicated(gn)]\n",
    "dim(rawcts)"
   ]
  },
  {
   "cell_type": "markdown",
   "metadata": {},
   "source": [
    "## 1. 构建dds矩阵\n",
    "\n",
    "8. 将count的矩阵输入DESeq2的DESeqDataSetFromMatrix函数中，产生dds(DEseq Data Set)\n",
    "\n",
    "\n",
    "构建dds矩阵需要：\n",
    "\n",
    "- 表达矩阵\n",
    "   - 即上述代码中的countData，就是我们前面通过read count计算后并融合生成的矩阵，行row为各个基因，列col为各个样品，中间为计算reads或者fragment得到的整数。我们后面要用的是这个文件（mouse_all_count.txt）\n",
    "- 样品信息\n",
    "   - 矩阵即上述代码中的colData，它的类型是一个dataframe（数据框），这个东西叫【元数据】\n",
    "   - 第一列是样品名称，\n",
    "   - 第二列是样品的处理情况（对照还是处理等），即condition，condition的类型是一个factor\n",
    "   - 第三列type可以理解为宏观的处理条件，需要时使用，用不着也可以留空\n",
    "   \n",
    "   - 这里我用第三列的type作为自变量(你也可以用第二列的condition)\n",
    "- 差异比较矩阵\n",
    "   - 即上述代码中的design。\n",
    "   - 差异比较矩阵就是告诉差异分析函数是要分析哪些变量间的差异\n",
    "   - 简单说就是说明哪些是对照哪些是处理。"
   ]
  },
  {
   "cell_type": "code",
   "execution_count": 9,
   "metadata": {},
   "outputs": [
    {
     "name": "stderr",
     "output_type": "stream",
     "text": [
      "Loading required package: S4Vectors\n",
      "\n",
      "Loading required package: stats4\n",
      "\n",
      "Loading required package: BiocGenerics\n",
      "\n",
      "Loading required package: parallel\n",
      "\n",
      "\n",
      "Attaching package: ‘BiocGenerics’\n",
      "\n",
      "\n",
      "The following objects are masked from ‘package:parallel’:\n",
      "\n",
      "    clusterApply, clusterApplyLB, clusterCall, clusterEvalQ,\n",
      "    clusterExport, clusterMap, parApply, parCapply, parLapply,\n",
      "    parLapplyLB, parRapply, parSapply, parSapplyLB\n",
      "\n",
      "\n",
      "The following objects are masked from ‘package:stats’:\n",
      "\n",
      "    IQR, mad, sd, var, xtabs\n",
      "\n",
      "\n",
      "The following objects are masked from ‘package:base’:\n",
      "\n",
      "    anyDuplicated, append, as.data.frame, basename, cbind, colnames,\n",
      "    dirname, do.call, duplicated, eval, evalq, Filter, Find, get, grep,\n",
      "    grepl, intersect, is.unsorted, lapply, Map, mapply, match, mget,\n",
      "    order, paste, pmax, pmax.int, pmin, pmin.int, Position, rank,\n",
      "    rbind, Reduce, rownames, sapply, setdiff, sort, table, tapply,\n",
      "    union, unique, unsplit, which.max, which.min\n",
      "\n",
      "\n",
      "\n",
      "Attaching package: ‘S4Vectors’\n",
      "\n",
      "\n",
      "The following object is masked from ‘package:base’:\n",
      "\n",
      "    expand.grid\n",
      "\n",
      "\n",
      "Loading required package: IRanges\n",
      "\n",
      "Loading required package: GenomicRanges\n",
      "\n",
      "Loading required package: GenomeInfoDb\n",
      "\n",
      "Loading required package: SummarizedExperiment\n",
      "\n",
      "Loading required package: MatrixGenerics\n",
      "\n",
      "Loading required package: matrixStats\n",
      "\n",
      "\n",
      "Attaching package: ‘MatrixGenerics’\n",
      "\n",
      "\n",
      "The following objects are masked from ‘package:matrixStats’:\n",
      "\n",
      "    colAlls, colAnyNAs, colAnys, colAvgsPerRowSet, colCollapse,\n",
      "    colCounts, colCummaxs, colCummins, colCumprods, colCumsums,\n",
      "    colDiffs, colIQRDiffs, colIQRs, colLogSumExps, colMadDiffs,\n",
      "    colMads, colMaxs, colMeans2, colMedians, colMins, colOrderStats,\n",
      "    colProds, colQuantiles, colRanges, colRanks, colSdDiffs, colSds,\n",
      "    colSums2, colTabulates, colVarDiffs, colVars, colWeightedMads,\n",
      "    colWeightedMeans, colWeightedMedians, colWeightedSds,\n",
      "    colWeightedVars, rowAlls, rowAnyNAs, rowAnys, rowAvgsPerColSet,\n",
      "    rowCollapse, rowCounts, rowCummaxs, rowCummins, rowCumprods,\n",
      "    rowCumsums, rowDiffs, rowIQRDiffs, rowIQRs, rowLogSumExps,\n",
      "    rowMadDiffs, rowMads, rowMaxs, rowMeans2, rowMedians, rowMins,\n",
      "    rowOrderStats, rowProds, rowQuantiles, rowRanges, rowRanks,\n",
      "    rowSdDiffs, rowSds, rowSums2, rowTabulates, rowVarDiffs, rowVars,\n",
      "    rowWeightedMads, rowWeightedMeans, rowWeightedMedians,\n",
      "    rowWeightedSds, rowWeightedVars\n",
      "\n",
      "\n",
      "Loading required package: Biobase\n",
      "\n",
      "Welcome to Bioconductor\n",
      "\n",
      "    Vignettes contain introductory material; view with\n",
      "    'browseVignettes()'. To cite Bioconductor, see\n",
      "    'citation(\"Biobase\")', and for packages 'citation(\"pkgname\")'.\n",
      "\n",
      "\n",
      "\n",
      "Attaching package: ‘Biobase’\n",
      "\n",
      "\n",
      "The following object is masked from ‘package:MatrixGenerics’:\n",
      "\n",
      "    rowMedians\n",
      "\n",
      "\n",
      "The following objects are masked from ‘package:matrixStats’:\n",
      "\n",
      "    anyMissing, rowMedians\n",
      "\n",
      "\n",
      "Warning message in DESeqDataSet(se, design = design, ignoreRank):\n",
      "“some variables in design formula are characters, converting to factors”\n"
     ]
    },
    {
     "data": {
      "text/plain": [
       "class: DESeqDataSet \n",
       "dim: 19614 8 \n",
       "metadata(1): version\n",
       "assays(1): counts\n",
       "rownames(19614): ENSMUSG00000103147 ENSMUSG00000102348 ...\n",
       "  ENSMUSG00000064371 ENSMUSG00000064372\n",
       "rowData names(0):\n",
       "colnames(8): WT1 WT2 ... KO3 KO4\n",
       "colData names(3): sample condition type"
      ]
     },
     "metadata": {},
     "output_type": "display_data"
    }
   ],
   "source": [
    "### DEseq analyses ------------------------------------------------------------------------->\n",
    "library(DESeq2)\n",
    "dds <- DESeqDataSetFromMatrix(countData = rawcts,\n",
    "                              colData = colData,\n",
    "                              design = ~ condition) \n",
    "                            # ~在R里面用于构建公式对象，~左边为因变量(design)，右边为自变量(type) \n",
    "dds"
   ]
  },
  {
   "cell_type": "code",
   "execution_count": 10,
   "metadata": {},
   "outputs": [],
   "source": [
    "# 预过滤\n",
    "# 虽然不必在运行DESeq2函数之前对低计数基因进行预过滤，但是有两个原因使预过滤有用：\n",
    "# - 通过删除读取次数很少的行，我们减小了dds数据对象的内存大小，并且我们提高了DESeq2中转换和测试功能的速度。\n",
    "# - 在这里，我们执行最小的预过滤，以仅保留总读取次数至少为10的行。\n",
    "# - 请注意，对结果函数中的归一化计数的平均值进行独立滤波后，会自动应用更严格的滤波以增加功率。\n",
    "\n",
    "# keep <- rowSums(counts(dds)) >= 10\n",
    "# dds <- dds[keep,]\n",
    "# dds"
   ]
  },
  {
   "cell_type": "markdown",
   "metadata": {},
   "source": [
    "9. 将dds输入DESeq函数#原始dds进行normalize\n",
    "DESeq包含三步:\n",
    "- estimation of size factors（estimateSizeFactors)\n",
    "- estimation of dispersion（estimateDispersons)\n",
    "- Negative Binomial GLM fitting and Wald statistics（nbinomWaldTest）\n",
    "- 【可以分布运行，也可用一步到位，最后返回 results可用的DESeqDataSet对象。】"
   ]
  },
  {
   "cell_type": "code",
   "execution_count": 11,
   "metadata": {},
   "outputs": [
    {
     "name": "stderr",
     "output_type": "stream",
     "text": [
      "estimating size factors\n",
      "\n",
      "estimating dispersions\n",
      "\n",
      "gene-wise dispersion estimates\n",
      "\n",
      "mean-dispersion relationship\n",
      "\n",
      "final dispersion estimates\n",
      "\n",
      "fitting model and testing\n",
      "\n"
     ]
    },
    {
     "data": {
      "text/plain": [
       "class: DESeqDataSet \n",
       "dim: 19614 8 \n",
       "metadata(1): version\n",
       "assays(4): counts mu H cooks\n",
       "rownames(19614): ENSMUSG00000103147 ENSMUSG00000102348 ...\n",
       "  ENSMUSG00000064371 ENSMUSG00000064372\n",
       "rowData names(22): baseMean baseVar ... deviance maxCooks\n",
       "colnames(8): WT1 WT2 ... KO3 KO4\n",
       "colData names(4): sample condition type sizeFactor"
      ]
     },
     "metadata": {},
     "output_type": "display_data"
    }
   ],
   "source": [
    "dds <- DESeq(dds)\n",
    "dds"
   ]
  },
  {
   "cell_type": "markdown",
   "metadata": {},
   "source": [
    "10. Plot Dispersion Estimates\n",
    "- 观察数据的离散情况\n",
    "- A simple helper function that plots the per-gene dispersion estimates together with the fitted mean-dispersion relationship.\n",
    "\n",
    "Arguments\n",
    "- object\n",
    "   - a DESeqDataSet, with dispersions estimated\n",
    "- ymin\n",
    "   - the lower bound for points on the plot, points beyond this are drawn as triangles at ymin\n",
    "- genecol\n",
    "   - the color for gene-wise dispersion estimates\n",
    "- fitcol\n",
    "   - the color of the fitted estimates\n",
    "- finalcol\n",
    "   - the color of the final estimates used for testing\n",
    "- legend\n",
    "   - logical, whether to draw a legend\n",
    "- [文档](https://www.rdocumentation.org/packages/DESeq2/versions/1.12.3/topics/plotDispEsts)"
   ]
  },
  {
   "cell_type": "code",
   "execution_count": 12,
   "metadata": {},
   "outputs": [
    {
     "data": {
      "text/html": [
       "<strong>png:</strong> 2"
      ],
      "text/latex": [
       "\\textbf{png:} 2"
      ],
      "text/markdown": [
       "**png:** 2"
      ],
      "text/plain": [
       "png \n",
       "  2 "
      ]
     },
     "metadata": {},
     "output_type": "display_data"
    }
   ],
   "source": [
    "pdf(\"000_Dispersion_plot.pdf\",width=8,height=8)\n",
    "plotDispEsts(dds, main=\"Dispersion plot\")\n",
    "dev.off()"
   ]
  },
  {
   "cell_type": "markdown",
   "metadata": {},
   "source": [
    "11. 将结果用results()函数来获取，赋值给res变量"
   ]
  },
  {
   "cell_type": "code",
   "execution_count": 13,
   "metadata": {},
   "outputs": [
    {
     "name": "stdout",
     "output_type": "stream",
     "text": [
      "\n",
      "out of 19614 with nonzero total read count\n",
      "adjusted p-value < 0.1\n",
      "LFC > 0 (up)       : 229, 1.2%\n",
      "LFC < 0 (down)     : 205, 1%\n",
      "outliers [1]       : 2276, 12%\n",
      "low counts [2]     : 4687, 24%\n",
      "(mean count < 4)\n",
      "[1] see 'cooksCutoff' argument of ?results\n",
      "[2] see 'independentFiltering' argument of ?results\n",
      "\n"
     ]
    }
   ],
   "source": [
    "res <- results(dds,contrast=c(\"condition\", \"treat\", \"ctrl\"))\n",
    "# summary一下，看一下结果的概要信息\n",
    "summary(res)"
   ]
  },
  {
   "cell_type": "markdown",
   "metadata": {},
   "source": [
    "12. normalization前面的数据分布差异"
   ]
  },
  {
   "cell_type": "code",
   "execution_count": 14,
   "metadata": {},
   "outputs": [],
   "source": [
    "### rld normalization ---------------------------------------------------------------------->\n",
    "## 下面的代码如果你不感兴趣不需要运行，免得误导你\n",
    "## 就是看看normalization前面的数据分布差异\n",
    "rld <- rlogTransformation(dds)\n",
    "rawcts_new=assay(rld)\n",
    "par(cex = 0.7)\n",
    "n.sample=ncol(rawcts)\n",
    "if(n.sample>40) par(cex = 0.5)\n",
    "cols <- rainbow(n.sample*1.2)\n",
    "# 上一步比较耗时，算数据分布用"
   ]
  },
  {
   "cell_type": "code",
   "execution_count": 15,
   "metadata": {},
   "outputs": [
    {
     "data": {
      "text/html": [
       "<strong>png:</strong> 2"
      ],
      "text/latex": [
       "\\textbf{png:} 2"
      ],
      "text/markdown": [
       "**png:** 2"
      ],
      "text/plain": [
       "png \n",
       "  2 "
      ]
     },
     "metadata": {},
     "output_type": "display_data"
    }
   ],
   "source": [
    "pdf(\"001_expression_value_compare.pdf\",width=20,height=15)\n",
    "par(mfrow=c(1,2))\n",
    "boxplot(rawcts, col = cols,main=\"expression value_rawcts: before nornalization\",las=2)\n",
    "boxplot(rawcts_new, col = cols,main=\"expression value_rawcts_new: after nornalization\",las=2)\n",
    "dev.off()"
   ]
  },
  {
   "cell_type": "code",
   "execution_count": 16,
   "metadata": {},
   "outputs": [
    {
     "data": {
      "text/html": [
       "<strong>png:</strong> 2"
      ],
      "text/latex": [
       "\\textbf{png:} 2"
      ],
      "text/markdown": [
       "**png:** 2"
      ],
      "text/plain": [
       "png \n",
       "  2 "
      ]
     },
     "metadata": {},
     "output_type": "display_data"
    }
   ],
   "source": [
    "pdf(\"002_expression_distribution_info_hist.pdf\",width=8,height=8)\n",
    "hist(rawcts_new)\n",
    "dev.off()"
   ]
  },
  {
   "cell_type": "markdown",
   "metadata": {},
   "source": [
    "13. plot correlation heatmap"
   ]
  },
  {
   "cell_type": "code",
   "execution_count": 17,
   "metadata": {},
   "outputs": [
    {
     "data": {
      "text/html": [
       "<table>\n",
       "<caption>A matrix: 6 × 8 of type dbl</caption>\n",
       "<thead>\n",
       "\t<tr><th></th><th scope=col>WT1</th><th scope=col>WT2</th><th scope=col>WT3</th><th scope=col>WT4</th><th scope=col>KO1</th><th scope=col>KO2</th><th scope=col>KO3</th><th scope=col>KO4</th></tr>\n",
       "</thead>\n",
       "<tbody>\n",
       "\t<tr><th scope=row>ENSMUSG00000103147</th><td>-1.5945323</td><td>-1.6481404</td><td>-1.6597207</td><td>-1.6425241</td><td>-1.6606823</td><td>-1.6376111</td><td>-1.6581158</td><td>-1.5840688</td></tr>\n",
       "\t<tr><th scope=row>ENSMUSG00000102348</th><td>-2.2303664</td><td>-2.2307173</td><td>-2.2171567</td><td>-2.2288583</td><td>-2.2358140</td><td>-2.2272320</td><td>-2.2340192</td><td>-2.2372475</td></tr>\n",
       "\t<tr><th scope=row>ENSMUSG00000102269</th><td>-0.6809045</td><td>-0.5804862</td><td>-0.5536929</td><td>-0.6787672</td><td>-0.6814978</td><td>-0.6672493</td><td>-0.6107216</td><td>-0.5011810</td></tr>\n",
       "\t<tr><th scope=row>ENSMUSG00000098104</th><td> 4.5932590</td><td> 4.8150824</td><td> 3.8921713</td><td> 4.1744007</td><td> 3.4730443</td><td> 4.1177890</td><td> 4.3649507</td><td> 4.3561458</td></tr>\n",
       "\t<tr><th scope=row>ENSMUSG00000102175</th><td> 0.7140330</td><td> 0.4233116</td><td> 0.7665934</td><td> 0.4304365</td><td> 0.7277282</td><td> 0.4376776</td><td> 2.2374582</td><td> 0.5614372</td></tr>\n",
       "\t<tr><th scope=row>ENSMUSG00000103922</th><td> 5.4920943</td><td> 4.7400087</td><td> 5.3940003</td><td> 5.4784640</td><td> 5.5822189</td><td> 5.2809655</td><td> 5.5917322</td><td> 5.6016761</td></tr>\n",
       "</tbody>\n",
       "</table>\n"
      ],
      "text/latex": [
       "A matrix: 6 × 8 of type dbl\n",
       "\\begin{tabular}{r|llllllll}\n",
       "  & WT1 & WT2 & WT3 & WT4 & KO1 & KO2 & KO3 & KO4\\\\\n",
       "\\hline\n",
       "\tENSMUSG00000103147 & -1.5945323 & -1.6481404 & -1.6597207 & -1.6425241 & -1.6606823 & -1.6376111 & -1.6581158 & -1.5840688\\\\\n",
       "\tENSMUSG00000102348 & -2.2303664 & -2.2307173 & -2.2171567 & -2.2288583 & -2.2358140 & -2.2272320 & -2.2340192 & -2.2372475\\\\\n",
       "\tENSMUSG00000102269 & -0.6809045 & -0.5804862 & -0.5536929 & -0.6787672 & -0.6814978 & -0.6672493 & -0.6107216 & -0.5011810\\\\\n",
       "\tENSMUSG00000098104 &  4.5932590 &  4.8150824 &  3.8921713 &  4.1744007 &  3.4730443 &  4.1177890 &  4.3649507 &  4.3561458\\\\\n",
       "\tENSMUSG00000102175 &  0.7140330 &  0.4233116 &  0.7665934 &  0.4304365 &  0.7277282 &  0.4376776 &  2.2374582 &  0.5614372\\\\\n",
       "\tENSMUSG00000103922 &  5.4920943 &  4.7400087 &  5.3940003 &  5.4784640 &  5.5822189 &  5.2809655 &  5.5917322 &  5.6016761\\\\\n",
       "\\end{tabular}\n"
      ],
      "text/markdown": [
       "\n",
       "A matrix: 6 × 8 of type dbl\n",
       "\n",
       "| <!--/--> | WT1 | WT2 | WT3 | WT4 | KO1 | KO2 | KO3 | KO4 |\n",
       "|---|---|---|---|---|---|---|---|---|\n",
       "| ENSMUSG00000103147 | -1.5945323 | -1.6481404 | -1.6597207 | -1.6425241 | -1.6606823 | -1.6376111 | -1.6581158 | -1.5840688 |\n",
       "| ENSMUSG00000102348 | -2.2303664 | -2.2307173 | -2.2171567 | -2.2288583 | -2.2358140 | -2.2272320 | -2.2340192 | -2.2372475 |\n",
       "| ENSMUSG00000102269 | -0.6809045 | -0.5804862 | -0.5536929 | -0.6787672 | -0.6814978 | -0.6672493 | -0.6107216 | -0.5011810 |\n",
       "| ENSMUSG00000098104 |  4.5932590 |  4.8150824 |  3.8921713 |  4.1744007 |  3.4730443 |  4.1177890 |  4.3649507 |  4.3561458 |\n",
       "| ENSMUSG00000102175 |  0.7140330 |  0.4233116 |  0.7665934 |  0.4304365 |  0.7277282 |  0.4376776 |  2.2374582 |  0.5614372 |\n",
       "| ENSMUSG00000103922 |  5.4920943 |  4.7400087 |  5.3940003 |  5.4784640 |  5.5822189 |  5.2809655 |  5.5917322 |  5.6016761 |\n",
       "\n"
      ],
      "text/plain": [
       "                   WT1        WT2        WT3        WT4        KO1       \n",
       "ENSMUSG00000103147 -1.5945323 -1.6481404 -1.6597207 -1.6425241 -1.6606823\n",
       "ENSMUSG00000102348 -2.2303664 -2.2307173 -2.2171567 -2.2288583 -2.2358140\n",
       "ENSMUSG00000102269 -0.6809045 -0.5804862 -0.5536929 -0.6787672 -0.6814978\n",
       "ENSMUSG00000098104  4.5932590  4.8150824  3.8921713  4.1744007  3.4730443\n",
       "ENSMUSG00000102175  0.7140330  0.4233116  0.7665934  0.4304365  0.7277282\n",
       "ENSMUSG00000103922  5.4920943  4.7400087  5.3940003  5.4784640  5.5822189\n",
       "                   KO2        KO3        KO4       \n",
       "ENSMUSG00000103147 -1.6376111 -1.6581158 -1.5840688\n",
       "ENSMUSG00000102348 -2.2272320 -2.2340192 -2.2372475\n",
       "ENSMUSG00000102269 -0.6672493 -0.6107216 -0.5011810\n",
       "ENSMUSG00000098104  4.1177890  4.3649507  4.3561458\n",
       "ENSMUSG00000102175  0.4376776  2.2374582  0.5614372\n",
       "ENSMUSG00000103922  5.2809655  5.5917322  5.6016761"
      ]
     },
     "metadata": {},
     "output_type": "display_data"
    }
   ],
   "source": [
    "# 查看rawcts_new\n",
    "head(rawcts_new)"
   ]
  },
  {
   "cell_type": "code",
   "execution_count": 18,
   "metadata": {},
   "outputs": [
    {
     "data": {
      "text/html": [
       "<style>\n",
       ".list-inline {list-style: none; margin:0; padding: 0}\n",
       ".list-inline>li {display: inline-block}\n",
       ".list-inline>li:not(:last-child)::after {content: \"\\00b7\"; padding: 0 .5ex}\n",
       "</style>\n",
       "<ol class=list-inline><li>'#1B9E77'</li><li>'#D95F02'</li></ol>\n"
      ],
      "text/latex": [
       "\\begin{enumerate*}\n",
       "\\item '\\#1B9E77'\n",
       "\\item '\\#D95F02'\n",
       "\\end{enumerate*}\n"
      ],
      "text/markdown": [
       "1. '#1B9E77'\n",
       "2. '#D95F02'\n",
       "\n",
       "\n"
      ],
      "text/plain": [
       "[1] \"#1B9E77\" \"#D95F02\""
      ]
     },
     "metadata": {},
     "output_type": "display_data"
    },
    {
     "data": {
      "text/html": [
       "<table>\n",
       "<caption>A matrix: 6 × 8 of type dbl</caption>\n",
       "<thead>\n",
       "\t<tr><th></th><th scope=col>WT1</th><th scope=col>WT2</th><th scope=col>WT3</th><th scope=col>WT4</th><th scope=col>KO1</th><th scope=col>KO2</th><th scope=col>KO3</th><th scope=col>KO4</th></tr>\n",
       "</thead>\n",
       "<tbody>\n",
       "\t<tr><th scope=row>WT1</th><td>  0.0000</td><td>299.1361</td><td>245.2602</td><td>234.6187</td><td>247.7033</td><td>223.3109</td><td>227.2329</td><td>226.8026</td></tr>\n",
       "\t<tr><th scope=row>WT2</th><td>299.1361</td><td>  0.0000</td><td>308.1543</td><td>304.3017</td><td>314.7804</td><td>295.7343</td><td>300.3488</td><td>301.2175</td></tr>\n",
       "\t<tr><th scope=row>WT3</th><td>245.2602</td><td>308.1543</td><td>  0.0000</td><td>232.0162</td><td>248.7471</td><td>224.4019</td><td>233.4210</td><td>229.0669</td></tr>\n",
       "\t<tr><th scope=row>WT4</th><td>234.6187</td><td>304.3017</td><td>232.0162</td><td>  0.0000</td><td>236.3192</td><td>213.7769</td><td>217.2839</td><td>211.8034</td></tr>\n",
       "\t<tr><th scope=row>KO1</th><td>247.7033</td><td>314.7804</td><td>248.7471</td><td>236.3192</td><td>  0.0000</td><td>214.2485</td><td>222.1841</td><td>219.9223</td></tr>\n",
       "\t<tr><th scope=row>KO2</th><td>223.3109</td><td>295.7343</td><td>224.4019</td><td>213.7769</td><td>214.2485</td><td>  0.0000</td><td>198.4157</td><td>196.2940</td></tr>\n",
       "</tbody>\n",
       "</table>\n"
      ],
      "text/latex": [
       "A matrix: 6 × 8 of type dbl\n",
       "\\begin{tabular}{r|llllllll}\n",
       "  & WT1 & WT2 & WT3 & WT4 & KO1 & KO2 & KO3 & KO4\\\\\n",
       "\\hline\n",
       "\tWT1 &   0.0000 & 299.1361 & 245.2602 & 234.6187 & 247.7033 & 223.3109 & 227.2329 & 226.8026\\\\\n",
       "\tWT2 & 299.1361 &   0.0000 & 308.1543 & 304.3017 & 314.7804 & 295.7343 & 300.3488 & 301.2175\\\\\n",
       "\tWT3 & 245.2602 & 308.1543 &   0.0000 & 232.0162 & 248.7471 & 224.4019 & 233.4210 & 229.0669\\\\\n",
       "\tWT4 & 234.6187 & 304.3017 & 232.0162 &   0.0000 & 236.3192 & 213.7769 & 217.2839 & 211.8034\\\\\n",
       "\tKO1 & 247.7033 & 314.7804 & 248.7471 & 236.3192 &   0.0000 & 214.2485 & 222.1841 & 219.9223\\\\\n",
       "\tKO2 & 223.3109 & 295.7343 & 224.4019 & 213.7769 & 214.2485 &   0.0000 & 198.4157 & 196.2940\\\\\n",
       "\\end{tabular}\n"
      ],
      "text/markdown": [
       "\n",
       "A matrix: 6 × 8 of type dbl\n",
       "\n",
       "| <!--/--> | WT1 | WT2 | WT3 | WT4 | KO1 | KO2 | KO3 | KO4 |\n",
       "|---|---|---|---|---|---|---|---|---|\n",
       "| WT1 |   0.0000 | 299.1361 | 245.2602 | 234.6187 | 247.7033 | 223.3109 | 227.2329 | 226.8026 |\n",
       "| WT2 | 299.1361 |   0.0000 | 308.1543 | 304.3017 | 314.7804 | 295.7343 | 300.3488 | 301.2175 |\n",
       "| WT3 | 245.2602 | 308.1543 |   0.0000 | 232.0162 | 248.7471 | 224.4019 | 233.4210 | 229.0669 |\n",
       "| WT4 | 234.6187 | 304.3017 | 232.0162 |   0.0000 | 236.3192 | 213.7769 | 217.2839 | 211.8034 |\n",
       "| KO1 | 247.7033 | 314.7804 | 248.7471 | 236.3192 |   0.0000 | 214.2485 | 222.1841 | 219.9223 |\n",
       "| KO2 | 223.3109 | 295.7343 | 224.4019 | 213.7769 | 214.2485 |   0.0000 | 198.4157 | 196.2940 |\n",
       "\n"
      ],
      "text/plain": [
       "    WT1      WT2      WT3      WT4      KO1      KO2      KO3      KO4     \n",
       "WT1   0.0000 299.1361 245.2602 234.6187 247.7033 223.3109 227.2329 226.8026\n",
       "WT2 299.1361   0.0000 308.1543 304.3017 314.7804 295.7343 300.3488 301.2175\n",
       "WT3 245.2602 308.1543   0.0000 232.0162 248.7471 224.4019 233.4210 229.0669\n",
       "WT4 234.6187 304.3017 232.0162   0.0000 236.3192 213.7769 217.2839 211.8034\n",
       "KO1 247.7033 314.7804 248.7471 236.3192   0.0000 214.2485 222.1841 219.9223\n",
       "KO2 223.3109 295.7343 224.4019 213.7769 214.2485   0.0000 198.4157 196.2940"
      ]
     },
     "metadata": {},
     "output_type": "display_data"
    }
   ],
   "source": [
    "### plot correlation heatmap -------------------------------------------------------------->\n",
    "library(RColorBrewer)\n",
    "(mycols <- brewer.pal(8, \"Dark2\")[1:length(unique(colData$condition))])\n",
    "# Sample distance heatmap\n",
    "sampleDists <- dist(t(rawcts_new))\n",
    "sampleDistsMatrix <- as.matrix(sampleDists)\n",
    "head(sampleDistsMatrix)"
   ]
  },
  {
   "cell_type": "code",
   "execution_count": 19,
   "metadata": {},
   "outputs": [
    {
     "name": "stderr",
     "output_type": "stream",
     "text": [
      "\n",
      "Attaching package: ‘gplots’\n",
      "\n",
      "\n",
      "The following object is masked from ‘package:IRanges’:\n",
      "\n",
      "    space\n",
      "\n",
      "\n",
      "The following object is masked from ‘package:S4Vectors’:\n",
      "\n",
      "    space\n",
      "\n",
      "\n",
      "The following object is masked from ‘package:stats’:\n",
      "\n",
      "    lowess\n",
      "\n",
      "\n"
     ]
    },
    {
     "data": {
      "image/png": "[encoded data removed]",
      "text/plain": [
       "plot without title"
      ]
     },
     "metadata": {
      "image/png": {
       "height": 420,
       "width": 420
      }
     },
     "output_type": "display_data"
    }
   ],
   "source": [
    "\n",
    "library(gplots)\n",
    "library(pheatmap)\n",
    "\n",
    "png(\"qc-heatmap-samples.png\", w=1000, h=1000, pointsize=20)\n",
    "# heatmap.2(sampleDistsMatrix, key=F, trace=\"none\",\n",
    "#         col=colorpanel(100, \"black\", \"white\"),\n",
    "#          ColSideColors=mycols[colData$condition], RowSideColors=mycols[colData$condition],\n",
    "#          margin=c(10, 10), main=\"Sample Distance Matrix\")\n",
    "colors <- colorRampPalette(rev(brewer.pal(9,\"Blues\")))(255)\n",
    "\n",
    "\n",
    "ht <- pheatmap(sampleDistsMatrix,\n",
    "               clustering_distance_cols = sampleDists,\n",
    "               clustering_distance_rows = sampleDists,\n",
    "               color = colors\n",
    "              )\n",
    "ht"
   ]
  },
  {
   "cell_type": "code",
   "execution_count": 20,
   "metadata": {},
   "outputs": [
    {
     "data": {
      "text/html": [
       "<strong>png:</strong> 2"
      ],
      "text/latex": [
       "\\textbf{png:} 2"
      ],
      "text/markdown": [
       "**png:** 2"
      ],
      "text/plain": [
       "png \n",
       "  2 "
      ]
     },
     "metadata": {},
     "output_type": "display_data"
    }
   ],
   "source": [
    "pdf(\"003_correlation_cross_samples_heatmap.pdf\",width = 20, height = 20)\n",
    "ht\n",
    "dev.off()"
   ]
  },
  {
   "cell_type": "markdown",
   "metadata": {},
   "source": [
    "14. MA plot\n",
    "- log2 折叠变换和平均正常统计量的关系，红色的点表示在10%FDR的基因"
   ]
  },
  {
   "cell_type": "code",
   "execution_count": 21,
   "metadata": {},
   "outputs": [
    {
     "data": {
      "text/html": [
       "<strong>png:</strong> 2"
      ],
      "text/latex": [
       "\\textbf{png:} 2"
      ],
      "text/markdown": [
       "**png:** 2"
      ],
      "text/plain": [
       "png \n",
       "  2 "
      ]
     },
     "metadata": {},
     "output_type": "display_data"
    }
   ],
   "source": [
    "### MA plot ------------------------------------------------------------------------------>\n",
    "pdf(\"004_DESeq2_MA_plot.pdf\",width = 8, height = 8)\n",
    "par(mfrow=c(1,1))\n",
    "DESeq2::plotMA(res, main=\"DESeq2\", ylim=c(-20,20))\n",
    "dev.off()"
   ]
  },
  {
   "cell_type": "markdown",
   "metadata": {},
   "source": [
    "15. nbinomTest的p值统计直方图"
   ]
  },
  {
   "cell_type": "code",
   "execution_count": 22,
   "metadata": {},
   "outputs": [
    {
     "data": {
      "text/html": [
       "<strong>png:</strong> 2"
      ],
      "text/latex": [
       "\\textbf{png:} 2"
      ],
      "text/markdown": [
       "**png:** 2"
      ],
      "text/plain": [
       "png \n",
       "  2 "
      ]
     },
     "metadata": {},
     "output_type": "display_data"
    }
   ],
   "source": [
    "pdf(\"005_nbinomTest_p_value.pdf\",width = 8, height = 8)\n",
    "hist(res$pvalue, breaks = 100, col = 'skyblue', border = 'slateblue', main = 'nbinomTest p value')\n",
    "dev.off()"
   ]
  },
  {
   "cell_type": "markdown",
   "metadata": {},
   "source": [
    "16. rld to PCA(vst is better than rlog when n>=30)"
   ]
  },
  {
   "cell_type": "code",
   "execution_count": 34,
   "metadata": {},
   "outputs": [
    {
     "data": {
      "text/html": [
       "<strong>png:</strong> 2"
      ],
      "text/latex": [
       "\\textbf{png:} 2"
      ],
      "text/markdown": [
       "**png:** 2"
      ],
      "text/plain": [
       "png \n",
       "  2 "
      ]
     },
     "metadata": {},
     "output_type": "display_data"
    }
   ],
   "source": [
    "pdf(\"006_PCAplot.pdf\", width = 8, height = 8)\n",
    "plotPCA(rld,intgroup=c(\"condition\"))\n",
    "dev.off()"
   ]
  },
  {
   "cell_type": "markdown",
   "metadata": {},
   "source": [
    "17. 这个heatmap干嘛的？"
   ]
  },
  {
   "cell_type": "code",
   "execution_count": 36,
   "metadata": {},
   "outputs": [],
   "source": [
    "library(ggplot2)\n",
    "d <- plotCounts(dds,gene=which.min(res$padj), intgroup = \"condition\",returnData = TRUE)"
   ]
  },
  {
   "cell_type": "code",
   "execution_count": 37,
   "metadata": {},
   "outputs": [
    {
     "data": {
      "text/html": [
       "<strong>png:</strong> 2"
      ],
      "text/latex": [
       "\\textbf{png:} 2"
      ],
      "text/markdown": [
       "**png:** 2"
      ],
      "text/plain": [
       "png \n",
       "  2 "
      ]
     },
     "metadata": {},
     "output_type": "display_data"
    }
   ],
   "source": [
    "pdf(\"007_jitter_plot_for_min_pvalue_transcript_counts.pdf\", height = 8, width = 8)\n",
    "ggplot(d,aes(x=condition,y=count))+\n",
    "  geom_point(position = position_jitter(w=0.1,h=0))+\n",
    "  scale_y_log10(breaks=c(25,100,400))\n",
    "dev.off()"
   ]
  },
  {
   "cell_type": "markdown",
   "metadata": {},
   "source": [
    "18. 处理res数据并且输出DEG表格"
   ]
  },
  {
   "cell_type": "code",
   "execution_count": 38,
   "metadata": {},
   "outputs": [],
   "source": [
    "### deal with res and extract DEG!!! ----------------------------------------------------->\n",
    "# 标准cutoff\n",
    "resOrdered <- res[order(res$padj),]\n",
    "resOrdered[which(resOrdered$log2FoldChange >= 1 & resOrdered$padj < 0.05),'sig'] <- 'up'\n",
    "resOrdered[which(resOrdered$log2FoldChange <= -1 & resOrdered$padj < 0.05),'sig'] <- 'down'\n",
    "resOrdered[which(abs(resOrdered$log2FoldChange) <= 1 | resOrdered$padj >= 0.05),'sig'] <- 'none'\n",
    "# 松cutoff\n",
    "# resOrdered <- res[order(res$padj),]\n",
    "# resOrdered[which(resOrdered$log2FoldChange >= 0.3 & resOrdered$pvalue<0.001),'sig'] <- 'up'\n",
    "# resOrdered[which(resOrdered$log2FoldChange <= -0.3 & resOrdered$pvalue<0.001),'sig'] <- 'down'\n",
    "# resOrdered[which(abs(resOrdered$log2FoldChange) <= 0.3 & resOrdered$pvalue>=0.001),'sig'] <- 'none'\n",
    "resOrdered=as.data.frame(resOrdered)\n",
    "write.table(resOrdered,\"deseq2.all_sample.results.csv\",col.names = NA, sep = \"\\t\", quote = FALSE)\n",
    "\n",
    "deg <- subset(resOrdered, (abs(resOrdered$log2FoldChange) >=1 & resOrdered$padj<0.05)) ##### extract DEG !\n",
    "# deg <- subset(resOrdered, (abs(resOrdered$log2FoldChange) >=0.3 & resOrdered$pvalue<0.001)) ##### extract DEG !\n",
    "\n",
    "deg_matrix <- as.data.frame(deg)\n",
    "write.table(deg_matrix, 'deg_result.csv', col.names = NA, sep = \"\\t\", quote = FALSE)"
   ]
  },
  {
   "cell_type": "code",
   "execution_count": 39,
   "metadata": {},
   "outputs": [
    {
     "data": {
      "image/png": "[encoded data removed]",
      "text/plain": [
       "plot without title"
      ]
     },
     "metadata": {
      "image/png": {
       "height": 420,
       "width": 420
      }
     },
     "output_type": "display_data"
    }
   ],
   "source": [
    "### plot heatmap ------------------------------------------------------------------------->\n",
    "### plot all genes heatmap\n",
    "select <- order(rowMeans(counts(dds,normalized=TRUE)),\n",
    "                decreasing=TRUE)[1:1000]  ### select first ordered 1000 genes(not deg)\n",
    "#                 decreasing=TRUE)[1:50]  ### select first ordered 66 genes(not deg)\n",
    "df <- as.data.frame(colData(dds)[,c(\"condition\")])\n",
    "p1000 <- pheatmap(assay(rld)[select,], cluster_rows=FALSE, show_rownames=FALSE,\n",
    "         cluster_cols=FALSE,scale = \"column\")\n",
    "p1000"
   ]
  },
  {
   "cell_type": "code",
   "execution_count": 40,
   "metadata": {},
   "outputs": [
    {
     "data": {
      "image/png": "[encoded data removed]",
      "text/plain": [
       "plot without title"
      ]
     },
     "metadata": {
      "image/png": {
       "height": 420,
       "width": 420
      }
     },
     "output_type": "display_data"
    }
   ],
   "source": [
    "select <- order(rowMeans(counts(dds,normalized=TRUE)),\n",
    "#                 decreasing=TRUE)[1:1000]  ### select first ordered 1000 genes(not deg)\n",
    "                decreasing=TRUE)[1:50]  ### select first ordered 66 genes(not deg)\n",
    "df <- as.data.frame(colData(dds)[,c(\"condition\")])\n",
    "p50 <- pheatmap(assay(rld)[select,], cluster_rows=FALSE, show_rownames=FALSE,\n",
    "         cluster_cols=FALSE,scale = \"column\")\n",
    "p50"
   ]
  },
  {
   "cell_type": "code",
   "execution_count": 41,
   "metadata": {},
   "outputs": [
    {
     "data": {
      "text/html": [
       "<strong>png:</strong> 2"
      ],
      "text/latex": [
       "\\textbf{png:} 2"
      ],
      "text/markdown": [
       "**png:** 2"
      ],
      "text/plain": [
       "png \n",
       "  2 "
      ]
     },
     "metadata": {},
     "output_type": "display_data"
    },
    {
     "data": {
      "text/html": [
       "<strong>png:</strong> 2"
      ],
      "text/latex": [
       "\\textbf{png:} 2"
      ],
      "text/markdown": [
       "**png:** 2"
      ],
      "text/plain": [
       "png \n",
       "  2 "
      ]
     },
     "metadata": {},
     "output_type": "display_data"
    }
   ],
   "source": [
    "pdf(\"008_select_first_ordered_1000_transcriptsOrGenes_plot_heatmap.pdf\",height = 20,width = 20)\n",
    "p1000\n",
    "dev.off()\n",
    "pdf(\"009_select_first_ordered_50_transcriptsOrGenes_plot_heatmap.pdf\",height = 20,width = 20)\n",
    "p50\n",
    "dev.off()"
   ]
  },
  {
   "cell_type": "code",
   "execution_count": 49,
   "metadata": {},
   "outputs": [
    {
     "data": {
      "image/png": "[encoded data removed]",
      "text/plain": [
       "plot without title"
      ]
     },
     "metadata": {
      "image/png": {
       "height": 420,
       "width": 420
      }
     },
     "output_type": "display_data"
    }
   ],
   "source": [
    "### plot DEG heatmap\n",
    "selected <- rownames(deg)\n",
    "pDEG <- pheatmap(assay(rld)[rownames(rld) %in% selected,], \n",
    "#                  cluster_rows=TRUE, \n",
    "#                  show_rownames=TRUE,\n",
    "                cluster_rows=TRUE, \n",
    "                show_rownames=FALSE,\n",
    "         cluster_cols=FALSE, scale = \"column\")"
   ]
  },
  {
   "cell_type": "code",
   "execution_count": 50,
   "metadata": {},
   "outputs": [
    {
     "data": {
      "text/html": [
       "<strong>png:</strong> 2"
      ],
      "text/latex": [
       "\\textbf{png:} 2"
      ],
      "text/markdown": [
       "**png:** 2"
      ],
      "text/plain": [
       "png \n",
       "  2 "
      ]
     },
     "metadata": {},
     "output_type": "display_data"
    }
   ],
   "source": [
    "pdf(\"010_select_differential_expression_genes_heatmap.pdf\",height = 5,width = 20)\n",
    "pDEG\n",
    "dev.off()"
   ]
  },
  {
   "cell_type": "code",
   "execution_count": 62,
   "metadata": {},
   "outputs": [
    {
     "name": "stderr",
     "output_type": "stream",
     "text": [
      "Warning message:\n",
      "“Removed 6964 rows containing missing values (geom_point).”\n"
     ]
    },
    {
     "data": {
      "image/png": "[encoded data removed]",
      "text/plain": [
       "plot without title"
      ]
     },
     "metadata": {
      "image/png": {
       "height": 420,
       "width": 420
      }
     },
     "output_type": "display_data"
    }
   ],
   "source": [
    "### plot valcano ------------------------------------------------------------------------>\n",
    "vp <- ggplot(data = resOrdered, aes(x = log2FoldChange, y = -log10(padj),color = sig)) +\n",
    "  geom_point(size = 1) +  #绘制散点图\n",
    "  scale_color_manual(values = c('red', 'gray', 'green'), limits = c('up', 'none', 'down')) +  #自定义点的颜色\n",
    "  labs(x = 'log2 Fold Change', y = '-log10 adjust p-value', title = 'control vs treat', color = '') +  #坐标轴标题\n",
    "  theme(plot.title = element_text(hjust = 0.5, size = 14), panel.grid = element_blank(), #背景色、网格线、图例等主题修改\n",
    "        panel.background = element_rect(color = 'black', fill = 'transparent'),\n",
    "        legend.key = element_rect(fill = 'transparent')) +\n",
    "  geom_vline(xintercept = c(-1, 1), lty = 3, color = 'black') +  #添加阈值线\n",
    "  geom_hline(yintercept = 1.3, lty = 3, color = 'black') +\n",
    "#   xlim(-2, 2) + ylim(0, 5)\n",
    "  xlim(-15, 15) + ylim(0, 12)\n",
    "\n",
    "vp"
   ]
  },
  {
   "cell_type": "code",
   "execution_count": 63,
   "metadata": {},
   "outputs": [
    {
     "name": "stderr",
     "output_type": "stream",
     "text": [
      "Warning message:\n",
      "“Removed 6964 rows containing missing values (geom_point).”\n"
     ]
    },
    {
     "data": {
      "text/html": [
       "<strong>png:</strong> 2"
      ],
      "text/latex": [
       "\\textbf{png:} 2"
      ],
      "text/markdown": [
       "**png:** 2"
      ],
      "text/plain": [
       "png \n",
       "  2 "
      ]
     },
     "metadata": {},
     "output_type": "display_data"
    }
   ],
   "source": [
    "pdf(\"011_select_differential_expression_genes_valcano_plot.pdf\",height = 5,width = 5)\n",
    "vp\n",
    "dev.off()"
   ]
  },
  {
   "cell_type": "markdown",
   "metadata": {},
   "source": [
    "# 转换所有基因名和差异表达基因名"
   ]
  },
  {
   "cell_type": "code",
   "execution_count": 1,
   "metadata": {},
   "outputs": [
    {
     "name": "stderr",
     "output_type": "stream",
     "text": [
      "── \u001b[1mAttaching packages\u001b[22m ─────────────────────────────────────── tidyverse 1.3.0 ──\n",
      "\n",
      "\u001b[32m✔\u001b[39m \u001b[34mggplot2\u001b[39m 3.3.3     \u001b[32m✔\u001b[39m \u001b[34mpurrr  \u001b[39m 0.3.4\n",
      "\u001b[32m✔\u001b[39m \u001b[34mtibble \u001b[39m 3.1.0     \u001b[32m✔\u001b[39m \u001b[34mdplyr  \u001b[39m 1.0.4\n",
      "\u001b[32m✔\u001b[39m \u001b[34mtidyr  \u001b[39m 1.1.3     \u001b[32m✔\u001b[39m \u001b[34mstringr\u001b[39m 1.4.0\n",
      "\u001b[32m✔\u001b[39m \u001b[34mreadr  \u001b[39m 1.4.0     \u001b[32m✔\u001b[39m \u001b[34mforcats\u001b[39m 0.5.1\n",
      "\n",
      "── \u001b[1mConflicts\u001b[22m ────────────────────────────────────────── tidyverse_conflicts() ──\n",
      "\u001b[31m✖\u001b[39m \u001b[34mdplyr\u001b[39m::\u001b[32mfilter()\u001b[39m masks \u001b[34mstats\u001b[39m::filter()\n",
      "\u001b[31m✖\u001b[39m \u001b[34mdplyr\u001b[39m::\u001b[32mlag()\u001b[39m    masks \u001b[34mstats\u001b[39m::lag()\n",
      "\n"
     ]
    }
   ],
   "source": [
    "library(tidyverse)"
   ]
  },
  {
   "cell_type": "code",
   "execution_count": 2,
   "metadata": {},
   "outputs": [
    {
     "name": "stderr",
     "output_type": "stream",
     "text": [
      "Loading required package: stats4\n",
      "\n",
      "Loading required package: BiocGenerics\n",
      "\n",
      "Loading required package: parallel\n",
      "\n",
      "\n",
      "Attaching package: ‘BiocGenerics’\n",
      "\n",
      "\n",
      "The following objects are masked from ‘package:parallel’:\n",
      "\n",
      "    clusterApply, clusterApplyLB, clusterCall, clusterEvalQ,\n",
      "    clusterExport, clusterMap, parApply, parCapply, parLapply,\n",
      "    parLapplyLB, parRapply, parSapply, parSapplyLB\n",
      "\n",
      "\n",
      "The following objects are masked from ‘package:dplyr’:\n",
      "\n",
      "    combine, intersect, setdiff, union\n",
      "\n",
      "\n",
      "The following objects are masked from ‘package:stats’:\n",
      "\n",
      "    IQR, mad, sd, var, xtabs\n",
      "\n",
      "\n",
      "The following objects are masked from ‘package:base’:\n",
      "\n",
      "    anyDuplicated, append, as.data.frame, basename, cbind, colnames,\n",
      "    dirname, do.call, duplicated, eval, evalq, Filter, Find, get, grep,\n",
      "    grepl, intersect, is.unsorted, lapply, Map, mapply, match, mget,\n",
      "    order, paste, pmax, pmax.int, pmin, pmin.int, Position, rank,\n",
      "    rbind, Reduce, rownames, sapply, setdiff, sort, table, tapply,\n",
      "    union, unique, unsplit, which.max, which.min\n",
      "\n",
      "\n",
      "Loading required package: Biobase\n",
      "\n",
      "Welcome to Bioconductor\n",
      "\n",
      "    Vignettes contain introductory material; view with\n",
      "    'browseVignettes()'. To cite Bioconductor, see\n",
      "    'citation(\"Biobase\")', and for packages 'citation(\"pkgname\")'.\n",
      "\n",
      "\n",
      "Loading required package: IRanges\n",
      "\n",
      "Loading required package: S4Vectors\n",
      "\n",
      "\n",
      "Attaching package: ‘S4Vectors’\n",
      "\n",
      "\n",
      "The following objects are masked from ‘package:dplyr’:\n",
      "\n",
      "    first, rename\n",
      "\n",
      "\n",
      "The following object is masked from ‘package:tidyr’:\n",
      "\n",
      "    expand\n",
      "\n",
      "\n",
      "The following object is masked from ‘package:base’:\n",
      "\n",
      "    expand.grid\n",
      "\n",
      "\n",
      "\n",
      "Attaching package: ‘IRanges’\n",
      "\n",
      "\n",
      "The following objects are masked from ‘package:dplyr’:\n",
      "\n",
      "    collapse, desc, slice\n",
      "\n",
      "\n",
      "The following object is masked from ‘package:purrr’:\n",
      "\n",
      "    reduce\n",
      "\n",
      "\n",
      "\n",
      "Attaching package: ‘AnnotationDbi’\n",
      "\n",
      "\n",
      "The following object is masked from ‘package:dplyr’:\n",
      "\n",
      "    select\n",
      "\n",
      "\n",
      "\n",
      "\n"
     ]
    }
   ],
   "source": [
    "library(AnnotationDbi)\n",
    "library(org.Mm.eg.db)"
   ]
  },
  {
   "cell_type": "code",
   "execution_count": 4,
   "metadata": {},
   "outputs": [
    {
     "name": "stderr",
     "output_type": "stream",
     "text": [
      "Warning message:\n",
      "“Missing column names filled in: 'X1' [1]”\n",
      "\n",
      "\u001b[36m──\u001b[39m \u001b[1m\u001b[1mColumn specification\u001b[1m\u001b[22m \u001b[36m────────────────────────────────────────────────────────\u001b[39m\n",
      "cols(\n",
      "  X1 = \u001b[31mcol_character()\u001b[39m,\n",
      "  baseMean = \u001b[32mcol_double()\u001b[39m,\n",
      "  log2FoldChange = \u001b[32mcol_double()\u001b[39m,\n",
      "  lfcSE = \u001b[32mcol_double()\u001b[39m,\n",
      "  stat = \u001b[32mcol_double()\u001b[39m,\n",
      "  pvalue = \u001b[32mcol_double()\u001b[39m,\n",
      "  padj = \u001b[32mcol_double()\u001b[39m,\n",
      "  sig = \u001b[31mcol_character()\u001b[39m\n",
      ")\n",
      "\n",
      "\n",
      "Warning message:\n",
      "“Missing column names filled in: 'X1' [1]”\n",
      "\n",
      "\u001b[36m──\u001b[39m \u001b[1m\u001b[1mColumn specification\u001b[1m\u001b[22m \u001b[36m────────────────────────────────────────────────────────\u001b[39m\n",
      "cols(\n",
      "  X1 = \u001b[31mcol_character()\u001b[39m,\n",
      "  baseMean = \u001b[32mcol_double()\u001b[39m,\n",
      "  log2FoldChange = \u001b[32mcol_double()\u001b[39m,\n",
      "  lfcSE = \u001b[32mcol_double()\u001b[39m,\n",
      "  stat = \u001b[32mcol_double()\u001b[39m,\n",
      "  pvalue = \u001b[32mcol_double()\u001b[39m,\n",
      "  padj = \u001b[32mcol_double()\u001b[39m,\n",
      "  sig = \u001b[31mcol_character()\u001b[39m\n",
      ")\n",
      "\n",
      "\n"
     ]
    },
    {
     "data": {
      "text/html": [
       "<style>\n",
       ".list-inline {list-style: none; margin:0; padding: 0}\n",
       ".list-inline>li {display: inline-block}\n",
       ".list-inline>li:not(:last-child)::after {content: \"\\00b7\"; padding: 0 .5ex}\n",
       "</style>\n",
       "<ol class=list-inline><li>'X1'</li><li>'baseMean'</li><li>'log2FoldChange'</li><li>'lfcSE'</li><li>'stat'</li><li>'pvalue'</li><li>'padj'</li><li>'sig'</li></ol>\n"
      ],
      "text/latex": [
       "\\begin{enumerate*}\n",
       "\\item 'X1'\n",
       "\\item 'baseMean'\n",
       "\\item 'log2FoldChange'\n",
       "\\item 'lfcSE'\n",
       "\\item 'stat'\n",
       "\\item 'pvalue'\n",
       "\\item 'padj'\n",
       "\\item 'sig'\n",
       "\\end{enumerate*}\n"
      ],
      "text/markdown": [
       "1. 'X1'\n",
       "2. 'baseMean'\n",
       "3. 'log2FoldChange'\n",
       "4. 'lfcSE'\n",
       "5. 'stat'\n",
       "6. 'pvalue'\n",
       "7. 'padj'\n",
       "8. 'sig'\n",
       "\n",
       "\n"
      ],
      "text/plain": [
       "[1] \"X1\"             \"baseMean\"       \"log2FoldChange\" \"lfcSE\"         \n",
       "[5] \"stat\"           \"pvalue\"         \"padj\"           \"sig\"           "
      ]
     },
     "metadata": {},
     "output_type": "display_data"
    }
   ],
   "source": [
    "deg_res <- read_tsv(\"deg_result.csv\")\n",
    "all_res <- read_tsv(\"deseq2.all_sample.results.csv\")\n",
    "colnames(deg_res)"
   ]
  },
  {
   "cell_type": "code",
   "execution_count": 5,
   "metadata": {},
   "outputs": [
    {
     "name": "stderr",
     "output_type": "stream",
     "text": [
      "'select()' returned 1:many mapping between keys and columns\n",
      "\n"
     ]
    },
    {
     "data": {
      "text/html": [
       "<table class=\"dataframe\">\n",
       "<caption>A tibble: 6 × 9</caption>\n",
       "<thead>\n",
       "\t<tr><th scope=col>X1</th><th scope=col>deg_anno</th><th scope=col>baseMean</th><th scope=col>log2FoldChange</th><th scope=col>lfcSE</th><th scope=col>stat</th><th scope=col>pvalue</th><th scope=col>padj</th><th scope=col>sig</th></tr>\n",
       "\t<tr><th scope=col>&lt;chr&gt;</th><th scope=col>&lt;chr&gt;</th><th scope=col>&lt;dbl&gt;</th><th scope=col>&lt;dbl&gt;</th><th scope=col>&lt;dbl&gt;</th><th scope=col>&lt;dbl&gt;</th><th scope=col>&lt;dbl&gt;</th><th scope=col>&lt;dbl&gt;</th><th scope=col>&lt;chr&gt;</th></tr>\n",
       "</thead>\n",
       "<tbody>\n",
       "\t<tr><td>ENSMUSG00000029408</td><td>Abcb9  </td><td> 80.38315</td><td>-24.581070</td><td>2.9974166</td><td>-8.200752</td><td>2.388883e-16</td><td>3.022176e-12</td><td>down</td></tr>\n",
       "\t<tr><td>ENSMUSG00000037049</td><td>Smpd1  </td><td>141.58058</td><td>  6.420548</td><td>0.8244638</td><td> 7.787545</td><td>6.832394e-15</td><td>2.881221e-11</td><td>up  </td></tr>\n",
       "\t<tr><td>ENSMUSG00000025017</td><td>Pik3ap1</td><td>111.78980</td><td>  6.856110</td><td>0.8763867</td><td> 7.823157</td><td>5.151483e-15</td><td>2.881221e-11</td><td>up  </td></tr>\n",
       "\t<tr><td>ENSMUSG00000018983</td><td>E2f2   </td><td> 97.63604</td><td>  7.634844</td><td>1.0049858</td><td> 7.596967</td><td>3.031520e-14</td><td>9.587940e-11</td><td>up  </td></tr>\n",
       "\t<tr><td>ENSMUSG00000032125</td><td>Robo4  </td><td> 78.60206</td><td> -7.695032</td><td>1.0231181</td><td>-7.521157</td><td>5.429347e-14</td><td>1.373734e-10</td><td>down</td></tr>\n",
       "\t<tr><td>ENSMUSG00000032589</td><td>Bsn    </td><td> 93.65185</td><td>  7.634114</td><td>1.0367615</td><td> 7.363423</td><td>1.792532e-13</td><td>3.779554e-10</td><td>up  </td></tr>\n",
       "</tbody>\n",
       "</table>\n"
      ],
      "text/latex": [
       "A tibble: 6 × 9\n",
       "\\begin{tabular}{lllllllll}\n",
       " X1 & deg\\_anno & baseMean & log2FoldChange & lfcSE & stat & pvalue & padj & sig\\\\\n",
       " <chr> & <chr> & <dbl> & <dbl> & <dbl> & <dbl> & <dbl> & <dbl> & <chr>\\\\\n",
       "\\hline\n",
       "\t ENSMUSG00000029408 & Abcb9   &  80.38315 & -24.581070 & 2.9974166 & -8.200752 & 2.388883e-16 & 3.022176e-12 & down\\\\\n",
       "\t ENSMUSG00000037049 & Smpd1   & 141.58058 &   6.420548 & 0.8244638 &  7.787545 & 6.832394e-15 & 2.881221e-11 & up  \\\\\n",
       "\t ENSMUSG00000025017 & Pik3ap1 & 111.78980 &   6.856110 & 0.8763867 &  7.823157 & 5.151483e-15 & 2.881221e-11 & up  \\\\\n",
       "\t ENSMUSG00000018983 & E2f2    &  97.63604 &   7.634844 & 1.0049858 &  7.596967 & 3.031520e-14 & 9.587940e-11 & up  \\\\\n",
       "\t ENSMUSG00000032125 & Robo4   &  78.60206 &  -7.695032 & 1.0231181 & -7.521157 & 5.429347e-14 & 1.373734e-10 & down\\\\\n",
       "\t ENSMUSG00000032589 & Bsn     &  93.65185 &   7.634114 & 1.0367615 &  7.363423 & 1.792532e-13 & 3.779554e-10 & up  \\\\\n",
       "\\end{tabular}\n"
      ],
      "text/markdown": [
       "\n",
       "A tibble: 6 × 9\n",
       "\n",
       "| X1 &lt;chr&gt; | deg_anno &lt;chr&gt; | baseMean &lt;dbl&gt; | log2FoldChange &lt;dbl&gt; | lfcSE &lt;dbl&gt; | stat &lt;dbl&gt; | pvalue &lt;dbl&gt; | padj &lt;dbl&gt; | sig &lt;chr&gt; |\n",
       "|---|---|---|---|---|---|---|---|---|\n",
       "| ENSMUSG00000029408 | Abcb9   |  80.38315 | -24.581070 | 2.9974166 | -8.200752 | 2.388883e-16 | 3.022176e-12 | down |\n",
       "| ENSMUSG00000037049 | Smpd1   | 141.58058 |   6.420548 | 0.8244638 |  7.787545 | 6.832394e-15 | 2.881221e-11 | up   |\n",
       "| ENSMUSG00000025017 | Pik3ap1 | 111.78980 |   6.856110 | 0.8763867 |  7.823157 | 5.151483e-15 | 2.881221e-11 | up   |\n",
       "| ENSMUSG00000018983 | E2f2    |  97.63604 |   7.634844 | 1.0049858 |  7.596967 | 3.031520e-14 | 9.587940e-11 | up   |\n",
       "| ENSMUSG00000032125 | Robo4   |  78.60206 |  -7.695032 | 1.0231181 | -7.521157 | 5.429347e-14 | 1.373734e-10 | down |\n",
       "| ENSMUSG00000032589 | Bsn     |  93.65185 |   7.634114 | 1.0367615 |  7.363423 | 1.792532e-13 | 3.779554e-10 | up   |\n",
       "\n"
      ],
      "text/plain": [
       "  X1                 deg_anno baseMean  log2FoldChange lfcSE     stat     \n",
       "1 ENSMUSG00000029408 Abcb9     80.38315 -24.581070     2.9974166 -8.200752\n",
       "2 ENSMUSG00000037049 Smpd1    141.58058   6.420548     0.8244638  7.787545\n",
       "3 ENSMUSG00000025017 Pik3ap1  111.78980   6.856110     0.8763867  7.823157\n",
       "4 ENSMUSG00000018983 E2f2      97.63604   7.634844     1.0049858  7.596967\n",
       "5 ENSMUSG00000032125 Robo4     78.60206  -7.695032     1.0231181 -7.521157\n",
       "6 ENSMUSG00000032589 Bsn       93.65185   7.634114     1.0367615  7.363423\n",
       "  pvalue       padj         sig \n",
       "1 2.388883e-16 3.022176e-12 down\n",
       "2 6.832394e-15 2.881221e-11 up  \n",
       "3 5.151483e-15 2.881221e-11 up  \n",
       "4 3.031520e-14 9.587940e-11 up  \n",
       "5 5.429347e-14 1.373734e-10 down\n",
       "6 1.792532e-13 3.779554e-10 up  "
      ]
     },
     "metadata": {},
     "output_type": "display_data"
    }
   ],
   "source": [
    "deg_anno <- AnnotationDbi::mapIds(\n",
    "    org.Mm.eg.db, \n",
    "    keys=as.vector(deg_res$X1), \n",
    "    column=\"SYMBOL\", \n",
    "    keytype=\"ENSEMBL\"\n",
    ")\n",
    "deg_res_final <- deg_res %>% add_column(\n",
    "    deg_anno,\n",
    "    .after=\"X1\"\n",
    ")\n",
    "head(deg_res_final)"
   ]
  },
  {
   "cell_type": "code",
   "execution_count": 6,
   "metadata": {},
   "outputs": [
    {
     "name": "stderr",
     "output_type": "stream",
     "text": [
      "'select()' returned 1:many mapping between keys and columns\n",
      "\n"
     ]
    },
    {
     "data": {
      "text/html": [
       "<table class=\"dataframe\">\n",
       "<caption>A tibble: 6 × 9</caption>\n",
       "<thead>\n",
       "\t<tr><th scope=col>X1</th><th scope=col>all_anno</th><th scope=col>baseMean</th><th scope=col>log2FoldChange</th><th scope=col>lfcSE</th><th scope=col>stat</th><th scope=col>pvalue</th><th scope=col>padj</th><th scope=col>sig</th></tr>\n",
       "\t<tr><th scope=col>&lt;chr&gt;</th><th scope=col>&lt;chr&gt;</th><th scope=col>&lt;dbl&gt;</th><th scope=col>&lt;dbl&gt;</th><th scope=col>&lt;dbl&gt;</th><th scope=col>&lt;dbl&gt;</th><th scope=col>&lt;dbl&gt;</th><th scope=col>&lt;dbl&gt;</th><th scope=col>&lt;chr&gt;</th></tr>\n",
       "</thead>\n",
       "<tbody>\n",
       "\t<tr><td>ENSMUSG00000029408</td><td>Abcb9  </td><td> 80.38315</td><td>-24.581070</td><td>2.9974166</td><td>-8.200752</td><td>2.388883e-16</td><td>3.022176e-12</td><td>down</td></tr>\n",
       "\t<tr><td>ENSMUSG00000037049</td><td>Smpd1  </td><td>141.58058</td><td>  6.420548</td><td>0.8244638</td><td> 7.787545</td><td>6.832394e-15</td><td>2.881221e-11</td><td>up  </td></tr>\n",
       "\t<tr><td>ENSMUSG00000025017</td><td>Pik3ap1</td><td>111.78980</td><td>  6.856110</td><td>0.8763867</td><td> 7.823157</td><td>5.151483e-15</td><td>2.881221e-11</td><td>up  </td></tr>\n",
       "\t<tr><td>ENSMUSG00000018983</td><td>E2f2   </td><td> 97.63604</td><td>  7.634844</td><td>1.0049858</td><td> 7.596967</td><td>3.031520e-14</td><td>9.587940e-11</td><td>up  </td></tr>\n",
       "\t<tr><td>ENSMUSG00000032125</td><td>Robo4  </td><td> 78.60206</td><td> -7.695032</td><td>1.0231181</td><td>-7.521157</td><td>5.429347e-14</td><td>1.373734e-10</td><td>down</td></tr>\n",
       "\t<tr><td>ENSMUSG00000032589</td><td>Bsn    </td><td> 93.65185</td><td>  7.634114</td><td>1.0367615</td><td> 7.363423</td><td>1.792532e-13</td><td>3.779554e-10</td><td>up  </td></tr>\n",
       "</tbody>\n",
       "</table>\n"
      ],
      "text/latex": [
       "A tibble: 6 × 9\n",
       "\\begin{tabular}{lllllllll}\n",
       " X1 & all\\_anno & baseMean & log2FoldChange & lfcSE & stat & pvalue & padj & sig\\\\\n",
       " <chr> & <chr> & <dbl> & <dbl> & <dbl> & <dbl> & <dbl> & <dbl> & <chr>\\\\\n",
       "\\hline\n",
       "\t ENSMUSG00000029408 & Abcb9   &  80.38315 & -24.581070 & 2.9974166 & -8.200752 & 2.388883e-16 & 3.022176e-12 & down\\\\\n",
       "\t ENSMUSG00000037049 & Smpd1   & 141.58058 &   6.420548 & 0.8244638 &  7.787545 & 6.832394e-15 & 2.881221e-11 & up  \\\\\n",
       "\t ENSMUSG00000025017 & Pik3ap1 & 111.78980 &   6.856110 & 0.8763867 &  7.823157 & 5.151483e-15 & 2.881221e-11 & up  \\\\\n",
       "\t ENSMUSG00000018983 & E2f2    &  97.63604 &   7.634844 & 1.0049858 &  7.596967 & 3.031520e-14 & 9.587940e-11 & up  \\\\\n",
       "\t ENSMUSG00000032125 & Robo4   &  78.60206 &  -7.695032 & 1.0231181 & -7.521157 & 5.429347e-14 & 1.373734e-10 & down\\\\\n",
       "\t ENSMUSG00000032589 & Bsn     &  93.65185 &   7.634114 & 1.0367615 &  7.363423 & 1.792532e-13 & 3.779554e-10 & up  \\\\\n",
       "\\end{tabular}\n"
      ],
      "text/markdown": [
       "\n",
       "A tibble: 6 × 9\n",
       "\n",
       "| X1 &lt;chr&gt; | all_anno &lt;chr&gt; | baseMean &lt;dbl&gt; | log2FoldChange &lt;dbl&gt; | lfcSE &lt;dbl&gt; | stat &lt;dbl&gt; | pvalue &lt;dbl&gt; | padj &lt;dbl&gt; | sig &lt;chr&gt; |\n",
       "|---|---|---|---|---|---|---|---|---|\n",
       "| ENSMUSG00000029408 | Abcb9   |  80.38315 | -24.581070 | 2.9974166 | -8.200752 | 2.388883e-16 | 3.022176e-12 | down |\n",
       "| ENSMUSG00000037049 | Smpd1   | 141.58058 |   6.420548 | 0.8244638 |  7.787545 | 6.832394e-15 | 2.881221e-11 | up   |\n",
       "| ENSMUSG00000025017 | Pik3ap1 | 111.78980 |   6.856110 | 0.8763867 |  7.823157 | 5.151483e-15 | 2.881221e-11 | up   |\n",
       "| ENSMUSG00000018983 | E2f2    |  97.63604 |   7.634844 | 1.0049858 |  7.596967 | 3.031520e-14 | 9.587940e-11 | up   |\n",
       "| ENSMUSG00000032125 | Robo4   |  78.60206 |  -7.695032 | 1.0231181 | -7.521157 | 5.429347e-14 | 1.373734e-10 | down |\n",
       "| ENSMUSG00000032589 | Bsn     |  93.65185 |   7.634114 | 1.0367615 |  7.363423 | 1.792532e-13 | 3.779554e-10 | up   |\n",
       "\n"
      ],
      "text/plain": [
       "  X1                 all_anno baseMean  log2FoldChange lfcSE     stat     \n",
       "1 ENSMUSG00000029408 Abcb9     80.38315 -24.581070     2.9974166 -8.200752\n",
       "2 ENSMUSG00000037049 Smpd1    141.58058   6.420548     0.8244638  7.787545\n",
       "3 ENSMUSG00000025017 Pik3ap1  111.78980   6.856110     0.8763867  7.823157\n",
       "4 ENSMUSG00000018983 E2f2      97.63604   7.634844     1.0049858  7.596967\n",
       "5 ENSMUSG00000032125 Robo4     78.60206  -7.695032     1.0231181 -7.521157\n",
       "6 ENSMUSG00000032589 Bsn       93.65185   7.634114     1.0367615  7.363423\n",
       "  pvalue       padj         sig \n",
       "1 2.388883e-16 3.022176e-12 down\n",
       "2 6.832394e-15 2.881221e-11 up  \n",
       "3 5.151483e-15 2.881221e-11 up  \n",
       "4 3.031520e-14 9.587940e-11 up  \n",
       "5 5.429347e-14 1.373734e-10 down\n",
       "6 1.792532e-13 3.779554e-10 up  "
      ]
     },
     "metadata": {},
     "output_type": "display_data"
    }
   ],
   "source": [
    "all_anno <- AnnotationDbi::mapIds(\n",
    "    org.Mm.eg.db, \n",
    "    keys=as.vector(all_res$X1), \n",
    "    column=\"SYMBOL\", \n",
    "    keytype=\"ENSEMBL\"\n",
    ")\n",
    "all_res_final <- all_res %>% add_column(\n",
    "    all_anno,\n",
    "    .after=\"X1\"\n",
    ")\n",
    "head(all_res_final)"
   ]
  },
  {
   "cell_type": "code",
   "execution_count": 8,
   "metadata": {},
   "outputs": [
    {
     "name": "stderr",
     "output_type": "stream",
     "text": [
      "\n",
      "\u001b[36m──\u001b[39m \u001b[1m\u001b[1mColumn specification\u001b[1m\u001b[22m \u001b[36m────────────────────────────────────────────────────────\u001b[39m\n",
      "cols(\n",
      "  Geneid = \u001b[31mcol_character()\u001b[39m,\n",
      "  WT1 = \u001b[32mcol_double()\u001b[39m,\n",
      "  WT2 = \u001b[32mcol_double()\u001b[39m,\n",
      "  WT3 = \u001b[32mcol_double()\u001b[39m,\n",
      "  WT4 = \u001b[32mcol_double()\u001b[39m,\n",
      "  KO1 = \u001b[32mcol_double()\u001b[39m,\n",
      "  KO2 = \u001b[32mcol_double()\u001b[39m,\n",
      "  KO3 = \u001b[32mcol_double()\u001b[39m,\n",
      "  KO4 = \u001b[32mcol_double()\u001b[39m\n",
      ")\n",
      "\n",
      "\n"
     ]
    },
    {
     "data": {
      "text/html": [
       "<table class=\"dataframe\">\n",
       "<caption>A tibble: 6 × 9</caption>\n",
       "<thead>\n",
       "\t<tr><th scope=col>Geneid</th><th scope=col>WT1</th><th scope=col>WT2</th><th scope=col>WT3</th><th scope=col>WT4</th><th scope=col>KO1</th><th scope=col>KO2</th><th scope=col>KO3</th><th scope=col>KO4</th></tr>\n",
       "\t<tr><th scope=col>&lt;chr&gt;</th><th scope=col>&lt;dbl&gt;</th><th scope=col>&lt;dbl&gt;</th><th scope=col>&lt;dbl&gt;</th><th scope=col>&lt;dbl&gt;</th><th scope=col>&lt;dbl&gt;</th><th scope=col>&lt;dbl&gt;</th><th scope=col>&lt;dbl&gt;</th><th scope=col>&lt;dbl&gt;</th></tr>\n",
       "</thead>\n",
       "<tbody>\n",
       "\t<tr><td>ENSMUSG00000102693.1</td><td>0</td><td>0</td><td>0</td><td>0</td><td>0</td><td>0</td><td>0</td><td>0</td></tr>\n",
       "\t<tr><td>ENSMUSG00000064842.1</td><td>0</td><td>0</td><td>0</td><td>0</td><td>0</td><td>0</td><td>0</td><td>0</td></tr>\n",
       "\t<tr><td>ENSMUSG00000051951.5</td><td>0</td><td>0</td><td>0</td><td>0</td><td>0</td><td>0</td><td>0</td><td>0</td></tr>\n",
       "\t<tr><td>ENSMUSG00000102851.1</td><td>0</td><td>0</td><td>0</td><td>0</td><td>0</td><td>0</td><td>0</td><td>0</td></tr>\n",
       "\t<tr><td>ENSMUSG00000103377.1</td><td>0</td><td>0</td><td>0</td><td>0</td><td>0</td><td>0</td><td>0</td><td>0</td></tr>\n",
       "\t<tr><td>ENSMUSG00000104017.1</td><td>0</td><td>0</td><td>0</td><td>0</td><td>0</td><td>0</td><td>0</td><td>0</td></tr>\n",
       "</tbody>\n",
       "</table>\n"
      ],
      "text/latex": [
       "A tibble: 6 × 9\n",
       "\\begin{tabular}{lllllllll}\n",
       " Geneid & WT1 & WT2 & WT3 & WT4 & KO1 & KO2 & KO3 & KO4\\\\\n",
       " <chr> & <dbl> & <dbl> & <dbl> & <dbl> & <dbl> & <dbl> & <dbl> & <dbl>\\\\\n",
       "\\hline\n",
       "\t ENSMUSG00000102693.1 & 0 & 0 & 0 & 0 & 0 & 0 & 0 & 0\\\\\n",
       "\t ENSMUSG00000064842.1 & 0 & 0 & 0 & 0 & 0 & 0 & 0 & 0\\\\\n",
       "\t ENSMUSG00000051951.5 & 0 & 0 & 0 & 0 & 0 & 0 & 0 & 0\\\\\n",
       "\t ENSMUSG00000102851.1 & 0 & 0 & 0 & 0 & 0 & 0 & 0 & 0\\\\\n",
       "\t ENSMUSG00000103377.1 & 0 & 0 & 0 & 0 & 0 & 0 & 0 & 0\\\\\n",
       "\t ENSMUSG00000104017.1 & 0 & 0 & 0 & 0 & 0 & 0 & 0 & 0\\\\\n",
       "\\end{tabular}\n"
      ],
      "text/markdown": [
       "\n",
       "A tibble: 6 × 9\n",
       "\n",
       "| Geneid &lt;chr&gt; | WT1 &lt;dbl&gt; | WT2 &lt;dbl&gt; | WT3 &lt;dbl&gt; | WT4 &lt;dbl&gt; | KO1 &lt;dbl&gt; | KO2 &lt;dbl&gt; | KO3 &lt;dbl&gt; | KO4 &lt;dbl&gt; |\n",
       "|---|---|---|---|---|---|---|---|---|\n",
       "| ENSMUSG00000102693.1 | 0 | 0 | 0 | 0 | 0 | 0 | 0 | 0 |\n",
       "| ENSMUSG00000064842.1 | 0 | 0 | 0 | 0 | 0 | 0 | 0 | 0 |\n",
       "| ENSMUSG00000051951.5 | 0 | 0 | 0 | 0 | 0 | 0 | 0 | 0 |\n",
       "| ENSMUSG00000102851.1 | 0 | 0 | 0 | 0 | 0 | 0 | 0 | 0 |\n",
       "| ENSMUSG00000103377.1 | 0 | 0 | 0 | 0 | 0 | 0 | 0 | 0 |\n",
       "| ENSMUSG00000104017.1 | 0 | 0 | 0 | 0 | 0 | 0 | 0 | 0 |\n",
       "\n"
      ],
      "text/plain": [
       "  Geneid               WT1 WT2 WT3 WT4 KO1 KO2 KO3 KO4\n",
       "1 ENSMUSG00000102693.1 0   0   0   0   0   0   0   0  \n",
       "2 ENSMUSG00000064842.1 0   0   0   0   0   0   0   0  \n",
       "3 ENSMUSG00000051951.5 0   0   0   0   0   0   0   0  \n",
       "4 ENSMUSG00000102851.1 0   0   0   0   0   0   0   0  \n",
       "5 ENSMUSG00000103377.1 0   0   0   0   0   0   0   0  \n",
       "6 ENSMUSG00000104017.1 0   0   0   0   0   0   0   0  "
      ]
     },
     "metadata": {},
     "output_type": "display_data"
    }
   ],
   "source": [
    "all_features <- read_tsv(\"all_feature_fix.csv\")\n",
    "head(all_features)"
   ]
  },
  {
   "cell_type": "code",
   "execution_count": 63,
   "metadata": {},
   "outputs": [
    {
     "data": {
      "text/html": [
       "<style>\n",
       ".list-inline {list-style: none; margin:0; padding: 0}\n",
       ".list-inline>li {display: inline-block}\n",
       ".list-inline>li:not(:last-child)::after {content: \"\\00b7\"; padding: 0 .5ex}\n",
       "</style>\n",
       "<ol class=list-inline><li>'ENSMUSG00000102693.1'</li><li>'ENSMUSG00000064842.1'</li><li>'ENSMUSG00000051951.5'</li><li>'ENSMUSG00000102851.1'</li><li>'ENSMUSG00000103377.1'</li><li>'ENSMUSG00000104017.1'</li></ol>\n"
      ],
      "text/latex": [
       "\\begin{enumerate*}\n",
       "\\item 'ENSMUSG00000102693.1'\n",
       "\\item 'ENSMUSG00000064842.1'\n",
       "\\item 'ENSMUSG00000051951.5'\n",
       "\\item 'ENSMUSG00000102851.1'\n",
       "\\item 'ENSMUSG00000103377.1'\n",
       "\\item 'ENSMUSG00000104017.1'\n",
       "\\end{enumerate*}\n"
      ],
      "text/markdown": [
       "1. 'ENSMUSG00000102693.1'\n",
       "2. 'ENSMUSG00000064842.1'\n",
       "3. 'ENSMUSG00000051951.5'\n",
       "4. 'ENSMUSG00000102851.1'\n",
       "5. 'ENSMUSG00000103377.1'\n",
       "6. 'ENSMUSG00000104017.1'\n",
       "\n",
       "\n"
      ],
      "text/plain": [
       "[1] \"ENSMUSG00000102693.1\" \"ENSMUSG00000064842.1\" \"ENSMUSG00000051951.5\"\n",
       "[4] \"ENSMUSG00000102851.1\" \"ENSMUSG00000103377.1\" \"ENSMUSG00000104017.1\""
      ]
     },
     "metadata": {},
     "output_type": "display_data"
    }
   ],
   "source": [
    "head(all_features$Geneid)"
   ]
  },
  {
   "cell_type": "code",
   "execution_count": 67,
   "metadata": {},
   "outputs": [
    {
     "data": {
      "text/html": [
       "<table class=\"dataframe\">\n",
       "<caption>A tibble: 6 × 9</caption>\n",
       "<thead>\n",
       "\t<tr><th scope=col>Geneid</th><th scope=col>WT1</th><th scope=col>WT2</th><th scope=col>WT3</th><th scope=col>WT4</th><th scope=col>KO1</th><th scope=col>KO2</th><th scope=col>KO3</th><th scope=col>KO4</th></tr>\n",
       "\t<tr><th scope=col>&lt;chr&gt;</th><th scope=col>&lt;dbl&gt;</th><th scope=col>&lt;dbl&gt;</th><th scope=col>&lt;dbl&gt;</th><th scope=col>&lt;dbl&gt;</th><th scope=col>&lt;dbl&gt;</th><th scope=col>&lt;dbl&gt;</th><th scope=col>&lt;dbl&gt;</th><th scope=col>&lt;dbl&gt;</th></tr>\n",
       "</thead>\n",
       "<tbody>\n",
       "\t<tr><td>ENSMUSG00000102693</td><td>0</td><td>0</td><td>0</td><td>0</td><td>0</td><td>0</td><td>0</td><td>0</td></tr>\n",
       "\t<tr><td>ENSMUSG00000064842</td><td>0</td><td>0</td><td>0</td><td>0</td><td>0</td><td>0</td><td>0</td><td>0</td></tr>\n",
       "\t<tr><td>ENSMUSG00000051951</td><td>0</td><td>0</td><td>0</td><td>0</td><td>0</td><td>0</td><td>0</td><td>0</td></tr>\n",
       "\t<tr><td>ENSMUSG00000102851</td><td>0</td><td>0</td><td>0</td><td>0</td><td>0</td><td>0</td><td>0</td><td>0</td></tr>\n",
       "\t<tr><td>ENSMUSG00000103377</td><td>0</td><td>0</td><td>0</td><td>0</td><td>0</td><td>0</td><td>0</td><td>0</td></tr>\n",
       "\t<tr><td>ENSMUSG00000104017</td><td>0</td><td>0</td><td>0</td><td>0</td><td>0</td><td>0</td><td>0</td><td>0</td></tr>\n",
       "</tbody>\n",
       "</table>\n"
      ],
      "text/latex": [
       "A tibble: 6 × 9\n",
       "\\begin{tabular}{lllllllll}\n",
       " Geneid & WT1 & WT2 & WT3 & WT4 & KO1 & KO2 & KO3 & KO4\\\\\n",
       " <chr> & <dbl> & <dbl> & <dbl> & <dbl> & <dbl> & <dbl> & <dbl> & <dbl>\\\\\n",
       "\\hline\n",
       "\t ENSMUSG00000102693 & 0 & 0 & 0 & 0 & 0 & 0 & 0 & 0\\\\\n",
       "\t ENSMUSG00000064842 & 0 & 0 & 0 & 0 & 0 & 0 & 0 & 0\\\\\n",
       "\t ENSMUSG00000051951 & 0 & 0 & 0 & 0 & 0 & 0 & 0 & 0\\\\\n",
       "\t ENSMUSG00000102851 & 0 & 0 & 0 & 0 & 0 & 0 & 0 & 0\\\\\n",
       "\t ENSMUSG00000103377 & 0 & 0 & 0 & 0 & 0 & 0 & 0 & 0\\\\\n",
       "\t ENSMUSG00000104017 & 0 & 0 & 0 & 0 & 0 & 0 & 0 & 0\\\\\n",
       "\\end{tabular}\n"
      ],
      "text/markdown": [
       "\n",
       "A tibble: 6 × 9\n",
       "\n",
       "| Geneid &lt;chr&gt; | WT1 &lt;dbl&gt; | WT2 &lt;dbl&gt; | WT3 &lt;dbl&gt; | WT4 &lt;dbl&gt; | KO1 &lt;dbl&gt; | KO2 &lt;dbl&gt; | KO3 &lt;dbl&gt; | KO4 &lt;dbl&gt; |\n",
       "|---|---|---|---|---|---|---|---|---|\n",
       "| ENSMUSG00000102693 | 0 | 0 | 0 | 0 | 0 | 0 | 0 | 0 |\n",
       "| ENSMUSG00000064842 | 0 | 0 | 0 | 0 | 0 | 0 | 0 | 0 |\n",
       "| ENSMUSG00000051951 | 0 | 0 | 0 | 0 | 0 | 0 | 0 | 0 |\n",
       "| ENSMUSG00000102851 | 0 | 0 | 0 | 0 | 0 | 0 | 0 | 0 |\n",
       "| ENSMUSG00000103377 | 0 | 0 | 0 | 0 | 0 | 0 | 0 | 0 |\n",
       "| ENSMUSG00000104017 | 0 | 0 | 0 | 0 | 0 | 0 | 0 | 0 |\n",
       "\n"
      ],
      "text/plain": [
       "  Geneid             WT1 WT2 WT3 WT4 KO1 KO2 KO3 KO4\n",
       "1 ENSMUSG00000102693 0   0   0   0   0   0   0   0  \n",
       "2 ENSMUSG00000064842 0   0   0   0   0   0   0   0  \n",
       "3 ENSMUSG00000051951 0   0   0   0   0   0   0   0  \n",
       "4 ENSMUSG00000102851 0   0   0   0   0   0   0   0  \n",
       "5 ENSMUSG00000103377 0   0   0   0   0   0   0   0  \n",
       "6 ENSMUSG00000104017 0   0   0   0   0   0   0   0  "
      ]
     },
     "metadata": {},
     "output_type": "display_data"
    }
   ],
   "source": [
    "### remove version in ensembl id ----------------------------------------------------------->\n",
    "gn <- stringr::str_split(all_features$Geneid,\"\\\\.\",simplify = T)[,1]\n",
    "all_features$Geneid <- gn\n",
    "head(all_features)"
   ]
  },
  {
   "cell_type": "code",
   "execution_count": 68,
   "metadata": {},
   "outputs": [
    {
     "name": "stderr",
     "output_type": "stream",
     "text": [
      "'select()' returned 1:many mapping between keys and columns\n",
      "\n"
     ]
    },
    {
     "data": {
      "text/html": [
       "<table class=\"dataframe\">\n",
       "<caption>A tibble: 6 × 10</caption>\n",
       "<thead>\n",
       "\t<tr><th scope=col>Geneid</th><th scope=col>all_features_anno</th><th scope=col>WT1</th><th scope=col>WT2</th><th scope=col>WT3</th><th scope=col>WT4</th><th scope=col>KO1</th><th scope=col>KO2</th><th scope=col>KO3</th><th scope=col>KO4</th></tr>\n",
       "\t<tr><th scope=col>&lt;chr&gt;</th><th scope=col>&lt;chr&gt;</th><th scope=col>&lt;dbl&gt;</th><th scope=col>&lt;dbl&gt;</th><th scope=col>&lt;dbl&gt;</th><th scope=col>&lt;dbl&gt;</th><th scope=col>&lt;dbl&gt;</th><th scope=col>&lt;dbl&gt;</th><th scope=col>&lt;dbl&gt;</th><th scope=col>&lt;dbl&gt;</th></tr>\n",
       "</thead>\n",
       "<tbody>\n",
       "\t<tr><td>ENSMUSG00000102693</td><td>NA     </td><td>0</td><td>0</td><td>0</td><td>0</td><td>0</td><td>0</td><td>0</td><td>0</td></tr>\n",
       "\t<tr><td>ENSMUSG00000064842</td><td>Gm26206</td><td>0</td><td>0</td><td>0</td><td>0</td><td>0</td><td>0</td><td>0</td><td>0</td></tr>\n",
       "\t<tr><td>ENSMUSG00000051951</td><td>Xkr4   </td><td>0</td><td>0</td><td>0</td><td>0</td><td>0</td><td>0</td><td>0</td><td>0</td></tr>\n",
       "\t<tr><td>ENSMUSG00000102851</td><td>Gm18956</td><td>0</td><td>0</td><td>0</td><td>0</td><td>0</td><td>0</td><td>0</td><td>0</td></tr>\n",
       "\t<tr><td>ENSMUSG00000103377</td><td>NA     </td><td>0</td><td>0</td><td>0</td><td>0</td><td>0</td><td>0</td><td>0</td><td>0</td></tr>\n",
       "\t<tr><td>ENSMUSG00000104017</td><td>NA     </td><td>0</td><td>0</td><td>0</td><td>0</td><td>0</td><td>0</td><td>0</td><td>0</td></tr>\n",
       "</tbody>\n",
       "</table>\n"
      ],
      "text/latex": [
       "A tibble: 6 × 10\n",
       "\\begin{tabular}{llllllllll}\n",
       " Geneid & all\\_features\\_anno & WT1 & WT2 & WT3 & WT4 & KO1 & KO2 & KO3 & KO4\\\\\n",
       " <chr> & <chr> & <dbl> & <dbl> & <dbl> & <dbl> & <dbl> & <dbl> & <dbl> & <dbl>\\\\\n",
       "\\hline\n",
       "\t ENSMUSG00000102693 & NA      & 0 & 0 & 0 & 0 & 0 & 0 & 0 & 0\\\\\n",
       "\t ENSMUSG00000064842 & Gm26206 & 0 & 0 & 0 & 0 & 0 & 0 & 0 & 0\\\\\n",
       "\t ENSMUSG00000051951 & Xkr4    & 0 & 0 & 0 & 0 & 0 & 0 & 0 & 0\\\\\n",
       "\t ENSMUSG00000102851 & Gm18956 & 0 & 0 & 0 & 0 & 0 & 0 & 0 & 0\\\\\n",
       "\t ENSMUSG00000103377 & NA      & 0 & 0 & 0 & 0 & 0 & 0 & 0 & 0\\\\\n",
       "\t ENSMUSG00000104017 & NA      & 0 & 0 & 0 & 0 & 0 & 0 & 0 & 0\\\\\n",
       "\\end{tabular}\n"
      ],
      "text/markdown": [
       "\n",
       "A tibble: 6 × 10\n",
       "\n",
       "| Geneid &lt;chr&gt; | all_features_anno &lt;chr&gt; | WT1 &lt;dbl&gt; | WT2 &lt;dbl&gt; | WT3 &lt;dbl&gt; | WT4 &lt;dbl&gt; | KO1 &lt;dbl&gt; | KO2 &lt;dbl&gt; | KO3 &lt;dbl&gt; | KO4 &lt;dbl&gt; |\n",
       "|---|---|---|---|---|---|---|---|---|---|\n",
       "| ENSMUSG00000102693 | NA      | 0 | 0 | 0 | 0 | 0 | 0 | 0 | 0 |\n",
       "| ENSMUSG00000064842 | Gm26206 | 0 | 0 | 0 | 0 | 0 | 0 | 0 | 0 |\n",
       "| ENSMUSG00000051951 | Xkr4    | 0 | 0 | 0 | 0 | 0 | 0 | 0 | 0 |\n",
       "| ENSMUSG00000102851 | Gm18956 | 0 | 0 | 0 | 0 | 0 | 0 | 0 | 0 |\n",
       "| ENSMUSG00000103377 | NA      | 0 | 0 | 0 | 0 | 0 | 0 | 0 | 0 |\n",
       "| ENSMUSG00000104017 | NA      | 0 | 0 | 0 | 0 | 0 | 0 | 0 | 0 |\n",
       "\n"
      ],
      "text/plain": [
       "  Geneid             all_features_anno WT1 WT2 WT3 WT4 KO1 KO2 KO3 KO4\n",
       "1 ENSMUSG00000102693 NA                0   0   0   0   0   0   0   0  \n",
       "2 ENSMUSG00000064842 Gm26206           0   0   0   0   0   0   0   0  \n",
       "3 ENSMUSG00000051951 Xkr4              0   0   0   0   0   0   0   0  \n",
       "4 ENSMUSG00000102851 Gm18956           0   0   0   0   0   0   0   0  \n",
       "5 ENSMUSG00000103377 NA                0   0   0   0   0   0   0   0  \n",
       "6 ENSMUSG00000104017 NA                0   0   0   0   0   0   0   0  "
      ]
     },
     "metadata": {},
     "output_type": "display_data"
    }
   ],
   "source": [
    "all_features_anno <- AnnotationDbi::mapIds(\n",
    "    org.Mm.eg.db, \n",
    "    keys=as.vector(all_features$Geneid), \n",
    "    column=\"SYMBOL\", \n",
    "    keytype=\"ENSEMBL\"\n",
    ")\n",
    "all_features_final <- all_features %>% add_column(\n",
    "    all_features_anno,\n",
    "    .after=\"Geneid\"\n",
    ")\n",
    "head(all_features_final)"
   ]
  },
  {
   "cell_type": "code",
   "execution_count": 69,
   "metadata": {},
   "outputs": [],
   "source": [
    "write_tsv(deg_res_final,\"deg_result_symbol.tsv\")\n",
    "write_tsv(all_res_final,\"all_result_symbol.tsv\")\n",
    "write_tsv(all_features_final, \"all_features_symbol.tsv\")"
   ]
  },
  {
   "cell_type": "code",
   "execution_count": null,
   "metadata": {},
   "outputs": [],
   "source": []
  }
 ],
 "metadata": {
  "kernelspec": {
   "display_name": "R",
   "language": "R",
   "name": "ir"
  },
  "language_info": {
   "codemirror_mode": "r",
   "file_extension": ".r",
   "mimetype": "text/x-r-source",
   "name": "R",
   "pygments_lexer": "r",
   "version": "4.0.3"
  }
 },
 "nbformat": 4,
 "nbformat_minor": 4
}
