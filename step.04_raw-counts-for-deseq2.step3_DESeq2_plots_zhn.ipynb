{
 "cells": [
  {
   "cell_type": "markdown",
   "metadata": {},
   "source": [
    "# DESeq2 DE Analysis Pipeline\n",
    "\n",
    "> https://zhuanlan.zhihu.com/p/375756362\n",
    "\n",
    "- 依赖包:\n",
    "   - DESeq2\n",
    "   - RColorBrewer\n",
    "   - gplots\n",
    "   - pheatmap\n",
    "   - ggplot2\n",
    "- DESeq2对于输入数据的要求\n",
    "   - 输入数据为整数构成的矩阵\n",
    "   - 此矩阵必须是没有经过标准化(归一化/Normalize) \n",
    "- DESeq2进行差异表达分析\n",
    "   - 构建dds矩阵\n",
    "       ```\n",
    "       dds <- DESeqDataSetFromMatrix(\n",
    "                   countData = raw_counts, \n",
    "                   colData = column_info, \n",
    "                   design= ~ batch + condition) \n",
    "       #~在R里面用于构建公式对象，~左边为因变量，右边为自变量。\n",
    "       ```\n",
    "\n",
    "   - 标准化/归一化\n",
    "       ```\n",
    "       dds <- DESeq(dds) \n",
    "       #标准化\n",
    "       ```\n",
    "   - 差异分析\n",
    "       ```\n",
    "       res <- results(dds, contrast=c(\"condition\",\"treated\",\"control\")) \n",
    "       #差异分析结果\n",
    "       ```"
   ]
  },
  {
   "cell_type": "markdown",
   "metadata": {},
   "source": [
    "## load tables"
   ]
  },
  {
   "cell_type": "markdown",
   "metadata": {},
   "source": [
    "1. 读取样本信息（sample.txt）\n",
    "2. 读取featureCounts产生的各个bam文件的counts信息\n",
    "3. 检查raw_counts中的所有记录(row)的个数，这里代表count到的gene的个数, geneid被指定为row.names了所以不计在内"
   ]
  },
  {
   "cell_type": "markdown",
   "metadata": {},
   "source": [
    "### 读取/构建样本信息"
   ]
  },
  {
   "cell_type": "code",
   "execution_count": 43,
   "metadata": {
    "tags": []
   },
   "outputs": [
    {
     "data": {
      "text/html": [
       "<table class=\"dataframe\">\n",
       "<caption>A data.frame: 10 × 3</caption>\n",
       "<thead>\n",
       "\t<tr><th scope=col>sample</th><th scope=col>condition</th><th scope=col>type</th></tr>\n",
       "\t<tr><th scope=col>&lt;chr&gt;</th><th scope=col>&lt;chr&gt;</th><th scope=col>&lt;chr&gt;</th></tr>\n",
       "</thead>\n",
       "<tbody>\n",
       "\t<tr><td>LI-rep1    </td><td>LI    </td><td>treat</td></tr>\n",
       "\t<tr><td>LI-rep2    </td><td>LI    </td><td>treat</td></tr>\n",
       "\t<tr><td>mLN-rep1   </td><td>mLN   </td><td>treat</td></tr>\n",
       "\t<tr><td>mLN-rep2   </td><td>mLN   </td><td>treat</td></tr>\n",
       "\t<tr><td>pLN-rep1   </td><td>pLN   </td><td>treat</td></tr>\n",
       "\t<tr><td>pLN-rep2   </td><td>pLN   </td><td>treat</td></tr>\n",
       "\t<tr><td>SI-rep1    </td><td>SI    </td><td>treat</td></tr>\n",
       "\t<tr><td>SI-rep2    </td><td>SI    </td><td>treat</td></tr>\n",
       "\t<tr><td>spleen-rep1</td><td>spleen</td><td>treat</td></tr>\n",
       "\t<tr><td>spleen-rep2</td><td>spleen</td><td>treat</td></tr>\n",
       "</tbody>\n",
       "</table>\n"
      ],
      "text/latex": [
       "A data.frame: 10 × 3\n",
       "\\begin{tabular}{lll}\n",
       " sample & condition & type\\\\\n",
       " <chr> & <chr> & <chr>\\\\\n",
       "\\hline\n",
       "\t LI-rep1     & LI     & treat\\\\\n",
       "\t LI-rep2     & LI     & treat\\\\\n",
       "\t mLN-rep1    & mLN    & treat\\\\\n",
       "\t mLN-rep2    & mLN    & treat\\\\\n",
       "\t pLN-rep1    & pLN    & treat\\\\\n",
       "\t pLN-rep2    & pLN    & treat\\\\\n",
       "\t SI-rep1     & SI     & treat\\\\\n",
       "\t SI-rep2     & SI     & treat\\\\\n",
       "\t spleen-rep1 & spleen & treat\\\\\n",
       "\t spleen-rep2 & spleen & treat\\\\\n",
       "\\end{tabular}\n"
      ],
      "text/markdown": [
       "\n",
       "A data.frame: 10 × 3\n",
       "\n",
       "| sample &lt;chr&gt; | condition &lt;chr&gt; | type &lt;chr&gt; |\n",
       "|---|---|---|\n",
       "| LI-rep1     | LI     | treat |\n",
       "| LI-rep2     | LI     | treat |\n",
       "| mLN-rep1    | mLN    | treat |\n",
       "| mLN-rep2    | mLN    | treat |\n",
       "| pLN-rep1    | pLN    | treat |\n",
       "| pLN-rep2    | pLN    | treat |\n",
       "| SI-rep1     | SI     | treat |\n",
       "| SI-rep2     | SI     | treat |\n",
       "| spleen-rep1 | spleen | treat |\n",
       "| spleen-rep2 | spleen | treat |\n",
       "\n"
      ],
      "text/plain": [
       "   sample      condition type \n",
       "1  LI-rep1     LI        treat\n",
       "2  LI-rep2     LI        treat\n",
       "3  mLN-rep1    mLN       treat\n",
       "4  mLN-rep2    mLN       treat\n",
       "5  pLN-rep1    pLN       treat\n",
       "6  pLN-rep2    pLN       treat\n",
       "7  SI-rep1     SI        treat\n",
       "8  SI-rep2     SI        treat\n",
       "9  spleen-rep1 spleen    treat\n",
       "10 spleen-rep2 spleen    treat"
      ]
     },
     "metadata": {},
     "output_type": "display_data"
    }
   ],
   "source": [
    "column_info <- read.table(\"sample.csv\", header=TRUE, sep=',')\n",
    "column_info"
   ]
  },
  {
   "cell_type": "code",
   "execution_count": 53,
   "metadata": {},
   "outputs": [
    {
     "data": {
      "text/html": [
       "<table class=\"dataframe\">\n",
       "<caption>A data.frame: 10 × 3</caption>\n",
       "<thead>\n",
       "\t<tr><th scope=col>sample</th><th scope=col>condition</th><th scope=col>type</th></tr>\n",
       "\t<tr><th scope=col>&lt;chr&gt;</th><th scope=col>&lt;fct&gt;</th><th scope=col>&lt;fct&gt;</th></tr>\n",
       "</thead>\n",
       "<tbody>\n",
       "\t<tr><td>LI-rep1    </td><td>LI    </td><td>treat</td></tr>\n",
       "\t<tr><td>LI-rep2    </td><td>LI    </td><td>treat</td></tr>\n",
       "\t<tr><td>mLN-rep1   </td><td>mLN   </td><td>treat</td></tr>\n",
       "\t<tr><td>mLN-rep2   </td><td>mLN   </td><td>treat</td></tr>\n",
       "\t<tr><td>pLN-rep1   </td><td>pLN   </td><td>treat</td></tr>\n",
       "\t<tr><td>pLN-rep2   </td><td>pLN   </td><td>treat</td></tr>\n",
       "\t<tr><td>SI-rep1    </td><td>SI    </td><td>treat</td></tr>\n",
       "\t<tr><td>SI-rep2    </td><td>SI    </td><td>treat</td></tr>\n",
       "\t<tr><td>spleen-rep1</td><td>spleen</td><td>treat</td></tr>\n",
       "\t<tr><td>spleen-rep2</td><td>spleen</td><td>treat</td></tr>\n",
       "</tbody>\n",
       "</table>\n"
      ],
      "text/latex": [
       "A data.frame: 10 × 3\n",
       "\\begin{tabular}{lll}\n",
       " sample & condition & type\\\\\n",
       " <chr> & <fct> & <fct>\\\\\n",
       "\\hline\n",
       "\t LI-rep1     & LI     & treat\\\\\n",
       "\t LI-rep2     & LI     & treat\\\\\n",
       "\t mLN-rep1    & mLN    & treat\\\\\n",
       "\t mLN-rep2    & mLN    & treat\\\\\n",
       "\t pLN-rep1    & pLN    & treat\\\\\n",
       "\t pLN-rep2    & pLN    & treat\\\\\n",
       "\t SI-rep1     & SI     & treat\\\\\n",
       "\t SI-rep2     & SI     & treat\\\\\n",
       "\t spleen-rep1 & spleen & treat\\\\\n",
       "\t spleen-rep2 & spleen & treat\\\\\n",
       "\\end{tabular}\n"
      ],
      "text/markdown": [
       "\n",
       "A data.frame: 10 × 3\n",
       "\n",
       "| sample &lt;chr&gt; | condition &lt;fct&gt; | type &lt;fct&gt; |\n",
       "|---|---|---|\n",
       "| LI-rep1     | LI     | treat |\n",
       "| LI-rep2     | LI     | treat |\n",
       "| mLN-rep1    | mLN    | treat |\n",
       "| mLN-rep2    | mLN    | treat |\n",
       "| pLN-rep1    | pLN    | treat |\n",
       "| pLN-rep2    | pLN    | treat |\n",
       "| SI-rep1     | SI     | treat |\n",
       "| SI-rep2     | SI     | treat |\n",
       "| spleen-rep1 | spleen | treat |\n",
       "| spleen-rep2 | spleen | treat |\n",
       "\n"
      ],
      "text/plain": [
       "   sample      condition type \n",
       "1  LI-rep1     LI        treat\n",
       "2  LI-rep2     LI        treat\n",
       "3  mLN-rep1    mLN       treat\n",
       "4  mLN-rep2    mLN       treat\n",
       "5  pLN-rep1    pLN       treat\n",
       "6  pLN-rep2    pLN       treat\n",
       "7  SI-rep1     SI        treat\n",
       "8  SI-rep2     SI        treat\n",
       "9  spleen-rep1 spleen    treat\n",
       "10 spleen-rep2 spleen    treat"
      ]
     },
     "metadata": {},
     "output_type": "display_data"
    }
   ],
   "source": [
    "column_info$condition = factor(column_info$condition)\n",
    "column_info$type = factor(column_info$type)\n",
    "column_info"
   ]
  },
  {
   "cell_type": "markdown",
   "metadata": {},
   "source": [
    "### 读取原始表达矩阵"
   ]
  },
  {
   "cell_type": "code",
   "execution_count": 54,
   "metadata": {
    "tags": []
   },
   "outputs": [
    {
     "data": {
      "text/html": [
       "<table class=\"dataframe\">\n",
       "<caption>A data.frame: 5 × 10</caption>\n",
       "<thead>\n",
       "\t<tr><th></th><th scope=col>LI.rep1</th><th scope=col>LI.rep2</th><th scope=col>mLN.rep1</th><th scope=col>mLN.rep2</th><th scope=col>pLN.rep1</th><th scope=col>pLN.rep2</th><th scope=col>SI.rep1</th><th scope=col>SI.rep2</th><th scope=col>spleen.rep1</th><th scope=col>spleen.rep2</th></tr>\n",
       "\t<tr><th></th><th scope=col>&lt;int&gt;</th><th scope=col>&lt;int&gt;</th><th scope=col>&lt;int&gt;</th><th scope=col>&lt;int&gt;</th><th scope=col>&lt;int&gt;</th><th scope=col>&lt;int&gt;</th><th scope=col>&lt;int&gt;</th><th scope=col>&lt;int&gt;</th><th scope=col>&lt;int&gt;</th><th scope=col>&lt;int&gt;</th></tr>\n",
       "</thead>\n",
       "<tbody>\n",
       "\t<tr><th scope=row>Xkr4</th><td>32</td><td> 40</td><td> 31</td><td>33</td><td>18</td><td>17</td><td> 24</td><td> 26</td><td>0</td><td> 29</td></tr>\n",
       "\t<tr><th scope=row>Rp1</th><td>90</td><td>141</td><td>124</td><td>89</td><td>56</td><td>60</td><td>142</td><td>117</td><td>0</td><td>100</td></tr>\n",
       "\t<tr><th scope=row>Sox17</th><td> 5</td><td>  9</td><td>  3</td><td> 2</td><td> 1</td><td> 3</td><td>  2</td><td>  2</td><td>0</td><td>  4</td></tr>\n",
       "\t<tr><th scope=row>Mrpl15</th><td>39</td><td> 40</td><td> 56</td><td>36</td><td>33</td><td>53</td><td> 28</td><td> 44</td><td>0</td><td> 39</td></tr>\n",
       "\t<tr><th scope=row>Lypla1</th><td>38</td><td>269</td><td> 13</td><td>14</td><td>10</td><td> 8</td><td> 10</td><td> 15</td><td>0</td><td> 10</td></tr>\n",
       "</tbody>\n",
       "</table>\n"
      ],
      "text/latex": [
       "A data.frame: 5 × 10\n",
       "\\begin{tabular}{r|llllllllll}\n",
       "  & LI.rep1 & LI.rep2 & mLN.rep1 & mLN.rep2 & pLN.rep1 & pLN.rep2 & SI.rep1 & SI.rep2 & spleen.rep1 & spleen.rep2\\\\\n",
       "  & <int> & <int> & <int> & <int> & <int> & <int> & <int> & <int> & <int> & <int>\\\\\n",
       "\\hline\n",
       "\tXkr4 & 32 &  40 &  31 & 33 & 18 & 17 &  24 &  26 & 0 &  29\\\\\n",
       "\tRp1 & 90 & 141 & 124 & 89 & 56 & 60 & 142 & 117 & 0 & 100\\\\\n",
       "\tSox17 &  5 &   9 &   3 &  2 &  1 &  3 &   2 &   2 & 0 &   4\\\\\n",
       "\tMrpl15 & 39 &  40 &  56 & 36 & 33 & 53 &  28 &  44 & 0 &  39\\\\\n",
       "\tLypla1 & 38 & 269 &  13 & 14 & 10 &  8 &  10 &  15 & 0 &  10\\\\\n",
       "\\end{tabular}\n"
      ],
      "text/markdown": [
       "\n",
       "A data.frame: 5 × 10\n",
       "\n",
       "| <!--/--> | LI.rep1 &lt;int&gt; | LI.rep2 &lt;int&gt; | mLN.rep1 &lt;int&gt; | mLN.rep2 &lt;int&gt; | pLN.rep1 &lt;int&gt; | pLN.rep2 &lt;int&gt; | SI.rep1 &lt;int&gt; | SI.rep2 &lt;int&gt; | spleen.rep1 &lt;int&gt; | spleen.rep2 &lt;int&gt; |\n",
       "|---|---|---|---|---|---|---|---|---|---|---|\n",
       "| Xkr4 | 32 |  40 |  31 | 33 | 18 | 17 |  24 |  26 | 0 |  29 |\n",
       "| Rp1 | 90 | 141 | 124 | 89 | 56 | 60 | 142 | 117 | 0 | 100 |\n",
       "| Sox17 |  5 |   9 |   3 |  2 |  1 |  3 |   2 |   2 | 0 |   4 |\n",
       "| Mrpl15 | 39 |  40 |  56 | 36 | 33 | 53 |  28 |  44 | 0 |  39 |\n",
       "| Lypla1 | 38 | 269 |  13 | 14 | 10 |  8 |  10 |  15 | 0 |  10 |\n",
       "\n"
      ],
      "text/plain": [
       "       LI.rep1 LI.rep2 mLN.rep1 mLN.rep2 pLN.rep1 pLN.rep2 SI.rep1 SI.rep2\n",
       "Xkr4   32       40      31      33       18       17        24      26    \n",
       "Rp1    90      141     124      89       56       60       142     117    \n",
       "Sox17   5        9       3       2        1        3         2       2    \n",
       "Mrpl15 39       40      56      36       33       53        28      44    \n",
       "Lypla1 38      269      13      14       10        8        10      15    \n",
       "       spleen.rep1 spleen.rep2\n",
       "Xkr4   0            29        \n",
       "Rp1    0           100        \n",
       "Sox17  0             4        \n",
       "Mrpl15 0            39        \n",
       "Lypla1 0            10        "
      ]
     },
     "metadata": {},
     "output_type": "display_data"
    }
   ],
   "source": [
    "raw_counts <- read.table(\n",
    "    \"../featureCounts/all_feature_fix_feed_to_deseq2.csv\",\n",
    "    header=TRUE,\n",
    "    sep=',',\n",
    "    row.names=1\n",
    ")\n",
    "# raw_counts <- raw_counts[,c(1,2,3,7,8,9)]\n",
    "head(raw_counts, 5)"
   ]
  },
  {
   "cell_type": "code",
   "execution_count": 55,
   "metadata": {
    "tags": []
   },
   "outputs": [
    {
     "data": {
      "text/html": [
       "<style>\n",
       ".list-inline {list-style: none; margin:0; padding: 0}\n",
       ".list-inline>li {display: inline-block}\n",
       ".list-inline>li:not(:last-child)::after {content: \"\\00b7\"; padding: 0 .5ex}\n",
       "</style>\n",
       "<ol class=list-inline><li>26214</li><li>10</li></ol>\n"
      ],
      "text/latex": [
       "\\begin{enumerate*}\n",
       "\\item 26214\n",
       "\\item 10\n",
       "\\end{enumerate*}\n"
      ],
      "text/markdown": [
       "1. 26214\n",
       "2. 10\n",
       "\n",
       "\n"
      ],
      "text/plain": [
       "[1] 26214    10"
      ]
     },
     "metadata": {},
     "output_type": "display_data"
    }
   ],
   "source": [
    "dim(raw_counts)"
   ]
  },
  {
   "cell_type": "code",
   "execution_count": 4,
   "metadata": {
    "tags": []
   },
   "outputs": [
    {
     "data": {
      "text/html": [
       "<table class=\"dataframe\">\n",
       "<caption>A data.frame: 10 × 3</caption>\n",
       "<thead>\n",
       "\t<tr><th scope=col>sample</th><th scope=col>condition</th><th scope=col>type</th></tr>\n",
       "\t<tr><th scope=col>&lt;chr&gt;</th><th scope=col>&lt;chr&gt;</th><th scope=col>&lt;chr&gt;</th></tr>\n",
       "</thead>\n",
       "<tbody>\n",
       "\t<tr><td>LI-rep1    </td><td>LI    </td><td>treat</td></tr>\n",
       "\t<tr><td>LI-rep2    </td><td>LI    </td><td>treat</td></tr>\n",
       "\t<tr><td>mLN-rep1   </td><td>mLN   </td><td>treat</td></tr>\n",
       "\t<tr><td>mLN-rep2   </td><td>mLN   </td><td>treat</td></tr>\n",
       "\t<tr><td>pLN-rep1   </td><td>pLN   </td><td>treat</td></tr>\n",
       "\t<tr><td>pLN-rep2   </td><td>pLN   </td><td>treat</td></tr>\n",
       "\t<tr><td>SI-rep1    </td><td>SI    </td><td>treat</td></tr>\n",
       "\t<tr><td>SI-rep2    </td><td>SI    </td><td>treat</td></tr>\n",
       "\t<tr><td>spleen-rep1</td><td>spleen</td><td>treat</td></tr>\n",
       "\t<tr><td>spleen-rep2</td><td>spleen</td><td>treat</td></tr>\n",
       "</tbody>\n",
       "</table>\n"
      ],
      "text/latex": [
       "A data.frame: 10 × 3\n",
       "\\begin{tabular}{lll}\n",
       " sample & condition & type\\\\\n",
       " <chr> & <chr> & <chr>\\\\\n",
       "\\hline\n",
       "\t LI-rep1     & LI     & treat\\\\\n",
       "\t LI-rep2     & LI     & treat\\\\\n",
       "\t mLN-rep1    & mLN    & treat\\\\\n",
       "\t mLN-rep2    & mLN    & treat\\\\\n",
       "\t pLN-rep1    & pLN    & treat\\\\\n",
       "\t pLN-rep2    & pLN    & treat\\\\\n",
       "\t SI-rep1     & SI     & treat\\\\\n",
       "\t SI-rep2     & SI     & treat\\\\\n",
       "\t spleen-rep1 & spleen & treat\\\\\n",
       "\t spleen-rep2 & spleen & treat\\\\\n",
       "\\end{tabular}\n"
      ],
      "text/markdown": [
       "\n",
       "A data.frame: 10 × 3\n",
       "\n",
       "| sample &lt;chr&gt; | condition &lt;chr&gt; | type &lt;chr&gt; |\n",
       "|---|---|---|\n",
       "| LI-rep1     | LI     | treat |\n",
       "| LI-rep2     | LI     | treat |\n",
       "| mLN-rep1    | mLN    | treat |\n",
       "| mLN-rep2    | mLN    | treat |\n",
       "| pLN-rep1    | pLN    | treat |\n",
       "| pLN-rep2    | pLN    | treat |\n",
       "| SI-rep1     | SI     | treat |\n",
       "| SI-rep2     | SI     | treat |\n",
       "| spleen-rep1 | spleen | treat |\n",
       "| spleen-rep2 | spleen | treat |\n",
       "\n"
      ],
      "text/plain": [
       "   sample      condition type \n",
       "1  LI-rep1     LI        treat\n",
       "2  LI-rep2     LI        treat\n",
       "3  mLN-rep1    mLN       treat\n",
       "4  mLN-rep2    mLN       treat\n",
       "5  pLN-rep1    pLN       treat\n",
       "6  pLN-rep2    pLN       treat\n",
       "7  SI-rep1     SI        treat\n",
       "8  SI-rep2     SI        treat\n",
       "9  spleen-rep1 spleen    treat\n",
       "10 spleen-rep2 spleen    treat"
      ]
     },
     "metadata": {},
     "output_type": "display_data"
    }
   ],
   "source": [
    "# 看一下column_info 中的样本名称、处理条件\n",
    "column_info"
   ]
  },
  {
   "cell_type": "code",
   "execution_count": 56,
   "metadata": {
    "tags": []
   },
   "outputs": [
    {
     "data": {
      "text/html": [
       "<table class=\"dataframe\">\n",
       "<caption>A data.frame: 6 × 10</caption>\n",
       "<thead>\n",
       "\t<tr><th></th><th scope=col>LI.rep1</th><th scope=col>LI.rep2</th><th scope=col>mLN.rep1</th><th scope=col>mLN.rep2</th><th scope=col>pLN.rep1</th><th scope=col>pLN.rep2</th><th scope=col>SI.rep1</th><th scope=col>SI.rep2</th><th scope=col>spleen.rep1</th><th scope=col>spleen.rep2</th></tr>\n",
       "\t<tr><th></th><th scope=col>&lt;int&gt;</th><th scope=col>&lt;int&gt;</th><th scope=col>&lt;int&gt;</th><th scope=col>&lt;int&gt;</th><th scope=col>&lt;int&gt;</th><th scope=col>&lt;int&gt;</th><th scope=col>&lt;int&gt;</th><th scope=col>&lt;int&gt;</th><th scope=col>&lt;int&gt;</th><th scope=col>&lt;int&gt;</th></tr>\n",
       "</thead>\n",
       "<tbody>\n",
       "\t<tr><th scope=row>Xkr4</th><td>32</td><td> 40</td><td> 31</td><td>33</td><td>18</td><td>17</td><td> 24</td><td> 26</td><td>0</td><td> 29</td></tr>\n",
       "\t<tr><th scope=row>Rp1</th><td>90</td><td>141</td><td>124</td><td>89</td><td>56</td><td>60</td><td>142</td><td>117</td><td>0</td><td>100</td></tr>\n",
       "\t<tr><th scope=row>Sox17</th><td> 5</td><td>  9</td><td>  3</td><td> 2</td><td> 1</td><td> 3</td><td>  2</td><td>  2</td><td>0</td><td>  4</td></tr>\n",
       "\t<tr><th scope=row>Mrpl15</th><td>39</td><td> 40</td><td> 56</td><td>36</td><td>33</td><td>53</td><td> 28</td><td> 44</td><td>0</td><td> 39</td></tr>\n",
       "\t<tr><th scope=row>Lypla1</th><td>38</td><td>269</td><td> 13</td><td>14</td><td>10</td><td> 8</td><td> 10</td><td> 15</td><td>0</td><td> 10</td></tr>\n",
       "\t<tr><th scope=row>Tcea1</th><td>23</td><td>457</td><td> 25</td><td>20</td><td>16</td><td>79</td><td> 12</td><td> 17</td><td>0</td><td> 24</td></tr>\n",
       "</tbody>\n",
       "</table>\n"
      ],
      "text/latex": [
       "A data.frame: 6 × 10\n",
       "\\begin{tabular}{r|llllllllll}\n",
       "  & LI.rep1 & LI.rep2 & mLN.rep1 & mLN.rep2 & pLN.rep1 & pLN.rep2 & SI.rep1 & SI.rep2 & spleen.rep1 & spleen.rep2\\\\\n",
       "  & <int> & <int> & <int> & <int> & <int> & <int> & <int> & <int> & <int> & <int>\\\\\n",
       "\\hline\n",
       "\tXkr4 & 32 &  40 &  31 & 33 & 18 & 17 &  24 &  26 & 0 &  29\\\\\n",
       "\tRp1 & 90 & 141 & 124 & 89 & 56 & 60 & 142 & 117 & 0 & 100\\\\\n",
       "\tSox17 &  5 &   9 &   3 &  2 &  1 &  3 &   2 &   2 & 0 &   4\\\\\n",
       "\tMrpl15 & 39 &  40 &  56 & 36 & 33 & 53 &  28 &  44 & 0 &  39\\\\\n",
       "\tLypla1 & 38 & 269 &  13 & 14 & 10 &  8 &  10 &  15 & 0 &  10\\\\\n",
       "\tTcea1 & 23 & 457 &  25 & 20 & 16 & 79 &  12 &  17 & 0 &  24\\\\\n",
       "\\end{tabular}\n"
      ],
      "text/markdown": [
       "\n",
       "A data.frame: 6 × 10\n",
       "\n",
       "| <!--/--> | LI.rep1 &lt;int&gt; | LI.rep2 &lt;int&gt; | mLN.rep1 &lt;int&gt; | mLN.rep2 &lt;int&gt; | pLN.rep1 &lt;int&gt; | pLN.rep2 &lt;int&gt; | SI.rep1 &lt;int&gt; | SI.rep2 &lt;int&gt; | spleen.rep1 &lt;int&gt; | spleen.rep2 &lt;int&gt; |\n",
       "|---|---|---|---|---|---|---|---|---|---|---|\n",
       "| Xkr4 | 32 |  40 |  31 | 33 | 18 | 17 |  24 |  26 | 0 |  29 |\n",
       "| Rp1 | 90 | 141 | 124 | 89 | 56 | 60 | 142 | 117 | 0 | 100 |\n",
       "| Sox17 |  5 |   9 |   3 |  2 |  1 |  3 |   2 |   2 | 0 |   4 |\n",
       "| Mrpl15 | 39 |  40 |  56 | 36 | 33 | 53 |  28 |  44 | 0 |  39 |\n",
       "| Lypla1 | 38 | 269 |  13 | 14 | 10 |  8 |  10 |  15 | 0 |  10 |\n",
       "| Tcea1 | 23 | 457 |  25 | 20 | 16 | 79 |  12 |  17 | 0 |  24 |\n",
       "\n"
      ],
      "text/plain": [
       "       LI.rep1 LI.rep2 mLN.rep1 mLN.rep2 pLN.rep1 pLN.rep2 SI.rep1 SI.rep2\n",
       "Xkr4   32       40      31      33       18       17        24      26    \n",
       "Rp1    90      141     124      89       56       60       142     117    \n",
       "Sox17   5        9       3       2        1        3         2       2    \n",
       "Mrpl15 39       40      56      36       33       53        28      44    \n",
       "Lypla1 38      269      13      14       10        8        10      15    \n",
       "Tcea1  23      457      25      20       16       79        12      17    \n",
       "       spleen.rep1 spleen.rep2\n",
       "Xkr4   0            29        \n",
       "Rp1    0           100        \n",
       "Sox17  0             4        \n",
       "Mrpl15 0            39        \n",
       "Lypla1 0            10        \n",
       "Tcea1  0            24        "
      ]
     },
     "metadata": {},
     "output_type": "display_data"
    }
   ],
   "source": [
    "# 看一下raw_counts\n",
    "# geneid为index，样本信息的counts数为columns\n",
    "head(raw_counts)"
   ]
  },
  {
   "cell_type": "markdown",
   "metadata": {},
   "source": [
    "4. 过滤掉行的和为0，也就是没有bam文件中count到reads的genes"
   ]
  },
  {
   "cell_type": "code",
   "execution_count": 57,
   "metadata": {
    "tags": []
   },
   "outputs": [
    {
     "data": {
      "text/html": [
       "<style>\n",
       ".list-inline {list-style: none; margin:0; padding: 0}\n",
       ".list-inline>li {display: inline-block}\n",
       ".list-inline>li:not(:last-child)::after {content: \"\\00b7\"; padding: 0 .5ex}\n",
       "</style>\n",
       "<ol class=list-inline><li>24974</li><li>10</li></ol>\n"
      ],
      "text/latex": [
       "\\begin{enumerate*}\n",
       "\\item 24974\n",
       "\\item 10\n",
       "\\end{enumerate*}\n"
      ],
      "text/markdown": [
       "1. 24974\n",
       "2. 10\n",
       "\n",
       "\n"
      ],
      "text/plain": [
       "[1] 24974    10"
      ]
     },
     "metadata": {},
     "output_type": "display_data"
    }
   ],
   "source": [
    "### filt genes that don't express in all sample -------------------------------------------->\n",
    "# 在step3是否进行了过滤？（RPKM >= 1）\n",
    "raw_counts <- raw_counts[rowSums(raw_counts)>1,]\n",
    "dim(raw_counts)"
   ]
  },
  {
   "cell_type": "markdown",
   "metadata": {},
   "source": [
    "### 过滤原始表达矩阵 "
   ]
  },
  {
   "cell_type": "markdown",
   "metadata": {},
   "source": [
    "5. rownames函数调用矩阵的row.names\n",
    "6. 调用stringr package中的str_split函数，去除geneid中的gene名的.以及后面的内容\n",
    "7. 使用duplicated函数去掉重复的gn id   "
   ]
  },
  {
   "cell_type": "code",
   "execution_count": 58,
   "metadata": {
    "tags": []
   },
   "outputs": [
    {
     "data": {
      "text/html": [
       "<style>\n",
       ".list-inline {list-style: none; margin:0; padding: 0}\n",
       ".list-inline>li {display: inline-block}\n",
       ".list-inline>li:not(:last-child)::after {content: \"\\00b7\"; padding: 0 .5ex}\n",
       "</style>\n",
       "<ol class=list-inline><li>24968</li><li>10</li></ol>\n"
      ],
      "text/latex": [
       "\\begin{enumerate*}\n",
       "\\item 24968\n",
       "\\item 10\n",
       "\\end{enumerate*}\n"
      ],
      "text/markdown": [
       "1. 24968\n",
       "2. 10\n",
       "\n",
       "\n"
      ],
      "text/plain": [
       "[1] 24968    10"
      ]
     },
     "metadata": {},
     "output_type": "display_data"
    }
   ],
   "source": [
    "### remove version in ensembl id ----------------------------------------------------------->\n",
    "gn <- stringr::str_split(rownames(raw_counts),\"\\\\.\",simplify = T)[,1]\n",
    "# gene_id如果已经是name，name这个也做不做无所谓↑\n",
    "# remove duplicate\n",
    "raw_counts <- raw_counts[!duplicated(gn),]\n",
    "rownames(raw_counts) <- gn[!duplicated(gn)]\n",
    "dim(raw_counts)"
   ]
  },
  {
   "cell_type": "code",
   "execution_count": 60,
   "metadata": {
    "tags": []
   },
   "outputs": [
    {
     "data": {
      "text/html": [
       "<table class=\"dataframe\">\n",
       "<caption>A data.frame: 6 × 10</caption>\n",
       "<thead>\n",
       "\t<tr><th></th><th scope=col>LI.rep1</th><th scope=col>LI.rep2</th><th scope=col>mLN.rep1</th><th scope=col>mLN.rep2</th><th scope=col>pLN.rep1</th><th scope=col>pLN.rep2</th><th scope=col>SI.rep1</th><th scope=col>SI.rep2</th><th scope=col>spleen.rep1</th><th scope=col>spleen.rep2</th></tr>\n",
       "\t<tr><th></th><th scope=col>&lt;int&gt;</th><th scope=col>&lt;int&gt;</th><th scope=col>&lt;int&gt;</th><th scope=col>&lt;int&gt;</th><th scope=col>&lt;int&gt;</th><th scope=col>&lt;int&gt;</th><th scope=col>&lt;int&gt;</th><th scope=col>&lt;int&gt;</th><th scope=col>&lt;int&gt;</th><th scope=col>&lt;int&gt;</th></tr>\n",
       "</thead>\n",
       "<tbody>\n",
       "\t<tr><th scope=row>Xkr4</th><td>32</td><td> 40</td><td> 31</td><td>33</td><td>18</td><td>17</td><td> 24</td><td> 26</td><td>0</td><td> 29</td></tr>\n",
       "\t<tr><th scope=row>Rp1</th><td>90</td><td>141</td><td>124</td><td>89</td><td>56</td><td>60</td><td>142</td><td>117</td><td>0</td><td>100</td></tr>\n",
       "\t<tr><th scope=row>Sox17</th><td> 5</td><td>  9</td><td>  3</td><td> 2</td><td> 1</td><td> 3</td><td>  2</td><td>  2</td><td>0</td><td>  4</td></tr>\n",
       "\t<tr><th scope=row>Mrpl15</th><td>39</td><td> 40</td><td> 56</td><td>36</td><td>33</td><td>53</td><td> 28</td><td> 44</td><td>0</td><td> 39</td></tr>\n",
       "\t<tr><th scope=row>Lypla1</th><td>38</td><td>269</td><td> 13</td><td>14</td><td>10</td><td> 8</td><td> 10</td><td> 15</td><td>0</td><td> 10</td></tr>\n",
       "\t<tr><th scope=row>Tcea1</th><td>23</td><td>457</td><td> 25</td><td>20</td><td>16</td><td>79</td><td> 12</td><td> 17</td><td>0</td><td> 24</td></tr>\n",
       "</tbody>\n",
       "</table>\n"
      ],
      "text/latex": [
       "A data.frame: 6 × 10\n",
       "\\begin{tabular}{r|llllllllll}\n",
       "  & LI.rep1 & LI.rep2 & mLN.rep1 & mLN.rep2 & pLN.rep1 & pLN.rep2 & SI.rep1 & SI.rep2 & spleen.rep1 & spleen.rep2\\\\\n",
       "  & <int> & <int> & <int> & <int> & <int> & <int> & <int> & <int> & <int> & <int>\\\\\n",
       "\\hline\n",
       "\tXkr4 & 32 &  40 &  31 & 33 & 18 & 17 &  24 &  26 & 0 &  29\\\\\n",
       "\tRp1 & 90 & 141 & 124 & 89 & 56 & 60 & 142 & 117 & 0 & 100\\\\\n",
       "\tSox17 &  5 &   9 &   3 &  2 &  1 &  3 &   2 &   2 & 0 &   4\\\\\n",
       "\tMrpl15 & 39 &  40 &  56 & 36 & 33 & 53 &  28 &  44 & 0 &  39\\\\\n",
       "\tLypla1 & 38 & 269 &  13 & 14 & 10 &  8 &  10 &  15 & 0 &  10\\\\\n",
       "\tTcea1 & 23 & 457 &  25 & 20 & 16 & 79 &  12 &  17 & 0 &  24\\\\\n",
       "\\end{tabular}\n"
      ],
      "text/markdown": [
       "\n",
       "A data.frame: 6 × 10\n",
       "\n",
       "| <!--/--> | LI.rep1 &lt;int&gt; | LI.rep2 &lt;int&gt; | mLN.rep1 &lt;int&gt; | mLN.rep2 &lt;int&gt; | pLN.rep1 &lt;int&gt; | pLN.rep2 &lt;int&gt; | SI.rep1 &lt;int&gt; | SI.rep2 &lt;int&gt; | spleen.rep1 &lt;int&gt; | spleen.rep2 &lt;int&gt; |\n",
       "|---|---|---|---|---|---|---|---|---|---|---|\n",
       "| Xkr4 | 32 |  40 |  31 | 33 | 18 | 17 |  24 |  26 | 0 |  29 |\n",
       "| Rp1 | 90 | 141 | 124 | 89 | 56 | 60 | 142 | 117 | 0 | 100 |\n",
       "| Sox17 |  5 |   9 |   3 |  2 |  1 |  3 |   2 |   2 | 0 |   4 |\n",
       "| Mrpl15 | 39 |  40 |  56 | 36 | 33 | 53 |  28 |  44 | 0 |  39 |\n",
       "| Lypla1 | 38 | 269 |  13 | 14 | 10 |  8 |  10 |  15 | 0 |  10 |\n",
       "| Tcea1 | 23 | 457 |  25 | 20 | 16 | 79 |  12 |  17 | 0 |  24 |\n",
       "\n"
      ],
      "text/plain": [
       "       LI.rep1 LI.rep2 mLN.rep1 mLN.rep2 pLN.rep1 pLN.rep2 SI.rep1 SI.rep2\n",
       "Xkr4   32       40      31      33       18       17        24      26    \n",
       "Rp1    90      141     124      89       56       60       142     117    \n",
       "Sox17   5        9       3       2        1        3         2       2    \n",
       "Mrpl15 39       40      56      36       33       53        28      44    \n",
       "Lypla1 38      269      13      14       10        8        10      15    \n",
       "Tcea1  23      457      25      20       16       79        12      17    \n",
       "       spleen.rep1 spleen.rep2\n",
       "Xkr4   0            29        \n",
       "Rp1    0           100        \n",
       "Sox17  0             4        \n",
       "Mrpl15 0            39        \n",
       "Lypla1 0            10        \n",
       "Tcea1  0            24        "
      ]
     },
     "metadata": {},
     "output_type": "display_data"
    }
   ],
   "source": [
    "head(raw_counts)"
   ]
  },
  {
   "cell_type": "markdown",
   "metadata": {},
   "source": [
    "## 构建dds矩阵\n",
    "\n",
    "将count的矩阵输入DESeq2的DESeqDataSetFromMatrix函数中，产生dds(DEseq Data Set)\n",
    "\n",
    "\n",
    "构建dds矩阵需要：\n",
    "\n",
    "- 表达矩阵\n",
    "   - 即上述代码中的countData，就是我们前面通过read count计算后并融合生成的矩阵，行row为各个基因，列col为各个样品，中间为计算reads或者fragment得到的整数。我们后面要用的是这个文件（mouse_all_count.txt）\n",
    "- 样品信息\n",
    "   - 矩阵即上述代码中的colData，它的类型是一个dataframe（数据框），这个东西叫【元数据】\n",
    "   - 第一列是样品名称，\n",
    "   - 第二列是样品的处理情况（对照还是处理等），即condition，condition的类型是一个factor\n",
    "   - 第三列type可以理解为宏观的处理条件，需要时使用，用不着也可以留空\n",
    "   \n",
    "   - 这里我用第三列的type作为自变量(你也可以用第二列的condition)\n",
    "- 差异比较矩阵\n",
    "   - 即上述代码中的design。\n",
    "   - 差异比较矩阵就是告诉差异分析函数是要分析哪些变量间的差异\n",
    "   - 简单说就是说明哪些是对照哪些是处理。"
   ]
  },
  {
   "cell_type": "code",
   "execution_count": 62,
   "metadata": {
    "tags": []
   },
   "outputs": [],
   "source": [
    "library(tidyverse)"
   ]
  },
  {
   "cell_type": "markdown",
   "metadata": {
    "tags": []
   },
   "source": [
    "### 指定比较对象"
   ]
  },
  {
   "cell_type": "code",
   "execution_count": 63,
   "metadata": {
    "tags": []
   },
   "outputs": [],
   "source": [
    "# column_info\n",
    "# raw_counts"
   ]
  },
  {
   "cell_type": "code",
   "execution_count": 64,
   "metadata": {
    "tags": []
   },
   "outputs": [
    {
     "data": {
      "text/html": [
       "<table class=\"dataframe\">\n",
       "<caption>A data.frame: 10 × 3</caption>\n",
       "<thead>\n",
       "\t<tr><th scope=col>sample</th><th scope=col>condition</th><th scope=col>type</th></tr>\n",
       "\t<tr><th scope=col>&lt;chr&gt;</th><th scope=col>&lt;fct&gt;</th><th scope=col>&lt;fct&gt;</th></tr>\n",
       "</thead>\n",
       "<tbody>\n",
       "\t<tr><td>LI-rep1    </td><td>LI    </td><td>treat</td></tr>\n",
       "\t<tr><td>LI-rep2    </td><td>LI    </td><td>treat</td></tr>\n",
       "\t<tr><td>mLN-rep1   </td><td>mLN   </td><td>treat</td></tr>\n",
       "\t<tr><td>mLN-rep2   </td><td>mLN   </td><td>treat</td></tr>\n",
       "\t<tr><td>pLN-rep1   </td><td>pLN   </td><td>treat</td></tr>\n",
       "\t<tr><td>pLN-rep2   </td><td>pLN   </td><td>treat</td></tr>\n",
       "\t<tr><td>SI-rep1    </td><td>SI    </td><td>treat</td></tr>\n",
       "\t<tr><td>SI-rep2    </td><td>SI    </td><td>treat</td></tr>\n",
       "\t<tr><td>spleen-rep1</td><td>spleen</td><td>treat</td></tr>\n",
       "\t<tr><td>spleen-rep2</td><td>spleen</td><td>treat</td></tr>\n",
       "</tbody>\n",
       "</table>\n"
      ],
      "text/latex": [
       "A data.frame: 10 × 3\n",
       "\\begin{tabular}{lll}\n",
       " sample & condition & type\\\\\n",
       " <chr> & <fct> & <fct>\\\\\n",
       "\\hline\n",
       "\t LI-rep1     & LI     & treat\\\\\n",
       "\t LI-rep2     & LI     & treat\\\\\n",
       "\t mLN-rep1    & mLN    & treat\\\\\n",
       "\t mLN-rep2    & mLN    & treat\\\\\n",
       "\t pLN-rep1    & pLN    & treat\\\\\n",
       "\t pLN-rep2    & pLN    & treat\\\\\n",
       "\t SI-rep1     & SI     & treat\\\\\n",
       "\t SI-rep2     & SI     & treat\\\\\n",
       "\t spleen-rep1 & spleen & treat\\\\\n",
       "\t spleen-rep2 & spleen & treat\\\\\n",
       "\\end{tabular}\n"
      ],
      "text/markdown": [
       "\n",
       "A data.frame: 10 × 3\n",
       "\n",
       "| sample &lt;chr&gt; | condition &lt;fct&gt; | type &lt;fct&gt; |\n",
       "|---|---|---|\n",
       "| LI-rep1     | LI     | treat |\n",
       "| LI-rep2     | LI     | treat |\n",
       "| mLN-rep1    | mLN    | treat |\n",
       "| mLN-rep2    | mLN    | treat |\n",
       "| pLN-rep1    | pLN    | treat |\n",
       "| pLN-rep2    | pLN    | treat |\n",
       "| SI-rep1     | SI     | treat |\n",
       "| SI-rep2     | SI     | treat |\n",
       "| spleen-rep1 | spleen | treat |\n",
       "| spleen-rep2 | spleen | treat |\n",
       "\n"
      ],
      "text/plain": [
       "   sample      condition type \n",
       "1  LI-rep1     LI        treat\n",
       "2  LI-rep2     LI        treat\n",
       "3  mLN-rep1    mLN       treat\n",
       "4  mLN-rep2    mLN       treat\n",
       "5  pLN-rep1    pLN       treat\n",
       "6  pLN-rep2    pLN       treat\n",
       "7  SI-rep1     SI        treat\n",
       "8  SI-rep2     SI        treat\n",
       "9  spleen-rep1 spleen    treat\n",
       "10 spleen-rep2 spleen    treat"
      ]
     },
     "metadata": {},
     "output_type": "display_data"
    }
   ],
   "source": [
    "column_info"
   ]
  },
  {
   "cell_type": "code",
   "execution_count": 65,
   "metadata": {
    "tags": []
   },
   "outputs": [],
   "source": [
    "# 指定比较对象\n",
    "vcmp = c('LI', 'mLN')"
   ]
  },
  {
   "cell_type": "code",
   "execution_count": 66,
   "metadata": {
    "tags": []
   },
   "outputs": [],
   "source": [
    "column_info_filter = column_info %>% filter(condition %in% vcmp)\n",
    "raw_counts_select =  raw_counts %>% select(LI.rep1, LI.rep2, mLN.rep1, mLN.rep2)"
   ]
  },
  {
   "cell_type": "code",
   "execution_count": 67,
   "metadata": {
    "tags": []
   },
   "outputs": [
    {
     "data": {
      "text/html": [
       "<table class=\"dataframe\">\n",
       "<caption>A data.frame: 4 × 3</caption>\n",
       "<thead>\n",
       "\t<tr><th scope=col>sample</th><th scope=col>condition</th><th scope=col>type</th></tr>\n",
       "\t<tr><th scope=col>&lt;chr&gt;</th><th scope=col>&lt;fct&gt;</th><th scope=col>&lt;fct&gt;</th></tr>\n",
       "</thead>\n",
       "<tbody>\n",
       "\t<tr><td>LI-rep1 </td><td>LI </td><td>treat</td></tr>\n",
       "\t<tr><td>LI-rep2 </td><td>LI </td><td>treat</td></tr>\n",
       "\t<tr><td>mLN-rep1</td><td>mLN</td><td>treat</td></tr>\n",
       "\t<tr><td>mLN-rep2</td><td>mLN</td><td>treat</td></tr>\n",
       "</tbody>\n",
       "</table>\n"
      ],
      "text/latex": [
       "A data.frame: 4 × 3\n",
       "\\begin{tabular}{lll}\n",
       " sample & condition & type\\\\\n",
       " <chr> & <fct> & <fct>\\\\\n",
       "\\hline\n",
       "\t LI-rep1  & LI  & treat\\\\\n",
       "\t LI-rep2  & LI  & treat\\\\\n",
       "\t mLN-rep1 & mLN & treat\\\\\n",
       "\t mLN-rep2 & mLN & treat\\\\\n",
       "\\end{tabular}\n"
      ],
      "text/markdown": [
       "\n",
       "A data.frame: 4 × 3\n",
       "\n",
       "| sample &lt;chr&gt; | condition &lt;fct&gt; | type &lt;fct&gt; |\n",
       "|---|---|---|\n",
       "| LI-rep1  | LI  | treat |\n",
       "| LI-rep2  | LI  | treat |\n",
       "| mLN-rep1 | mLN | treat |\n",
       "| mLN-rep2 | mLN | treat |\n",
       "\n"
      ],
      "text/plain": [
       "  sample   condition type \n",
       "1 LI-rep1  LI        treat\n",
       "2 LI-rep2  LI        treat\n",
       "3 mLN-rep1 mLN       treat\n",
       "4 mLN-rep2 mLN       treat"
      ]
     },
     "metadata": {},
     "output_type": "display_data"
    }
   ],
   "source": [
    "column_info_filter"
   ]
  },
  {
   "cell_type": "code",
   "execution_count": 68,
   "metadata": {
    "tags": []
   },
   "outputs": [
    {
     "data": {
      "text/html": [
       "<table class=\"dataframe\">\n",
       "<caption>A data.frame: 6 × 4</caption>\n",
       "<thead>\n",
       "\t<tr><th></th><th scope=col>LI.rep1</th><th scope=col>LI.rep2</th><th scope=col>mLN.rep1</th><th scope=col>mLN.rep2</th></tr>\n",
       "\t<tr><th></th><th scope=col>&lt;int&gt;</th><th scope=col>&lt;int&gt;</th><th scope=col>&lt;int&gt;</th><th scope=col>&lt;int&gt;</th></tr>\n",
       "</thead>\n",
       "<tbody>\n",
       "\t<tr><th scope=row>Xkr4</th><td>32</td><td> 40</td><td> 31</td><td>33</td></tr>\n",
       "\t<tr><th scope=row>Rp1</th><td>90</td><td>141</td><td>124</td><td>89</td></tr>\n",
       "\t<tr><th scope=row>Sox17</th><td> 5</td><td>  9</td><td>  3</td><td> 2</td></tr>\n",
       "\t<tr><th scope=row>Mrpl15</th><td>39</td><td> 40</td><td> 56</td><td>36</td></tr>\n",
       "\t<tr><th scope=row>Lypla1</th><td>38</td><td>269</td><td> 13</td><td>14</td></tr>\n",
       "\t<tr><th scope=row>Tcea1</th><td>23</td><td>457</td><td> 25</td><td>20</td></tr>\n",
       "</tbody>\n",
       "</table>\n"
      ],
      "text/latex": [
       "A data.frame: 6 × 4\n",
       "\\begin{tabular}{r|llll}\n",
       "  & LI.rep1 & LI.rep2 & mLN.rep1 & mLN.rep2\\\\\n",
       "  & <int> & <int> & <int> & <int>\\\\\n",
       "\\hline\n",
       "\tXkr4 & 32 &  40 &  31 & 33\\\\\n",
       "\tRp1 & 90 & 141 & 124 & 89\\\\\n",
       "\tSox17 &  5 &   9 &   3 &  2\\\\\n",
       "\tMrpl15 & 39 &  40 &  56 & 36\\\\\n",
       "\tLypla1 & 38 & 269 &  13 & 14\\\\\n",
       "\tTcea1 & 23 & 457 &  25 & 20\\\\\n",
       "\\end{tabular}\n"
      ],
      "text/markdown": [
       "\n",
       "A data.frame: 6 × 4\n",
       "\n",
       "| <!--/--> | LI.rep1 &lt;int&gt; | LI.rep2 &lt;int&gt; | mLN.rep1 &lt;int&gt; | mLN.rep2 &lt;int&gt; |\n",
       "|---|---|---|---|---|\n",
       "| Xkr4 | 32 |  40 |  31 | 33 |\n",
       "| Rp1 | 90 | 141 | 124 | 89 |\n",
       "| Sox17 |  5 |   9 |   3 |  2 |\n",
       "| Mrpl15 | 39 |  40 |  56 | 36 |\n",
       "| Lypla1 | 38 | 269 |  13 | 14 |\n",
       "| Tcea1 | 23 | 457 |  25 | 20 |\n",
       "\n"
      ],
      "text/plain": [
       "       LI.rep1 LI.rep2 mLN.rep1 mLN.rep2\n",
       "Xkr4   32       40      31      33      \n",
       "Rp1    90      141     124      89      \n",
       "Sox17   5        9       3       2      \n",
       "Mrpl15 39       40      56      36      \n",
       "Lypla1 38      269      13      14      \n",
       "Tcea1  23      457      25      20      "
      ]
     },
     "metadata": {},
     "output_type": "display_data"
    }
   ],
   "source": [
    "head(raw_counts_select)"
   ]
  },
  {
   "cell_type": "code",
   "execution_count": 69,
   "metadata": {
    "tags": []
   },
   "outputs": [
    {
     "name": "stderr",
     "output_type": "stream",
     "text": [
      "factor levels were dropped which had no samples\n",
      "\n"
     ]
    },
    {
     "data": {
      "text/plain": [
       "class: DESeqDataSet \n",
       "dim: 24968 4 \n",
       "metadata(1): version\n",
       "assays(1): counts\n",
       "rownames(24968): Xkr4 Rp1 ... Gm7102 Csf2ra\n",
       "rowData names(0):\n",
       "colnames(4): LI.rep1 LI.rep2 mLN.rep1 mLN.rep2\n",
       "colData names(3): sample condition type"
      ]
     },
     "metadata": {},
     "output_type": "display_data"
    }
   ],
   "source": [
    "### DEseq analyses ------------------------------------------------------------------------->\n",
    "# mamba install bioconductor-deseq2\n",
    "library(DESeq2)\n",
    "dds <- DESeqDataSetFromMatrix(\n",
    "    countData=raw_counts_select,\n",
    "    colData=column_info_filter,\n",
    "    design=~ condition\n",
    ") \n",
    "# ~在R里面用于构建公式对象，~左边为因变量(design)，右边为自变量(type/condition) \n",
    "dds"
   ]
  },
  {
   "cell_type": "code",
   "execution_count": 71,
   "metadata": {
    "tags": []
   },
   "outputs": [
    {
     "data": {
      "text/plain": [
       "class: DESeqDataSet \n",
       "dim: 15617 4 \n",
       "metadata(1): version\n",
       "assays(1): counts\n",
       "rownames(15617): Xkr4 Rp1 ... Zfp950 Csf2ra\n",
       "rowData names(0):\n",
       "colnames(4): LI.rep1 LI.rep2 mLN.rep1 mLN.rep2\n",
       "colData names(3): sample condition type"
      ]
     },
     "metadata": {},
     "output_type": "display_data"
    }
   ],
   "source": [
    "# 预过滤\n",
    "# 虽然不必在运行DESeq2函数之前对低计数基因进行预过滤，\n",
    "# 但是有两个原因使预过滤有用：\n",
    "# - 通过删除读取次数很少的行，我们减小了dds数据对象的内存大小，\n",
    "#    并且我们提高了DESeq2中转换和测试功能的速度。\n",
    "# - 请注意，对结果函数中的归一化计数的平均值进行独立滤波后，\n",
    "#    会自动应用更严格的滤波以增加功率。\n",
    "\n",
    "# #过滤低表达基因，至少有3个样品都满足10个以上的reads数\n",
    "keep <- rowSums(counts(dds) >= 10) >= 3\n",
    "\n",
    "dds <- dds[keep,]\n",
    "dds"
   ]
  },
  {
   "cell_type": "markdown",
   "metadata": {},
   "source": [
    "## 数据质量评估"
   ]
  },
  {
   "cell_type": "markdown",
   "metadata": {},
   "source": [
    "### 层次聚类法"
   ]
  },
  {
   "cell_type": "code",
   "execution_count": 73,
   "metadata": {},
   "outputs": [
    {
     "name": "stderr",
     "output_type": "stream",
     "text": [
      "-- note: fitType='parametric', but the dispersion trend was not well captured by the\n",
      "   function: y = a/x + b, and a local regression fit was automatically substituted.\n",
      "   specify fitType='local' or 'mean' to avoid this message next time.\n",
      "\n"
     ]
    },
    {
     "data": {
      "image/png": "[encoded data removed]",
      "text/plain": [
       "plot without title"
      ]
     },
     "metadata": {
      "image/png": {
       "height": 420,
       "width": 420
      }
     },
     "output_type": "display_data"
    }
   ],
   "source": [
    "library('factoextra')          #下载并加载factoextra包\n",
    "vsd <- vst(dds,blind = TRUE)    #参数blind=TRUE是为了不把样本分组信息考虑在内——即以无偏的方式进行转换\n",
    "sampleDists <- dist(t(assay(vsd))) \n",
    "res1 <- hcut(sampleDists, k = 2, stand = FALSE,hc_method =\"average\" ) \n",
    "fviz_dend(res1,\n",
    "          rect_fill = T,\n",
    "          # 字体大小\n",
    "          cex = 1,\n",
    "          # 字体颜色\n",
    "          color_labels_by_k=T,\n",
    "          # 平行放置\n",
    "          horiz=T)"
   ]
  },
  {
   "cell_type": "markdown",
   "metadata": {},
   "source": [
    "### PCA主成分分析的方法"
   ]
  },
  {
   "cell_type": "code",
   "execution_count": 75,
   "metadata": {},
   "outputs": [
    {
     "name": "stderr",
     "output_type": "stream",
     "text": [
      "-- note: fitType='parametric', but the dispersion trend was not well captured by the\n",
      "   function: y = a/x + b, and a local regression fit was automatically substituted.\n",
      "   specify fitType='local' or 'mean' to avoid this message next time.\n",
      "\n"
     ]
    },
    {
     "data": {
      "image/png": "[encoded data removed]",
      "text/plain": [
       "plot without title"
      ]
     },
     "metadata": {
      "image/png": {
       "height": 420,
       "width": 420
      }
     },
     "output_type": "display_data"
    }
   ],
   "source": [
    "rld <- vst(dds, blind=FALSE)\n",
    "#vst()函数效果和rlog（）一样，且速度更快。\n",
    "plotPCA(rld, intgroup=\"condition\",ntop=500)"
   ]
  },
  {
   "cell_type": "markdown",
   "metadata": {},
   "source": [
    "9. 将dds输入DESeq函数#原始dds进行normalize\n",
    "DESeq包含三步:\n",
    "- estimation of size factors（estimateSizeFactors)\n",
    "- estimation of dispersion（estimateDispersons)\n",
    "- Negative Binomial GLM fitting and Wald statistics（nbinomWaldTest）\n",
    "- 【可以分布运行，也可用一步到位，最后返回 results可用的DESeqDataSet对象。】"
   ]
  },
  {
   "cell_type": "markdown",
   "metadata": {},
   "source": [
    "## 利用DESeq（）函数标准化dds矩阵"
   ]
  },
  {
   "cell_type": "code",
   "execution_count": 76,
   "metadata": {
    "tags": []
   },
   "outputs": [
    {
     "name": "stderr",
     "output_type": "stream",
     "text": [
      "estimating size factors\n",
      "\n",
      "estimating dispersions\n",
      "\n",
      "gene-wise dispersion estimates\n",
      "\n",
      "mean-dispersion relationship\n",
      "\n",
      "-- note: fitType='parametric', but the dispersion trend was not well captured by the\n",
      "   function: y = a/x + b, and a local regression fit was automatically substituted.\n",
      "   specify fitType='local' or 'mean' to avoid this message next time.\n",
      "\n",
      "final dispersion estimates\n",
      "\n",
      "fitting model and testing\n",
      "\n"
     ]
    },
    {
     "data": {
      "text/plain": [
       "class: DESeqDataSet \n",
       "dim: 15617 4 \n",
       "metadata(1): version\n",
       "assays(4): counts mu H cooks\n",
       "rownames(15617): Xkr4 Rp1 ... Zfp950 Csf2ra\n",
       "rowData names(22): baseMean baseVar ... deviance maxCooks\n",
       "colnames(4): LI.rep1 LI.rep2 mLN.rep1 mLN.rep2\n",
       "colData names(4): sample condition type sizeFactor"
      ]
     },
     "metadata": {},
     "output_type": "display_data"
    }
   ],
   "source": [
    "dds <- DESeq(dds)\n",
    "dds"
   ]
  },
  {
   "cell_type": "code",
   "execution_count": 82,
   "metadata": {},
   "outputs": [
    {
     "data": {
      "text/html": [
       "<style>\n",
       ".list-inline {list-style: none; margin:0; padding: 0}\n",
       ".list-inline>li {display: inline-block}\n",
       ".list-inline>li:not(:last-child)::after {content: \"\\00b7\"; padding: 0 .5ex}\n",
       "</style>\n",
       "<ol class=list-inline><li>'Intercept'</li><li>'condition_mLN_vs_LI'</li></ol>\n"
      ],
      "text/latex": [
       "\\begin{enumerate*}\n",
       "\\item 'Intercept'\n",
       "\\item 'condition\\_mLN\\_vs\\_LI'\n",
       "\\end{enumerate*}\n"
      ],
      "text/markdown": [
       "1. 'Intercept'\n",
       "2. 'condition_mLN_vs_LI'\n",
       "\n",
       "\n"
      ],
      "text/plain": [
       "[1] \"Intercept\"           \"condition_mLN_vs_LI\""
      ]
     },
     "metadata": {},
     "output_type": "display_data"
    }
   ],
   "source": [
    "resultsNames(dds)"
   ]
  },
  {
   "cell_type": "code",
   "execution_count": 83,
   "metadata": {},
   "outputs": [
    {
     "data": {
      "text/html": [
       "<style>\n",
       ".list-inline {list-style: none; margin:0; padding: 0}\n",
       ".list-inline>li {display: inline-block}\n",
       ".list-inline>li:not(:last-child)::after {content: \"\\00b7\"; padding: 0 .5ex}\n",
       "</style>\n",
       "<ol class=list-inline><li>LI</li><li>LI</li><li>mLN</li><li>mLN</li></ol>\n",
       "\n",
       "<details>\n",
       "\t<summary style=display:list-item;cursor:pointer>\n",
       "\t\t<strong>Levels</strong>:\n",
       "\t</summary>\n",
       "\t<style>\n",
       "\t.list-inline {list-style: none; margin:0; padding: 0}\n",
       "\t.list-inline>li {display: inline-block}\n",
       "\t.list-inline>li:not(:last-child)::after {content: \"\\00b7\"; padding: 0 .5ex}\n",
       "\t</style>\n",
       "\t<ol class=list-inline><li>'LI'</li><li>'mLN'</li></ol>\n",
       "</details>"
      ],
      "text/latex": [
       "\\begin{enumerate*}\n",
       "\\item LI\n",
       "\\item LI\n",
       "\\item mLN\n",
       "\\item mLN\n",
       "\\end{enumerate*}\n",
       "\n",
       "\\emph{Levels}: \\begin{enumerate*}\n",
       "\\item 'LI'\n",
       "\\item 'mLN'\n",
       "\\end{enumerate*}\n"
      ],
      "text/markdown": [
       "1. LI\n",
       "2. LI\n",
       "3. mLN\n",
       "4. mLN\n",
       "\n",
       "\n",
       "\n",
       "**Levels**: 1. 'LI'\n",
       "2. 'mLN'\n",
       "\n",
       "\n"
      ],
      "text/plain": [
       "[1] LI  LI  mLN mLN\n",
       "Levels: LI mLN"
      ]
     },
     "metadata": {},
     "output_type": "display_data"
    }
   ],
   "source": [
    "dds$condition        #默认后者的处理组比前面的对照组。"
   ]
  },
  {
   "cell_type": "markdown",
   "metadata": {},
   "source": [
    "### Dispersion Plot\n",
    "观察数据的离散情况\n",
    "\n",
    "- A simple helper function that plots the per-gene dispersion estimates together with the fitted mean-dispersion relationship.\n",
    "\n",
    "Arguments\n",
    "- object\n",
    "   - a DESeqDataSet, with dispersions estimated\n",
    "- ymin\n",
    "   - the lower bound for points on the plot, points beyond this are drawn as triangles at ymin\n",
    "- genecol\n",
    "   - the color for gene-wise dispersion estimates\n",
    "- fitcol\n",
    "   - the color of the fitted estimates\n",
    "- finalcol\n",
    "   - the color of the final estimates used for testing\n",
    "- legend\n",
    "   - logical, whether to draw a legend\n",
    "- [文档](https://www.rdocumentation.org/packages/DESeq2/versions/1.12.3/topics/plotDispEsts)"
   ]
  },
  {
   "cell_type": "code",
   "execution_count": 77,
   "metadata": {
    "tags": []
   },
   "outputs": [
    {
     "data": {
      "text/html": [
       "<strong>pdf:</strong> 2"
      ],
      "text/latex": [
       "\\textbf{pdf:} 2"
      ],
      "text/markdown": [
       "**pdf:** 2"
      ],
      "text/plain": [
       "pdf \n",
       "  2 "
      ]
     },
     "metadata": {},
     "output_type": "display_data"
    }
   ],
   "source": [
    "pdf(\"../plots/000_Dispersion_plot.pdf\",width=8,height=8)\n",
    "plotDispEsts(dds, main=\"Dispersion plot\")\n",
    "dev.off()"
   ]
  },
  {
   "cell_type": "code",
   "execution_count": 78,
   "metadata": {},
   "outputs": [
    {
     "data": {
      "image/png": "[encoded data removed]",
      "text/plain": [
       "Plot with title “Dispersion plot”"
      ]
     },
     "metadata": {
      "image/png": {
       "height": 420,
       "width": 420
      }
     },
     "output_type": "display_data"
    }
   ],
   "source": [
    "plotDispEsts(dds, main=\"Dispersion plot\")"
   ]
  },
  {
   "cell_type": "markdown",
   "metadata": {},
   "source": [
    "11. 将结果用results()函数来获取，赋值给res变量"
   ]
  },
  {
   "cell_type": "code",
   "execution_count": 79,
   "metadata": {},
   "outputs": [
    {
     "data": {
      "text/html": [
       "<style>\n",
       ".list-inline {list-style: none; margin:0; padding: 0}\n",
       ".list-inline>li {display: inline-block}\n",
       ".list-inline>li:not(:last-child)::after {content: \"\\00b7\"; padding: 0 .5ex}\n",
       "</style>\n",
       "<ol class=list-inline><li>'LI'</li><li>'mLN'</li></ol>\n"
      ],
      "text/latex": [
       "\\begin{enumerate*}\n",
       "\\item 'LI'\n",
       "\\item 'mLN'\n",
       "\\end{enumerate*}\n"
      ],
      "text/markdown": [
       "1. 'LI'\n",
       "2. 'mLN'\n",
       "\n",
       "\n"
      ],
      "text/plain": [
       "[1] \"LI\"  \"mLN\""
      ]
     },
     "metadata": {},
     "output_type": "display_data"
    }
   ],
   "source": [
    "vcmp"
   ]
  },
  {
   "cell_type": "code",
   "execution_count": 85,
   "metadata": {},
   "outputs": [
    {
     "name": "stdout",
     "output_type": "stream",
     "text": [
      "\n",
      "out of 15617 with nonzero total read count\n",
      "adjusted p-value < 0.1\n",
      "LFC > 0 (up)       : 1534, 9.8%\n",
      "LFC < 0 (down)     : 9, 0.058%\n",
      "outliers [1]       : 0, 0%\n",
      "low counts [2]     : 4542, 29%\n",
      "(mean count < 20)\n",
      "[1] see 'cooksCutoff' argument of ?results\n",
      "[2] see 'independentFiltering' argument of ?results\n",
      "\n"
     ]
    }
   ],
   "source": [
    "# 必要步骤！！！\n",
    "res <- results(dds,contrast=c(\"condition\", vcmp))\n",
    "# summary一下，看一下结果的概要信息\n",
    "#看一下结果的概要信息，p值默认小于0.1。\n",
    "summary(res)"
   ]
  },
  {
   "cell_type": "markdown",
   "metadata": {},
   "source": [
    "## 提取差异分析结果"
   ]
  },
  {
   "cell_type": "code",
   "execution_count": 88,
   "metadata": {},
   "outputs": [
    {
     "data": {
      "text/plain": [
       "\n",
       "FALSE  TRUE \n",
       "10011  1064 "
      ]
     },
     "metadata": {},
     "output_type": "display_data"
    }
   ],
   "source": [
    "table(res$padj < 0.05)\n",
    "#padj 即矫正后的P值。看看有多少差异基因满足所设的P值要求。\n",
    "# TRUE的数值为满足要求的基因个数。\n"
   ]
  },
  {
   "cell_type": "code",
   "execution_count": 89,
   "metadata": {},
   "outputs": [],
   "source": [
    "res <- res[order(res$padj),]\n",
    "#按照padj 进行升序排列"
   ]
  },
  {
   "cell_type": "code",
   "execution_count": 91,
   "metadata": {},
   "outputs": [
    {
     "data": {
      "text/html": [
       "<table class=\"dataframe\">\n",
       "<caption>A data.frame: 15617 × 11</caption>\n",
       "<thead>\n",
       "\t<tr><th scope=col>Row.names</th><th scope=col>baseMean</th><th scope=col>log2FoldChange</th><th scope=col>lfcSE</th><th scope=col>stat</th><th scope=col>pvalue</th><th scope=col>padj</th><th scope=col>LI.rep1</th><th scope=col>LI.rep2</th><th scope=col>mLN.rep1</th><th scope=col>mLN.rep2</th></tr>\n",
       "\t<tr><th scope=col>&lt;I&lt;chr&gt;&gt;</th><th scope=col>&lt;dbl&gt;</th><th scope=col>&lt;dbl&gt;</th><th scope=col>&lt;dbl&gt;</th><th scope=col>&lt;dbl&gt;</th><th scope=col>&lt;dbl&gt;</th><th scope=col>&lt;dbl&gt;</th><th scope=col>&lt;dbl&gt;</th><th scope=col>&lt;dbl&gt;</th><th scope=col>&lt;dbl&gt;</th><th scope=col>&lt;dbl&gt;</th></tr>\n",
       "</thead>\n",
       "<tbody>\n",
       "\t<tr><td>Bhlhe40 </td><td> 826.91827</td><td>6.585865</td><td>0.9999113</td><td>6.586449</td><td>4.504706e-11</td><td>4.988962e-07</td><td> 954.65143</td><td> 2319.1502</td><td> 23.054284</td><td> 10.817219</td></tr>\n",
       "\t<tr><td>Pclaf   </td><td>  73.88743</td><td>3.510375</td><td>0.5887973</td><td>5.961942</td><td>2.492575e-09</td><td>1.380264e-05</td><td> 142.22567</td><td>  129.3233</td><td> 10.479220</td><td> 13.521524</td></tr>\n",
       "\t<tr><td>Tmem151a</td><td>4622.96214</td><td>4.848402</td><td>0.8226995</td><td>5.893284</td><td>3.785946e-09</td><td>1.397645e-05</td><td>3607.82524</td><td>14263.8572</td><td>383.539452</td><td>236.626675</td></tr>\n",
       "\t<tr><td>Junb    </td><td>  69.27043</td><td>3.816374</td><td>0.6572823</td><td>5.806293</td><td>6.387098e-09</td><td>1.768428e-05</td><td> 102.32063</td><td>  156.7774</td><td> 12.575064</td><td>  5.408610</td></tr>\n",
       "\t<tr><td>Fosl2   </td><td> 301.73778</td><td>6.120207</td><td>1.0673093</td><td>5.734239</td><td>9.795094e-09</td><td>2.169613e-05</td><td> 285.47454</td><td>  904.5408</td><td> 11.527142</td><td>  5.408610</td></tr>\n",
       "\t<tr><td>Spcs1   </td><td>  81.73403</td><td>4.059738</td><td>0.7155893</td><td>5.673279</td><td>1.400896e-08</td><td>2.585821e-05</td><td> 101.29742</td><td>  207.3508</td><td> 11.527142</td><td>  6.760762</td></tr>\n",
       "\t<tr><td>Fam107b </td><td> 485.40316</td><td>4.890570</td><td>0.8718043</td><td>5.609711</td><td>2.026649e-08</td><td>3.206448e-05</td><td> 771.49751</td><td> 1106.8343</td><td> 33.533504</td><td> 29.747353</td></tr>\n",
       "\t<tr><td>Klf4    </td><td>  97.99973</td><td>4.669728</td><td>0.8402380</td><td>5.557625</td><td>2.734699e-08</td><td>3.365199e-05</td><td> 104.36704</td><td>  273.0962</td><td> 10.479220</td><td>  4.056457</td></tr>\n",
       "\t<tr><td>Dusp1   </td><td> 137.26364</td><td>3.965963</td><td>0.7135635</td><td>5.557967</td><td>2.729349e-08</td><td>3.365199e-05</td><td> 295.70661</td><td>  220.3554</td><td> 16.766752</td><td> 16.225829</td></tr>\n",
       "\t<tr><td>Hnrnpu  </td><td>  87.27065</td><td>3.770516</td><td>0.6877565</td><td>5.482342</td><td>4.197322e-08</td><td>3.575795e-05</td><td> 110.50628</td><td>  214.5756</td><td> 10.479220</td><td> 13.521524</td></tr>\n",
       "\t<tr><td>Vim     </td><td>1098.22190</td><td>5.207350</td><td>0.9446370</td><td>5.512541</td><td>3.536897e-08</td><td>3.575795e-05</td><td>1062.08809</td><td> 3215.0212</td><td> 57.635710</td><td> 58.142554</td></tr>\n",
       "\t<tr><td>Hmgb2   </td><td> 464.59070</td><td>5.471577</td><td>0.9970526</td><td>5.487752</td><td>4.070813e-08</td><td>3.575795e-05</td><td> 527.97443</td><td> 1289.6209</td><td> 27.245972</td><td> 13.521524</td></tr>\n",
       "\t<tr><td>Ifrd1   </td><td> 468.71812</td><td>5.166299</td><td>0.9413559</td><td>5.488147</td><td>4.061722e-08</td><td>3.575795e-05</td><td> 587.32039</td><td> 1236.8801</td><td> 30.389738</td><td> 20.282286</td></tr>\n",
       "\t<tr><td>Cxcr4   </td><td> 121.10632</td><td>4.676020</td><td>0.8672189</td><td>5.391971</td><td>6.968896e-08</td><td>5.512894e-05</td><td> 126.87758</td><td>  339.5640</td><td> 12.575064</td><td>  5.408610</td></tr>\n",
       "\t<tr><td>Rgs2    </td><td>1389.50943</td><td>5.893269</td><td>1.1065951</td><td>5.325588</td><td>1.006271e-07</td><td>6.725660e-05</td><td> 655.87521</td><td> 4810.2498</td><td> 51.348178</td><td> 40.564573</td></tr>\n",
       "\t<tr><td>H3f3b   </td><td> 802.73480</td><td>5.320885</td><td>0.9999915</td><td>5.320930</td><td>1.032381e-07</td><td>6.725660e-05</td><td> 732.61568</td><td> 2400.0675</td><td> 47.156490</td><td> 31.099506</td></tr>\n",
       "\t<tr><td>Snrpd1  </td><td> 105.54633</td><td>3.840058</td><td>0.7189275</td><td>5.341370</td><td>9.224660e-08</td><td>6.725660e-05</td><td> 135.06323</td><td>  259.3691</td><td> 11.527142</td><td> 16.225829</td></tr>\n",
       "\t<tr><td>Sh3bgrl </td><td>  84.50700</td><td>3.174770</td><td>0.5992750</td><td>5.297684</td><td>1.172804e-07</td><td>7.216002e-05</td><td> 163.71300</td><td>  140.8830</td><td> 19.910518</td><td> 13.521524</td></tr>\n",
       "\t<tr><td>Sfr1    </td><td> 109.11349</td><td>3.602127</td><td>0.6821885</td><td>5.280252</td><td>1.290062e-07</td><td>7.519701e-05</td><td> 152.45773</td><td>  250.6994</td><td> 15.718830</td><td> 17.577982</td></tr>\n",
       "\t<tr><td>Uqcrfs1 </td><td>  99.70577</td><td>3.482335</td><td>0.6675798</td><td>5.216358</td><td>1.824753e-07</td><td>1.010457e-04</td><td> 137.10964</td><td>  229.0251</td><td> 17.814674</td><td> 14.873677</td></tr>\n",
       "\t<tr><td>Chst11  </td><td>  70.50692</td><td>2.936503</td><td>0.5664803</td><td>5.183769</td><td>2.174458e-07</td><td>1.146768e-04</td><td> 109.48307</td><td>  140.1605</td><td> 18.862596</td><td> 13.521524</td></tr>\n",
       "\t<tr><td>Dusp10  </td><td> 467.71766</td><td>4.920488</td><td>0.9542940</td><td>5.156155</td><td>2.520723e-07</td><td>1.178068e-04</td><td> 550.48496</td><td> 1260.7218</td><td> 36.677270</td><td> 22.986591</td></tr>\n",
       "\t<tr><td>N4bp1   </td><td> 143.72911</td><td>3.671629</td><td>0.7132132</td><td>5.148011</td><td>2.632632e-07</td><td>1.178068e-04</td><td> 243.52309</td><td>  289.7132</td><td> 24.102206</td><td> 17.577982</td></tr>\n",
       "\t<tr><td>Elovl5  </td><td> 123.50808</td><td>3.624081</td><td>0.7022363</td><td>5.160771</td><td>2.459342e-07</td><td>1.178068e-04</td><td> 186.22354</td><td>  270.9288</td><td> 22.006362</td><td> 14.873677</td></tr>\n",
       "\t<tr><td>Stx11   </td><td> 270.18572</td><td>5.480577</td><td>1.0649922</td><td>5.146120</td><td>2.659295e-07</td><td>1.178068e-04</td><td> 194.40919</td><td>  862.6372</td><td> 11.527142</td><td> 12.169372</td></tr>\n",
       "\t<tr><td>Ndufc1  </td><td> 100.15535</td><td>4.357054</td><td>0.8513984</td><td>5.117527</td><td>3.095682e-07</td><td>1.318641e-04</td><td> 108.45986</td><td>  273.0962</td><td>  4.191688</td><td> 14.873677</td></tr>\n",
       "\t<tr><td>P2ry10  </td><td> 431.61198</td><td>4.570583</td><td>0.8988278</td><td>5.085049</td><td>3.675313e-07</td><td>1.403590e-04</td><td> 572.99550</td><td> 1083.7150</td><td> 34.581426</td><td> 35.155963</td></tr>\n",
       "\t<tr><td>Pak1ip1 </td><td>  56.59686</td><td>2.911865</td><td>0.5725163</td><td>5.086083</td><td>3.655348e-07</td><td>1.403590e-04</td><td>  85.94933</td><td>  113.4288</td><td>  9.431298</td><td> 17.577982</td></tr>\n",
       "\t<tr><td>Mapk8ip2</td><td>  68.63612</td><td>3.257488</td><td>0.6401647</td><td>5.088515</td><td>3.608792e-07</td><td>1.403590e-04</td><td>  80.83329</td><td>  167.6146</td><td> 12.575064</td><td> 13.521524</td></tr>\n",
       "\t<tr><td>Cd164   </td><td> 249.82002</td><td>4.767679</td><td>0.9412378</td><td>5.065329</td><td>4.076950e-07</td><td>1.505074e-04</td><td> 260.91759</td><td>  702.9698</td><td> 17.814674</td><td> 17.577982</td></tr>\n",
       "\t<tr><td>⋮</td><td>⋮</td><td>⋮</td><td>⋮</td><td>⋮</td><td>⋮</td><td>⋮</td><td>⋮</td><td>⋮</td><td>⋮</td><td>⋮</td></tr>\n",
       "\t<tr><td>Mfsd13a      </td><td>12.12064</td><td> 0.83774081</td><td>0.6592746</td><td> 1.27070090</td><td>0.20383508</td><td>NA</td><td>15.348094</td><td>15.894487</td><td>10.479220</td><td> 6.760762</td></tr>\n",
       "\t<tr><td>Trim8        </td><td>18.12218</td><td> 1.16150572</td><td>0.5706881</td><td> 2.03527230</td><td>0.04182348</td><td>NA</td><td>25.580156</td><td>24.564207</td><td>11.527142</td><td>10.817219</td></tr>\n",
       "\t<tr><td>Sfxn2        </td><td>19.47146</td><td>-0.15183317</td><td>0.5420514</td><td>-0.28010846</td><td>0.77939429</td><td>NA</td><td>19.440919</td><td>17.339440</td><td>16.766752</td><td>24.338744</td></tr>\n",
       "\t<tr><td>Wbp1l        </td><td>15.55974</td><td> 0.92087696</td><td>0.6347242</td><td> 1.45083016</td><td>0.14682716</td><td>NA</td><td>14.324888</td><td>26.009161</td><td> 8.383376</td><td>13.521524</td></tr>\n",
       "\t<tr><td>Borcs7       </td><td>14.82997</td><td> 0.40805790</td><td>0.6014253</td><td> 0.67848480</td><td>0.49746436</td><td>NA</td><td>14.324888</td><td>19.506870</td><td>14.670908</td><td>10.817219</td></tr>\n",
       "\t<tr><td>As3mt        </td><td>17.16575</td><td>-0.47452025</td><td>0.5541674</td><td>-0.85627603</td><td>0.39184512</td><td>NA</td><td>14.324888</td><td>14.449534</td><td>20.958440</td><td>18.930134</td></tr>\n",
       "\t<tr><td>Ina          </td><td>18.03818</td><td> 0.54323349</td><td>0.5865281</td><td> 0.92618492</td><td>0.35434989</td><td>NA</td><td>21.487331</td><td>20.951824</td><td> 9.431298</td><td>20.282286</td></tr>\n",
       "\t<tr><td>Pcgf6        </td><td>15.60092</td><td>-0.32612048</td><td>0.5830565</td><td>-0.55932910</td><td>0.57593714</td><td>NA</td><td>12.278475</td><td>15.172010</td><td>14.670908</td><td>20.282286</td></tr>\n",
       "\t<tr><td>Gsto2        </td><td>17.47413</td><td>-0.27424850</td><td>0.5582615</td><td>-0.49125451</td><td>0.62324645</td><td>NA</td><td>14.324888</td><td>17.339440</td><td>22.006362</td><td>16.225829</td></tr>\n",
       "\t<tr><td>Gm26629      </td><td>19.89238</td><td>-0.67808872</td><td>0.5326637</td><td>-1.27301472</td><td>0.20301282</td><td>NA</td><td>15.348094</td><td>15.172010</td><td>22.006362</td><td>27.043049</td></tr>\n",
       "\t<tr><td>AA387883     </td><td>15.50697</td><td>-0.53402804</td><td>0.5754669</td><td>-0.92799091</td><td>0.35341229</td><td>NA</td><td>12.278475</td><td>13.004580</td><td>17.814674</td><td>18.930134</td></tr>\n",
       "\t<tr><td>1700054A03Rik</td><td>10.32768</td><td> 0.11383372</td><td>0.6911338</td><td> 0.16470578</td><td>0.86917557</td><td>NA</td><td>12.278475</td><td> 9.392197</td><td>11.527142</td><td> 8.112915</td></tr>\n",
       "\t<tr><td>Mxi1         </td><td>16.68644</td><td>-0.11351326</td><td>0.5705955</td><td>-0.19893823</td><td>0.84231106</td><td>NA</td><td>16.371300</td><td>15.894487</td><td>20.958440</td><td>13.521524</td></tr>\n",
       "\t<tr><td>Bbip1        </td><td>17.43147</td><td>-0.15269263</td><td>0.6158821</td><td>-0.24792509</td><td>0.80419236</td><td>NA</td><td>12.278475</td><td>20.229347</td><td>11.527142</td><td>25.690896</td></tr>\n",
       "\t<tr><td>4930552P12Rik</td><td>15.16945</td><td> 0.53932437</td><td>0.6120188</td><td> 0.88122193</td><td>0.37819771</td><td>NA</td><td>22.510538</td><td>13.727057</td><td>13.622986</td><td>10.817219</td></tr>\n",
       "\t<tr><td>B230217O12Rik</td><td>12.69542</td><td>-0.08194978</td><td>0.6408480</td><td>-0.12787709</td><td>0.89824624</td><td>NA</td><td> 9.208856</td><td>15.172010</td><td>11.527142</td><td>14.873677</td></tr>\n",
       "\t<tr><td>6720468P15Rik</td><td>12.57615</td><td>-0.21989379</td><td>0.6764600</td><td>-0.32506548</td><td>0.74513152</td><td>NA</td><td>15.348094</td><td> 7.947244</td><td> 9.431298</td><td>17.577982</td></tr>\n",
       "\t<tr><td>Gfra1        </td><td>17.39189</td><td>-0.18299788</td><td>0.5614156</td><td>-0.32595798</td><td>0.74445615</td><td>NA</td><td>15.348094</td><td>17.339440</td><td>22.006362</td><td>14.873677</td></tr>\n",
       "\t<tr><td>Ccdc172      </td><td>14.51808</td><td>-0.60995704</td><td>0.6061294</td><td>-1.00631480</td><td>0.31426416</td><td>NA</td><td>11.255269</td><td>11.559627</td><td>13.622986</td><td>21.634439</td></tr>\n",
       "\t<tr><td>Pnlip        </td><td>17.06113</td><td>-0.56314833</td><td>0.6689920</td><td>-0.84178630</td><td>0.39990758</td><td>NA</td><td> 8.185650</td><td>18.784394</td><td>11.527142</td><td>29.747353</td></tr>\n",
       "\t<tr><td>1810018F18Rik</td><td>13.59704</td><td>-0.18348284</td><td>0.6150933</td><td>-0.29830084</td><td>0.76547356</td><td>NA</td><td>12.278475</td><td>13.004580</td><td>11.527142</td><td>17.577982</td></tr>\n",
       "\t<tr><td>Pnliprp1     </td><td>14.86936</td><td>-0.01822065</td><td>0.6009173</td><td>-0.03032139</td><td>0.97581074</td><td>NA</td><td>15.348094</td><td>14.449534</td><td>18.862596</td><td>10.817219</td></tr>\n",
       "\t<tr><td>Pnliprp2     </td><td>18.88437</td><td>-0.05070425</td><td>0.6069715</td><td>-0.08353646</td><td>0.93342499</td><td>NA</td><td>26.603363</td><td>10.837150</td><td>17.814674</td><td>20.282286</td></tr>\n",
       "\t<tr><td>1700019N19Rik</td><td>16.99661</td><td>-0.67605186</td><td>0.5648556</td><td>-1.19685792</td><td>0.23136194</td><td>NA</td><td>13.301681</td><td>13.004580</td><td>24.102206</td><td>17.577982</td></tr>\n",
       "\t<tr><td>Eno4         </td><td>16.38977</td><td>-0.02644171</td><td>0.5641973</td><td>-0.04686606</td><td>0.96261998</td><td>NA</td><td>17.394506</td><td>15.172010</td><td>16.766752</td><td>16.225829</td></tr>\n",
       "\t<tr><td>E330013P04Rik</td><td>19.24038</td><td>-0.50208615</td><td>0.5374123</td><td>-0.93426625</td><td>0.35016657</td><td>NA</td><td>14.324888</td><td>17.339440</td><td>20.958440</td><td>24.338744</td></tr>\n",
       "\t<tr><td>Nanos1       </td><td>16.66168</td><td> 1.00595238</td><td>0.5849764</td><td> 1.71964615</td><td>0.08549678</td><td>NA</td><td>21.487331</td><td>23.119254</td><td>12.575064</td><td> 9.465067</td></tr>\n",
       "\t<tr><td>Sfxn4        </td><td>18.10206</td><td>-0.57060842</td><td>0.5528963</td><td>-1.03203518</td><td>0.30205564</td><td>NA</td><td>16.371300</td><td>13.004580</td><td>24.102206</td><td>18.930134</td></tr>\n",
       "\t<tr><td>Prdx3        </td><td>17.53607</td><td>-0.82768690</td><td>0.5797634</td><td>-1.42762864</td><td>0.15339878</td><td>NA</td><td>11.255269</td><td>13.727057</td><td>16.766752</td><td>28.395201</td></tr>\n",
       "\t<tr><td>Csf2ra       </td><td>15.08716</td><td> 0.62861430</td><td>0.6701948</td><td> 0.93795760</td><td>0.34826620</td><td>NA</td><td>17.394506</td><td>18.784394</td><td> 5.239610</td><td>18.930134</td></tr>\n",
       "</tbody>\n",
       "</table>\n"
      ],
      "text/latex": [
       "A data.frame: 15617 × 11\n",
       "\\begin{tabular}{lllllllllll}\n",
       " Row.names & baseMean & log2FoldChange & lfcSE & stat & pvalue & padj & LI.rep1 & LI.rep2 & mLN.rep1 & mLN.rep2\\\\\n",
       " <I<chr>> & <dbl> & <dbl> & <dbl> & <dbl> & <dbl> & <dbl> & <dbl> & <dbl> & <dbl> & <dbl>\\\\\n",
       "\\hline\n",
       "\t Bhlhe40  &  826.91827 & 6.585865 & 0.9999113 & 6.586449 & 4.504706e-11 & 4.988962e-07 &  954.65143 &  2319.1502 &  23.054284 &  10.817219\\\\\n",
       "\t Pclaf    &   73.88743 & 3.510375 & 0.5887973 & 5.961942 & 2.492575e-09 & 1.380264e-05 &  142.22567 &   129.3233 &  10.479220 &  13.521524\\\\\n",
       "\t Tmem151a & 4622.96214 & 4.848402 & 0.8226995 & 5.893284 & 3.785946e-09 & 1.397645e-05 & 3607.82524 & 14263.8572 & 383.539452 & 236.626675\\\\\n",
       "\t Junb     &   69.27043 & 3.816374 & 0.6572823 & 5.806293 & 6.387098e-09 & 1.768428e-05 &  102.32063 &   156.7774 &  12.575064 &   5.408610\\\\\n",
       "\t Fosl2    &  301.73778 & 6.120207 & 1.0673093 & 5.734239 & 9.795094e-09 & 2.169613e-05 &  285.47454 &   904.5408 &  11.527142 &   5.408610\\\\\n",
       "\t Spcs1    &   81.73403 & 4.059738 & 0.7155893 & 5.673279 & 1.400896e-08 & 2.585821e-05 &  101.29742 &   207.3508 &  11.527142 &   6.760762\\\\\n",
       "\t Fam107b  &  485.40316 & 4.890570 & 0.8718043 & 5.609711 & 2.026649e-08 & 3.206448e-05 &  771.49751 &  1106.8343 &  33.533504 &  29.747353\\\\\n",
       "\t Klf4     &   97.99973 & 4.669728 & 0.8402380 & 5.557625 & 2.734699e-08 & 3.365199e-05 &  104.36704 &   273.0962 &  10.479220 &   4.056457\\\\\n",
       "\t Dusp1    &  137.26364 & 3.965963 & 0.7135635 & 5.557967 & 2.729349e-08 & 3.365199e-05 &  295.70661 &   220.3554 &  16.766752 &  16.225829\\\\\n",
       "\t Hnrnpu   &   87.27065 & 3.770516 & 0.6877565 & 5.482342 & 4.197322e-08 & 3.575795e-05 &  110.50628 &   214.5756 &  10.479220 &  13.521524\\\\\n",
       "\t Vim      & 1098.22190 & 5.207350 & 0.9446370 & 5.512541 & 3.536897e-08 & 3.575795e-05 & 1062.08809 &  3215.0212 &  57.635710 &  58.142554\\\\\n",
       "\t Hmgb2    &  464.59070 & 5.471577 & 0.9970526 & 5.487752 & 4.070813e-08 & 3.575795e-05 &  527.97443 &  1289.6209 &  27.245972 &  13.521524\\\\\n",
       "\t Ifrd1    &  468.71812 & 5.166299 & 0.9413559 & 5.488147 & 4.061722e-08 & 3.575795e-05 &  587.32039 &  1236.8801 &  30.389738 &  20.282286\\\\\n",
       "\t Cxcr4    &  121.10632 & 4.676020 & 0.8672189 & 5.391971 & 6.968896e-08 & 5.512894e-05 &  126.87758 &   339.5640 &  12.575064 &   5.408610\\\\\n",
       "\t Rgs2     & 1389.50943 & 5.893269 & 1.1065951 & 5.325588 & 1.006271e-07 & 6.725660e-05 &  655.87521 &  4810.2498 &  51.348178 &  40.564573\\\\\n",
       "\t H3f3b    &  802.73480 & 5.320885 & 0.9999915 & 5.320930 & 1.032381e-07 & 6.725660e-05 &  732.61568 &  2400.0675 &  47.156490 &  31.099506\\\\\n",
       "\t Snrpd1   &  105.54633 & 3.840058 & 0.7189275 & 5.341370 & 9.224660e-08 & 6.725660e-05 &  135.06323 &   259.3691 &  11.527142 &  16.225829\\\\\n",
       "\t Sh3bgrl  &   84.50700 & 3.174770 & 0.5992750 & 5.297684 & 1.172804e-07 & 7.216002e-05 &  163.71300 &   140.8830 &  19.910518 &  13.521524\\\\\n",
       "\t Sfr1     &  109.11349 & 3.602127 & 0.6821885 & 5.280252 & 1.290062e-07 & 7.519701e-05 &  152.45773 &   250.6994 &  15.718830 &  17.577982\\\\\n",
       "\t Uqcrfs1  &   99.70577 & 3.482335 & 0.6675798 & 5.216358 & 1.824753e-07 & 1.010457e-04 &  137.10964 &   229.0251 &  17.814674 &  14.873677\\\\\n",
       "\t Chst11   &   70.50692 & 2.936503 & 0.5664803 & 5.183769 & 2.174458e-07 & 1.146768e-04 &  109.48307 &   140.1605 &  18.862596 &  13.521524\\\\\n",
       "\t Dusp10   &  467.71766 & 4.920488 & 0.9542940 & 5.156155 & 2.520723e-07 & 1.178068e-04 &  550.48496 &  1260.7218 &  36.677270 &  22.986591\\\\\n",
       "\t N4bp1    &  143.72911 & 3.671629 & 0.7132132 & 5.148011 & 2.632632e-07 & 1.178068e-04 &  243.52309 &   289.7132 &  24.102206 &  17.577982\\\\\n",
       "\t Elovl5   &  123.50808 & 3.624081 & 0.7022363 & 5.160771 & 2.459342e-07 & 1.178068e-04 &  186.22354 &   270.9288 &  22.006362 &  14.873677\\\\\n",
       "\t Stx11    &  270.18572 & 5.480577 & 1.0649922 & 5.146120 & 2.659295e-07 & 1.178068e-04 &  194.40919 &   862.6372 &  11.527142 &  12.169372\\\\\n",
       "\t Ndufc1   &  100.15535 & 4.357054 & 0.8513984 & 5.117527 & 3.095682e-07 & 1.318641e-04 &  108.45986 &   273.0962 &   4.191688 &  14.873677\\\\\n",
       "\t P2ry10   &  431.61198 & 4.570583 & 0.8988278 & 5.085049 & 3.675313e-07 & 1.403590e-04 &  572.99550 &  1083.7150 &  34.581426 &  35.155963\\\\\n",
       "\t Pak1ip1  &   56.59686 & 2.911865 & 0.5725163 & 5.086083 & 3.655348e-07 & 1.403590e-04 &   85.94933 &   113.4288 &   9.431298 &  17.577982\\\\\n",
       "\t Mapk8ip2 &   68.63612 & 3.257488 & 0.6401647 & 5.088515 & 3.608792e-07 & 1.403590e-04 &   80.83329 &   167.6146 &  12.575064 &  13.521524\\\\\n",
       "\t Cd164    &  249.82002 & 4.767679 & 0.9412378 & 5.065329 & 4.076950e-07 & 1.505074e-04 &  260.91759 &   702.9698 &  17.814674 &  17.577982\\\\\n",
       "\t ⋮ & ⋮ & ⋮ & ⋮ & ⋮ & ⋮ & ⋮ & ⋮ & ⋮ & ⋮ & ⋮\\\\\n",
       "\t Mfsd13a       & 12.12064 &  0.83774081 & 0.6592746 &  1.27070090 & 0.20383508 & NA & 15.348094 & 15.894487 & 10.479220 &  6.760762\\\\\n",
       "\t Trim8         & 18.12218 &  1.16150572 & 0.5706881 &  2.03527230 & 0.04182348 & NA & 25.580156 & 24.564207 & 11.527142 & 10.817219\\\\\n",
       "\t Sfxn2         & 19.47146 & -0.15183317 & 0.5420514 & -0.28010846 & 0.77939429 & NA & 19.440919 & 17.339440 & 16.766752 & 24.338744\\\\\n",
       "\t Wbp1l         & 15.55974 &  0.92087696 & 0.6347242 &  1.45083016 & 0.14682716 & NA & 14.324888 & 26.009161 &  8.383376 & 13.521524\\\\\n",
       "\t Borcs7        & 14.82997 &  0.40805790 & 0.6014253 &  0.67848480 & 0.49746436 & NA & 14.324888 & 19.506870 & 14.670908 & 10.817219\\\\\n",
       "\t As3mt         & 17.16575 & -0.47452025 & 0.5541674 & -0.85627603 & 0.39184512 & NA & 14.324888 & 14.449534 & 20.958440 & 18.930134\\\\\n",
       "\t Ina           & 18.03818 &  0.54323349 & 0.5865281 &  0.92618492 & 0.35434989 & NA & 21.487331 & 20.951824 &  9.431298 & 20.282286\\\\\n",
       "\t Pcgf6         & 15.60092 & -0.32612048 & 0.5830565 & -0.55932910 & 0.57593714 & NA & 12.278475 & 15.172010 & 14.670908 & 20.282286\\\\\n",
       "\t Gsto2         & 17.47413 & -0.27424850 & 0.5582615 & -0.49125451 & 0.62324645 & NA & 14.324888 & 17.339440 & 22.006362 & 16.225829\\\\\n",
       "\t Gm26629       & 19.89238 & -0.67808872 & 0.5326637 & -1.27301472 & 0.20301282 & NA & 15.348094 & 15.172010 & 22.006362 & 27.043049\\\\\n",
       "\t AA387883      & 15.50697 & -0.53402804 & 0.5754669 & -0.92799091 & 0.35341229 & NA & 12.278475 & 13.004580 & 17.814674 & 18.930134\\\\\n",
       "\t 1700054A03Rik & 10.32768 &  0.11383372 & 0.6911338 &  0.16470578 & 0.86917557 & NA & 12.278475 &  9.392197 & 11.527142 &  8.112915\\\\\n",
       "\t Mxi1          & 16.68644 & -0.11351326 & 0.5705955 & -0.19893823 & 0.84231106 & NA & 16.371300 & 15.894487 & 20.958440 & 13.521524\\\\\n",
       "\t Bbip1         & 17.43147 & -0.15269263 & 0.6158821 & -0.24792509 & 0.80419236 & NA & 12.278475 & 20.229347 & 11.527142 & 25.690896\\\\\n",
       "\t 4930552P12Rik & 15.16945 &  0.53932437 & 0.6120188 &  0.88122193 & 0.37819771 & NA & 22.510538 & 13.727057 & 13.622986 & 10.817219\\\\\n",
       "\t B230217O12Rik & 12.69542 & -0.08194978 & 0.6408480 & -0.12787709 & 0.89824624 & NA &  9.208856 & 15.172010 & 11.527142 & 14.873677\\\\\n",
       "\t 6720468P15Rik & 12.57615 & -0.21989379 & 0.6764600 & -0.32506548 & 0.74513152 & NA & 15.348094 &  7.947244 &  9.431298 & 17.577982\\\\\n",
       "\t Gfra1         & 17.39189 & -0.18299788 & 0.5614156 & -0.32595798 & 0.74445615 & NA & 15.348094 & 17.339440 & 22.006362 & 14.873677\\\\\n",
       "\t Ccdc172       & 14.51808 & -0.60995704 & 0.6061294 & -1.00631480 & 0.31426416 & NA & 11.255269 & 11.559627 & 13.622986 & 21.634439\\\\\n",
       "\t Pnlip         & 17.06113 & -0.56314833 & 0.6689920 & -0.84178630 & 0.39990758 & NA &  8.185650 & 18.784394 & 11.527142 & 29.747353\\\\\n",
       "\t 1810018F18Rik & 13.59704 & -0.18348284 & 0.6150933 & -0.29830084 & 0.76547356 & NA & 12.278475 & 13.004580 & 11.527142 & 17.577982\\\\\n",
       "\t Pnliprp1      & 14.86936 & -0.01822065 & 0.6009173 & -0.03032139 & 0.97581074 & NA & 15.348094 & 14.449534 & 18.862596 & 10.817219\\\\\n",
       "\t Pnliprp2      & 18.88437 & -0.05070425 & 0.6069715 & -0.08353646 & 0.93342499 & NA & 26.603363 & 10.837150 & 17.814674 & 20.282286\\\\\n",
       "\t 1700019N19Rik & 16.99661 & -0.67605186 & 0.5648556 & -1.19685792 & 0.23136194 & NA & 13.301681 & 13.004580 & 24.102206 & 17.577982\\\\\n",
       "\t Eno4          & 16.38977 & -0.02644171 & 0.5641973 & -0.04686606 & 0.96261998 & NA & 17.394506 & 15.172010 & 16.766752 & 16.225829\\\\\n",
       "\t E330013P04Rik & 19.24038 & -0.50208615 & 0.5374123 & -0.93426625 & 0.35016657 & NA & 14.324888 & 17.339440 & 20.958440 & 24.338744\\\\\n",
       "\t Nanos1        & 16.66168 &  1.00595238 & 0.5849764 &  1.71964615 & 0.08549678 & NA & 21.487331 & 23.119254 & 12.575064 &  9.465067\\\\\n",
       "\t Sfxn4         & 18.10206 & -0.57060842 & 0.5528963 & -1.03203518 & 0.30205564 & NA & 16.371300 & 13.004580 & 24.102206 & 18.930134\\\\\n",
       "\t Prdx3         & 17.53607 & -0.82768690 & 0.5797634 & -1.42762864 & 0.15339878 & NA & 11.255269 & 13.727057 & 16.766752 & 28.395201\\\\\n",
       "\t Csf2ra        & 15.08716 &  0.62861430 & 0.6701948 &  0.93795760 & 0.34826620 & NA & 17.394506 & 18.784394 &  5.239610 & 18.930134\\\\\n",
       "\\end{tabular}\n"
      ],
      "text/markdown": [
       "\n",
       "A data.frame: 15617 × 11\n",
       "\n",
       "| Row.names &lt;I&lt;chr&gt;&gt; | baseMean &lt;dbl&gt; | log2FoldChange &lt;dbl&gt; | lfcSE &lt;dbl&gt; | stat &lt;dbl&gt; | pvalue &lt;dbl&gt; | padj &lt;dbl&gt; | LI.rep1 &lt;dbl&gt; | LI.rep2 &lt;dbl&gt; | mLN.rep1 &lt;dbl&gt; | mLN.rep2 &lt;dbl&gt; |\n",
       "|---|---|---|---|---|---|---|---|---|---|---|\n",
       "| Bhlhe40  |  826.91827 | 6.585865 | 0.9999113 | 6.586449 | 4.504706e-11 | 4.988962e-07 |  954.65143 |  2319.1502 |  23.054284 |  10.817219 |\n",
       "| Pclaf    |   73.88743 | 3.510375 | 0.5887973 | 5.961942 | 2.492575e-09 | 1.380264e-05 |  142.22567 |   129.3233 |  10.479220 |  13.521524 |\n",
       "| Tmem151a | 4622.96214 | 4.848402 | 0.8226995 | 5.893284 | 3.785946e-09 | 1.397645e-05 | 3607.82524 | 14263.8572 | 383.539452 | 236.626675 |\n",
       "| Junb     |   69.27043 | 3.816374 | 0.6572823 | 5.806293 | 6.387098e-09 | 1.768428e-05 |  102.32063 |   156.7774 |  12.575064 |   5.408610 |\n",
       "| Fosl2    |  301.73778 | 6.120207 | 1.0673093 | 5.734239 | 9.795094e-09 | 2.169613e-05 |  285.47454 |   904.5408 |  11.527142 |   5.408610 |\n",
       "| Spcs1    |   81.73403 | 4.059738 | 0.7155893 | 5.673279 | 1.400896e-08 | 2.585821e-05 |  101.29742 |   207.3508 |  11.527142 |   6.760762 |\n",
       "| Fam107b  |  485.40316 | 4.890570 | 0.8718043 | 5.609711 | 2.026649e-08 | 3.206448e-05 |  771.49751 |  1106.8343 |  33.533504 |  29.747353 |\n",
       "| Klf4     |   97.99973 | 4.669728 | 0.8402380 | 5.557625 | 2.734699e-08 | 3.365199e-05 |  104.36704 |   273.0962 |  10.479220 |   4.056457 |\n",
       "| Dusp1    |  137.26364 | 3.965963 | 0.7135635 | 5.557967 | 2.729349e-08 | 3.365199e-05 |  295.70661 |   220.3554 |  16.766752 |  16.225829 |\n",
       "| Hnrnpu   |   87.27065 | 3.770516 | 0.6877565 | 5.482342 | 4.197322e-08 | 3.575795e-05 |  110.50628 |   214.5756 |  10.479220 |  13.521524 |\n",
       "| Vim      | 1098.22190 | 5.207350 | 0.9446370 | 5.512541 | 3.536897e-08 | 3.575795e-05 | 1062.08809 |  3215.0212 |  57.635710 |  58.142554 |\n",
       "| Hmgb2    |  464.59070 | 5.471577 | 0.9970526 | 5.487752 | 4.070813e-08 | 3.575795e-05 |  527.97443 |  1289.6209 |  27.245972 |  13.521524 |\n",
       "| Ifrd1    |  468.71812 | 5.166299 | 0.9413559 | 5.488147 | 4.061722e-08 | 3.575795e-05 |  587.32039 |  1236.8801 |  30.389738 |  20.282286 |\n",
       "| Cxcr4    |  121.10632 | 4.676020 | 0.8672189 | 5.391971 | 6.968896e-08 | 5.512894e-05 |  126.87758 |   339.5640 |  12.575064 |   5.408610 |\n",
       "| Rgs2     | 1389.50943 | 5.893269 | 1.1065951 | 5.325588 | 1.006271e-07 | 6.725660e-05 |  655.87521 |  4810.2498 |  51.348178 |  40.564573 |\n",
       "| H3f3b    |  802.73480 | 5.320885 | 0.9999915 | 5.320930 | 1.032381e-07 | 6.725660e-05 |  732.61568 |  2400.0675 |  47.156490 |  31.099506 |\n",
       "| Snrpd1   |  105.54633 | 3.840058 | 0.7189275 | 5.341370 | 9.224660e-08 | 6.725660e-05 |  135.06323 |   259.3691 |  11.527142 |  16.225829 |\n",
       "| Sh3bgrl  |   84.50700 | 3.174770 | 0.5992750 | 5.297684 | 1.172804e-07 | 7.216002e-05 |  163.71300 |   140.8830 |  19.910518 |  13.521524 |\n",
       "| Sfr1     |  109.11349 | 3.602127 | 0.6821885 | 5.280252 | 1.290062e-07 | 7.519701e-05 |  152.45773 |   250.6994 |  15.718830 |  17.577982 |\n",
       "| Uqcrfs1  |   99.70577 | 3.482335 | 0.6675798 | 5.216358 | 1.824753e-07 | 1.010457e-04 |  137.10964 |   229.0251 |  17.814674 |  14.873677 |\n",
       "| Chst11   |   70.50692 | 2.936503 | 0.5664803 | 5.183769 | 2.174458e-07 | 1.146768e-04 |  109.48307 |   140.1605 |  18.862596 |  13.521524 |\n",
       "| Dusp10   |  467.71766 | 4.920488 | 0.9542940 | 5.156155 | 2.520723e-07 | 1.178068e-04 |  550.48496 |  1260.7218 |  36.677270 |  22.986591 |\n",
       "| N4bp1    |  143.72911 | 3.671629 | 0.7132132 | 5.148011 | 2.632632e-07 | 1.178068e-04 |  243.52309 |   289.7132 |  24.102206 |  17.577982 |\n",
       "| Elovl5   |  123.50808 | 3.624081 | 0.7022363 | 5.160771 | 2.459342e-07 | 1.178068e-04 |  186.22354 |   270.9288 |  22.006362 |  14.873677 |\n",
       "| Stx11    |  270.18572 | 5.480577 | 1.0649922 | 5.146120 | 2.659295e-07 | 1.178068e-04 |  194.40919 |   862.6372 |  11.527142 |  12.169372 |\n",
       "| Ndufc1   |  100.15535 | 4.357054 | 0.8513984 | 5.117527 | 3.095682e-07 | 1.318641e-04 |  108.45986 |   273.0962 |   4.191688 |  14.873677 |\n",
       "| P2ry10   |  431.61198 | 4.570583 | 0.8988278 | 5.085049 | 3.675313e-07 | 1.403590e-04 |  572.99550 |  1083.7150 |  34.581426 |  35.155963 |\n",
       "| Pak1ip1  |   56.59686 | 2.911865 | 0.5725163 | 5.086083 | 3.655348e-07 | 1.403590e-04 |   85.94933 |   113.4288 |   9.431298 |  17.577982 |\n",
       "| Mapk8ip2 |   68.63612 | 3.257488 | 0.6401647 | 5.088515 | 3.608792e-07 | 1.403590e-04 |   80.83329 |   167.6146 |  12.575064 |  13.521524 |\n",
       "| Cd164    |  249.82002 | 4.767679 | 0.9412378 | 5.065329 | 4.076950e-07 | 1.505074e-04 |  260.91759 |   702.9698 |  17.814674 |  17.577982 |\n",
       "| ⋮ | ⋮ | ⋮ | ⋮ | ⋮ | ⋮ | ⋮ | ⋮ | ⋮ | ⋮ | ⋮ |\n",
       "| Mfsd13a       | 12.12064 |  0.83774081 | 0.6592746 |  1.27070090 | 0.20383508 | NA | 15.348094 | 15.894487 | 10.479220 |  6.760762 |\n",
       "| Trim8         | 18.12218 |  1.16150572 | 0.5706881 |  2.03527230 | 0.04182348 | NA | 25.580156 | 24.564207 | 11.527142 | 10.817219 |\n",
       "| Sfxn2         | 19.47146 | -0.15183317 | 0.5420514 | -0.28010846 | 0.77939429 | NA | 19.440919 | 17.339440 | 16.766752 | 24.338744 |\n",
       "| Wbp1l         | 15.55974 |  0.92087696 | 0.6347242 |  1.45083016 | 0.14682716 | NA | 14.324888 | 26.009161 |  8.383376 | 13.521524 |\n",
       "| Borcs7        | 14.82997 |  0.40805790 | 0.6014253 |  0.67848480 | 0.49746436 | NA | 14.324888 | 19.506870 | 14.670908 | 10.817219 |\n",
       "| As3mt         | 17.16575 | -0.47452025 | 0.5541674 | -0.85627603 | 0.39184512 | NA | 14.324888 | 14.449534 | 20.958440 | 18.930134 |\n",
       "| Ina           | 18.03818 |  0.54323349 | 0.5865281 |  0.92618492 | 0.35434989 | NA | 21.487331 | 20.951824 |  9.431298 | 20.282286 |\n",
       "| Pcgf6         | 15.60092 | -0.32612048 | 0.5830565 | -0.55932910 | 0.57593714 | NA | 12.278475 | 15.172010 | 14.670908 | 20.282286 |\n",
       "| Gsto2         | 17.47413 | -0.27424850 | 0.5582615 | -0.49125451 | 0.62324645 | NA | 14.324888 | 17.339440 | 22.006362 | 16.225829 |\n",
       "| Gm26629       | 19.89238 | -0.67808872 | 0.5326637 | -1.27301472 | 0.20301282 | NA | 15.348094 | 15.172010 | 22.006362 | 27.043049 |\n",
       "| AA387883      | 15.50697 | -0.53402804 | 0.5754669 | -0.92799091 | 0.35341229 | NA | 12.278475 | 13.004580 | 17.814674 | 18.930134 |\n",
       "| 1700054A03Rik | 10.32768 |  0.11383372 | 0.6911338 |  0.16470578 | 0.86917557 | NA | 12.278475 |  9.392197 | 11.527142 |  8.112915 |\n",
       "| Mxi1          | 16.68644 | -0.11351326 | 0.5705955 | -0.19893823 | 0.84231106 | NA | 16.371300 | 15.894487 | 20.958440 | 13.521524 |\n",
       "| Bbip1         | 17.43147 | -0.15269263 | 0.6158821 | -0.24792509 | 0.80419236 | NA | 12.278475 | 20.229347 | 11.527142 | 25.690896 |\n",
       "| 4930552P12Rik | 15.16945 |  0.53932437 | 0.6120188 |  0.88122193 | 0.37819771 | NA | 22.510538 | 13.727057 | 13.622986 | 10.817219 |\n",
       "| B230217O12Rik | 12.69542 | -0.08194978 | 0.6408480 | -0.12787709 | 0.89824624 | NA |  9.208856 | 15.172010 | 11.527142 | 14.873677 |\n",
       "| 6720468P15Rik | 12.57615 | -0.21989379 | 0.6764600 | -0.32506548 | 0.74513152 | NA | 15.348094 |  7.947244 |  9.431298 | 17.577982 |\n",
       "| Gfra1         | 17.39189 | -0.18299788 | 0.5614156 | -0.32595798 | 0.74445615 | NA | 15.348094 | 17.339440 | 22.006362 | 14.873677 |\n",
       "| Ccdc172       | 14.51808 | -0.60995704 | 0.6061294 | -1.00631480 | 0.31426416 | NA | 11.255269 | 11.559627 | 13.622986 | 21.634439 |\n",
       "| Pnlip         | 17.06113 | -0.56314833 | 0.6689920 | -0.84178630 | 0.39990758 | NA |  8.185650 | 18.784394 | 11.527142 | 29.747353 |\n",
       "| 1810018F18Rik | 13.59704 | -0.18348284 | 0.6150933 | -0.29830084 | 0.76547356 | NA | 12.278475 | 13.004580 | 11.527142 | 17.577982 |\n",
       "| Pnliprp1      | 14.86936 | -0.01822065 | 0.6009173 | -0.03032139 | 0.97581074 | NA | 15.348094 | 14.449534 | 18.862596 | 10.817219 |\n",
       "| Pnliprp2      | 18.88437 | -0.05070425 | 0.6069715 | -0.08353646 | 0.93342499 | NA | 26.603363 | 10.837150 | 17.814674 | 20.282286 |\n",
       "| 1700019N19Rik | 16.99661 | -0.67605186 | 0.5648556 | -1.19685792 | 0.23136194 | NA | 13.301681 | 13.004580 | 24.102206 | 17.577982 |\n",
       "| Eno4          | 16.38977 | -0.02644171 | 0.5641973 | -0.04686606 | 0.96261998 | NA | 17.394506 | 15.172010 | 16.766752 | 16.225829 |\n",
       "| E330013P04Rik | 19.24038 | -0.50208615 | 0.5374123 | -0.93426625 | 0.35016657 | NA | 14.324888 | 17.339440 | 20.958440 | 24.338744 |\n",
       "| Nanos1        | 16.66168 |  1.00595238 | 0.5849764 |  1.71964615 | 0.08549678 | NA | 21.487331 | 23.119254 | 12.575064 |  9.465067 |\n",
       "| Sfxn4         | 18.10206 | -0.57060842 | 0.5528963 | -1.03203518 | 0.30205564 | NA | 16.371300 | 13.004580 | 24.102206 | 18.930134 |\n",
       "| Prdx3         | 17.53607 | -0.82768690 | 0.5797634 | -1.42762864 | 0.15339878 | NA | 11.255269 | 13.727057 | 16.766752 | 28.395201 |\n",
       "| Csf2ra        | 15.08716 |  0.62861430 | 0.6701948 |  0.93795760 | 0.34826620 | NA | 17.394506 | 18.784394 |  5.239610 | 18.930134 |\n",
       "\n"
      ],
      "text/plain": [
       "      Row.names     baseMean   log2FoldChange lfcSE     stat       \n",
       "1     Bhlhe40        826.91827 6.585865       0.9999113 6.586449   \n",
       "2     Pclaf           73.88743 3.510375       0.5887973 5.961942   \n",
       "3     Tmem151a      4622.96214 4.848402       0.8226995 5.893284   \n",
       "4     Junb            69.27043 3.816374       0.6572823 5.806293   \n",
       "5     Fosl2          301.73778 6.120207       1.0673093 5.734239   \n",
       "6     Spcs1           81.73403 4.059738       0.7155893 5.673279   \n",
       "7     Fam107b        485.40316 4.890570       0.8718043 5.609711   \n",
       "8     Klf4            97.99973 4.669728       0.8402380 5.557625   \n",
       "9     Dusp1          137.26364 3.965963       0.7135635 5.557967   \n",
       "10    Hnrnpu          87.27065 3.770516       0.6877565 5.482342   \n",
       "11    Vim           1098.22190 5.207350       0.9446370 5.512541   \n",
       "12    Hmgb2          464.59070 5.471577       0.9970526 5.487752   \n",
       "13    Ifrd1          468.71812 5.166299       0.9413559 5.488147   \n",
       "14    Cxcr4          121.10632 4.676020       0.8672189 5.391971   \n",
       "15    Rgs2          1389.50943 5.893269       1.1065951 5.325588   \n",
       "16    H3f3b          802.73480 5.320885       0.9999915 5.320930   \n",
       "17    Snrpd1         105.54633 3.840058       0.7189275 5.341370   \n",
       "18    Sh3bgrl         84.50700 3.174770       0.5992750 5.297684   \n",
       "19    Sfr1           109.11349 3.602127       0.6821885 5.280252   \n",
       "20    Uqcrfs1         99.70577 3.482335       0.6675798 5.216358   \n",
       "21    Chst11          70.50692 2.936503       0.5664803 5.183769   \n",
       "22    Dusp10         467.71766 4.920488       0.9542940 5.156155   \n",
       "23    N4bp1          143.72911 3.671629       0.7132132 5.148011   \n",
       "24    Elovl5         123.50808 3.624081       0.7022363 5.160771   \n",
       "25    Stx11          270.18572 5.480577       1.0649922 5.146120   \n",
       "26    Ndufc1         100.15535 4.357054       0.8513984 5.117527   \n",
       "27    P2ry10         431.61198 4.570583       0.8988278 5.085049   \n",
       "28    Pak1ip1         56.59686 2.911865       0.5725163 5.086083   \n",
       "29    Mapk8ip2        68.63612 3.257488       0.6401647 5.088515   \n",
       "30    Cd164          249.82002 4.767679       0.9412378 5.065329   \n",
       "⋮     ⋮             ⋮          ⋮              ⋮         ⋮          \n",
       "15588 Mfsd13a       12.12064    0.83774081    0.6592746  1.27070090\n",
       "15589 Trim8         18.12218    1.16150572    0.5706881  2.03527230\n",
       "15590 Sfxn2         19.47146   -0.15183317    0.5420514 -0.28010846\n",
       "15591 Wbp1l         15.55974    0.92087696    0.6347242  1.45083016\n",
       "15592 Borcs7        14.82997    0.40805790    0.6014253  0.67848480\n",
       "15593 As3mt         17.16575   -0.47452025    0.5541674 -0.85627603\n",
       "15594 Ina           18.03818    0.54323349    0.5865281  0.92618492\n",
       "15595 Pcgf6         15.60092   -0.32612048    0.5830565 -0.55932910\n",
       "15596 Gsto2         17.47413   -0.27424850    0.5582615 -0.49125451\n",
       "15597 Gm26629       19.89238   -0.67808872    0.5326637 -1.27301472\n",
       "15598 AA387883      15.50697   -0.53402804    0.5754669 -0.92799091\n",
       "15599 1700054A03Rik 10.32768    0.11383372    0.6911338  0.16470578\n",
       "15600 Mxi1          16.68644   -0.11351326    0.5705955 -0.19893823\n",
       "15601 Bbip1         17.43147   -0.15269263    0.6158821 -0.24792509\n",
       "15602 4930552P12Rik 15.16945    0.53932437    0.6120188  0.88122193\n",
       "15603 B230217O12Rik 12.69542   -0.08194978    0.6408480 -0.12787709\n",
       "15604 6720468P15Rik 12.57615   -0.21989379    0.6764600 -0.32506548\n",
       "15605 Gfra1         17.39189   -0.18299788    0.5614156 -0.32595798\n",
       "15606 Ccdc172       14.51808   -0.60995704    0.6061294 -1.00631480\n",
       "15607 Pnlip         17.06113   -0.56314833    0.6689920 -0.84178630\n",
       "15608 1810018F18Rik 13.59704   -0.18348284    0.6150933 -0.29830084\n",
       "15609 Pnliprp1      14.86936   -0.01822065    0.6009173 -0.03032139\n",
       "15610 Pnliprp2      18.88437   -0.05070425    0.6069715 -0.08353646\n",
       "15611 1700019N19Rik 16.99661   -0.67605186    0.5648556 -1.19685792\n",
       "15612 Eno4          16.38977   -0.02644171    0.5641973 -0.04686606\n",
       "15613 E330013P04Rik 19.24038   -0.50208615    0.5374123 -0.93426625\n",
       "15614 Nanos1        16.66168    1.00595238    0.5849764  1.71964615\n",
       "15615 Sfxn4         18.10206   -0.57060842    0.5528963 -1.03203518\n",
       "15616 Prdx3         17.53607   -0.82768690    0.5797634 -1.42762864\n",
       "15617 Csf2ra        15.08716    0.62861430    0.6701948  0.93795760\n",
       "      pvalue       padj         LI.rep1    LI.rep2    mLN.rep1   mLN.rep2  \n",
       "1     4.504706e-11 4.988962e-07  954.65143  2319.1502  23.054284  10.817219\n",
       "2     2.492575e-09 1.380264e-05  142.22567   129.3233  10.479220  13.521524\n",
       "3     3.785946e-09 1.397645e-05 3607.82524 14263.8572 383.539452 236.626675\n",
       "4     6.387098e-09 1.768428e-05  102.32063   156.7774  12.575064   5.408610\n",
       "5     9.795094e-09 2.169613e-05  285.47454   904.5408  11.527142   5.408610\n",
       "6     1.400896e-08 2.585821e-05  101.29742   207.3508  11.527142   6.760762\n",
       "7     2.026649e-08 3.206448e-05  771.49751  1106.8343  33.533504  29.747353\n",
       "8     2.734699e-08 3.365199e-05  104.36704   273.0962  10.479220   4.056457\n",
       "9     2.729349e-08 3.365199e-05  295.70661   220.3554  16.766752  16.225829\n",
       "10    4.197322e-08 3.575795e-05  110.50628   214.5756  10.479220  13.521524\n",
       "11    3.536897e-08 3.575795e-05 1062.08809  3215.0212  57.635710  58.142554\n",
       "12    4.070813e-08 3.575795e-05  527.97443  1289.6209  27.245972  13.521524\n",
       "13    4.061722e-08 3.575795e-05  587.32039  1236.8801  30.389738  20.282286\n",
       "14    6.968896e-08 5.512894e-05  126.87758   339.5640  12.575064   5.408610\n",
       "15    1.006271e-07 6.725660e-05  655.87521  4810.2498  51.348178  40.564573\n",
       "16    1.032381e-07 6.725660e-05  732.61568  2400.0675  47.156490  31.099506\n",
       "17    9.224660e-08 6.725660e-05  135.06323   259.3691  11.527142  16.225829\n",
       "18    1.172804e-07 7.216002e-05  163.71300   140.8830  19.910518  13.521524\n",
       "19    1.290062e-07 7.519701e-05  152.45773   250.6994  15.718830  17.577982\n",
       "20    1.824753e-07 1.010457e-04  137.10964   229.0251  17.814674  14.873677\n",
       "21    2.174458e-07 1.146768e-04  109.48307   140.1605  18.862596  13.521524\n",
       "22    2.520723e-07 1.178068e-04  550.48496  1260.7218  36.677270  22.986591\n",
       "23    2.632632e-07 1.178068e-04  243.52309   289.7132  24.102206  17.577982\n",
       "24    2.459342e-07 1.178068e-04  186.22354   270.9288  22.006362  14.873677\n",
       "25    2.659295e-07 1.178068e-04  194.40919   862.6372  11.527142  12.169372\n",
       "26    3.095682e-07 1.318641e-04  108.45986   273.0962   4.191688  14.873677\n",
       "27    3.675313e-07 1.403590e-04  572.99550  1083.7150  34.581426  35.155963\n",
       "28    3.655348e-07 1.403590e-04   85.94933   113.4288   9.431298  17.577982\n",
       "29    3.608792e-07 1.403590e-04   80.83329   167.6146  12.575064  13.521524\n",
       "30    4.076950e-07 1.505074e-04  260.91759   702.9698  17.814674  17.577982\n",
       "⋮     ⋮            ⋮            ⋮          ⋮          ⋮          ⋮         \n",
       "15588 0.20383508   NA           15.348094  15.894487  10.479220   6.760762 \n",
       "15589 0.04182348   NA           25.580156  24.564207  11.527142  10.817219 \n",
       "15590 0.77939429   NA           19.440919  17.339440  16.766752  24.338744 \n",
       "15591 0.14682716   NA           14.324888  26.009161   8.383376  13.521524 \n",
       "15592 0.49746436   NA           14.324888  19.506870  14.670908  10.817219 \n",
       "15593 0.39184512   NA           14.324888  14.449534  20.958440  18.930134 \n",
       "15594 0.35434989   NA           21.487331  20.951824   9.431298  20.282286 \n",
       "15595 0.57593714   NA           12.278475  15.172010  14.670908  20.282286 \n",
       "15596 0.62324645   NA           14.324888  17.339440  22.006362  16.225829 \n",
       "15597 0.20301282   NA           15.348094  15.172010  22.006362  27.043049 \n",
       "15598 0.35341229   NA           12.278475  13.004580  17.814674  18.930134 \n",
       "15599 0.86917557   NA           12.278475   9.392197  11.527142   8.112915 \n",
       "15600 0.84231106   NA           16.371300  15.894487  20.958440  13.521524 \n",
       "15601 0.80419236   NA           12.278475  20.229347  11.527142  25.690896 \n",
       "15602 0.37819771   NA           22.510538  13.727057  13.622986  10.817219 \n",
       "15603 0.89824624   NA            9.208856  15.172010  11.527142  14.873677 \n",
       "15604 0.74513152   NA           15.348094   7.947244   9.431298  17.577982 \n",
       "15605 0.74445615   NA           15.348094  17.339440  22.006362  14.873677 \n",
       "15606 0.31426416   NA           11.255269  11.559627  13.622986  21.634439 \n",
       "15607 0.39990758   NA            8.185650  18.784394  11.527142  29.747353 \n",
       "15608 0.76547356   NA           12.278475  13.004580  11.527142  17.577982 \n",
       "15609 0.97581074   NA           15.348094  14.449534  18.862596  10.817219 \n",
       "15610 0.93342499   NA           26.603363  10.837150  17.814674  20.282286 \n",
       "15611 0.23136194   NA           13.301681  13.004580  24.102206  17.577982 \n",
       "15612 0.96261998   NA           17.394506  15.172010  16.766752  16.225829 \n",
       "15613 0.35016657   NA           14.324888  17.339440  20.958440  24.338744 \n",
       "15614 0.08549678   NA           21.487331  23.119254  12.575064   9.465067 \n",
       "15615 0.30205564   NA           16.371300  13.004580  24.102206  18.930134 \n",
       "15616 0.15339878   NA           11.255269  13.727057  16.766752  28.395201 \n",
       "15617 0.34826620   NA           17.394506  18.784394   5.239610  18.930134 "
      ]
     },
     "metadata": {},
     "output_type": "display_data"
    }
   ],
   "source": [
    "resdata <- merge(\n",
    "    as.data.frame(res), \n",
    "    as.data.frame(counts(dds, normalized=TRUE)),\n",
    "    by=\"row.names\",sort=FALSE)\n",
    "\n",
    "resdata\n"
   ]
  },
  {
   "cell_type": "markdown",
   "metadata": {},
   "source": [
    "12. normalization前面的数据分布差异"
   ]
  },
  {
   "cell_type": "code",
   "execution_count": 92,
   "metadata": {},
   "outputs": [
    {
     "name": "stderr",
     "output_type": "stream",
     "text": [
      "-- note: fitType='parametric', but the dispersion trend was not well captured by the\n",
      "   function: y = a/x + b, and a local regression fit was automatically substituted.\n",
      "   specify fitType='local' or 'mean' to avoid this message next time.\n",
      "\n"
     ]
    }
   ],
   "source": [
    "### rld normalization ---------------------------------------------------------------------->\n",
    "## 下面的代码如果你不感兴趣不需要运行，免得误导你\n",
    "## 就是看看normalization前面的数据分布差异\n",
    "rld <- rlogTransformation(dds)\n",
    "raw_counts_new=assay(rld)\n",
    "par(cex = 0.7)\n",
    "n.sample=ncol(raw_counts)\n",
    "if(n.sample>40) par(cex = 0.5)\n",
    "cols <- rainbow(n.sample*1.2)\n",
    "# 上一步比较耗时，算数据分布用"
   ]
  },
  {
   "cell_type": "markdown",
   "metadata": {},
   "source": [
    "### Normalization:"
   ]
  },
  {
   "cell_type": "code",
   "execution_count": 93,
   "metadata": {},
   "outputs": [
    {
     "data": {
      "text/html": [
       "<strong>pdf:</strong> 2"
      ],
      "text/latex": [
       "\\textbf{pdf:} 2"
      ],
      "text/markdown": [
       "**pdf:** 2"
      ],
      "text/plain": [
       "pdf \n",
       "  2 "
      ]
     },
     "metadata": {},
     "output_type": "display_data"
    }
   ],
   "source": [
    "pdf(\"../plots/001_expression_value_compare.pdf\",width = 10, height = 6)\n",
    "par(mfrow=c(1,2))\n",
    "boxplot(raw_counts_select, col = cols,main=\"expression value_raw_counts: \\nbefore normalization\",las=2)\n",
    "boxplot(raw_counts_new, col = cols,main=\"expression value_raw_counts_new: \\nafter normalization\",las=2)\n",
    "\n",
    "dev.off()"
   ]
  },
  {
   "cell_type": "code",
   "execution_count": 94,
   "metadata": {},
   "outputs": [
    {
     "data": {
      "image/png": "[encoded data removed]",
      "text/plain": [
       "Plot with title “expression value_raw_counts_new: \n",
       "after nornalization”"
      ]
     },
     "metadata": {
      "image/png": {
       "height": 420,
       "width": 420
      }
     },
     "output_type": "display_data"
    }
   ],
   "source": [
    "par(mfrow=c(1,2))\n",
    "boxplot(raw_counts_select, col = cols,main=\"expression value_raw_counts: \\nbefore nornalization\",las=2)\n",
    "boxplot(raw_counts_new, col = cols,main=\"expression value_raw_counts_new: \\nafter nornalization\",las=2)"
   ]
  },
  {
   "cell_type": "code",
   "execution_count": 96,
   "metadata": {},
   "outputs": [
    {
     "data": {
      "text/html": [
       "<strong>pdf:</strong> 2"
      ],
      "text/latex": [
       "\\textbf{pdf:} 2"
      ],
      "text/markdown": [
       "**pdf:** 2"
      ],
      "text/plain": [
       "pdf \n",
       "  2 "
      ]
     },
     "metadata": {},
     "output_type": "display_data"
    }
   ],
   "source": [
    "pdf(\"../plots/002_expression_distribution_info_hist.pdf\",width=8,height=8)\n",
    "hist(raw_counts_new)\n",
    "dev.off()"
   ]
  },
  {
   "cell_type": "code",
   "execution_count": 97,
   "metadata": {},
   "outputs": [
    {
     "data": {
      "image/png": "[encoded data removed]",
      "text/plain": [
       "Plot with title “Histogram of raw_counts_new”"
      ]
     },
     "metadata": {
      "image/png": {
       "height": 420,
       "width": 420
      }
     },
     "output_type": "display_data"
    }
   ],
   "source": [
    "hist(raw_counts_new)"
   ]
  },
  {
   "cell_type": "markdown",
   "metadata": {},
   "source": [
    "13. plot correlation heatmap"
   ]
  },
  {
   "cell_type": "code",
   "execution_count": 38,
   "metadata": {},
   "outputs": [
    {
     "data": {
      "text/html": [
       "<table class=\"dataframe\">\n",
       "<caption>A matrix: 6 × 4 of type dbl</caption>\n",
       "<thead>\n",
       "\t<tr><th></th><th scope=col>LI.rep1</th><th scope=col>LI.rep2</th><th scope=col>mLN.rep1</th><th scope=col>mLN.rep2</th></tr>\n",
       "</thead>\n",
       "<tbody>\n",
       "\t<tr><th scope=row>Xkr4</th><td>5.031664</td><td>4.882307</td><td>5.053077</td><td>5.399015</td></tr>\n",
       "\t<tr><th scope=row>Rp1</th><td>6.641551</td><td>6.700952</td><td>6.914871</td><td>6.865408</td></tr>\n",
       "\t<tr><th scope=row>Sox17</th><td>2.189672</td><td>2.337055</td><td>1.972270</td><td>1.936562</td></tr>\n",
       "\t<tr><th scope=row>Mrpl15</th><td>5.326412</td><td>4.974663</td><td>5.769502</td><td>5.576632</td></tr>\n",
       "\t<tr><th scope=row>Lypla1</th><td>5.290271</td><td>6.992104</td><td>4.437462</td><td>4.712895</td></tr>\n",
       "\t<tr><th scope=row>Tcea1</th><td>5.181482</td><td>7.413852</td><td>5.266544</td><td>5.303059</td></tr>\n",
       "</tbody>\n",
       "</table>\n"
      ],
      "text/latex": [
       "A matrix: 6 × 4 of type dbl\n",
       "\\begin{tabular}{r|llll}\n",
       "  & LI.rep1 & LI.rep2 & mLN.rep1 & mLN.rep2\\\\\n",
       "\\hline\n",
       "\tXkr4 & 5.031664 & 4.882307 & 5.053077 & 5.399015\\\\\n",
       "\tRp1 & 6.641551 & 6.700952 & 6.914871 & 6.865408\\\\\n",
       "\tSox17 & 2.189672 & 2.337055 & 1.972270 & 1.936562\\\\\n",
       "\tMrpl15 & 5.326412 & 4.974663 & 5.769502 & 5.576632\\\\\n",
       "\tLypla1 & 5.290271 & 6.992104 & 4.437462 & 4.712895\\\\\n",
       "\tTcea1 & 5.181482 & 7.413852 & 5.266544 & 5.303059\\\\\n",
       "\\end{tabular}\n"
      ],
      "text/markdown": [
       "\n",
       "A matrix: 6 × 4 of type dbl\n",
       "\n",
       "| <!--/--> | LI.rep1 | LI.rep2 | mLN.rep1 | mLN.rep2 |\n",
       "|---|---|---|---|---|\n",
       "| Xkr4 | 5.031664 | 4.882307 | 5.053077 | 5.399015 |\n",
       "| Rp1 | 6.641551 | 6.700952 | 6.914871 | 6.865408 |\n",
       "| Sox17 | 2.189672 | 2.337055 | 1.972270 | 1.936562 |\n",
       "| Mrpl15 | 5.326412 | 4.974663 | 5.769502 | 5.576632 |\n",
       "| Lypla1 | 5.290271 | 6.992104 | 4.437462 | 4.712895 |\n",
       "| Tcea1 | 5.181482 | 7.413852 | 5.266544 | 5.303059 |\n",
       "\n"
      ],
      "text/plain": [
       "       LI.rep1  LI.rep2  mLN.rep1 mLN.rep2\n",
       "Xkr4   5.031664 4.882307 5.053077 5.399015\n",
       "Rp1    6.641551 6.700952 6.914871 6.865408\n",
       "Sox17  2.189672 2.337055 1.972270 1.936562\n",
       "Mrpl15 5.326412 4.974663 5.769502 5.576632\n",
       "Lypla1 5.290271 6.992104 4.437462 4.712895\n",
       "Tcea1  5.181482 7.413852 5.266544 5.303059"
      ]
     },
     "metadata": {},
     "output_type": "display_data"
    }
   ],
   "source": [
    "# 查看raw_counts_new\n",
    "head(raw_counts_new)"
   ]
  },
  {
   "cell_type": "code",
   "execution_count": null,
   "metadata": {},
   "outputs": [],
   "source": [
    "### plot correlation heatmap -------------------------------------------------------------->\n",
    "library(RColorBrewer)\n",
    "(mycols <- brewer.pal(8, \"Dark2\")[1:length(unique(column_info$condition))])\n",
    "# Sample distance heatmap\n",
    "sampleDists <- dist(t(raw_counts_new))\n",
    "sampleDistsMatrix <- as.matrix(sampleDists)\n",
    "head(sampleDistsMatrix)"
   ]
  },
  {
   "cell_type": "code",
   "execution_count": null,
   "metadata": {},
   "outputs": [],
   "source": [
    "library(gplots)\n",
    "library(pheatmap)\n",
    "\n",
    "png(\"qc-heatmap-samples.png\", w=1000, h=1000, pointsize=20)\n",
    "# heatmap.2(sampleDistsMatrix, key=F, trace=\"none\",\n",
    "#         col=colorpanel(100, \"black\", \"white\"),\n",
    "#          ColSideColors=mycols[column_info$condition], RowSideColors=mycols[column_info$condition],\n",
    "#          margin=c(10, 10), main=\"Sample Distance Matrix\")\n",
    "colors <- colorRampPalette(rev(brewer.pal(9,\"Blues\")))(255)\n",
    "\n",
    "\n",
    "ht <- pheatmap(sampleDistsMatrix,\n",
    "               clustering_distance_cols = sampleDists,\n",
    "               clustering_distance_rows = sampleDists,\n",
    "               color = colors\n",
    "              )\n",
    "ht"
   ]
  },
  {
   "cell_type": "code",
   "execution_count": null,
   "metadata": {},
   "outputs": [],
   "source": [
    "pdf(\"../plots/003_correlation_cross_samples_heatmap.pdf\",width = 6, height = 6)\n",
    "ht\n",
    "dev.off()"
   ]
  },
  {
   "cell_type": "markdown",
   "metadata": {},
   "source": [
    "14. MA plot\n",
    "- log2 折叠变换和平均正常统计量的关系，红色的点表示在10%FDR的基因"
   ]
  },
  {
   "cell_type": "code",
   "execution_count": null,
   "metadata": {},
   "outputs": [],
   "source": [
    "### MA plot ------------------------------------------------------------------------------>\n",
    "pdf(\"../plots/004_DESeq2_MA_plot.pdf\",width = 8, height = 8)\n",
    "par(mfrow=c(1,1))\n",
    "DESeq2::plotMA(res, main=\"DESeq2\", ylim=c(-20,20))\n",
    "dev.off()"
   ]
  },
  {
   "cell_type": "markdown",
   "metadata": {},
   "source": [
    "15. nbinomTest的p值统计直方图"
   ]
  },
  {
   "cell_type": "code",
   "execution_count": null,
   "metadata": {},
   "outputs": [],
   "source": [
    "pdf(\"../plots/005_nbinomTest_p_value.pdf\",width = 8, height = 8)\n",
    "hist(res$pvalue, breaks = 100, col = 'skyblue', border = 'slateblue', main = 'nbinomTest p value')\n",
    "dev.off()"
   ]
  },
  {
   "cell_type": "markdown",
   "metadata": {},
   "source": [
    "16. rld to PCA(vst is better than rlog when n>=30)"
   ]
  },
  {
   "cell_type": "code",
   "execution_count": null,
   "metadata": {},
   "outputs": [],
   "source": [
    "pdf(\"../plots/006_PCAplot.pdf\", width = 8, height = 8)\n",
    "plotPCA(rld,intgroup=c(\"condition\"))\n",
    "dev.off()"
   ]
  },
  {
   "cell_type": "markdown",
   "metadata": {},
   "source": [
    "17. 这个heatmap干嘛的？"
   ]
  },
  {
   "cell_type": "code",
   "execution_count": null,
   "metadata": {},
   "outputs": [],
   "source": [
    "library(ggplot2)\n",
    "d <- plotCounts(dds,gene=which.min(res$padj), intgroup = \"condition\",returnData = TRUE)"
   ]
  },
  {
   "cell_type": "code",
   "execution_count": null,
   "metadata": {},
   "outputs": [],
   "source": [
    "pdf(\"../plots/007_jitter_plot_for_min_pvalue_transcript_counts.pdf\", height = 8, width = 8)\n",
    "ggplot(d,aes(x=condition,y=count))+\n",
    "  geom_point(position = position_jitter(w=0.1,h=0))+\n",
    "  scale_y_log10(breaks=c(25,100,400))\n",
    "dev.off()"
   ]
  },
  {
   "cell_type": "markdown",
   "metadata": {},
   "source": [
    "18. 处理res数据并且输出DEG表格"
   ]
  },
  {
   "cell_type": "code",
   "execution_count": null,
   "metadata": {},
   "outputs": [],
   "source": [
    "### deal with res and extract DEG!!! ----------------------------------------------------->\n",
    "# 标准cutoff\n",
    "log2fc = 1  # >=1\n",
    "pv = 0.05  # <=0.05\n",
    "# 松cutoff\n",
    "# log2fc = 1  # >=1\n",
    "# pv = 1  # <=0.05\n",
    "\n",
    "\n",
    "resOrdered <- res[order(res$padj),]\n",
    "resOrdered[which(resOrdered$log2FoldChange >= log2fc & resOrdered$pvalue<pv), 'sig'] <- 'up'\n",
    "resOrdered[which(resOrdered$log2FoldChange <= -log2fc & resOrdered$pvalue<pv),'sig'] <- 'down'\n",
    "resOrdered[which(abs(resOrdered$log2FoldChange) <= log2fc & resOrdered$pvalue>=pv),'sig'] <- 'none'\n",
    "resOrdered=as.data.frame(resOrdered)\n",
    "\n",
    "write.table(resOrdered,\"../plots/deseq2.all_sample.results.csv\",col.names = NA, sep = \",\", quote = FALSE)\n",
    "\n",
    "deg <- subset(resOrdered, (abs(resOrdered$log2FoldChange) >=log2fc & resOrdered$padj<pv)) ##### extract DEG !\n",
    "\n",
    "deg_matrix <- as.data.frame(deg)\n",
    "write.table(deg_matrix, '../plots/deg_result.csv', col.names = NA, sep = \",\", quote = FALSE)\n",
    "\n",
    "\n",
    "# raw count norm by deseq2\n",
    "write.table(raw_counts_new, '../plots/raw_counts_norm_by_DESeq2.csv', col.names = NA, sep = \",\", quote = FALSE)\n",
    "\n",
    "print(dim(deg))\n",
    "deg"
   ]
  },
  {
   "cell_type": "code",
   "execution_count": null,
   "metadata": {},
   "outputs": [],
   "source": [
    "### plot heatmap ------------------------------------------------------------------------->\n",
    "### plot all genes heatmap\n",
    "select <- order(rowMeans(counts(dds,normalized=TRUE)),\n",
    "                decreasing=TRUE)[1:1000]  ### select first ordered 1000 genes(not deg)\n",
    "#                 decreasing=TRUE)[1:50]  ### select first ordered 66 genes(not deg)\n",
    "df <- as.data.frame(column_info(dds)[,c(\"condition\")])\n",
    "p1000 <- pheatmap(assay(rld)[select,], cluster_rows=FALSE, show_rownames=FALSE,\n",
    "         cluster_cols=FALSE,scale = \"column\")\n",
    "p1000"
   ]
  },
  {
   "cell_type": "code",
   "execution_count": null,
   "metadata": {},
   "outputs": [],
   "source": [
    "select <- order(rowMeans(counts(dds,normalized=TRUE)),\n",
    "#                 decreasing=TRUE)[1:1000]  ### select first ordered 1000 genes(not deg)\n",
    "                decreasing=TRUE)[1:50]  ### select first ordered 66 genes(not deg)\n",
    "df <- as.data.frame(column_info(dds)[,c(\"condition\")])\n",
    "p50 <- pheatmap(assay(rld)[select,], cluster_rows=FALSE, show_rownames=FALSE,\n",
    "         cluster_cols=FALSE,scale = \"column\")\n",
    "p50"
   ]
  },
  {
   "cell_type": "code",
   "execution_count": null,
   "metadata": {},
   "outputs": [],
   "source": [
    "pdf(\"../plots/008_select_first_ordered_1000_transcriptsOrGenes_plot_heatmap.pdf\",height = 20,width = 20)\n",
    "p1000\n",
    "dev.off()\n",
    "pdf(\"../plots/009_select_first_ordered_50_transcriptsOrGenes_plot_heatmap.pdf\",height = 20,width = 20)\n",
    "p50\n",
    "dev.off()"
   ]
  },
  {
   "cell_type": "code",
   "execution_count": null,
   "metadata": {},
   "outputs": [],
   "source": [
    "### plot DEG heatmap\n",
    "selected <- rownames(deg)\n",
    "pDEG <- pheatmap(assay(rld)[rownames(rld) %in% selected,], \n",
    "#                  cluster_rows=TRUE, \n",
    "#                  show_rownames=TRUE,\n",
    "                cluster_rows=TRUE, \n",
    "                show_rownames=FALSE,\n",
    "         cluster_cols=FALSE, scale = \"column\")"
   ]
  },
  {
   "cell_type": "code",
   "execution_count": null,
   "metadata": {},
   "outputs": [],
   "source": [
    "pdf(\"../plots/010_select_differential_expression_genes_heatmap.pdf\",height = 5,width = 20)\n",
    "pDEG\n",
    "dev.off()"
   ]
  },
  {
   "cell_type": "code",
   "execution_count": null,
   "metadata": {},
   "outputs": [],
   "source": [
    "resOrdered"
   ]
  },
  {
   "cell_type": "code",
   "execution_count": null,
   "metadata": {},
   "outputs": [],
   "source": [
    "### plot valcano ------------------------------------------------------------------------>\n",
    "vp <- ggplot(data = resOrdered, aes(x = log2FoldChange, y = -log10(padj),color = sig)) +\n",
    "  geom_point(size = 1.7, alpha=0.8) +  #绘制散点图\n",
    "  scale_color_manual(values = c('#B22222', 'gray', '#4169E1'), limits = c('up', 'none', 'down')) +  #自定义点的颜色\n",
    "  labs(x = 'log2 Fold Change', y = '-log10 adjust p-value', title = 'control vs treat', color = '') +  #坐标轴标题\n",
    "  theme(plot.title = element_text(hjust = 0.5, size = 14), panel.grid = element_blank(), #背景色、网格线、图例等主题修改\n",
    "        panel.background = element_rect(color = 'black', fill = 'transparent'),\n",
    "        legend.key = element_rect(fill = 'transparent')) +\n",
    "  geom_vline(xintercept = c(-1, 1), lty = 3, color = 'black') +  #添加阈值线\n",
    "  geom_hline(yintercept = 1.3, lty = 3, color = 'black') +\n",
    "  # xlim(-2, 2) + ylim(0, 5)\n",
    "  xlim(-10, 10) + ylim(0, 100)\n",
    "\n",
    "vp"
   ]
  },
  {
   "cell_type": "code",
   "execution_count": null,
   "metadata": {},
   "outputs": [],
   "source": [
    "pdf(\"../plots/011_select_differential_expression_genes_valcano_plot.pdf\",height = 5,width = 8)\n",
    "vp\n",
    "dev.off()"
   ]
  },
  {
   "cell_type": "markdown",
   "metadata": {},
   "source": [
    "# 转换所有基因名和差异表达基因名"
   ]
  },
  {
   "cell_type": "code",
   "execution_count": null,
   "metadata": {},
   "outputs": [],
   "source": [
    "library(tidyverse)"
   ]
  },
  {
   "cell_type": "code",
   "execution_count": null,
   "metadata": {},
   "outputs": [],
   "source": [
    "deg_res <- read_csv(\"../plots/deg_result.csv\")\n",
    "all_res <- read_csv(\"../plots/deseq2.all_sample.results.csv\")\n",
    "colnames(deg_res)"
   ]
  },
  {
   "cell_type": "markdown",
   "metadata": {},
   "source": [
    "```\n",
    "git clone https://github.com/xuzhougeng/org.At.tair.db.git\n",
    "cd org.At.tair.db\n",
    "Rscript org.At.tair.db.R\n",
    "```"
   ]
  },
  {
   "cell_type": "code",
   "execution_count": null,
   "metadata": {},
   "outputs": [],
   "source": [
    "library(AnnotationDbi)\n",
    "library(org.Mm.eg.db)"
   ]
  },
  {
   "cell_type": "code",
   "execution_count": null,
   "metadata": {},
   "outputs": [],
   "source": [
    "deg_anno <- AnnotationDbi::mapIds(\n",
    "    org.Mm.eg.db, \n",
    "    keys=as.vector(deg_res$X1), \n",
    "    column=\"SYMBOL\", \n",
    "    keytype=\"ENSEMBL\"\n",
    ")\n",
    "deg_res_final <- deg_res %>% add_column(\n",
    "    deg_anno,\n",
    "    .after=\"X1\"\n",
    ")\n",
    "head(deg_res_final)"
   ]
  },
  {
   "cell_type": "code",
   "execution_count": null,
   "metadata": {},
   "outputs": [],
   "source": [
    "all_anno <- AnnotationDbi::mapIds(\n",
    "    org.Mm.eg.db, \n",
    "    keys=as.vector(all_res$X1), \n",
    "    column=\"SYMBOL\", \n",
    "    keytype=\"ENSEMBL\"\n",
    ")\n",
    "all_res_final <- all_res %>% add_column(\n",
    "    all_anno,\n",
    "    .after=\"X1\"\n",
    ")\n",
    "head(all_res_final)"
   ]
  },
  {
   "cell_type": "code",
   "execution_count": null,
   "metadata": {},
   "outputs": [],
   "source": [
    "all_features <- read_tsv(\"all_feature_fix.csv\")\n",
    "head(all_features)"
   ]
  },
  {
   "cell_type": "code",
   "execution_count": null,
   "metadata": {},
   "outputs": [],
   "source": [
    "head(all_features$Geneid)"
   ]
  },
  {
   "cell_type": "code",
   "execution_count": null,
   "metadata": {},
   "outputs": [],
   "source": [
    "### remove version in ensembl id ----------------------------------------------------------->\n",
    "gn <- stringr::str_split(all_features$Geneid,\"\\\\.\",simplify = T)[,1]\n",
    "all_features$Geneid <- gn\n",
    "head(all_features)"
   ]
  },
  {
   "cell_type": "code",
   "execution_count": null,
   "metadata": {},
   "outputs": [],
   "source": [
    "all_features_anno <- AnnotationDbi::mapIds(\n",
    "    org.Mm.eg.db, \n",
    "    keys=as.vector(all_features$Geneid), \n",
    "    column=\"SYMBOL\", \n",
    "    keytype=\"ENSEMBL\"\n",
    ")\n",
    "all_features_final <- all_features %>% add_column(\n",
    "    all_features_anno,\n",
    "    .after=\"Geneid\"\n",
    ")\n",
    "head(all_features_final)"
   ]
  },
  {
   "cell_type": "code",
   "execution_count": null,
   "metadata": {},
   "outputs": [],
   "source": [
    "write_tsv(deg_res_final,\"deg_result_symbol.tsv\")\n",
    "write_tsv(all_res_final,\"all_result_symbol.tsv\")\n",
    "write_tsv(all_features_final, \"all_features_symbol.tsv\")"
   ]
  },
  {
   "cell_type": "code",
   "execution_count": null,
   "metadata": {},
   "outputs": [],
   "source": []
  }
 ],
 "metadata": {
  "kernelspec": {
   "display_name": "R",
   "language": "R",
   "name": "ir"
  },
  "language_info": {
   "codemirror_mode": "r",
   "file_extension": ".r",
   "mimetype": "text/x-r-source",
   "name": "R",
   "pygments_lexer": "r",
   "version": "4.1.3"
  },
  "widgets": {
   "application/vnd.jupyter.widget-state+json": {
    "state": {},
    "version_major": 2,
    "version_minor": 0
   }
  }
 },
 "nbformat": 4,
 "nbformat_minor": 4
}
