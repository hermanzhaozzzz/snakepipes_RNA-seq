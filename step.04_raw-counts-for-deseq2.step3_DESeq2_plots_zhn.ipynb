{
 "cells": [
  {
   "cell_type": "markdown",
   "metadata": {},
   "source": [
    "# DESeq2 DE Analysis Pipeline\n",
    "- 依赖包:\n",
    "   - DESeq2\n",
    "   - RColorBrewer\n",
    "   - gplots\n",
    "   - pheatmap\n",
    "   - ggplot2\n",
    "- DESeq2对于输入数据的要求\n",
    "   - 输入数据为整数构成的矩阵\n",
    "   - 此矩阵必须是没有经过标准化(归一化/Normalize) \n",
    "- DESeq2进行差异表达分析\n",
    "   - 构建dds矩阵\n",
    "       ```\n",
    "       dds <- DESeqDataSetFromMatrix(\n",
    "                   countData = raw_counts, \n",
    "                   colData = column_info, \n",
    "                   design= ~ batch + condition) \n",
    "       #~在R里面用于构建公式对象，~左边为因变量，右边为自变量。\n",
    "       ```\n",
    "\n",
    "   - 标准化/归一化\n",
    "       ```\n",
    "       dds <- DESeq(dds) \n",
    "       #标准化\n",
    "       ```\n",
    "   - 差异分析\n",
    "       ```\n",
    "       res <- results(dds, contrast=c(\"condition\",\"treated\",\"control\")) \n",
    "       #差异分析结果\n",
    "       ```"
   ]
  },
  {
   "cell_type": "markdown",
   "metadata": {},
   "source": [
    "## load tables"
   ]
  },
  {
   "cell_type": "markdown",
   "metadata": {},
   "source": [
    "1. 读取样本信息（sample.txt）\n",
    "2. 读取featureCounts产生的各个bam文件的counts信息\n",
    "3. 检查raw_counts中的所有记录(row)的个数，这里代表count到的gene的个数, geneid被指定为row.names了所以不计在内"
   ]
  },
  {
   "cell_type": "markdown",
   "metadata": {},
   "source": [
    "### 读取样本信息"
   ]
  },
  {
   "cell_type": "code",
   "execution_count": 1,
   "metadata": {
    "execution": {
     "iopub.execute_input": "2022-12-19T14:12:14.270854Z",
     "iopub.status.busy": "2022-12-19T14:12:14.269043Z",
     "iopub.status.idle": "2022-12-19T14:12:14.309571Z",
     "shell.execute_reply": "2022-12-19T14:12:14.307395Z"
    },
    "tags": []
   },
   "outputs": [
    {
     "data": {
      "text/html": [
       "<table class=\"dataframe\">\n",
       "<caption>A data.frame: 10 × 3</caption>\n",
       "<thead>\n",
       "\t<tr><th scope=col>sample</th><th scope=col>condition</th><th scope=col>type</th></tr>\n",
       "\t<tr><th scope=col>&lt;chr&gt;</th><th scope=col>&lt;chr&gt;</th><th scope=col>&lt;chr&gt;</th></tr>\n",
       "</thead>\n",
       "<tbody>\n",
       "\t<tr><td>LI-rep1    </td><td>LI    </td><td>treat</td></tr>\n",
       "\t<tr><td>LI-rep2    </td><td>LI    </td><td>treat</td></tr>\n",
       "\t<tr><td>mLN-rep1   </td><td>mLN   </td><td>treat</td></tr>\n",
       "\t<tr><td>mLN-rep2   </td><td>mLN   </td><td>treat</td></tr>\n",
       "\t<tr><td>pLN-rep1   </td><td>pLN   </td><td>treat</td></tr>\n",
       "\t<tr><td>pLN-rep2   </td><td>pLN   </td><td>treat</td></tr>\n",
       "\t<tr><td>SI-rep1    </td><td>SI    </td><td>treat</td></tr>\n",
       "\t<tr><td>SI-rep2    </td><td>SI    </td><td>treat</td></tr>\n",
       "\t<tr><td>spleen-rep1</td><td>spleen</td><td>treat</td></tr>\n",
       "\t<tr><td>spleen-rep2</td><td>spleen</td><td>treat</td></tr>\n",
       "</tbody>\n",
       "</table>\n"
      ],
      "text/latex": [
       "A data.frame: 10 × 3\n",
       "\\begin{tabular}{lll}\n",
       " sample & condition & type\\\\\n",
       " <chr> & <chr> & <chr>\\\\\n",
       "\\hline\n",
       "\t LI-rep1     & LI     & treat\\\\\n",
       "\t LI-rep2     & LI     & treat\\\\\n",
       "\t mLN-rep1    & mLN    & treat\\\\\n",
       "\t mLN-rep2    & mLN    & treat\\\\\n",
       "\t pLN-rep1    & pLN    & treat\\\\\n",
       "\t pLN-rep2    & pLN    & treat\\\\\n",
       "\t SI-rep1     & SI     & treat\\\\\n",
       "\t SI-rep2     & SI     & treat\\\\\n",
       "\t spleen-rep1 & spleen & treat\\\\\n",
       "\t spleen-rep2 & spleen & treat\\\\\n",
       "\\end{tabular}\n"
      ],
      "text/markdown": [
       "\n",
       "A data.frame: 10 × 3\n",
       "\n",
       "| sample &lt;chr&gt; | condition &lt;chr&gt; | type &lt;chr&gt; |\n",
       "|---|---|---|\n",
       "| LI-rep1     | LI     | treat |\n",
       "| LI-rep2     | LI     | treat |\n",
       "| mLN-rep1    | mLN    | treat |\n",
       "| mLN-rep2    | mLN    | treat |\n",
       "| pLN-rep1    | pLN    | treat |\n",
       "| pLN-rep2    | pLN    | treat |\n",
       "| SI-rep1     | SI     | treat |\n",
       "| SI-rep2     | SI     | treat |\n",
       "| spleen-rep1 | spleen | treat |\n",
       "| spleen-rep2 | spleen | treat |\n",
       "\n"
      ],
      "text/plain": [
       "   sample      condition type \n",
       "1  LI-rep1     LI        treat\n",
       "2  LI-rep2     LI        treat\n",
       "3  mLN-rep1    mLN       treat\n",
       "4  mLN-rep2    mLN       treat\n",
       "5  pLN-rep1    pLN       treat\n",
       "6  pLN-rep2    pLN       treat\n",
       "7  SI-rep1     SI        treat\n",
       "8  SI-rep2     SI        treat\n",
       "9  spleen-rep1 spleen    treat\n",
       "10 spleen-rep2 spleen    treat"
      ]
     },
     "metadata": {},
     "output_type": "display_data"
    }
   ],
   "source": [
    "column_info <- read.table(\"sample.csv\", header=TRUE, sep=',')\n",
    "column_info"
   ]
  },
  {
   "cell_type": "markdown",
   "metadata": {},
   "source": [
    "### 读取原始表达矩阵"
   ]
  },
  {
   "cell_type": "code",
   "execution_count": 2,
   "metadata": {
    "execution": {
     "iopub.execute_input": "2022-12-19T14:12:18.163443Z",
     "iopub.status.busy": "2022-12-19T14:12:18.159661Z",
     "iopub.status.idle": "2022-12-19T14:12:18.310616Z",
     "shell.execute_reply": "2022-12-19T14:12:18.308373Z"
    },
    "tags": []
   },
   "outputs": [
    {
     "data": {
      "text/html": [
       "<table class=\"dataframe\">\n",
       "<caption>A data.frame: 5 × 10</caption>\n",
       "<thead>\n",
       "\t<tr><th></th><th scope=col>LI.rep1</th><th scope=col>LI.rep2</th><th scope=col>mLN.rep1</th><th scope=col>mLN.rep2</th><th scope=col>pLN.rep1</th><th scope=col>pLN.rep2</th><th scope=col>SI.rep1</th><th scope=col>SI.rep2</th><th scope=col>spleen.rep1</th><th scope=col>spleen.rep2</th></tr>\n",
       "\t<tr><th></th><th scope=col>&lt;int&gt;</th><th scope=col>&lt;int&gt;</th><th scope=col>&lt;int&gt;</th><th scope=col>&lt;int&gt;</th><th scope=col>&lt;int&gt;</th><th scope=col>&lt;int&gt;</th><th scope=col>&lt;int&gt;</th><th scope=col>&lt;int&gt;</th><th scope=col>&lt;int&gt;</th><th scope=col>&lt;int&gt;</th></tr>\n",
       "</thead>\n",
       "<tbody>\n",
       "\t<tr><th scope=row>Xkr4</th><td>32</td><td> 40</td><td> 31</td><td>33</td><td>18</td><td>17</td><td> 24</td><td> 26</td><td>0</td><td> 29</td></tr>\n",
       "\t<tr><th scope=row>Rp1</th><td>90</td><td>141</td><td>124</td><td>89</td><td>56</td><td>60</td><td>142</td><td>117</td><td>0</td><td>100</td></tr>\n",
       "\t<tr><th scope=row>Sox17</th><td> 5</td><td>  9</td><td>  3</td><td> 2</td><td> 1</td><td> 3</td><td>  2</td><td>  2</td><td>0</td><td>  4</td></tr>\n",
       "\t<tr><th scope=row>Mrpl15</th><td>39</td><td> 40</td><td> 56</td><td>36</td><td>33</td><td>53</td><td> 28</td><td> 44</td><td>0</td><td> 39</td></tr>\n",
       "\t<tr><th scope=row>Lypla1</th><td>38</td><td>269</td><td> 13</td><td>14</td><td>10</td><td> 8</td><td> 10</td><td> 15</td><td>0</td><td> 10</td></tr>\n",
       "</tbody>\n",
       "</table>\n"
      ],
      "text/latex": [
       "A data.frame: 5 × 10\n",
       "\\begin{tabular}{r|llllllllll}\n",
       "  & LI.rep1 & LI.rep2 & mLN.rep1 & mLN.rep2 & pLN.rep1 & pLN.rep2 & SI.rep1 & SI.rep2 & spleen.rep1 & spleen.rep2\\\\\n",
       "  & <int> & <int> & <int> & <int> & <int> & <int> & <int> & <int> & <int> & <int>\\\\\n",
       "\\hline\n",
       "\tXkr4 & 32 &  40 &  31 & 33 & 18 & 17 &  24 &  26 & 0 &  29\\\\\n",
       "\tRp1 & 90 & 141 & 124 & 89 & 56 & 60 & 142 & 117 & 0 & 100\\\\\n",
       "\tSox17 &  5 &   9 &   3 &  2 &  1 &  3 &   2 &   2 & 0 &   4\\\\\n",
       "\tMrpl15 & 39 &  40 &  56 & 36 & 33 & 53 &  28 &  44 & 0 &  39\\\\\n",
       "\tLypla1 & 38 & 269 &  13 & 14 & 10 &  8 &  10 &  15 & 0 &  10\\\\\n",
       "\\end{tabular}\n"
      ],
      "text/markdown": [
       "\n",
       "A data.frame: 5 × 10\n",
       "\n",
       "| <!--/--> | LI.rep1 &lt;int&gt; | LI.rep2 &lt;int&gt; | mLN.rep1 &lt;int&gt; | mLN.rep2 &lt;int&gt; | pLN.rep1 &lt;int&gt; | pLN.rep2 &lt;int&gt; | SI.rep1 &lt;int&gt; | SI.rep2 &lt;int&gt; | spleen.rep1 &lt;int&gt; | spleen.rep2 &lt;int&gt; |\n",
       "|---|---|---|---|---|---|---|---|---|---|---|\n",
       "| Xkr4 | 32 |  40 |  31 | 33 | 18 | 17 |  24 |  26 | 0 |  29 |\n",
       "| Rp1 | 90 | 141 | 124 | 89 | 56 | 60 | 142 | 117 | 0 | 100 |\n",
       "| Sox17 |  5 |   9 |   3 |  2 |  1 |  3 |   2 |   2 | 0 |   4 |\n",
       "| Mrpl15 | 39 |  40 |  56 | 36 | 33 | 53 |  28 |  44 | 0 |  39 |\n",
       "| Lypla1 | 38 | 269 |  13 | 14 | 10 |  8 |  10 |  15 | 0 |  10 |\n",
       "\n"
      ],
      "text/plain": [
       "       LI.rep1 LI.rep2 mLN.rep1 mLN.rep2 pLN.rep1 pLN.rep2 SI.rep1 SI.rep2\n",
       "Xkr4   32       40      31      33       18       17        24      26    \n",
       "Rp1    90      141     124      89       56       60       142     117    \n",
       "Sox17   5        9       3       2        1        3         2       2    \n",
       "Mrpl15 39       40      56      36       33       53        28      44    \n",
       "Lypla1 38      269      13      14       10        8        10      15    \n",
       "       spleen.rep1 spleen.rep2\n",
       "Xkr4   0            29        \n",
       "Rp1    0           100        \n",
       "Sox17  0             4        \n",
       "Mrpl15 0            39        \n",
       "Lypla1 0            10        "
      ]
     },
     "metadata": {},
     "output_type": "display_data"
    }
   ],
   "source": [
    "raw_counts <- read.table(\n",
    "    \"../featureCounts/all_feature_fix.csv\",\n",
    "    header=TRUE,\n",
    "    sep=',',\n",
    "    row.names=1\n",
    ")\n",
    "# raw_counts <- raw_counts[,c(1,2,3,7,8,9)]\n",
    "head(raw_counts, 5)"
   ]
  },
  {
   "cell_type": "code",
   "execution_count": 3,
   "metadata": {
    "execution": {
     "iopub.execute_input": "2022-12-19T14:12:23.298273Z",
     "iopub.status.busy": "2022-12-19T14:12:23.294399Z",
     "iopub.status.idle": "2022-12-19T14:12:23.328488Z",
     "shell.execute_reply": "2022-12-19T14:12:23.325236Z"
    },
    "tags": []
   },
   "outputs": [
    {
     "data": {
      "text/html": [
       "<style>\n",
       ".list-inline {list-style: none; margin:0; padding: 0}\n",
       ".list-inline>li {display: inline-block}\n",
       ".list-inline>li:not(:last-child)::after {content: \"\\00b7\"; padding: 0 .5ex}\n",
       "</style>\n",
       "<ol class=list-inline><li>24752</li><li>10</li></ol>\n"
      ],
      "text/latex": [
       "\\begin{enumerate*}\n",
       "\\item 24752\n",
       "\\item 10\n",
       "\\end{enumerate*}\n"
      ],
      "text/markdown": [
       "1. 24752\n",
       "2. 10\n",
       "\n",
       "\n"
      ],
      "text/plain": [
       "[1] 24752    10"
      ]
     },
     "metadata": {},
     "output_type": "display_data"
    }
   ],
   "source": [
    "dim(raw_counts)"
   ]
  },
  {
   "cell_type": "code",
   "execution_count": 4,
   "metadata": {
    "execution": {
     "iopub.execute_input": "2022-12-19T14:12:23.877985Z",
     "iopub.status.busy": "2022-12-19T14:12:23.874281Z",
     "iopub.status.idle": "2022-12-19T14:12:23.912052Z",
     "shell.execute_reply": "2022-12-19T14:12:23.909722Z"
    },
    "tags": []
   },
   "outputs": [
    {
     "data": {
      "text/html": [
       "<table class=\"dataframe\">\n",
       "<caption>A data.frame: 10 × 3</caption>\n",
       "<thead>\n",
       "\t<tr><th scope=col>sample</th><th scope=col>condition</th><th scope=col>type</th></tr>\n",
       "\t<tr><th scope=col>&lt;chr&gt;</th><th scope=col>&lt;chr&gt;</th><th scope=col>&lt;chr&gt;</th></tr>\n",
       "</thead>\n",
       "<tbody>\n",
       "\t<tr><td>LI-rep1    </td><td>LI    </td><td>treat</td></tr>\n",
       "\t<tr><td>LI-rep2    </td><td>LI    </td><td>treat</td></tr>\n",
       "\t<tr><td>mLN-rep1   </td><td>mLN   </td><td>treat</td></tr>\n",
       "\t<tr><td>mLN-rep2   </td><td>mLN   </td><td>treat</td></tr>\n",
       "\t<tr><td>pLN-rep1   </td><td>pLN   </td><td>treat</td></tr>\n",
       "\t<tr><td>pLN-rep2   </td><td>pLN   </td><td>treat</td></tr>\n",
       "\t<tr><td>SI-rep1    </td><td>SI    </td><td>treat</td></tr>\n",
       "\t<tr><td>SI-rep2    </td><td>SI    </td><td>treat</td></tr>\n",
       "\t<tr><td>spleen-rep1</td><td>spleen</td><td>treat</td></tr>\n",
       "\t<tr><td>spleen-rep2</td><td>spleen</td><td>treat</td></tr>\n",
       "</tbody>\n",
       "</table>\n"
      ],
      "text/latex": [
       "A data.frame: 10 × 3\n",
       "\\begin{tabular}{lll}\n",
       " sample & condition & type\\\\\n",
       " <chr> & <chr> & <chr>\\\\\n",
       "\\hline\n",
       "\t LI-rep1     & LI     & treat\\\\\n",
       "\t LI-rep2     & LI     & treat\\\\\n",
       "\t mLN-rep1    & mLN    & treat\\\\\n",
       "\t mLN-rep2    & mLN    & treat\\\\\n",
       "\t pLN-rep1    & pLN    & treat\\\\\n",
       "\t pLN-rep2    & pLN    & treat\\\\\n",
       "\t SI-rep1     & SI     & treat\\\\\n",
       "\t SI-rep2     & SI     & treat\\\\\n",
       "\t spleen-rep1 & spleen & treat\\\\\n",
       "\t spleen-rep2 & spleen & treat\\\\\n",
       "\\end{tabular}\n"
      ],
      "text/markdown": [
       "\n",
       "A data.frame: 10 × 3\n",
       "\n",
       "| sample &lt;chr&gt; | condition &lt;chr&gt; | type &lt;chr&gt; |\n",
       "|---|---|---|\n",
       "| LI-rep1     | LI     | treat |\n",
       "| LI-rep2     | LI     | treat |\n",
       "| mLN-rep1    | mLN    | treat |\n",
       "| mLN-rep2    | mLN    | treat |\n",
       "| pLN-rep1    | pLN    | treat |\n",
       "| pLN-rep2    | pLN    | treat |\n",
       "| SI-rep1     | SI     | treat |\n",
       "| SI-rep2     | SI     | treat |\n",
       "| spleen-rep1 | spleen | treat |\n",
       "| spleen-rep2 | spleen | treat |\n",
       "\n"
      ],
      "text/plain": [
       "   sample      condition type \n",
       "1  LI-rep1     LI        treat\n",
       "2  LI-rep2     LI        treat\n",
       "3  mLN-rep1    mLN       treat\n",
       "4  mLN-rep2    mLN       treat\n",
       "5  pLN-rep1    pLN       treat\n",
       "6  pLN-rep2    pLN       treat\n",
       "7  SI-rep1     SI        treat\n",
       "8  SI-rep2     SI        treat\n",
       "9  spleen-rep1 spleen    treat\n",
       "10 spleen-rep2 spleen    treat"
      ]
     },
     "metadata": {},
     "output_type": "display_data"
    }
   ],
   "source": [
    "# 看一下column_info 中的样本名称、处理条件\n",
    "column_info"
   ]
  },
  {
   "cell_type": "code",
   "execution_count": 5,
   "metadata": {
    "execution": {
     "iopub.execute_input": "2022-12-19T14:12:28.213167Z",
     "iopub.status.busy": "2022-12-19T14:12:28.208795Z",
     "iopub.status.idle": "2022-12-19T14:12:28.277430Z",
     "shell.execute_reply": "2022-12-19T14:12:28.274092Z"
    },
    "tags": []
   },
   "outputs": [
    {
     "data": {
      "text/html": [
       "<table class=\"dataframe\">\n",
       "<caption>A data.frame: 6 × 10</caption>\n",
       "<thead>\n",
       "\t<tr><th></th><th scope=col>LI.rep1</th><th scope=col>LI.rep2</th><th scope=col>mLN.rep1</th><th scope=col>mLN.rep2</th><th scope=col>pLN.rep1</th><th scope=col>pLN.rep2</th><th scope=col>SI.rep1</th><th scope=col>SI.rep2</th><th scope=col>spleen.rep1</th><th scope=col>spleen.rep2</th></tr>\n",
       "\t<tr><th></th><th scope=col>&lt;int&gt;</th><th scope=col>&lt;int&gt;</th><th scope=col>&lt;int&gt;</th><th scope=col>&lt;int&gt;</th><th scope=col>&lt;int&gt;</th><th scope=col>&lt;int&gt;</th><th scope=col>&lt;int&gt;</th><th scope=col>&lt;int&gt;</th><th scope=col>&lt;int&gt;</th><th scope=col>&lt;int&gt;</th></tr>\n",
       "</thead>\n",
       "<tbody>\n",
       "\t<tr><th scope=row>Xkr4</th><td>32</td><td> 40</td><td> 31</td><td>33</td><td>18</td><td>17</td><td> 24</td><td> 26</td><td>0</td><td> 29</td></tr>\n",
       "\t<tr><th scope=row>Rp1</th><td>90</td><td>141</td><td>124</td><td>89</td><td>56</td><td>60</td><td>142</td><td>117</td><td>0</td><td>100</td></tr>\n",
       "\t<tr><th scope=row>Sox17</th><td> 5</td><td>  9</td><td>  3</td><td> 2</td><td> 1</td><td> 3</td><td>  2</td><td>  2</td><td>0</td><td>  4</td></tr>\n",
       "\t<tr><th scope=row>Mrpl15</th><td>39</td><td> 40</td><td> 56</td><td>36</td><td>33</td><td>53</td><td> 28</td><td> 44</td><td>0</td><td> 39</td></tr>\n",
       "\t<tr><th scope=row>Lypla1</th><td>38</td><td>269</td><td> 13</td><td>14</td><td>10</td><td> 8</td><td> 10</td><td> 15</td><td>0</td><td> 10</td></tr>\n",
       "\t<tr><th scope=row>Tcea1</th><td>23</td><td>457</td><td> 25</td><td>20</td><td>16</td><td>79</td><td> 12</td><td> 17</td><td>0</td><td> 24</td></tr>\n",
       "</tbody>\n",
       "</table>\n"
      ],
      "text/latex": [
       "A data.frame: 6 × 10\n",
       "\\begin{tabular}{r|llllllllll}\n",
       "  & LI.rep1 & LI.rep2 & mLN.rep1 & mLN.rep2 & pLN.rep1 & pLN.rep2 & SI.rep1 & SI.rep2 & spleen.rep1 & spleen.rep2\\\\\n",
       "  & <int> & <int> & <int> & <int> & <int> & <int> & <int> & <int> & <int> & <int>\\\\\n",
       "\\hline\n",
       "\tXkr4 & 32 &  40 &  31 & 33 & 18 & 17 &  24 &  26 & 0 &  29\\\\\n",
       "\tRp1 & 90 & 141 & 124 & 89 & 56 & 60 & 142 & 117 & 0 & 100\\\\\n",
       "\tSox17 &  5 &   9 &   3 &  2 &  1 &  3 &   2 &   2 & 0 &   4\\\\\n",
       "\tMrpl15 & 39 &  40 &  56 & 36 & 33 & 53 &  28 &  44 & 0 &  39\\\\\n",
       "\tLypla1 & 38 & 269 &  13 & 14 & 10 &  8 &  10 &  15 & 0 &  10\\\\\n",
       "\tTcea1 & 23 & 457 &  25 & 20 & 16 & 79 &  12 &  17 & 0 &  24\\\\\n",
       "\\end{tabular}\n"
      ],
      "text/markdown": [
       "\n",
       "A data.frame: 6 × 10\n",
       "\n",
       "| <!--/--> | LI.rep1 &lt;int&gt; | LI.rep2 &lt;int&gt; | mLN.rep1 &lt;int&gt; | mLN.rep2 &lt;int&gt; | pLN.rep1 &lt;int&gt; | pLN.rep2 &lt;int&gt; | SI.rep1 &lt;int&gt; | SI.rep2 &lt;int&gt; | spleen.rep1 &lt;int&gt; | spleen.rep2 &lt;int&gt; |\n",
       "|---|---|---|---|---|---|---|---|---|---|---|\n",
       "| Xkr4 | 32 |  40 |  31 | 33 | 18 | 17 |  24 |  26 | 0 |  29 |\n",
       "| Rp1 | 90 | 141 | 124 | 89 | 56 | 60 | 142 | 117 | 0 | 100 |\n",
       "| Sox17 |  5 |   9 |   3 |  2 |  1 |  3 |   2 |   2 | 0 |   4 |\n",
       "| Mrpl15 | 39 |  40 |  56 | 36 | 33 | 53 |  28 |  44 | 0 |  39 |\n",
       "| Lypla1 | 38 | 269 |  13 | 14 | 10 |  8 |  10 |  15 | 0 |  10 |\n",
       "| Tcea1 | 23 | 457 |  25 | 20 | 16 | 79 |  12 |  17 | 0 |  24 |\n",
       "\n"
      ],
      "text/plain": [
       "       LI.rep1 LI.rep2 mLN.rep1 mLN.rep2 pLN.rep1 pLN.rep2 SI.rep1 SI.rep2\n",
       "Xkr4   32       40      31      33       18       17        24      26    \n",
       "Rp1    90      141     124      89       56       60       142     117    \n",
       "Sox17   5        9       3       2        1        3         2       2    \n",
       "Mrpl15 39       40      56      36       33       53        28      44    \n",
       "Lypla1 38      269      13      14       10        8        10      15    \n",
       "Tcea1  23      457      25      20       16       79        12      17    \n",
       "       spleen.rep1 spleen.rep2\n",
       "Xkr4   0            29        \n",
       "Rp1    0           100        \n",
       "Sox17  0             4        \n",
       "Mrpl15 0            39        \n",
       "Lypla1 0            10        \n",
       "Tcea1  0            24        "
      ]
     },
     "metadata": {},
     "output_type": "display_data"
    }
   ],
   "source": [
    "# 看一下raw_counts\n",
    "# geneid为index，样本信息的counts数为columns\n",
    "head(raw_counts)"
   ]
  },
  {
   "cell_type": "markdown",
   "metadata": {},
   "source": [
    "4. 过滤掉行的和为0，也就是没有bam文件中count到reads的genes"
   ]
  },
  {
   "cell_type": "code",
   "execution_count": 6,
   "metadata": {
    "execution": {
     "iopub.execute_input": "2022-12-19T14:12:35.833647Z",
     "iopub.status.busy": "2022-12-19T14:12:35.829465Z",
     "iopub.status.idle": "2022-12-19T14:12:35.880437Z",
     "shell.execute_reply": "2022-12-19T14:12:35.877326Z"
    },
    "tags": []
   },
   "outputs": [
    {
     "data": {
      "text/html": [
       "<style>\n",
       ".list-inline {list-style: none; margin:0; padding: 0}\n",
       ".list-inline>li {display: inline-block}\n",
       ".list-inline>li:not(:last-child)::after {content: \"\\00b7\"; padding: 0 .5ex}\n",
       "</style>\n",
       "<ol class=list-inline><li>24752</li><li>10</li></ol>\n"
      ],
      "text/latex": [
       "\\begin{enumerate*}\n",
       "\\item 24752\n",
       "\\item 10\n",
       "\\end{enumerate*}\n"
      ],
      "text/markdown": [
       "1. 24752\n",
       "2. 10\n",
       "\n",
       "\n"
      ],
      "text/plain": [
       "[1] 24752    10"
      ]
     },
     "metadata": {},
     "output_type": "display_data"
    }
   ],
   "source": [
    "### filt genes that don't express in all sample -------------------------------------------->\n",
    "#  其实不用过滤了，step3过滤了RPKM >= 1\n",
    "raw_counts <- raw_counts[rowSums(raw_counts)>0,]\n",
    "dim(raw_counts)"
   ]
  },
  {
   "cell_type": "markdown",
   "metadata": {},
   "source": [
    "5. rownames函数调用矩阵的row.names\n",
    "6. 调用stringr package中的str_split函数，去除geneid中的gene名的.以及后面的内容\n",
    "7. 使用duplicated函数去掉重复的gn id   "
   ]
  },
  {
   "cell_type": "code",
   "execution_count": 7,
   "metadata": {
    "execution": {
     "iopub.execute_input": "2022-12-19T14:13:09.490693Z",
     "iopub.status.busy": "2022-12-19T14:13:09.487517Z",
     "iopub.status.idle": "2022-12-19T14:13:10.168390Z",
     "shell.execute_reply": "2022-12-19T14:13:10.165462Z"
    },
    "tags": []
   },
   "outputs": [
    {
     "data": {
      "text/html": [
       "<style>\n",
       ".list-inline {list-style: none; margin:0; padding: 0}\n",
       ".list-inline>li {display: inline-block}\n",
       ".list-inline>li:not(:last-child)::after {content: \"\\00b7\"; padding: 0 .5ex}\n",
       "</style>\n",
       "<ol class=list-inline><li>24746</li><li>10</li></ol>\n"
      ],
      "text/latex": [
       "\\begin{enumerate*}\n",
       "\\item 24746\n",
       "\\item 10\n",
       "\\end{enumerate*}\n"
      ],
      "text/markdown": [
       "1. 24746\n",
       "2. 10\n",
       "\n",
       "\n"
      ],
      "text/plain": [
       "[1] 24746    10"
      ]
     },
     "metadata": {},
     "output_type": "display_data"
    }
   ],
   "source": [
    "### remove version in ensembl id ----------------------------------------------------------->\n",
    "gn <- stringr::str_split(rownames(raw_counts),\"\\\\.\",simplify = T)[,1]\n",
    "# gene_id如果已经是name，name这个也做不做无所谓↑\n",
    "# remove duplicate\n",
    "raw_counts <- raw_counts[!duplicated(gn),]\n",
    "rownames(raw_counts) <- gn[!duplicated(gn)]\n",
    "dim(raw_counts)"
   ]
  },
  {
   "cell_type": "code",
   "execution_count": 8,
   "metadata": {
    "execution": {
     "iopub.execute_input": "2022-12-19T14:13:13.583075Z",
     "iopub.status.busy": "2022-12-19T14:13:13.579183Z",
     "iopub.status.idle": "2022-12-19T14:13:13.643316Z",
     "shell.execute_reply": "2022-12-19T14:13:13.640333Z"
    },
    "tags": []
   },
   "outputs": [
    {
     "data": {
      "text/html": [
       "<table class=\"dataframe\">\n",
       "<caption>A data.frame: 6 × 10</caption>\n",
       "<thead>\n",
       "\t<tr><th></th><th scope=col>LI.rep1</th><th scope=col>LI.rep2</th><th scope=col>mLN.rep1</th><th scope=col>mLN.rep2</th><th scope=col>pLN.rep1</th><th scope=col>pLN.rep2</th><th scope=col>SI.rep1</th><th scope=col>SI.rep2</th><th scope=col>spleen.rep1</th><th scope=col>spleen.rep2</th></tr>\n",
       "\t<tr><th></th><th scope=col>&lt;int&gt;</th><th scope=col>&lt;int&gt;</th><th scope=col>&lt;int&gt;</th><th scope=col>&lt;int&gt;</th><th scope=col>&lt;int&gt;</th><th scope=col>&lt;int&gt;</th><th scope=col>&lt;int&gt;</th><th scope=col>&lt;int&gt;</th><th scope=col>&lt;int&gt;</th><th scope=col>&lt;int&gt;</th></tr>\n",
       "</thead>\n",
       "<tbody>\n",
       "\t<tr><th scope=row>Xkr4</th><td>32</td><td> 40</td><td> 31</td><td>33</td><td>18</td><td>17</td><td> 24</td><td> 26</td><td>0</td><td> 29</td></tr>\n",
       "\t<tr><th scope=row>Rp1</th><td>90</td><td>141</td><td>124</td><td>89</td><td>56</td><td>60</td><td>142</td><td>117</td><td>0</td><td>100</td></tr>\n",
       "\t<tr><th scope=row>Sox17</th><td> 5</td><td>  9</td><td>  3</td><td> 2</td><td> 1</td><td> 3</td><td>  2</td><td>  2</td><td>0</td><td>  4</td></tr>\n",
       "\t<tr><th scope=row>Mrpl15</th><td>39</td><td> 40</td><td> 56</td><td>36</td><td>33</td><td>53</td><td> 28</td><td> 44</td><td>0</td><td> 39</td></tr>\n",
       "\t<tr><th scope=row>Lypla1</th><td>38</td><td>269</td><td> 13</td><td>14</td><td>10</td><td> 8</td><td> 10</td><td> 15</td><td>0</td><td> 10</td></tr>\n",
       "\t<tr><th scope=row>Tcea1</th><td>23</td><td>457</td><td> 25</td><td>20</td><td>16</td><td>79</td><td> 12</td><td> 17</td><td>0</td><td> 24</td></tr>\n",
       "</tbody>\n",
       "</table>\n"
      ],
      "text/latex": [
       "A data.frame: 6 × 10\n",
       "\\begin{tabular}{r|llllllllll}\n",
       "  & LI.rep1 & LI.rep2 & mLN.rep1 & mLN.rep2 & pLN.rep1 & pLN.rep2 & SI.rep1 & SI.rep2 & spleen.rep1 & spleen.rep2\\\\\n",
       "  & <int> & <int> & <int> & <int> & <int> & <int> & <int> & <int> & <int> & <int>\\\\\n",
       "\\hline\n",
       "\tXkr4 & 32 &  40 &  31 & 33 & 18 & 17 &  24 &  26 & 0 &  29\\\\\n",
       "\tRp1 & 90 & 141 & 124 & 89 & 56 & 60 & 142 & 117 & 0 & 100\\\\\n",
       "\tSox17 &  5 &   9 &   3 &  2 &  1 &  3 &   2 &   2 & 0 &   4\\\\\n",
       "\tMrpl15 & 39 &  40 &  56 & 36 & 33 & 53 &  28 &  44 & 0 &  39\\\\\n",
       "\tLypla1 & 38 & 269 &  13 & 14 & 10 &  8 &  10 &  15 & 0 &  10\\\\\n",
       "\tTcea1 & 23 & 457 &  25 & 20 & 16 & 79 &  12 &  17 & 0 &  24\\\\\n",
       "\\end{tabular}\n"
      ],
      "text/markdown": [
       "\n",
       "A data.frame: 6 × 10\n",
       "\n",
       "| <!--/--> | LI.rep1 &lt;int&gt; | LI.rep2 &lt;int&gt; | mLN.rep1 &lt;int&gt; | mLN.rep2 &lt;int&gt; | pLN.rep1 &lt;int&gt; | pLN.rep2 &lt;int&gt; | SI.rep1 &lt;int&gt; | SI.rep2 &lt;int&gt; | spleen.rep1 &lt;int&gt; | spleen.rep2 &lt;int&gt; |\n",
       "|---|---|---|---|---|---|---|---|---|---|---|\n",
       "| Xkr4 | 32 |  40 |  31 | 33 | 18 | 17 |  24 |  26 | 0 |  29 |\n",
       "| Rp1 | 90 | 141 | 124 | 89 | 56 | 60 | 142 | 117 | 0 | 100 |\n",
       "| Sox17 |  5 |   9 |   3 |  2 |  1 |  3 |   2 |   2 | 0 |   4 |\n",
       "| Mrpl15 | 39 |  40 |  56 | 36 | 33 | 53 |  28 |  44 | 0 |  39 |\n",
       "| Lypla1 | 38 | 269 |  13 | 14 | 10 |  8 |  10 |  15 | 0 |  10 |\n",
       "| Tcea1 | 23 | 457 |  25 | 20 | 16 | 79 |  12 |  17 | 0 |  24 |\n",
       "\n"
      ],
      "text/plain": [
       "       LI.rep1 LI.rep2 mLN.rep1 mLN.rep2 pLN.rep1 pLN.rep2 SI.rep1 SI.rep2\n",
       "Xkr4   32       40      31      33       18       17        24      26    \n",
       "Rp1    90      141     124      89       56       60       142     117    \n",
       "Sox17   5        9       3       2        1        3         2       2    \n",
       "Mrpl15 39       40      56      36       33       53        28      44    \n",
       "Lypla1 38      269      13      14       10        8        10      15    \n",
       "Tcea1  23      457      25      20       16       79        12      17    \n",
       "       spleen.rep1 spleen.rep2\n",
       "Xkr4   0            29        \n",
       "Rp1    0           100        \n",
       "Sox17  0             4        \n",
       "Mrpl15 0            39        \n",
       "Lypla1 0            10        \n",
       "Tcea1  0            24        "
      ]
     },
     "metadata": {},
     "output_type": "display_data"
    }
   ],
   "source": [
    "head(raw_counts)"
   ]
  },
  {
   "cell_type": "markdown",
   "metadata": {},
   "source": [
    "## 构建dds矩阵\n",
    "\n",
    "将count的矩阵输入DESeq2的DESeqDataSetFromMatrix函数中，产生dds(DEseq Data Set)\n",
    "\n",
    "\n",
    "构建dds矩阵需要：\n",
    "\n",
    "- 表达矩阵\n",
    "   - 即上述代码中的countData，就是我们前面通过read count计算后并融合生成的矩阵，行row为各个基因，列col为各个样品，中间为计算reads或者fragment得到的整数。我们后面要用的是这个文件（mouse_all_count.txt）\n",
    "- 样品信息\n",
    "   - 矩阵即上述代码中的colData，它的类型是一个dataframe（数据框），这个东西叫【元数据】\n",
    "   - 第一列是样品名称，\n",
    "   - 第二列是样品的处理情况（对照还是处理等），即condition，condition的类型是一个factor\n",
    "   - 第三列type可以理解为宏观的处理条件，需要时使用，用不着也可以留空\n",
    "   \n",
    "   - 这里我用第三列的type作为自变量(你也可以用第二列的condition)\n",
    "- 差异比较矩阵\n",
    "   - 即上述代码中的design。\n",
    "   - 差异比较矩阵就是告诉差异分析函数是要分析哪些变量间的差异\n",
    "   - 简单说就是说明哪些是对照哪些是处理。"
   ]
  },
  {
   "cell_type": "code",
   "execution_count": 9,
   "metadata": {
    "execution": {
     "iopub.execute_input": "2022-12-19T14:13:34.223152Z",
     "iopub.status.busy": "2022-12-19T14:13:34.219573Z",
     "iopub.status.idle": "2022-12-19T14:13:43.425042Z",
     "shell.execute_reply": "2022-12-19T14:13:43.422400Z"
    },
    "tags": []
   },
   "outputs": [
    {
     "name": "stderr",
     "output_type": "stream",
     "text": [
      "── \u001b[1mAttaching packages\u001b[22m ───────────────────────────────────────────────────────────────────────── tidyverse 1.3.2 ──\n",
      "\u001b[32m✔\u001b[39m \u001b[34mggplot2\u001b[39m 3.4.0     \u001b[32m✔\u001b[39m \u001b[34mpurrr  \u001b[39m 0.3.4\n",
      "\u001b[32m✔\u001b[39m \u001b[34mtibble \u001b[39m 3.1.7     \u001b[32m✔\u001b[39m \u001b[34mdplyr  \u001b[39m 1.0.9\n",
      "\u001b[32m✔\u001b[39m \u001b[34mtidyr  \u001b[39m 1.2.0     \u001b[32m✔\u001b[39m \u001b[34mstringr\u001b[39m 1.4.1\n",
      "\u001b[32m✔\u001b[39m \u001b[34mreadr  \u001b[39m 2.1.2     \u001b[32m✔\u001b[39m \u001b[34mforcats\u001b[39m 0.5.1\n",
      "── \u001b[1mConflicts\u001b[22m ──────────────────────────────────────────────────────────────────────────── tidyverse_conflicts() ──\n",
      "\u001b[31m✖\u001b[39m \u001b[34mdplyr\u001b[39m::\u001b[32mfilter()\u001b[39m masks \u001b[34mstats\u001b[39m::filter()\n",
      "\u001b[31m✖\u001b[39m \u001b[34mdplyr\u001b[39m::\u001b[32mlag()\u001b[39m    masks \u001b[34mstats\u001b[39m::lag()\n"
     ]
    }
   ],
   "source": [
    "library(tidyverse)"
   ]
  },
  {
   "cell_type": "code",
   "execution_count": 10,
   "metadata": {
    "execution": {
     "iopub.execute_input": "2022-12-19T14:13:45.976611Z",
     "iopub.status.busy": "2022-12-19T14:13:45.972512Z",
     "iopub.status.idle": "2022-12-19T14:13:45.994542Z",
     "shell.execute_reply": "2022-12-19T14:13:45.991622Z"
    },
    "tags": []
   },
   "outputs": [],
   "source": [
    "# column_info\n",
    "# raw_counts"
   ]
  },
  {
   "cell_type": "code",
   "execution_count": 11,
   "metadata": {
    "execution": {
     "iopub.execute_input": "2022-12-19T14:13:46.540498Z",
     "iopub.status.busy": "2022-12-19T14:13:46.538429Z",
     "iopub.status.idle": "2022-12-19T14:13:46.572229Z",
     "shell.execute_reply": "2022-12-19T14:13:46.569799Z"
    },
    "tags": []
   },
   "outputs": [
    {
     "data": {
      "text/html": [
       "<table class=\"dataframe\">\n",
       "<caption>A data.frame: 10 × 3</caption>\n",
       "<thead>\n",
       "\t<tr><th scope=col>sample</th><th scope=col>condition</th><th scope=col>type</th></tr>\n",
       "\t<tr><th scope=col>&lt;chr&gt;</th><th scope=col>&lt;chr&gt;</th><th scope=col>&lt;chr&gt;</th></tr>\n",
       "</thead>\n",
       "<tbody>\n",
       "\t<tr><td>LI-rep1    </td><td>LI    </td><td>treat</td></tr>\n",
       "\t<tr><td>LI-rep2    </td><td>LI    </td><td>treat</td></tr>\n",
       "\t<tr><td>mLN-rep1   </td><td>mLN   </td><td>treat</td></tr>\n",
       "\t<tr><td>mLN-rep2   </td><td>mLN   </td><td>treat</td></tr>\n",
       "\t<tr><td>pLN-rep1   </td><td>pLN   </td><td>treat</td></tr>\n",
       "\t<tr><td>pLN-rep2   </td><td>pLN   </td><td>treat</td></tr>\n",
       "\t<tr><td>SI-rep1    </td><td>SI    </td><td>treat</td></tr>\n",
       "\t<tr><td>SI-rep2    </td><td>SI    </td><td>treat</td></tr>\n",
       "\t<tr><td>spleen-rep1</td><td>spleen</td><td>treat</td></tr>\n",
       "\t<tr><td>spleen-rep2</td><td>spleen</td><td>treat</td></tr>\n",
       "</tbody>\n",
       "</table>\n"
      ],
      "text/latex": [
       "A data.frame: 10 × 3\n",
       "\\begin{tabular}{lll}\n",
       " sample & condition & type\\\\\n",
       " <chr> & <chr> & <chr>\\\\\n",
       "\\hline\n",
       "\t LI-rep1     & LI     & treat\\\\\n",
       "\t LI-rep2     & LI     & treat\\\\\n",
       "\t mLN-rep1    & mLN    & treat\\\\\n",
       "\t mLN-rep2    & mLN    & treat\\\\\n",
       "\t pLN-rep1    & pLN    & treat\\\\\n",
       "\t pLN-rep2    & pLN    & treat\\\\\n",
       "\t SI-rep1     & SI     & treat\\\\\n",
       "\t SI-rep2     & SI     & treat\\\\\n",
       "\t spleen-rep1 & spleen & treat\\\\\n",
       "\t spleen-rep2 & spleen & treat\\\\\n",
       "\\end{tabular}\n"
      ],
      "text/markdown": [
       "\n",
       "A data.frame: 10 × 3\n",
       "\n",
       "| sample &lt;chr&gt; | condition &lt;chr&gt; | type &lt;chr&gt; |\n",
       "|---|---|---|\n",
       "| LI-rep1     | LI     | treat |\n",
       "| LI-rep2     | LI     | treat |\n",
       "| mLN-rep1    | mLN    | treat |\n",
       "| mLN-rep2    | mLN    | treat |\n",
       "| pLN-rep1    | pLN    | treat |\n",
       "| pLN-rep2    | pLN    | treat |\n",
       "| SI-rep1     | SI     | treat |\n",
       "| SI-rep2     | SI     | treat |\n",
       "| spleen-rep1 | spleen | treat |\n",
       "| spleen-rep2 | spleen | treat |\n",
       "\n"
      ],
      "text/plain": [
       "   sample      condition type \n",
       "1  LI-rep1     LI        treat\n",
       "2  LI-rep2     LI        treat\n",
       "3  mLN-rep1    mLN       treat\n",
       "4  mLN-rep2    mLN       treat\n",
       "5  pLN-rep1    pLN       treat\n",
       "6  pLN-rep2    pLN       treat\n",
       "7  SI-rep1     SI        treat\n",
       "8  SI-rep2     SI        treat\n",
       "9  spleen-rep1 spleen    treat\n",
       "10 spleen-rep2 spleen    treat"
      ]
     },
     "metadata": {},
     "output_type": "display_data"
    }
   ],
   "source": [
    "column_info"
   ]
  },
  {
   "cell_type": "code",
   "execution_count": 12,
   "metadata": {
    "execution": {
     "iopub.execute_input": "2022-12-19T14:13:48.836545Z",
     "iopub.status.busy": "2022-12-19T14:13:48.833278Z",
     "iopub.status.idle": "2022-12-19T14:13:48.929647Z",
     "shell.execute_reply": "2022-12-19T14:13:48.927036Z"
    },
    "tags": []
   },
   "outputs": [],
   "source": [
    "column_info_filter = column_info %>% filter(condition %in% c('LI', 'mLN'))\n",
    "raw_counts_select =  raw_counts %>% select(LI.rep1, LI.rep2, mLN.rep1, mLN.rep2)"
   ]
  },
  {
   "cell_type": "code",
   "execution_count": 13,
   "metadata": {
    "execution": {
     "iopub.execute_input": "2022-12-19T14:13:52.439147Z",
     "iopub.status.busy": "2022-12-19T14:13:52.434847Z",
     "iopub.status.idle": "2022-12-19T14:13:52.487669Z",
     "shell.execute_reply": "2022-12-19T14:13:52.483786Z"
    },
    "tags": []
   },
   "outputs": [
    {
     "data": {
      "text/html": [
       "<table class=\"dataframe\">\n",
       "<caption>A data.frame: 4 × 3</caption>\n",
       "<thead>\n",
       "\t<tr><th scope=col>sample</th><th scope=col>condition</th><th scope=col>type</th></tr>\n",
       "\t<tr><th scope=col>&lt;chr&gt;</th><th scope=col>&lt;chr&gt;</th><th scope=col>&lt;chr&gt;</th></tr>\n",
       "</thead>\n",
       "<tbody>\n",
       "\t<tr><td>LI-rep1 </td><td>LI </td><td>treat</td></tr>\n",
       "\t<tr><td>LI-rep2 </td><td>LI </td><td>treat</td></tr>\n",
       "\t<tr><td>mLN-rep1</td><td>mLN</td><td>treat</td></tr>\n",
       "\t<tr><td>mLN-rep2</td><td>mLN</td><td>treat</td></tr>\n",
       "</tbody>\n",
       "</table>\n"
      ],
      "text/latex": [
       "A data.frame: 4 × 3\n",
       "\\begin{tabular}{lll}\n",
       " sample & condition & type\\\\\n",
       " <chr> & <chr> & <chr>\\\\\n",
       "\\hline\n",
       "\t LI-rep1  & LI  & treat\\\\\n",
       "\t LI-rep2  & LI  & treat\\\\\n",
       "\t mLN-rep1 & mLN & treat\\\\\n",
       "\t mLN-rep2 & mLN & treat\\\\\n",
       "\\end{tabular}\n"
      ],
      "text/markdown": [
       "\n",
       "A data.frame: 4 × 3\n",
       "\n",
       "| sample &lt;chr&gt; | condition &lt;chr&gt; | type &lt;chr&gt; |\n",
       "|---|---|---|\n",
       "| LI-rep1  | LI  | treat |\n",
       "| LI-rep2  | LI  | treat |\n",
       "| mLN-rep1 | mLN | treat |\n",
       "| mLN-rep2 | mLN | treat |\n",
       "\n"
      ],
      "text/plain": [
       "  sample   condition type \n",
       "1 LI-rep1  LI        treat\n",
       "2 LI-rep2  LI        treat\n",
       "3 mLN-rep1 mLN       treat\n",
       "4 mLN-rep2 mLN       treat"
      ]
     },
     "metadata": {},
     "output_type": "display_data"
    }
   ],
   "source": [
    "column_info_filter"
   ]
  },
  {
   "cell_type": "code",
   "execution_count": 14,
   "metadata": {
    "execution": {
     "iopub.execute_input": "2022-12-19T14:14:09.731947Z",
     "iopub.status.busy": "2022-12-19T14:14:09.726689Z",
     "iopub.status.idle": "2022-12-19T14:14:09.784857Z",
     "shell.execute_reply": "2022-12-19T14:14:09.781515Z"
    }
   },
   "outputs": [
    {
     "data": {
      "text/html": [
       "<table class=\"dataframe\">\n",
       "<caption>A data.frame: 6 × 4</caption>\n",
       "<thead>\n",
       "\t<tr><th></th><th scope=col>LI.rep1</th><th scope=col>LI.rep2</th><th scope=col>mLN.rep1</th><th scope=col>mLN.rep2</th></tr>\n",
       "\t<tr><th></th><th scope=col>&lt;int&gt;</th><th scope=col>&lt;int&gt;</th><th scope=col>&lt;int&gt;</th><th scope=col>&lt;int&gt;</th></tr>\n",
       "</thead>\n",
       "<tbody>\n",
       "\t<tr><th scope=row>Xkr4</th><td>32</td><td> 40</td><td> 31</td><td>33</td></tr>\n",
       "\t<tr><th scope=row>Rp1</th><td>90</td><td>141</td><td>124</td><td>89</td></tr>\n",
       "\t<tr><th scope=row>Sox17</th><td> 5</td><td>  9</td><td>  3</td><td> 2</td></tr>\n",
       "\t<tr><th scope=row>Mrpl15</th><td>39</td><td> 40</td><td> 56</td><td>36</td></tr>\n",
       "\t<tr><th scope=row>Lypla1</th><td>38</td><td>269</td><td> 13</td><td>14</td></tr>\n",
       "\t<tr><th scope=row>Tcea1</th><td>23</td><td>457</td><td> 25</td><td>20</td></tr>\n",
       "</tbody>\n",
       "</table>\n"
      ],
      "text/latex": [
       "A data.frame: 6 × 4\n",
       "\\begin{tabular}{r|llll}\n",
       "  & LI.rep1 & LI.rep2 & mLN.rep1 & mLN.rep2\\\\\n",
       "  & <int> & <int> & <int> & <int>\\\\\n",
       "\\hline\n",
       "\tXkr4 & 32 &  40 &  31 & 33\\\\\n",
       "\tRp1 & 90 & 141 & 124 & 89\\\\\n",
       "\tSox17 &  5 &   9 &   3 &  2\\\\\n",
       "\tMrpl15 & 39 &  40 &  56 & 36\\\\\n",
       "\tLypla1 & 38 & 269 &  13 & 14\\\\\n",
       "\tTcea1 & 23 & 457 &  25 & 20\\\\\n",
       "\\end{tabular}\n"
      ],
      "text/markdown": [
       "\n",
       "A data.frame: 6 × 4\n",
       "\n",
       "| <!--/--> | LI.rep1 &lt;int&gt; | LI.rep2 &lt;int&gt; | mLN.rep1 &lt;int&gt; | mLN.rep2 &lt;int&gt; |\n",
       "|---|---|---|---|---|\n",
       "| Xkr4 | 32 |  40 |  31 | 33 |\n",
       "| Rp1 | 90 | 141 | 124 | 89 |\n",
       "| Sox17 |  5 |   9 |   3 |  2 |\n",
       "| Mrpl15 | 39 |  40 |  56 | 36 |\n",
       "| Lypla1 | 38 | 269 |  13 | 14 |\n",
       "| Tcea1 | 23 | 457 |  25 | 20 |\n",
       "\n"
      ],
      "text/plain": [
       "       LI.rep1 LI.rep2 mLN.rep1 mLN.rep2\n",
       "Xkr4   32       40      31      33      \n",
       "Rp1    90      141     124      89      \n",
       "Sox17   5        9       3       2      \n",
       "Mrpl15 39       40      56      36      \n",
       "Lypla1 38      269      13      14      \n",
       "Tcea1  23      457      25      20      "
      ]
     },
     "metadata": {},
     "output_type": "display_data"
    }
   ],
   "source": [
    "head(raw_counts_select)"
   ]
  },
  {
   "cell_type": "code",
   "execution_count": 15,
   "metadata": {
    "execution": {
     "iopub.execute_input": "2022-12-19T14:14:14.739064Z",
     "iopub.status.busy": "2022-12-19T14:14:14.734670Z",
     "iopub.status.idle": "2022-12-19T14:14:33.637310Z",
     "shell.execute_reply": "2022-12-19T14:14:33.635198Z"
    },
    "tags": []
   },
   "outputs": [
    {
     "name": "stderr",
     "output_type": "stream",
     "text": [
      "载入需要的程辑包：S4Vectors\n",
      "\n",
      "载入需要的程辑包：stats4\n",
      "\n",
      "载入需要的程辑包：BiocGenerics\n",
      "\n",
      "\n",
      "载入程辑包：‘BiocGenerics’\n",
      "\n",
      "\n",
      "The following objects are masked from ‘package:dplyr’:\n",
      "\n",
      "    combine, intersect, setdiff, union\n",
      "\n",
      "\n",
      "The following objects are masked from ‘package:stats’:\n",
      "\n",
      "    IQR, mad, sd, var, xtabs\n",
      "\n",
      "\n",
      "The following objects are masked from ‘package:base’:\n",
      "\n",
      "    anyDuplicated, aperm, append, as.data.frame, basename, cbind,\n",
      "    colnames, dirname, do.call, duplicated, eval, evalq, Filter, Find,\n",
      "    get, grep, grepl, intersect, is.unsorted, lapply, Map, mapply,\n",
      "    match, mget, order, paste, pmax, pmax.int, pmin, pmin.int,\n",
      "    Position, rank, rbind, Reduce, rownames, sapply, setdiff, sort,\n",
      "    table, tapply, union, unique, unsplit, which.max, which.min\n",
      "\n",
      "\n",
      "\n",
      "载入程辑包：‘S4Vectors’\n",
      "\n",
      "\n",
      "The following objects are masked from ‘package:dplyr’:\n",
      "\n",
      "    first, rename\n",
      "\n",
      "\n",
      "The following object is masked from ‘package:tidyr’:\n",
      "\n",
      "    expand\n",
      "\n",
      "\n",
      "The following objects are masked from ‘package:base’:\n",
      "\n",
      "    expand.grid, I, unname\n",
      "\n",
      "\n",
      "载入需要的程辑包：IRanges\n",
      "\n",
      "\n",
      "载入程辑包：‘IRanges’\n",
      "\n",
      "\n",
      "The following objects are masked from ‘package:dplyr’:\n",
      "\n",
      "    collapse, desc, slice\n",
      "\n",
      "\n",
      "The following object is masked from ‘package:purrr’:\n",
      "\n",
      "    reduce\n",
      "\n",
      "\n",
      "载入需要的程辑包：GenomicRanges\n",
      "\n",
      "载入需要的程辑包：GenomeInfoDb\n",
      "\n",
      "载入需要的程辑包：SummarizedExperiment\n",
      "\n",
      "载入需要的程辑包：MatrixGenerics\n",
      "\n",
      "载入需要的程辑包：matrixStats\n",
      "\n",
      "\n",
      "载入程辑包：‘matrixStats’\n",
      "\n",
      "\n",
      "The following object is masked from ‘package:dplyr’:\n",
      "\n",
      "    count\n",
      "\n",
      "\n",
      "\n",
      "载入程辑包：‘MatrixGenerics’\n",
      "\n",
      "\n",
      "The following objects are masked from ‘package:matrixStats’:\n",
      "\n",
      "    colAlls, colAnyNAs, colAnys, colAvgsPerRowSet, colCollapse,\n",
      "    colCounts, colCummaxs, colCummins, colCumprods, colCumsums,\n",
      "    colDiffs, colIQRDiffs, colIQRs, colLogSumExps, colMadDiffs,\n",
      "    colMads, colMaxs, colMeans2, colMedians, colMins, colOrderStats,\n",
      "    colProds, colQuantiles, colRanges, colRanks, colSdDiffs, colSds,\n",
      "    colSums2, colTabulates, colVarDiffs, colVars, colWeightedMads,\n",
      "    colWeightedMeans, colWeightedMedians, colWeightedSds,\n",
      "    colWeightedVars, rowAlls, rowAnyNAs, rowAnys, rowAvgsPerColSet,\n",
      "    rowCollapse, rowCounts, rowCummaxs, rowCummins, rowCumprods,\n",
      "    rowCumsums, rowDiffs, rowIQRDiffs, rowIQRs, rowLogSumExps,\n",
      "    rowMadDiffs, rowMads, rowMaxs, rowMeans2, rowMedians, rowMins,\n",
      "    rowOrderStats, rowProds, rowQuantiles, rowRanges, rowRanks,\n",
      "    rowSdDiffs, rowSds, rowSums2, rowTabulates, rowVarDiffs, rowVars,\n",
      "    rowWeightedMads, rowWeightedMeans, rowWeightedMedians,\n",
      "    rowWeightedSds, rowWeightedVars\n",
      "\n",
      "\n",
      "载入需要的程辑包：Biobase\n",
      "\n",
      "Welcome to Bioconductor\n",
      "\n",
      "    Vignettes contain introductory material; view with\n",
      "    'browseVignettes()'. To cite Bioconductor, see\n",
      "    'citation(\"Biobase\")', and for packages 'citation(\"pkgname\")'.\n",
      "\n",
      "\n",
      "\n",
      "载入程辑包：‘Biobase’\n",
      "\n",
      "\n",
      "The following object is masked from ‘package:MatrixGenerics’:\n",
      "\n",
      "    rowMedians\n",
      "\n",
      "\n",
      "The following objects are masked from ‘package:matrixStats’:\n",
      "\n",
      "    anyMissing, rowMedians\n",
      "\n",
      "\n",
      "Warning message in DESeqDataSet(se, design = design, ignoreRank):\n",
      "“some variables in design formula are characters, converting to factors”\n"
     ]
    },
    {
     "data": {
      "text/plain": [
       "class: DESeqDataSet \n",
       "dim: 24746 4 \n",
       "metadata(1): version\n",
       "assays(1): counts\n",
       "rownames(24746): Xkr4 Rp1 ... Gm7102 Csf2ra\n",
       "rowData names(0):\n",
       "colnames(4): LI.rep1 LI.rep2 mLN.rep1 mLN.rep2\n",
       "colData names(3): sample condition type"
      ]
     },
     "metadata": {},
     "output_type": "display_data"
    }
   ],
   "source": [
    "### DEseq analyses ------------------------------------------------------------------------->\n",
    "# mamba install bioconductor-deseq2\n",
    "library(DESeq2)\n",
    "dds <- DESeqDataSetFromMatrix(\n",
    "    countData=raw_counts_select,\n",
    "    colData=column_info_filter,\n",
    "    design=~ condition\n",
    ") \n",
    "# ~在R里面用于构建公式对象，~左边为因变量(design)，右边为自变量(type/condition) \n",
    "dds"
   ]
  },
  {
   "cell_type": "code",
   "execution_count": 17,
   "metadata": {
    "execution": {
     "iopub.execute_input": "2022-12-19T14:14:51.606976Z",
     "iopub.status.busy": "2022-12-19T14:14:51.603135Z",
     "iopub.status.idle": "2022-12-19T14:14:51.739873Z",
     "shell.execute_reply": "2022-12-19T14:14:51.737790Z"
    },
    "tags": []
   },
   "outputs": [
    {
     "data": {
      "text/plain": [
       "class: DESeqDataSet \n",
       "dim: 23167 4 \n",
       "metadata(1): version\n",
       "assays(1): counts\n",
       "rownames(23167): Xkr4 Rp1 ... Gm7102 Csf2ra\n",
       "rowData names(0):\n",
       "colnames(4): LI.rep1 LI.rep2 mLN.rep1 mLN.rep2\n",
       "colData names(3): sample condition type"
      ]
     },
     "metadata": {},
     "output_type": "display_data"
    }
   ],
   "source": [
    "# 预过滤 【不做】\n",
    "# 虽然不必在运行DESeq2函数之前对低计数基因进行预过滤，但是有两个原因使预过滤有用：\n",
    "# - 通过删除读取次数很少的行，我们减小了dds数据对象的内存大小，并且我们提高了DESeq2中转换和测试功能的速度。\n",
    "# - 在这里，我们执行最小的预过滤，以仅保留总读取次数至少为10的行。\n",
    "# - 请注意，对结果函数中的归一化计数的平均值进行独立滤波后，会自动应用更严格的滤波以增加功率。\n",
    "\n",
    "keep <- rowSums(counts(dds)) >= 10\n",
    "dds <- dds[keep,]\n",
    "dds"
   ]
  },
  {
   "cell_type": "markdown",
   "metadata": {},
   "source": [
    "9. 将dds输入DESeq函数#原始dds进行normalize\n",
    "DESeq包含三步:\n",
    "- estimation of size factors（estimateSizeFactors)\n",
    "- estimation of dispersion（estimateDispersons)\n",
    "- Negative Binomial GLM fitting and Wald statistics（nbinomWaldTest）\n",
    "- 【可以分布运行，也可用一步到位，最后返回 results可用的DESeqDataSet对象。】"
   ]
  },
  {
   "cell_type": "code",
   "execution_count": 18,
   "metadata": {
    "execution": {
     "iopub.execute_input": "2022-12-19T14:14:58.183655Z",
     "iopub.status.busy": "2022-12-19T14:14:58.179819Z",
     "iopub.status.idle": "2022-12-19T14:15:07.442068Z",
     "shell.execute_reply": "2022-12-19T14:15:07.440215Z"
    },
    "tags": []
   },
   "outputs": [
    {
     "name": "stderr",
     "output_type": "stream",
     "text": [
      "estimating size factors\n",
      "\n",
      "estimating dispersions\n",
      "\n",
      "gene-wise dispersion estimates\n",
      "\n",
      "mean-dispersion relationship\n",
      "\n",
      "-- note: fitType='parametric', but the dispersion trend was not well captured by the\n",
      "   function: y = a/x + b, and a local regression fit was automatically substituted.\n",
      "   specify fitType='local' or 'mean' to avoid this message next time.\n",
      "\n",
      "final dispersion estimates\n",
      "\n",
      "fitting model and testing\n",
      "\n"
     ]
    },
    {
     "data": {
      "text/plain": [
       "class: DESeqDataSet \n",
       "dim: 23167 4 \n",
       "metadata(1): version\n",
       "assays(4): counts mu H cooks\n",
       "rownames(23167): Xkr4 Rp1 ... Gm7102 Csf2ra\n",
       "rowData names(22): baseMean baseVar ... deviance maxCooks\n",
       "colnames(4): LI.rep1 LI.rep2 mLN.rep1 mLN.rep2\n",
       "colData names(4): sample condition type sizeFactor"
      ]
     },
     "metadata": {},
     "output_type": "display_data"
    }
   ],
   "source": [
    "dds <- DESeq(dds)\n",
    "dds"
   ]
  },
  {
   "cell_type": "markdown",
   "metadata": {},
   "source": [
    "## 观察数据的离散情况 Plot Dispersion Estimates\n",
    "- A simple helper function that plots the per-gene dispersion estimates together with the fitted mean-dispersion relationship.\n",
    "\n",
    "Arguments\n",
    "- object\n",
    "   - a DESeqDataSet, with dispersions estimated\n",
    "- ymin\n",
    "   - the lower bound for points on the plot, points beyond this are drawn as triangles at ymin\n",
    "- genecol\n",
    "   - the color for gene-wise dispersion estimates\n",
    "- fitcol\n",
    "   - the color of the fitted estimates\n",
    "- finalcol\n",
    "   - the color of the final estimates used for testing\n",
    "- legend\n",
    "   - logical, whether to draw a legend\n",
    "- [文档](https://www.rdocumentation.org/packages/DESeq2/versions/1.12.3/topics/plotDispEsts)"
   ]
  },
  {
   "cell_type": "code",
   "execution_count": null,
   "metadata": {
    "tags": []
   },
   "outputs": [],
   "source": [
    "pdf(\"plots/000_Dispersion_plot.pdf\",width=8,height=8)\n",
    "plotDispEsts(dds, main=\"Dispersion plot\")\n",
    "dev.off()"
   ]
  },
  {
   "cell_type": "code",
   "execution_count": null,
   "metadata": {},
   "outputs": [],
   "source": [
    "dds"
   ]
  },
  {
   "cell_type": "markdown",
   "metadata": {},
   "source": [
    "11. 将结果用results()函数来获取，赋值给res变量"
   ]
  },
  {
   "cell_type": "code",
   "execution_count": null,
   "metadata": {},
   "outputs": [],
   "source": [
    "res <- results(dds,contrast=c(\"condition\", \"NC\", \"PUS7\"))\n",
    "# summary一下，看一下结果的概要信息\n",
    "summary(res)"
   ]
  },
  {
   "cell_type": "markdown",
   "metadata": {},
   "source": [
    "12. normalization前面的数据分布差异"
   ]
  },
  {
   "cell_type": "code",
   "execution_count": null,
   "metadata": {},
   "outputs": [],
   "source": [
    "### rld normalization ---------------------------------------------------------------------->\n",
    "## 下面的代码如果你不感兴趣不需要运行，免得误导你\n",
    "## 就是看看normalization前面的数据分布差异\n",
    "rld <- rlogTransformation(dds)\n",
    "raw_counts_new=assay(rld)\n",
    "par(cex = 0.7)\n",
    "n.sample=ncol(raw_counts)\n",
    "if(n.sample>40) par(cex = 0.5)\n",
    "cols <- rainbow(n.sample*1.2)\n",
    "# 上一步比较耗时，算数据分布用"
   ]
  },
  {
   "cell_type": "code",
   "execution_count": null,
   "metadata": {},
   "outputs": [],
   "source": [
    "pdf(\"plots/001_expression_value_compare.pdf\",width=20,height=15)\n",
    "par(mfrow=c(1,2))\n",
    "boxplot(raw_counts, col = cols,main=\"expression value_raw_counts: before nornalization\",las=2)\n",
    "boxplot(raw_counts_new, col = cols,main=\"expression value_raw_counts_new: after nornalization\",las=2)\n",
    "\n",
    "dev.off()"
   ]
  },
  {
   "cell_type": "code",
   "execution_count": null,
   "metadata": {},
   "outputs": [],
   "source": [
    "pdf(\"plots/002_expression_distribution_info_hist.pdf\",width=8,height=8)\n",
    "hist(raw_counts_new)\n",
    "dev.off()"
   ]
  },
  {
   "cell_type": "markdown",
   "metadata": {},
   "source": [
    "13. plot correlation heatmap"
   ]
  },
  {
   "cell_type": "code",
   "execution_count": null,
   "metadata": {},
   "outputs": [],
   "source": [
    "# 查看raw_counts_new\n",
    "head(raw_counts_new)"
   ]
  },
  {
   "cell_type": "code",
   "execution_count": null,
   "metadata": {},
   "outputs": [],
   "source": [
    "### plot correlation heatmap -------------------------------------------------------------->\n",
    "library(RColorBrewer)\n",
    "(mycols <- brewer.pal(8, \"Dark2\")[1:length(unique(column_info$condition))])\n",
    "# Sample distance heatmap\n",
    "sampleDists <- dist(t(raw_counts_new))\n",
    "sampleDistsMatrix <- as.matrix(sampleDists)\n",
    "head(sampleDistsMatrix)"
   ]
  },
  {
   "cell_type": "code",
   "execution_count": null,
   "metadata": {},
   "outputs": [],
   "source": [
    "library(gplots)\n",
    "library(pheatmap)\n",
    "\n",
    "png(\"qc-heatmap-samples.png\", w=1000, h=1000, pointsize=20)\n",
    "# heatmap.2(sampleDistsMatrix, key=F, trace=\"none\",\n",
    "#         col=colorpanel(100, \"black\", \"white\"),\n",
    "#          ColSideColors=mycols[column_info$condition], RowSideColors=mycols[column_info$condition],\n",
    "#          margin=c(10, 10), main=\"Sample Distance Matrix\")\n",
    "colors <- colorRampPalette(rev(brewer.pal(9,\"Blues\")))(255)\n",
    "\n",
    "\n",
    "ht <- pheatmap(sampleDistsMatrix,\n",
    "               clustering_distance_cols = sampleDists,\n",
    "               clustering_distance_rows = sampleDists,\n",
    "               color = colors\n",
    "              )\n",
    "ht"
   ]
  },
  {
   "cell_type": "code",
   "execution_count": null,
   "metadata": {},
   "outputs": [],
   "source": [
    "pdf(\"plots/003_correlation_cross_samples_heatmap.pdf\",width = 20, height = 20)\n",
    "ht\n",
    "dev.off()"
   ]
  },
  {
   "cell_type": "markdown",
   "metadata": {},
   "source": [
    "14. MA plot\n",
    "- log2 折叠变换和平均正常统计量的关系，红色的点表示在10%FDR的基因"
   ]
  },
  {
   "cell_type": "code",
   "execution_count": null,
   "metadata": {},
   "outputs": [],
   "source": [
    "### MA plot ------------------------------------------------------------------------------>\n",
    "pdf(\"plots/004_DESeq2_MA_plot.pdf\",width = 8, height = 8)\n",
    "par(mfrow=c(1,1))\n",
    "DESeq2::plotMA(res, main=\"DESeq2\", ylim=c(-20,20))\n",
    "dev.off()"
   ]
  },
  {
   "cell_type": "markdown",
   "metadata": {},
   "source": [
    "15. nbinomTest的p值统计直方图"
   ]
  },
  {
   "cell_type": "code",
   "execution_count": null,
   "metadata": {},
   "outputs": [],
   "source": [
    "pdf(\"plots/005_nbinomTest_p_value.pdf\",width = 8, height = 8)\n",
    "hist(res$pvalue, breaks = 100, col = 'skyblue', border = 'slateblue', main = 'nbinomTest p value')\n",
    "dev.off()"
   ]
  },
  {
   "cell_type": "markdown",
   "metadata": {},
   "source": [
    "16. rld to PCA(vst is better than rlog when n>=30)"
   ]
  },
  {
   "cell_type": "code",
   "execution_count": null,
   "metadata": {},
   "outputs": [],
   "source": [
    "pdf(\"plots/006_PCAplot.pdf\", width = 8, height = 8)\n",
    "plotPCA(rld,intgroup=c(\"condition\"))\n",
    "dev.off()"
   ]
  },
  {
   "cell_type": "markdown",
   "metadata": {},
   "source": [
    "17. 这个heatmap干嘛的？"
   ]
  },
  {
   "cell_type": "code",
   "execution_count": null,
   "metadata": {},
   "outputs": [],
   "source": [
    "library(ggplot2)\n",
    "d <- plotCounts(dds,gene=which.min(res$padj), intgroup = \"condition\",returnData = TRUE)"
   ]
  },
  {
   "cell_type": "code",
   "execution_count": null,
   "metadata": {},
   "outputs": [],
   "source": [
    "pdf(\"plots/007_jitter_plot_for_min_pvalue_transcript_counts.pdf\", height = 8, width = 8)\n",
    "ggplot(d,aes(x=condition,y=count))+\n",
    "  geom_point(position = position_jitter(w=0.1,h=0))+\n",
    "  scale_y_log10(breaks=c(25,100,400))\n",
    "dev.off()"
   ]
  },
  {
   "cell_type": "markdown",
   "metadata": {},
   "source": [
    "18. 处理res数据并且输出DEG表格"
   ]
  },
  {
   "cell_type": "code",
   "execution_count": null,
   "metadata": {},
   "outputs": [],
   "source": [
    "### deal with res and extract DEG!!! ----------------------------------------------------->\n",
    "# 标准cutoff\n",
    "log2fc = 1  # >=1\n",
    "pv = 0.05  # <=0.05\n",
    "# 松cutoff\n",
    "# log2fc = 1  # >=1\n",
    "# pv = 1  # <=0.05\n",
    "\n",
    "\n",
    "resOrdered <- res[order(res$padj),]\n",
    "resOrdered[which(resOrdered$log2FoldChange >= log2fc & resOrdered$pvalue<pv), 'sig'] <- 'up'\n",
    "resOrdered[which(resOrdered$log2FoldChange <= -log2fc & resOrdered$pvalue<pv),'sig'] <- 'down'\n",
    "resOrdered[which(abs(resOrdered$log2FoldChange) <= log2fc & resOrdered$pvalue>=pv),'sig'] <- 'none'\n",
    "resOrdered=as.data.frame(resOrdered)\n",
    "\n",
    "write.table(resOrdered,\"plots/deseq2.all_sample.results.csv\",col.names = NA, sep = \",\", quote = FALSE)\n",
    "\n",
    "deg <- subset(resOrdered, (abs(resOrdered$log2FoldChange) >=log2fc & resOrdered$padj<pv)) ##### extract DEG !\n",
    "\n",
    "deg_matrix <- as.data.frame(deg)\n",
    "write.table(deg_matrix, 'plots/deg_result.csv', col.names = NA, sep = \",\", quote = FALSE)\n",
    "\n",
    "\n",
    "# raw count norm by deseq2\n",
    "write.table(raw_counts_new, 'plots/raw_counts_norm_by_DESeq2.csv', col.names = NA, sep = \",\", quote = FALSE)\n",
    "\n",
    "print(dim(deg))\n",
    "deg"
   ]
  },
  {
   "cell_type": "code",
   "execution_count": null,
   "metadata": {},
   "outputs": [],
   "source": [
    "### plot heatmap ------------------------------------------------------------------------->\n",
    "### plot all genes heatmap\n",
    "select <- order(rowMeans(counts(dds,normalized=TRUE)),\n",
    "                decreasing=TRUE)[1:1000]  ### select first ordered 1000 genes(not deg)\n",
    "#                 decreasing=TRUE)[1:50]  ### select first ordered 66 genes(not deg)\n",
    "df <- as.data.frame(column_info(dds)[,c(\"condition\")])\n",
    "p1000 <- pheatmap(assay(rld)[select,], cluster_rows=FALSE, show_rownames=FALSE,\n",
    "         cluster_cols=FALSE,scale = \"column\")\n",
    "p1000"
   ]
  },
  {
   "cell_type": "code",
   "execution_count": null,
   "metadata": {},
   "outputs": [],
   "source": [
    "select <- order(rowMeans(counts(dds,normalized=TRUE)),\n",
    "#                 decreasing=TRUE)[1:1000]  ### select first ordered 1000 genes(not deg)\n",
    "                decreasing=TRUE)[1:50]  ### select first ordered 66 genes(not deg)\n",
    "df <- as.data.frame(column_info(dds)[,c(\"condition\")])\n",
    "p50 <- pheatmap(assay(rld)[select,], cluster_rows=FALSE, show_rownames=FALSE,\n",
    "         cluster_cols=FALSE,scale = \"column\")\n",
    "p50"
   ]
  },
  {
   "cell_type": "code",
   "execution_count": null,
   "metadata": {},
   "outputs": [],
   "source": [
    "pdf(\"plots/008_select_first_ordered_1000_transcriptsOrGenes_plot_heatmap.pdf\",height = 20,width = 20)\n",
    "p1000\n",
    "dev.off()\n",
    "pdf(\"plots/009_select_first_ordered_50_transcriptsOrGenes_plot_heatmap.pdf\",height = 20,width = 20)\n",
    "p50\n",
    "dev.off()"
   ]
  },
  {
   "cell_type": "code",
   "execution_count": null,
   "metadata": {},
   "outputs": [],
   "source": [
    "### plot DEG heatmap\n",
    "selected <- rownames(deg)\n",
    "pDEG <- pheatmap(assay(rld)[rownames(rld) %in% selected,], \n",
    "#                  cluster_rows=TRUE, \n",
    "#                  show_rownames=TRUE,\n",
    "                cluster_rows=TRUE, \n",
    "                show_rownames=FALSE,\n",
    "         cluster_cols=FALSE, scale = \"column\")"
   ]
  },
  {
   "cell_type": "code",
   "execution_count": null,
   "metadata": {},
   "outputs": [],
   "source": [
    "pdf(\"plots/010_select_differential_expression_genes_heatmap.pdf\",height = 5,width = 20)\n",
    "pDEG\n",
    "dev.off()"
   ]
  },
  {
   "cell_type": "code",
   "execution_count": null,
   "metadata": {},
   "outputs": [],
   "source": [
    "resOrdered"
   ]
  },
  {
   "cell_type": "code",
   "execution_count": null,
   "metadata": {},
   "outputs": [],
   "source": [
    "### plot valcano ------------------------------------------------------------------------>\n",
    "vp <- ggplot(data = resOrdered, aes(x = log2FoldChange, y = -log10(padj),color = sig)) +\n",
    "  geom_point(size = 1.7, alpha=0.8) +  #绘制散点图\n",
    "  scale_color_manual(values = c('#B22222', 'gray', '#4169E1'), limits = c('up', 'none', 'down')) +  #自定义点的颜色\n",
    "  labs(x = 'log2 Fold Change', y = '-log10 adjust p-value', title = 'control vs treat', color = '') +  #坐标轴标题\n",
    "  theme(plot.title = element_text(hjust = 0.5, size = 14), panel.grid = element_blank(), #背景色、网格线、图例等主题修改\n",
    "        panel.background = element_rect(color = 'black', fill = 'transparent'),\n",
    "        legend.key = element_rect(fill = 'transparent')) +\n",
    "  geom_vline(xintercept = c(-1, 1), lty = 3, color = 'black') +  #添加阈值线\n",
    "  geom_hline(yintercept = 1.3, lty = 3, color = 'black') +\n",
    "  # xlim(-2, 2) + ylim(0, 5)\n",
    "  xlim(-10, 10) + ylim(0, 100)\n",
    "\n",
    "vp"
   ]
  },
  {
   "cell_type": "code",
   "execution_count": null,
   "metadata": {},
   "outputs": [],
   "source": [
    "pdf(\"plots/011_select_differential_expression_genes_valcano_plot.pdf\",height = 5,width = 8)\n",
    "vp\n",
    "dev.off()"
   ]
  },
  {
   "cell_type": "markdown",
   "metadata": {},
   "source": [
    "# 转换所有基因名和差异表达基因名"
   ]
  },
  {
   "cell_type": "code",
   "execution_count": null,
   "metadata": {},
   "outputs": [],
   "source": [
    "library(tidyverse)"
   ]
  },
  {
   "cell_type": "code",
   "execution_count": null,
   "metadata": {},
   "outputs": [],
   "source": [
    "deg_res <- read_csv(\"plots/deg_result.csv\")\n",
    "all_res <- read_csv(\"plots/deseq2.all_sample.results.csv\")\n",
    "colnames(deg_res)"
   ]
  },
  {
   "cell_type": "markdown",
   "metadata": {},
   "source": [
    "```\n",
    "git clone https://github.com/xuzhougeng/org.At.tair.db.git\n",
    "cd org.At.tair.db\n",
    "Rscript org.At.tair.db.R\n",
    "```"
   ]
  },
  {
   "cell_type": "code",
   "execution_count": null,
   "metadata": {},
   "outputs": [],
   "source": [
    "library(AnnotationDbi)\n",
    "library(org.Mm.eg.db)"
   ]
  },
  {
   "cell_type": "code",
   "execution_count": null,
   "metadata": {},
   "outputs": [],
   "source": [
    "deg_anno <- AnnotationDbi::mapIds(\n",
    "    org.Mm.eg.db, \n",
    "    keys=as.vector(deg_res$X1), \n",
    "    column=\"SYMBOL\", \n",
    "    keytype=\"ENSEMBL\"\n",
    ")\n",
    "deg_res_final <- deg_res %>% add_column(\n",
    "    deg_anno,\n",
    "    .after=\"X1\"\n",
    ")\n",
    "head(deg_res_final)"
   ]
  },
  {
   "cell_type": "code",
   "execution_count": null,
   "metadata": {},
   "outputs": [],
   "source": [
    "all_anno <- AnnotationDbi::mapIds(\n",
    "    org.Mm.eg.db, \n",
    "    keys=as.vector(all_res$X1), \n",
    "    column=\"SYMBOL\", \n",
    "    keytype=\"ENSEMBL\"\n",
    ")\n",
    "all_res_final <- all_res %>% add_column(\n",
    "    all_anno,\n",
    "    .after=\"X1\"\n",
    ")\n",
    "head(all_res_final)"
   ]
  },
  {
   "cell_type": "code",
   "execution_count": null,
   "metadata": {},
   "outputs": [],
   "source": [
    "all_features <- read_tsv(\"all_feature_fix.csv\")\n",
    "head(all_features)"
   ]
  },
  {
   "cell_type": "code",
   "execution_count": null,
   "metadata": {},
   "outputs": [],
   "source": [
    "head(all_features$Geneid)"
   ]
  },
  {
   "cell_type": "code",
   "execution_count": null,
   "metadata": {},
   "outputs": [],
   "source": [
    "### remove version in ensembl id ----------------------------------------------------------->\n",
    "gn <- stringr::str_split(all_features$Geneid,\"\\\\.\",simplify = T)[,1]\n",
    "all_features$Geneid <- gn\n",
    "head(all_features)"
   ]
  },
  {
   "cell_type": "code",
   "execution_count": null,
   "metadata": {},
   "outputs": [],
   "source": [
    "all_features_anno <- AnnotationDbi::mapIds(\n",
    "    org.Mm.eg.db, \n",
    "    keys=as.vector(all_features$Geneid), \n",
    "    column=\"SYMBOL\", \n",
    "    keytype=\"ENSEMBL\"\n",
    ")\n",
    "all_features_final <- all_features %>% add_column(\n",
    "    all_features_anno,\n",
    "    .after=\"Geneid\"\n",
    ")\n",
    "head(all_features_final)"
   ]
  },
  {
   "cell_type": "code",
   "execution_count": null,
   "metadata": {},
   "outputs": [],
   "source": [
    "write_tsv(deg_res_final,\"deg_result_symbol.tsv\")\n",
    "write_tsv(all_res_final,\"all_result_symbol.tsv\")\n",
    "write_tsv(all_features_final, \"all_features_symbol.tsv\")"
   ]
  },
  {
   "cell_type": "code",
   "execution_count": null,
   "metadata": {},
   "outputs": [],
   "source": []
  }
 ],
 "metadata": {
  "kernelspec": {
   "display_name": "R",
   "language": "R",
   "name": "ir-base"
  },
  "language_info": {
   "codemirror_mode": "r",
   "file_extension": ".r",
   "mimetype": "text/x-r-source",
   "name": "R",
   "pygments_lexer": "r",
   "version": "4.2.2"
  },
  "widgets": {
   "application/vnd.jupyter.widget-state+json": {
    "state": {},
    "version_major": 2,
    "version_minor": 0
   }
  }
 },
 "nbformat": 4,
 "nbformat_minor": 4
}
