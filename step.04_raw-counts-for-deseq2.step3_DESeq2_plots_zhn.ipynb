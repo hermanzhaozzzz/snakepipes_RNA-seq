{
 "cells": [
  {
   "cell_type": "markdown",
   "metadata": {},
   "source": [
    "# DESeq2 DE Analysis Pipeline\n",
    "- 依赖包:\n",
    "   - DESeq2\n",
    "   - RColorBrewer\n",
    "   - gplots\n",
    "   - pheatmap\n",
    "   - ggplot2\n",
    "- DESeq2对于输入数据的要求\n",
    "   - 输入数据为整数构成的矩阵\n",
    "   - 此矩阵必须是没有经过标准化(归一化/Normalize) \n",
    "- DESeq2进行差异表达分析\n",
    "   - 构建dds矩阵\n",
    "       ```\n",
    "       dds <- DESeqDataSetFromMatrix(\n",
    "                   countData = cts, \n",
    "                   colData = coldata, \n",
    "                   design= ~ batch + condition) \n",
    "       #~在R里面用于构建公式对象，~左边为因变量，右边为自变量。\n",
    "       ```\n",
    "\n",
    "   - 标准化/归一化\n",
    "       ```\n",
    "       dds <- DESeq(dds) \n",
    "       #标准化\n",
    "       ```\n",
    "   - 差异分析\n",
    "       ```\n",
    "       res <- results(dds, contrast=c(\"condition\",\"treated\",\"control\")) \n",
    "       #差异分析结果\n",
    "       ```"
   ]
  },
  {
   "cell_type": "code",
   "execution_count": 234,
   "metadata": {},
   "outputs": [
    {
     "data": {
      "text/html": [
       "<style>\n",
       ".list-inline {list-style: none; margin:0; padding: 0}\n",
       ".list-inline>li {display: inline-block}\n",
       ".list-inline>li:not(:last-child)::after {content: \"\\00b7\"; padding: 0 .5ex}\n",
       "</style>\n",
       "<ol class=list-inline><li>11930</li><li>6</li></ol>\n"
      ],
      "text/latex": [
       "\\begin{enumerate*}\n",
       "\\item 11930\n",
       "\\item 6\n",
       "\\end{enumerate*}\n"
      ],
      "text/markdown": [
       "1. 11930\n",
       "2. 6\n",
       "\n",
       "\n"
      ],
      "text/plain": [
       "[1] 11930     6"
      ]
     },
     "metadata": {},
     "output_type": "display_data"
    }
   ],
   "source": [
    "### read data ------------------------------------------------------------------------------>\n",
    "rawcts <- read.table(\"../featureCounts/all_feature_fix.csv\",header = TRUE,row.names = 1)\n",
    "\n",
    "# vs1\n",
    "# colData <- read.table(\"sample-NC_vs_CCNB1.csv\",header = TRUE)\n",
    "# rawcts <- rawcts[,c(1,2,3,4,5,6)]\n",
    "colData <- read.table(\"sample-NC_vs_PUS7.csv\",header = TRUE)\n",
    "rawcts <- rawcts[,c(1,2,3,7,8,9)]\n",
    "\n",
    "dim(rawcts)"
   ]
  },
  {
   "cell_type": "code",
   "execution_count": 235,
   "metadata": {},
   "outputs": [
    {
     "data": {
      "text/html": [
       "<table class=\"dataframe\">\n",
       "<caption>A data.frame: 4 × 6</caption>\n",
       "<thead>\n",
       "\t<tr><th></th><th scope=col>NC1</th><th scope=col>NC2</th><th scope=col>NC3</th><th scope=col>PUS71</th><th scope=col>PUS72</th><th scope=col>PUS73</th></tr>\n",
       "\t<tr><th></th><th scope=col>&lt;int&gt;</th><th scope=col>&lt;int&gt;</th><th scope=col>&lt;int&gt;</th><th scope=col>&lt;int&gt;</th><th scope=col>&lt;int&gt;</th><th scope=col>&lt;int&gt;</th></tr>\n",
       "</thead>\n",
       "<tbody>\n",
       "\t<tr><th scope=row>WASH7P</th><td> 602</td><td> 520</td><td> 415</td><td> 404</td><td> 442</td><td> 466</td></tr>\n",
       "\t<tr><th scope=row>LOC729737</th><td> 456</td><td> 362</td><td> 335</td><td> 372</td><td> 432</td><td> 462</td></tr>\n",
       "\t<tr><th scope=row>MIR12136</th><td>1423</td><td>1778</td><td>2292</td><td>3055</td><td>3109</td><td>3044</td></tr>\n",
       "\t<tr><th scope=row>LOC100288069</th><td> 472</td><td> 539</td><td> 399</td><td> 384</td><td> 437</td><td> 467</td></tr>\n",
       "</tbody>\n",
       "</table>\n"
      ],
      "text/latex": [
       "A data.frame: 4 × 6\n",
       "\\begin{tabular}{r|llllll}\n",
       "  & NC1 & NC2 & NC3 & PUS71 & PUS72 & PUS73\\\\\n",
       "  & <int> & <int> & <int> & <int> & <int> & <int>\\\\\n",
       "\\hline\n",
       "\tWASH7P &  602 &  520 &  415 &  404 &  442 &  466\\\\\n",
       "\tLOC729737 &  456 &  362 &  335 &  372 &  432 &  462\\\\\n",
       "\tMIR12136 & 1423 & 1778 & 2292 & 3055 & 3109 & 3044\\\\\n",
       "\tLOC100288069 &  472 &  539 &  399 &  384 &  437 &  467\\\\\n",
       "\\end{tabular}\n"
      ],
      "text/markdown": [
       "\n",
       "A data.frame: 4 × 6\n",
       "\n",
       "| <!--/--> | NC1 &lt;int&gt; | NC2 &lt;int&gt; | NC3 &lt;int&gt; | PUS71 &lt;int&gt; | PUS72 &lt;int&gt; | PUS73 &lt;int&gt; |\n",
       "|---|---|---|---|---|---|---|\n",
       "| WASH7P |  602 |  520 |  415 |  404 |  442 |  466 |\n",
       "| LOC729737 |  456 |  362 |  335 |  372 |  432 |  462 |\n",
       "| MIR12136 | 1423 | 1778 | 2292 | 3055 | 3109 | 3044 |\n",
       "| LOC100288069 |  472 |  539 |  399 |  384 |  437 |  467 |\n",
       "\n"
      ],
      "text/plain": [
       "             NC1  NC2  NC3  PUS71 PUS72 PUS73\n",
       "WASH7P        602  520  415  404   442   466 \n",
       "LOC729737     456  362  335  372   432   462 \n",
       "MIR12136     1423 1778 2292 3055  3109  3044 \n",
       "LOC100288069  472  539  399  384   437   467 "
      ]
     },
     "metadata": {},
     "output_type": "display_data"
    }
   ],
   "source": [
    "head(rawcts,4)"
   ]
  },
  {
   "cell_type": "markdown",
   "metadata": {},
   "source": [
    "1. 读取样本信息（sample.txt）\n",
    "2. 读取featureCounts产生的各个bam文件的counts信息\n",
    "3. 检查rawcts中的所有记录(row)的个数，这里代表count到的gene的个数, geneid被指定为row.names了所以不计在内"
   ]
  },
  {
   "cell_type": "code",
   "execution_count": 236,
   "metadata": {},
   "outputs": [
    {
     "data": {
      "text/html": [
       "<style>\n",
       ".list-inline {list-style: none; margin:0; padding: 0}\n",
       ".list-inline>li {display: inline-block}\n",
       ".list-inline>li:not(:last-child)::after {content: \"\\00b7\"; padding: 0 .5ex}\n",
       "</style>\n",
       "<ol class=list-inline><li>11930</li><li>6</li></ol>\n"
      ],
      "text/latex": [
       "\\begin{enumerate*}\n",
       "\\item 11930\n",
       "\\item 6\n",
       "\\end{enumerate*}\n"
      ],
      "text/markdown": [
       "1. 11930\n",
       "2. 6\n",
       "\n",
       "\n"
      ],
      "text/plain": [
       "[1] 11930     6"
      ]
     },
     "metadata": {},
     "output_type": "display_data"
    }
   ],
   "source": [
    "# 21653 transcripts, 104 exps\n",
    "dim(rawcts)"
   ]
  },
  {
   "cell_type": "code",
   "execution_count": 237,
   "metadata": {},
   "outputs": [
    {
     "data": {
      "text/html": [
       "<table class=\"dataframe\">\n",
       "<caption>A data.frame: 6 × 3</caption>\n",
       "<thead>\n",
       "\t<tr><th scope=col>sample</th><th scope=col>condition</th><th scope=col>type</th></tr>\n",
       "\t<tr><th scope=col>&lt;chr&gt;</th><th scope=col>&lt;chr&gt;</th><th scope=col>&lt;chr&gt;</th></tr>\n",
       "</thead>\n",
       "<tbody>\n",
       "\t<tr><td>NC1  </td><td>NC  </td><td>ctrl </td></tr>\n",
       "\t<tr><td>NC2  </td><td>NC  </td><td>ctrl </td></tr>\n",
       "\t<tr><td>NC3  </td><td>NC  </td><td>ctrl </td></tr>\n",
       "\t<tr><td>PUS71</td><td>PUS7</td><td>treat</td></tr>\n",
       "\t<tr><td>PUS72</td><td>PUS7</td><td>treat</td></tr>\n",
       "\t<tr><td>PUS73</td><td>PUS7</td><td>treat</td></tr>\n",
       "</tbody>\n",
       "</table>\n"
      ],
      "text/latex": [
       "A data.frame: 6 × 3\n",
       "\\begin{tabular}{lll}\n",
       " sample & condition & type\\\\\n",
       " <chr> & <chr> & <chr>\\\\\n",
       "\\hline\n",
       "\t NC1   & NC   & ctrl \\\\\n",
       "\t NC2   & NC   & ctrl \\\\\n",
       "\t NC3   & NC   & ctrl \\\\\n",
       "\t PUS71 & PUS7 & treat\\\\\n",
       "\t PUS72 & PUS7 & treat\\\\\n",
       "\t PUS73 & PUS7 & treat\\\\\n",
       "\\end{tabular}\n"
      ],
      "text/markdown": [
       "\n",
       "A data.frame: 6 × 3\n",
       "\n",
       "| sample &lt;chr&gt; | condition &lt;chr&gt; | type &lt;chr&gt; |\n",
       "|---|---|---|\n",
       "| NC1   | NC   | ctrl  |\n",
       "| NC2   | NC   | ctrl  |\n",
       "| NC3   | NC   | ctrl  |\n",
       "| PUS71 | PUS7 | treat |\n",
       "| PUS72 | PUS7 | treat |\n",
       "| PUS73 | PUS7 | treat |\n",
       "\n"
      ],
      "text/plain": [
       "  sample condition type \n",
       "1 NC1    NC        ctrl \n",
       "2 NC2    NC        ctrl \n",
       "3 NC3    NC        ctrl \n",
       "4 PUS71  PUS7      treat\n",
       "5 PUS72  PUS7      treat\n",
       "6 PUS73  PUS7      treat"
      ]
     },
     "metadata": {},
     "output_type": "display_data"
    }
   ],
   "source": [
    "# 看一下colData\n",
    "# 样本名称、处理条件\n",
    "colData"
   ]
  },
  {
   "cell_type": "code",
   "execution_count": 238,
   "metadata": {},
   "outputs": [
    {
     "data": {
      "text/html": [
       "<table class=\"dataframe\">\n",
       "<caption>A data.frame: 6 × 6</caption>\n",
       "<thead>\n",
       "\t<tr><th></th><th scope=col>NC1</th><th scope=col>NC2</th><th scope=col>NC3</th><th scope=col>PUS71</th><th scope=col>PUS72</th><th scope=col>PUS73</th></tr>\n",
       "\t<tr><th></th><th scope=col>&lt;int&gt;</th><th scope=col>&lt;int&gt;</th><th scope=col>&lt;int&gt;</th><th scope=col>&lt;int&gt;</th><th scope=col>&lt;int&gt;</th><th scope=col>&lt;int&gt;</th></tr>\n",
       "</thead>\n",
       "<tbody>\n",
       "\t<tr><th scope=row>WASH7P</th><td> 602</td><td> 520</td><td> 415</td><td> 404</td><td> 442</td><td> 466</td></tr>\n",
       "\t<tr><th scope=row>LOC729737</th><td> 456</td><td> 362</td><td> 335</td><td> 372</td><td> 432</td><td> 462</td></tr>\n",
       "\t<tr><th scope=row>MIR12136</th><td>1423</td><td>1778</td><td>2292</td><td>3055</td><td>3109</td><td>3044</td></tr>\n",
       "\t<tr><th scope=row>LOC100288069</th><td> 472</td><td> 539</td><td> 399</td><td> 384</td><td> 437</td><td> 467</td></tr>\n",
       "\t<tr><th scope=row>LINC00115</th><td>  27</td><td>  25</td><td>  22</td><td>  29</td><td>  20</td><td>  21</td></tr>\n",
       "\t<tr><th scope=row>LINC01128</th><td> 425</td><td> 409</td><td> 322</td><td> 205</td><td> 210</td><td> 264</td></tr>\n",
       "</tbody>\n",
       "</table>\n"
      ],
      "text/latex": [
       "A data.frame: 6 × 6\n",
       "\\begin{tabular}{r|llllll}\n",
       "  & NC1 & NC2 & NC3 & PUS71 & PUS72 & PUS73\\\\\n",
       "  & <int> & <int> & <int> & <int> & <int> & <int>\\\\\n",
       "\\hline\n",
       "\tWASH7P &  602 &  520 &  415 &  404 &  442 &  466\\\\\n",
       "\tLOC729737 &  456 &  362 &  335 &  372 &  432 &  462\\\\\n",
       "\tMIR12136 & 1423 & 1778 & 2292 & 3055 & 3109 & 3044\\\\\n",
       "\tLOC100288069 &  472 &  539 &  399 &  384 &  437 &  467\\\\\n",
       "\tLINC00115 &   27 &   25 &   22 &   29 &   20 &   21\\\\\n",
       "\tLINC01128 &  425 &  409 &  322 &  205 &  210 &  264\\\\\n",
       "\\end{tabular}\n"
      ],
      "text/markdown": [
       "\n",
       "A data.frame: 6 × 6\n",
       "\n",
       "| <!--/--> | NC1 &lt;int&gt; | NC2 &lt;int&gt; | NC3 &lt;int&gt; | PUS71 &lt;int&gt; | PUS72 &lt;int&gt; | PUS73 &lt;int&gt; |\n",
       "|---|---|---|---|---|---|---|\n",
       "| WASH7P |  602 |  520 |  415 |  404 |  442 |  466 |\n",
       "| LOC729737 |  456 |  362 |  335 |  372 |  432 |  462 |\n",
       "| MIR12136 | 1423 | 1778 | 2292 | 3055 | 3109 | 3044 |\n",
       "| LOC100288069 |  472 |  539 |  399 |  384 |  437 |  467 |\n",
       "| LINC00115 |   27 |   25 |   22 |   29 |   20 |   21 |\n",
       "| LINC01128 |  425 |  409 |  322 |  205 |  210 |  264 |\n",
       "\n"
      ],
      "text/plain": [
       "             NC1  NC2  NC3  PUS71 PUS72 PUS73\n",
       "WASH7P        602  520  415  404   442   466 \n",
       "LOC729737     456  362  335  372   432   462 \n",
       "MIR12136     1423 1778 2292 3055  3109  3044 \n",
       "LOC100288069  472  539  399  384   437   467 \n",
       "LINC00115      27   25   22   29    20    21 \n",
       "LINC01128     425  409  322  205   210   264 "
      ]
     },
     "metadata": {},
     "output_type": "display_data"
    }
   ],
   "source": [
    "# 看一下rawcts\n",
    "# 这个很简单就是geneid为index，样本信息的counts数为columns\n",
    "head(rawcts)"
   ]
  },
  {
   "cell_type": "markdown",
   "metadata": {},
   "source": [
    "4. 过滤掉行的和为0，也就是没有bam文件中count到reads的genes"
   ]
  },
  {
   "cell_type": "code",
   "execution_count": 239,
   "metadata": {},
   "outputs": [
    {
     "data": {
      "text/html": [
       "<style>\n",
       ".list-inline {list-style: none; margin:0; padding: 0}\n",
       ".list-inline>li {display: inline-block}\n",
       ".list-inline>li:not(:last-child)::after {content: \"\\00b7\"; padding: 0 .5ex}\n",
       "</style>\n",
       "<ol class=list-inline><li>11930</li><li>6</li></ol>\n"
      ],
      "text/latex": [
       "\\begin{enumerate*}\n",
       "\\item 11930\n",
       "\\item 6\n",
       "\\end{enumerate*}\n"
      ],
      "text/markdown": [
       "1. 11930\n",
       "2. 6\n",
       "\n",
       "\n"
      ],
      "text/plain": [
       "[1] 11930     6"
      ]
     },
     "metadata": {},
     "output_type": "display_data"
    }
   ],
   "source": [
    "### filt genes that don't express in all sample -------------------------------------------->\n",
    "#  其实不用过滤了，step3过滤了RPKM >= 1\n",
    "rawcts <- rawcts[rowSums(rawcts)>0,]\n",
    "dim(rawcts)"
   ]
  },
  {
   "cell_type": "markdown",
   "metadata": {},
   "source": [
    "5. rownames函数调用矩阵的row.names\n",
    "6. 调用stringr package中的str_split函数，去除geneid中的gene名的.以及后面的内容\n",
    "7. 使用duplicated函数去掉重复的gn id   \n",
    "   - 去重63个"
   ]
  },
  {
   "cell_type": "code",
   "execution_count": 240,
   "metadata": {},
   "outputs": [
    {
     "data": {
      "text/html": [
       "<style>\n",
       ".list-inline {list-style: none; margin:0; padding: 0}\n",
       ".list-inline>li {display: inline-block}\n",
       ".list-inline>li:not(:last-child)::after {content: \"\\00b7\"; padding: 0 .5ex}\n",
       "</style>\n",
       "<ol class=list-inline><li>11929</li><li>6</li></ol>\n"
      ],
      "text/latex": [
       "\\begin{enumerate*}\n",
       "\\item 11929\n",
       "\\item 6\n",
       "\\end{enumerate*}\n"
      ],
      "text/markdown": [
       "1. 11929\n",
       "2. 6\n",
       "\n",
       "\n"
      ],
      "text/plain": [
       "[1] 11929     6"
      ]
     },
     "metadata": {},
     "output_type": "display_data"
    }
   ],
   "source": [
    "### remove version in ensembl id ----------------------------------------------------------->\n",
    "gn <- stringr::str_split(rownames(rawcts),\"\\\\.\",simplify = T)[,1]\n",
    "# gene_id如果已经是name，name这个也做不做无所谓↑\n",
    "# remove duplicate\n",
    "rawcts <- rawcts[!duplicated(gn),]\n",
    "rownames(rawcts) <- gn[!duplicated(gn)]\n",
    "dim(rawcts)"
   ]
  },
  {
   "cell_type": "markdown",
   "metadata": {},
   "source": [
    "## 1. 构建dds矩阵\n",
    "\n",
    "8. 将count的矩阵输入DESeq2的DESeqDataSetFromMatrix函数中，产生dds(DEseq Data Set)\n",
    "\n",
    "\n",
    "构建dds矩阵需要：\n",
    "\n",
    "- 表达矩阵\n",
    "   - 即上述代码中的countData，就是我们前面通过read count计算后并融合生成的矩阵，行row为各个基因，列col为各个样品，中间为计算reads或者fragment得到的整数。我们后面要用的是这个文件（mouse_all_count.txt）\n",
    "- 样品信息\n",
    "   - 矩阵即上述代码中的colData，它的类型是一个dataframe（数据框），这个东西叫【元数据】\n",
    "   - 第一列是样品名称，\n",
    "   - 第二列是样品的处理情况（对照还是处理等），即condition，condition的类型是一个factor\n",
    "   - 第三列type可以理解为宏观的处理条件，需要时使用，用不着也可以留空\n",
    "   \n",
    "   - 这里我用第三列的type作为自变量(你也可以用第二列的condition)\n",
    "- 差异比较矩阵\n",
    "   - 即上述代码中的design。\n",
    "   - 差异比较矩阵就是告诉差异分析函数是要分析哪些变量间的差异\n",
    "   - 简单说就是说明哪些是对照哪些是处理。"
   ]
  },
  {
   "cell_type": "code",
   "execution_count": 241,
   "metadata": {},
   "outputs": [],
   "source": [
    "# colData\n",
    "# rawcts"
   ]
  },
  {
   "cell_type": "code",
   "execution_count": 242,
   "metadata": {},
   "outputs": [
    {
     "name": "stderr",
     "output_type": "stream",
     "text": [
      "Warning message in DESeqDataSet(se, design = design, ignoreRank):\n",
      "“some variables in design formula are characters, converting to factors”\n"
     ]
    },
    {
     "data": {
      "text/plain": [
       "class: DESeqDataSet \n",
       "dim: 11929 6 \n",
       "metadata(1): version\n",
       "assays(1): counts\n",
       "rownames(11929): WASH7P LOC729737 ... RPL23AP82 RABL2B\n",
       "rowData names(0):\n",
       "colnames(6): NC1 NC2 ... PUS72 PUS73\n",
       "colData names(3): sample condition type"
      ]
     },
     "metadata": {},
     "output_type": "display_data"
    }
   ],
   "source": [
    "### DEseq analyses ------------------------------------------------------------------------->\n",
    "library(DESeq2)\n",
    "dds <- DESeqDataSetFromMatrix(countData = rawcts,\n",
    "                              colData = colData,\n",
    "                              design = ~ condition) \n",
    "                            # ~在R里面用于构建公式对象，~左边为因变量(design)，右边为自变量(type/condition) \n",
    "dds"
   ]
  },
  {
   "cell_type": "code",
   "execution_count": 243,
   "metadata": {},
   "outputs": [],
   "source": [
    "# 预过滤 【不做】\n",
    "# 虽然不必在运行DESeq2函数之前对低计数基因进行预过滤，但是有两个原因使预过滤有用：\n",
    "# - 通过删除读取次数很少的行，我们减小了dds数据对象的内存大小，并且我们提高了DESeq2中转换和测试功能的速度。\n",
    "# - 在这里，我们执行最小的预过滤，以仅保留总读取次数至少为10的行。\n",
    "# - 请注意，对结果函数中的归一化计数的平均值进行独立滤波后，会自动应用更严格的滤波以增加功率。\n",
    "\n",
    "# keep <- rowSums(counts(dds)) >= 10\n",
    "# dds <- dds[keep,]\n",
    "# dds"
   ]
  },
  {
   "cell_type": "markdown",
   "metadata": {},
   "source": [
    "9. 将dds输入DESeq函数#原始dds进行normalize\n",
    "DESeq包含三步:\n",
    "- estimation of size factors（estimateSizeFactors)\n",
    "- estimation of dispersion（estimateDispersons)\n",
    "- Negative Binomial GLM fitting and Wald statistics（nbinomWaldTest）\n",
    "- 【可以分布运行，也可用一步到位，最后返回 results可用的DESeqDataSet对象。】"
   ]
  },
  {
   "cell_type": "code",
   "execution_count": 244,
   "metadata": {},
   "outputs": [
    {
     "name": "stderr",
     "output_type": "stream",
     "text": [
      "estimating size factors\n",
      "\n",
      "estimating dispersions\n",
      "\n",
      "gene-wise dispersion estimates\n",
      "\n",
      "mean-dispersion relationship\n",
      "\n",
      "final dispersion estimates\n",
      "\n",
      "fitting model and testing\n",
      "\n"
     ]
    },
    {
     "data": {
      "text/plain": [
       "class: DESeqDataSet \n",
       "dim: 11929 6 \n",
       "metadata(1): version\n",
       "assays(4): counts mu H cooks\n",
       "rownames(11929): WASH7P LOC729737 ... RPL23AP82 RABL2B\n",
       "rowData names(22): baseMean baseVar ... deviance maxCooks\n",
       "colnames(6): NC1 NC2 ... PUS72 PUS73\n",
       "colData names(4): sample condition type sizeFactor"
      ]
     },
     "metadata": {},
     "output_type": "display_data"
    }
   ],
   "source": [
    "dds <- DESeq(dds)\n",
    "dds"
   ]
  },
  {
   "cell_type": "markdown",
   "metadata": {},
   "source": [
    "10. Plot Dispersion Estimates\n",
    "- 观察数据的离散情况\n",
    "- A simple helper function that plots the per-gene dispersion estimates together with the fitted mean-dispersion relationship.\n",
    "\n",
    "Arguments\n",
    "- object\n",
    "   - a DESeqDataSet, with dispersions estimated\n",
    "- ymin\n",
    "   - the lower bound for points on the plot, points beyond this are drawn as triangles at ymin\n",
    "- genecol\n",
    "   - the color for gene-wise dispersion estimates\n",
    "- fitcol\n",
    "   - the color of the fitted estimates\n",
    "- finalcol\n",
    "   - the color of the final estimates used for testing\n",
    "- legend\n",
    "   - logical, whether to draw a legend\n",
    "- [文档](https://www.rdocumentation.org/packages/DESeq2/versions/1.12.3/topics/plotDispEsts)"
   ]
  },
  {
   "cell_type": "code",
   "execution_count": 245,
   "metadata": {},
   "outputs": [
    {
     "data": {
      "text/html": [
       "<strong>png:</strong> 2"
      ],
      "text/latex": [
       "\\textbf{png:} 2"
      ],
      "text/markdown": [
       "**png:** 2"
      ],
      "text/plain": [
       "png \n",
       "  2 "
      ]
     },
     "metadata": {},
     "output_type": "display_data"
    }
   ],
   "source": [
    "pdf(\"plots/000_Dispersion_plot.pdf\",width=8,height=8)\n",
    "plotDispEsts(dds, main=\"Dispersion plot\")\n",
    "dev.off()"
   ]
  },
  {
   "cell_type": "code",
   "execution_count": 246,
   "metadata": {},
   "outputs": [
    {
     "data": {
      "text/plain": [
       "class: DESeqDataSet \n",
       "dim: 11929 6 \n",
       "metadata(1): version\n",
       "assays(4): counts mu H cooks\n",
       "rownames(11929): WASH7P LOC729737 ... RPL23AP82 RABL2B\n",
       "rowData names(22): baseMean baseVar ... deviance maxCooks\n",
       "colnames(6): NC1 NC2 ... PUS72 PUS73\n",
       "colData names(4): sample condition type sizeFactor"
      ]
     },
     "metadata": {},
     "output_type": "display_data"
    }
   ],
   "source": [
    "dds"
   ]
  },
  {
   "cell_type": "markdown",
   "metadata": {},
   "source": [
    "11. 将结果用results()函数来获取，赋值给res变量"
   ]
  },
  {
   "cell_type": "code",
   "execution_count": 248,
   "metadata": {},
   "outputs": [
    {
     "name": "stdout",
     "output_type": "stream",
     "text": [
      "\n",
      "out of 11929 with nonzero total read count\n",
      "adjusted p-value < 0.1\n",
      "LFC > 0 (up)       : 4163, 35%\n",
      "LFC < 0 (down)     : 4232, 35%\n",
      "outliers [1]       : 0, 0%\n",
      "low counts [2]     : 0, 0%\n",
      "(mean count < 1)\n",
      "[1] see 'cooksCutoff' argument of ?results\n",
      "[2] see 'independentFiltering' argument of ?results\n",
      "\n"
     ]
    }
   ],
   "source": [
    "res <- results(dds,contrast=c(\"condition\", \"NC\", \"PUS7\"))\n",
    "# summary一下，看一下结果的概要信息\n",
    "summary(res)"
   ]
  },
  {
   "cell_type": "markdown",
   "metadata": {},
   "source": [
    "12. normalization前面的数据分布差异"
   ]
  },
  {
   "cell_type": "code",
   "execution_count": 249,
   "metadata": {},
   "outputs": [],
   "source": [
    "### rld normalization ---------------------------------------------------------------------->\n",
    "## 下面的代码如果你不感兴趣不需要运行，免得误导你\n",
    "## 就是看看normalization前面的数据分布差异\n",
    "rld <- rlogTransformation(dds)\n",
    "rawcts_new=assay(rld)\n",
    "par(cex = 0.7)\n",
    "n.sample=ncol(rawcts)\n",
    "if(n.sample>40) par(cex = 0.5)\n",
    "cols <- rainbow(n.sample*1.2)\n",
    "# 上一步比较耗时，算数据分布用"
   ]
  },
  {
   "cell_type": "code",
   "execution_count": 250,
   "metadata": {},
   "outputs": [
    {
     "data": {
      "text/html": [
       "<strong>png:</strong> 2"
      ],
      "text/latex": [
       "\\textbf{png:} 2"
      ],
      "text/markdown": [
       "**png:** 2"
      ],
      "text/plain": [
       "png \n",
       "  2 "
      ]
     },
     "metadata": {},
     "output_type": "display_data"
    }
   ],
   "source": [
    "pdf(\"plots/001_expression_value_compare.pdf\",width=20,height=15)\n",
    "par(mfrow=c(1,2))\n",
    "boxplot(rawcts, col = cols,main=\"expression value_rawcts: before nornalization\",las=2)\n",
    "boxplot(rawcts_new, col = cols,main=\"expression value_rawcts_new: after nornalization\",las=2)\n",
    "\n",
    "dev.off()"
   ]
  },
  {
   "cell_type": "code",
   "execution_count": 251,
   "metadata": {},
   "outputs": [
    {
     "data": {
      "text/html": [
       "<strong>png:</strong> 2"
      ],
      "text/latex": [
       "\\textbf{png:} 2"
      ],
      "text/markdown": [
       "**png:** 2"
      ],
      "text/plain": [
       "png \n",
       "  2 "
      ]
     },
     "metadata": {},
     "output_type": "display_data"
    }
   ],
   "source": [
    "pdf(\"plots/002_expression_distribution_info_hist.pdf\",width=8,height=8)\n",
    "hist(rawcts_new)\n",
    "dev.off()"
   ]
  },
  {
   "cell_type": "markdown",
   "metadata": {},
   "source": [
    "13. plot correlation heatmap"
   ]
  },
  {
   "cell_type": "code",
   "execution_count": 252,
   "metadata": {},
   "outputs": [
    {
     "data": {
      "text/html": [
       "<table class=\"dataframe\">\n",
       "<caption>A matrix: 6 × 6 of type dbl</caption>\n",
       "<thead>\n",
       "\t<tr><th></th><th scope=col>NC1</th><th scope=col>NC2</th><th scope=col>NC3</th><th scope=col>PUS71</th><th scope=col>PUS72</th><th scope=col>PUS73</th></tr>\n",
       "</thead>\n",
       "<tbody>\n",
       "\t<tr><th scope=row>WASH7P</th><td> 8.913008</td><td> 8.834326</td><td> 8.838254</td><td> 8.889065</td><td> 8.881043</td><td> 8.893085</td></tr>\n",
       "\t<tr><th scope=row>LOC729737</th><td> 8.601893</td><td> 8.473361</td><td> 8.573402</td><td> 8.712950</td><td> 8.747220</td><td> 8.769853</td></tr>\n",
       "\t<tr><th scope=row>MIR12136</th><td>10.718224</td><td>10.889008</td><td>11.245273</td><td>11.558517</td><td>11.488811</td><td>11.442147</td></tr>\n",
       "\t<tr><th scope=row>LOC100288069</th><td> 8.707059</td><td> 8.821424</td><td> 8.773065</td><td> 8.815757</td><td> 8.835294</td><td> 8.857002</td></tr>\n",
       "\t<tr><th scope=row>LINC00115</th><td> 4.565925</td><td> 4.557084</td><td> 4.579127</td><td> 4.670659</td><td> 4.559275</td><td> 4.561758</td></tr>\n",
       "\t<tr><th scope=row>LINC01128</th><td> 8.318493</td><td> 8.315382</td><td> 8.308886</td><td> 8.082088</td><td> 8.035166</td><td> 8.153367</td></tr>\n",
       "</tbody>\n",
       "</table>\n"
      ],
      "text/latex": [
       "A matrix: 6 × 6 of type dbl\n",
       "\\begin{tabular}{r|llllll}\n",
       "  & NC1 & NC2 & NC3 & PUS71 & PUS72 & PUS73\\\\\n",
       "\\hline\n",
       "\tWASH7P &  8.913008 &  8.834326 &  8.838254 &  8.889065 &  8.881043 &  8.893085\\\\\n",
       "\tLOC729737 &  8.601893 &  8.473361 &  8.573402 &  8.712950 &  8.747220 &  8.769853\\\\\n",
       "\tMIR12136 & 10.718224 & 10.889008 & 11.245273 & 11.558517 & 11.488811 & 11.442147\\\\\n",
       "\tLOC100288069 &  8.707059 &  8.821424 &  8.773065 &  8.815757 &  8.835294 &  8.857002\\\\\n",
       "\tLINC00115 &  4.565925 &  4.557084 &  4.579127 &  4.670659 &  4.559275 &  4.561758\\\\\n",
       "\tLINC01128 &  8.318493 &  8.315382 &  8.308886 &  8.082088 &  8.035166 &  8.153367\\\\\n",
       "\\end{tabular}\n"
      ],
      "text/markdown": [
       "\n",
       "A matrix: 6 × 6 of type dbl\n",
       "\n",
       "| <!--/--> | NC1 | NC2 | NC3 | PUS71 | PUS72 | PUS73 |\n",
       "|---|---|---|---|---|---|---|\n",
       "| WASH7P |  8.913008 |  8.834326 |  8.838254 |  8.889065 |  8.881043 |  8.893085 |\n",
       "| LOC729737 |  8.601893 |  8.473361 |  8.573402 |  8.712950 |  8.747220 |  8.769853 |\n",
       "| MIR12136 | 10.718224 | 10.889008 | 11.245273 | 11.558517 | 11.488811 | 11.442147 |\n",
       "| LOC100288069 |  8.707059 |  8.821424 |  8.773065 |  8.815757 |  8.835294 |  8.857002 |\n",
       "| LINC00115 |  4.565925 |  4.557084 |  4.579127 |  4.670659 |  4.559275 |  4.561758 |\n",
       "| LINC01128 |  8.318493 |  8.315382 |  8.308886 |  8.082088 |  8.035166 |  8.153367 |\n",
       "\n"
      ],
      "text/plain": [
       "             NC1       NC2       NC3       PUS71     PUS72     PUS73    \n",
       "WASH7P        8.913008  8.834326  8.838254  8.889065  8.881043  8.893085\n",
       "LOC729737     8.601893  8.473361  8.573402  8.712950  8.747220  8.769853\n",
       "MIR12136     10.718224 10.889008 11.245273 11.558517 11.488811 11.442147\n",
       "LOC100288069  8.707059  8.821424  8.773065  8.815757  8.835294  8.857002\n",
       "LINC00115     4.565925  4.557084  4.579127  4.670659  4.559275  4.561758\n",
       "LINC01128     8.318493  8.315382  8.308886  8.082088  8.035166  8.153367"
      ]
     },
     "metadata": {},
     "output_type": "display_data"
    }
   ],
   "source": [
    "# 查看rawcts_new\n",
    "head(rawcts_new)"
   ]
  },
  {
   "cell_type": "code",
   "execution_count": 253,
   "metadata": {},
   "outputs": [
    {
     "data": {
      "text/html": [
       "<style>\n",
       ".list-inline {list-style: none; margin:0; padding: 0}\n",
       ".list-inline>li {display: inline-block}\n",
       ".list-inline>li:not(:last-child)::after {content: \"\\00b7\"; padding: 0 .5ex}\n",
       "</style>\n",
       "<ol class=list-inline><li>'#1B9E77'</li><li>'#D95F02'</li></ol>\n"
      ],
      "text/latex": [
       "\\begin{enumerate*}\n",
       "\\item '\\#1B9E77'\n",
       "\\item '\\#D95F02'\n",
       "\\end{enumerate*}\n"
      ],
      "text/markdown": [
       "1. '#1B9E77'\n",
       "2. '#D95F02'\n",
       "\n",
       "\n"
      ],
      "text/plain": [
       "[1] \"#1B9E77\" \"#D95F02\""
      ]
     },
     "metadata": {},
     "output_type": "display_data"
    },
    {
     "data": {
      "text/html": [
       "<table class=\"dataframe\">\n",
       "<caption>A matrix: 6 × 6 of type dbl</caption>\n",
       "<thead>\n",
       "\t<tr><th></th><th scope=col>NC1</th><th scope=col>NC2</th><th scope=col>NC3</th><th scope=col>PUS71</th><th scope=col>PUS72</th><th scope=col>PUS73</th></tr>\n",
       "</thead>\n",
       "<tbody>\n",
       "\t<tr><th scope=row>NC1</th><td> 0.000000</td><td> 6.125417</td><td> 5.975711</td><td>27.959856</td><td>27.019982</td><td>27.002474</td></tr>\n",
       "\t<tr><th scope=row>NC2</th><td> 6.125417</td><td> 0.000000</td><td> 5.818846</td><td>27.932143</td><td>26.837040</td><td>26.808136</td></tr>\n",
       "\t<tr><th scope=row>NC3</th><td> 5.975711</td><td> 5.818846</td><td> 0.000000</td><td>27.850474</td><td>26.901447</td><td>26.885951</td></tr>\n",
       "\t<tr><th scope=row>PUS71</th><td>27.959856</td><td>27.932143</td><td>27.850474</td><td> 0.000000</td><td> 6.003013</td><td> 6.379103</td></tr>\n",
       "\t<tr><th scope=row>PUS72</th><td>27.019982</td><td>26.837040</td><td>26.901447</td><td> 6.003013</td><td> 0.000000</td><td> 6.001799</td></tr>\n",
       "\t<tr><th scope=row>PUS73</th><td>27.002474</td><td>26.808136</td><td>26.885951</td><td> 6.379103</td><td> 6.001799</td><td> 0.000000</td></tr>\n",
       "</tbody>\n",
       "</table>\n"
      ],
      "text/latex": [
       "A matrix: 6 × 6 of type dbl\n",
       "\\begin{tabular}{r|llllll}\n",
       "  & NC1 & NC2 & NC3 & PUS71 & PUS72 & PUS73\\\\\n",
       "\\hline\n",
       "\tNC1 &  0.000000 &  6.125417 &  5.975711 & 27.959856 & 27.019982 & 27.002474\\\\\n",
       "\tNC2 &  6.125417 &  0.000000 &  5.818846 & 27.932143 & 26.837040 & 26.808136\\\\\n",
       "\tNC3 &  5.975711 &  5.818846 &  0.000000 & 27.850474 & 26.901447 & 26.885951\\\\\n",
       "\tPUS71 & 27.959856 & 27.932143 & 27.850474 &  0.000000 &  6.003013 &  6.379103\\\\\n",
       "\tPUS72 & 27.019982 & 26.837040 & 26.901447 &  6.003013 &  0.000000 &  6.001799\\\\\n",
       "\tPUS73 & 27.002474 & 26.808136 & 26.885951 &  6.379103 &  6.001799 &  0.000000\\\\\n",
       "\\end{tabular}\n"
      ],
      "text/markdown": [
       "\n",
       "A matrix: 6 × 6 of type dbl\n",
       "\n",
       "| <!--/--> | NC1 | NC2 | NC3 | PUS71 | PUS72 | PUS73 |\n",
       "|---|---|---|---|---|---|---|\n",
       "| NC1 |  0.000000 |  6.125417 |  5.975711 | 27.959856 | 27.019982 | 27.002474 |\n",
       "| NC2 |  6.125417 |  0.000000 |  5.818846 | 27.932143 | 26.837040 | 26.808136 |\n",
       "| NC3 |  5.975711 |  5.818846 |  0.000000 | 27.850474 | 26.901447 | 26.885951 |\n",
       "| PUS71 | 27.959856 | 27.932143 | 27.850474 |  0.000000 |  6.003013 |  6.379103 |\n",
       "| PUS72 | 27.019982 | 26.837040 | 26.901447 |  6.003013 |  0.000000 |  6.001799 |\n",
       "| PUS73 | 27.002474 | 26.808136 | 26.885951 |  6.379103 |  6.001799 |  0.000000 |\n",
       "\n"
      ],
      "text/plain": [
       "      NC1       NC2       NC3       PUS71     PUS72     PUS73    \n",
       "NC1    0.000000  6.125417  5.975711 27.959856 27.019982 27.002474\n",
       "NC2    6.125417  0.000000  5.818846 27.932143 26.837040 26.808136\n",
       "NC3    5.975711  5.818846  0.000000 27.850474 26.901447 26.885951\n",
       "PUS71 27.959856 27.932143 27.850474  0.000000  6.003013  6.379103\n",
       "PUS72 27.019982 26.837040 26.901447  6.003013  0.000000  6.001799\n",
       "PUS73 27.002474 26.808136 26.885951  6.379103  6.001799  0.000000"
      ]
     },
     "metadata": {},
     "output_type": "display_data"
    }
   ],
   "source": [
    "### plot correlation heatmap -------------------------------------------------------------->\n",
    "library(RColorBrewer)\n",
    "(mycols <- brewer.pal(8, \"Dark2\")[1:length(unique(colData$condition))])\n",
    "# Sample distance heatmap\n",
    "sampleDists <- dist(t(rawcts_new))\n",
    "sampleDistsMatrix <- as.matrix(sampleDists)\n",
    "head(sampleDistsMatrix)"
   ]
  },
  {
   "cell_type": "code",
   "execution_count": 254,
   "metadata": {},
   "outputs": [
    {
     "data": {
      "image/png": "[encoded data removed]",
      "text/plain": [
       "plot without title"
      ]
     },
     "metadata": {
      "image/png": {
       "height": 420,
       "width": 420
      }
     },
     "output_type": "display_data"
    }
   ],
   "source": [
    "library(gplots)\n",
    "library(pheatmap)\n",
    "\n",
    "png(\"qc-heatmap-samples.png\", w=1000, h=1000, pointsize=20)\n",
    "# heatmap.2(sampleDistsMatrix, key=F, trace=\"none\",\n",
    "#         col=colorpanel(100, \"black\", \"white\"),\n",
    "#          ColSideColors=mycols[colData$condition], RowSideColors=mycols[colData$condition],\n",
    "#          margin=c(10, 10), main=\"Sample Distance Matrix\")\n",
    "colors <- colorRampPalette(rev(brewer.pal(9,\"Blues\")))(255)\n",
    "\n",
    "\n",
    "ht <- pheatmap(sampleDistsMatrix,\n",
    "               clustering_distance_cols = sampleDists,\n",
    "               clustering_distance_rows = sampleDists,\n",
    "               color = colors\n",
    "              )\n",
    "ht"
   ]
  },
  {
   "cell_type": "code",
   "execution_count": 255,
   "metadata": {},
   "outputs": [
    {
     "data": {
      "text/html": [
       "<strong>png:</strong> 2"
      ],
      "text/latex": [
       "\\textbf{png:} 2"
      ],
      "text/markdown": [
       "**png:** 2"
      ],
      "text/plain": [
       "png \n",
       "  2 "
      ]
     },
     "metadata": {},
     "output_type": "display_data"
    }
   ],
   "source": [
    "pdf(\"plots/003_correlation_cross_samples_heatmap.pdf\",width = 20, height = 20)\n",
    "ht\n",
    "dev.off()"
   ]
  },
  {
   "cell_type": "markdown",
   "metadata": {},
   "source": [
    "14. MA plot\n",
    "- log2 折叠变换和平均正常统计量的关系，红色的点表示在10%FDR的基因"
   ]
  },
  {
   "cell_type": "code",
   "execution_count": 256,
   "metadata": {},
   "outputs": [
    {
     "data": {
      "text/html": [
       "<strong>png:</strong> 2"
      ],
      "text/latex": [
       "\\textbf{png:} 2"
      ],
      "text/markdown": [
       "**png:** 2"
      ],
      "text/plain": [
       "png \n",
       "  2 "
      ]
     },
     "metadata": {},
     "output_type": "display_data"
    }
   ],
   "source": [
    "### MA plot ------------------------------------------------------------------------------>\n",
    "pdf(\"plots/004_DESeq2_MA_plot.pdf\",width = 8, height = 8)\n",
    "par(mfrow=c(1,1))\n",
    "DESeq2::plotMA(res, main=\"DESeq2\", ylim=c(-20,20))\n",
    "dev.off()"
   ]
  },
  {
   "cell_type": "markdown",
   "metadata": {},
   "source": [
    "15. nbinomTest的p值统计直方图"
   ]
  },
  {
   "cell_type": "code",
   "execution_count": 257,
   "metadata": {},
   "outputs": [
    {
     "data": {
      "text/html": [
       "<strong>png:</strong> 2"
      ],
      "text/latex": [
       "\\textbf{png:} 2"
      ],
      "text/markdown": [
       "**png:** 2"
      ],
      "text/plain": [
       "png \n",
       "  2 "
      ]
     },
     "metadata": {},
     "output_type": "display_data"
    }
   ],
   "source": [
    "pdf(\"plots/005_nbinomTest_p_value.pdf\",width = 8, height = 8)\n",
    "hist(res$pvalue, breaks = 100, col = 'skyblue', border = 'slateblue', main = 'nbinomTest p value')\n",
    "dev.off()"
   ]
  },
  {
   "cell_type": "markdown",
   "metadata": {},
   "source": [
    "16. rld to PCA(vst is better than rlog when n>=30)"
   ]
  },
  {
   "cell_type": "code",
   "execution_count": 258,
   "metadata": {},
   "outputs": [
    {
     "data": {
      "text/html": [
       "<strong>png:</strong> 2"
      ],
      "text/latex": [
       "\\textbf{png:} 2"
      ],
      "text/markdown": [
       "**png:** 2"
      ],
      "text/plain": [
       "png \n",
       "  2 "
      ]
     },
     "metadata": {},
     "output_type": "display_data"
    }
   ],
   "source": [
    "pdf(\"plots/006_PCAplot.pdf\", width = 8, height = 8)\n",
    "plotPCA(rld,intgroup=c(\"condition\"))\n",
    "dev.off()"
   ]
  },
  {
   "cell_type": "markdown",
   "metadata": {},
   "source": [
    "17. 这个heatmap干嘛的？"
   ]
  },
  {
   "cell_type": "code",
   "execution_count": 259,
   "metadata": {},
   "outputs": [],
   "source": [
    "library(ggplot2)\n",
    "d <- plotCounts(dds,gene=which.min(res$padj), intgroup = \"condition\",returnData = TRUE)"
   ]
  },
  {
   "cell_type": "code",
   "execution_count": 260,
   "metadata": {},
   "outputs": [
    {
     "data": {
      "text/html": [
       "<strong>png:</strong> 2"
      ],
      "text/latex": [
       "\\textbf{png:} 2"
      ],
      "text/markdown": [
       "**png:** 2"
      ],
      "text/plain": [
       "png \n",
       "  2 "
      ]
     },
     "metadata": {},
     "output_type": "display_data"
    }
   ],
   "source": [
    "pdf(\"plots/007_jitter_plot_for_min_pvalue_transcript_counts.pdf\", height = 8, width = 8)\n",
    "ggplot(d,aes(x=condition,y=count))+\n",
    "  geom_point(position = position_jitter(w=0.1,h=0))+\n",
    "  scale_y_log10(breaks=c(25,100,400))\n",
    "dev.off()"
   ]
  },
  {
   "cell_type": "markdown",
   "metadata": {},
   "source": [
    "18. 处理res数据并且输出DEG表格"
   ]
  },
  {
   "cell_type": "code",
   "execution_count": 261,
   "metadata": {},
   "outputs": [
    {
     "name": "stdout",
     "output_type": "stream",
     "text": [
      "[1] 893   7\n"
     ]
    },
    {
     "data": {
      "text/html": [
       "<table class=\"dataframe\">\n",
       "<caption>A data.frame: 893 × 7</caption>\n",
       "<thead>\n",
       "\t<tr><th></th><th scope=col>baseMean</th><th scope=col>log2FoldChange</th><th scope=col>lfcSE</th><th scope=col>stat</th><th scope=col>pvalue</th><th scope=col>padj</th><th scope=col>sig</th></tr>\n",
       "\t<tr><th></th><th scope=col>&lt;dbl&gt;</th><th scope=col>&lt;dbl&gt;</th><th scope=col>&lt;dbl&gt;</th><th scope=col>&lt;dbl&gt;</th><th scope=col>&lt;dbl&gt;</th><th scope=col>&lt;dbl&gt;</th><th scope=col>&lt;chr&gt;</th></tr>\n",
       "</thead>\n",
       "<tbody>\n",
       "\t<tr><th scope=row>NID1</th><td> 7156.9700</td><td>-1.758744</td><td>0.04146023</td><td>-42.42002</td><td> 0.000000e+00</td><td> 0.000000e+00</td><td>down</td></tr>\n",
       "\t<tr><th scope=row>PDGFRB</th><td> 1067.3636</td><td>-3.121412</td><td>0.07297808</td><td>-42.77191</td><td> 0.000000e+00</td><td> 0.000000e+00</td><td>down</td></tr>\n",
       "\t<tr><th scope=row>TUBB</th><td>10028.0264</td><td>-1.472537</td><td>0.03526043</td><td>-41.76174</td><td> 0.000000e+00</td><td> 0.000000e+00</td><td>down</td></tr>\n",
       "\t<tr><th scope=row>TOP2A</th><td> 5637.9205</td><td>-1.459316</td><td>0.03841448</td><td>-37.98871</td><td> 0.000000e+00</td><td> 0.000000e+00</td><td>down</td></tr>\n",
       "\t<tr><th scope=row>COL3A1</th><td>19934.2905</td><td>-1.156526</td><td>0.03267606</td><td>-35.39367</td><td>2.136638e-274</td><td>4.247992e-271</td><td>down</td></tr>\n",
       "\t<tr><th scope=row>VGF</th><td>  905.1659</td><td>-2.633453</td><td>0.07439981</td><td>-35.39596</td><td>1.969864e-274</td><td>4.247992e-271</td><td>down</td></tr>\n",
       "\t<tr><th scope=row>NOLC1</th><td> 5350.7068</td><td> 1.425075</td><td>0.04102073</td><td> 34.74036</td><td>1.938017e-264</td><td>3.302658e-261</td><td>up  </td></tr>\n",
       "\t<tr><th scope=row>RPL7A</th><td> 9290.2701</td><td>-1.232510</td><td>0.03667248</td><td>-33.60859</td><td>1.256485e-247</td><td>1.873576e-244</td><td>down</td></tr>\n",
       "\t<tr><th scope=row>SUCNR1</th><td>  833.1696</td><td>-2.502635</td><td>0.07478417</td><td>-33.46476</td><td>1.569838e-245</td><td>2.080733e-242</td><td>down</td></tr>\n",
       "\t<tr><th scope=row>GSN</th><td> 3355.3162</td><td>-1.600013</td><td>0.04809235</td><td>-33.26959</td><td>1.063343e-242</td><td>1.268462e-239</td><td>down</td></tr>\n",
       "\t<tr><th scope=row>DDX21</th><td> 8178.8505</td><td> 1.177294</td><td>0.03591201</td><td> 32.78272</td><td>1.038117e-235</td><td>1.125791e-232</td><td>up  </td></tr>\n",
       "\t<tr><th scope=row>SLC25A5</th><td> 2409.8300</td><td>-1.396959</td><td>0.04406384</td><td>-31.70307</td><td>1.409366e-220</td><td>1.401028e-217</td><td>down</td></tr>\n",
       "\t<tr><th scope=row>PRC1</th><td> 1363.8432</td><td>-1.796129</td><td>0.05677805</td><td>-31.63422</td><td>1.249958e-219</td><td>1.146981e-216</td><td>down</td></tr>\n",
       "\t<tr><th scope=row>AMOTL2</th><td> 1937.2214</td><td> 1.588624</td><td>0.05144086</td><td> 30.88253</td><td>2.050124e-209</td><td>1.630395e-206</td><td>up  </td></tr>\n",
       "\t<tr><th scope=row>ERMP1</th><td> 1091.3146</td><td>-2.053009</td><td>0.06746754</td><td>-30.42958</td><td>2.231614e-203</td><td>1.663808e-200</td><td>down</td></tr>\n",
       "\t<tr><th scope=row>COL26A1</th><td> 2278.3524</td><td>-1.630216</td><td>0.05384206</td><td>-30.27774</td><td>2.251111e-201</td><td>1.579618e-198</td><td>down</td></tr>\n",
       "\t<tr><th scope=row>TIMP1</th><td> 2408.2835</td><td>-1.479601</td><td>0.04889470</td><td>-30.26096</td><td>3.743322e-201</td><td>2.480783e-198</td><td>down</td></tr>\n",
       "\t<tr><th scope=row>LIPA</th><td> 4246.5611</td><td>-1.180844</td><td>0.03916908</td><td>-30.14734</td><td>1.162151e-199</td><td>7.296474e-197</td><td>down</td></tr>\n",
       "\t<tr><th scope=row>NIBAN1</th><td> 4935.0433</td><td> 1.341151</td><td>0.04563402</td><td> 29.38929</td><td>7.525736e-190</td><td>4.488725e-187</td><td>up  </td></tr>\n",
       "\t<tr><th scope=row>RRM1</th><td> 1337.6848</td><td>-1.663796</td><td>0.05663310</td><td>-29.37851</td><td>1.033625e-189</td><td>5.871482e-187</td><td>down</td></tr>\n",
       "\t<tr><th scope=row>KIF1A</th><td>  596.9147</td><td> 3.079471</td><td>0.10503550</td><td> 29.31839</td><td>6.046876e-189</td><td>3.278781e-186</td><td>up  </td></tr>\n",
       "\t<tr><th scope=row>PDE4C</th><td>  761.7469</td><td>-2.340746</td><td>0.08028193</td><td>-29.15657</td><td>6.895762e-187</td><td>3.576502e-184</td><td>down</td></tr>\n",
       "\t<tr><th scope=row>CDK16</th><td> 1879.7100</td><td> 1.470842</td><td>0.05045149</td><td> 29.15360</td><td>7.521727e-187</td><td>3.738612e-184</td><td>up  </td></tr>\n",
       "\t<tr><th scope=row>IFIT1</th><td> 1553.9026</td><td>-1.558584</td><td>0.05349657</td><td>-29.13428</td><td>1.321708e-186</td><td>6.306660e-184</td><td>down</td></tr>\n",
       "\t<tr><th scope=row>ADGRE5</th><td> 2195.9208</td><td>-1.383387</td><td>0.04748991</td><td>-29.13013</td><td>1.491624e-186</td><td>6.843685e-184</td><td>down</td></tr>\n",
       "\t<tr><th scope=row>CRABP2</th><td> 2460.1731</td><td>-1.497975</td><td>0.05167057</td><td>-28.99088</td><td>8.574120e-185</td><td>3.788173e-182</td><td>down</td></tr>\n",
       "\t<tr><th scope=row>PCLAF</th><td>  664.9590</td><td>-2.360534</td><td>0.08175676</td><td>-28.87265</td><td>2.633613e-183</td><td>1.122013e-180</td><td>down</td></tr>\n",
       "\t<tr><th scope=row>CTPS1</th><td> 2965.7451</td><td> 1.271829</td><td>0.04447067</td><td> 28.59927</td><td>6.860380e-180</td><td>2.821982e-177</td><td>up  </td></tr>\n",
       "\t<tr><th scope=row>COL1A2</th><td> 1916.8535</td><td>-1.417147</td><td>0.04968308</td><td>-28.52374</td><td>5.948889e-179</td><td>2.365477e-176</td><td>down</td></tr>\n",
       "\t<tr><th scope=row>STC2</th><td> 4139.5377</td><td> 1.337095</td><td>0.04709107</td><td> 28.39381</td><td>2.411244e-177</td><td>9.278622e-175</td><td>up  </td></tr>\n",
       "\t<tr><th scope=row>⋮</th><td>⋮</td><td>⋮</td><td>⋮</td><td>⋮</td><td>⋮</td><td>⋮</td><td>⋮</td></tr>\n",
       "\t<tr><th scope=row>SLC5A2</th><td> 27.407415</td><td> 1.219033</td><td>0.3322125</td><td> 3.669438</td><td>0.0002430844</td><td>0.0005006481</td><td>up  </td></tr>\n",
       "\t<tr><th scope=row>FCRLB</th><td> 24.960689</td><td> 1.270284</td><td>0.3476802</td><td> 3.653598</td><td>0.0002585907</td><td>0.0005312086</td><td>up  </td></tr>\n",
       "\t<tr><th scope=row>MISP3</th><td> 37.185636</td><td>-1.017638</td><td>0.2816726</td><td>-3.612838</td><td>0.0003028636</td><td>0.0006156885</td><td>down</td></tr>\n",
       "\t<tr><th scope=row>MNX1-AS1</th><td>  9.272305</td><td> 2.405432</td><td>0.6687656</td><td> 3.596823</td><td>0.0003221271</td><td>0.0006528464</td><td>up  </td></tr>\n",
       "\t<tr><th scope=row>ZFHX4-AS1</th><td> 23.367551</td><td> 1.296414</td><td>0.3609425</td><td> 3.591746</td><td>0.0003284700</td><td>0.0006640093</td><td>up  </td></tr>\n",
       "\t<tr><th scope=row>C10orf143</th><td> 31.354131</td><td> 1.095508</td><td>0.3063513</td><td> 3.575985</td><td>0.0003489117</td><td>0.0007025941</td><td>up  </td></tr>\n",
       "\t<tr><th scope=row>EBI3</th><td> 28.835406</td><td>-1.092189</td><td>0.3142292</td><td>-3.475773</td><td>0.0005093832</td><td>0.0010020503</td><td>down</td></tr>\n",
       "\t<tr><th scope=row>ARRDC4</th><td>387.886429</td><td> 1.883029</td><td>0.5435987</td><td> 3.464006</td><td>0.0005321951</td><td>0.0010439986</td><td>up  </td></tr>\n",
       "\t<tr><th scope=row>LOC152048</th><td> 29.934758</td><td> 1.105514</td><td>0.3234609</td><td> 3.417767</td><td>0.0006313712</td><td>0.0012292520</td><td>up  </td></tr>\n",
       "\t<tr><th scope=row>MEIS1-AS2</th><td> 32.650134</td><td>-1.047939</td><td>0.3091606</td><td>-3.389628</td><td>0.0006998765</td><td>0.0013544495</td><td>down</td></tr>\n",
       "\t<tr><th scope=row>PRR22</th><td> 30.752006</td><td> 1.064329</td><td>0.3236420</td><td> 3.288601</td><td>0.0010068666</td><td>0.0019140896</td><td>up  </td></tr>\n",
       "\t<tr><th scope=row>LOC100130283</th><td> 23.865627</td><td> 1.181199</td><td>0.3622573</td><td> 3.260663</td><td>0.0011115187</td><td>0.0020989879</td><td>up  </td></tr>\n",
       "\t<tr><th scope=row>LINC01273</th><td> 30.609112</td><td>-1.021119</td><td>0.3145720</td><td>-3.246059</td><td>0.0011701475</td><td>0.0022023809</td><td>down</td></tr>\n",
       "\t<tr><th scope=row>C1orf53</th><td>  7.165743</td><td> 2.480856</td><td>0.7680799</td><td> 3.229945</td><td>0.0012381384</td><td>0.0023226534</td><td>up  </td></tr>\n",
       "\t<tr><th scope=row>LINC02454</th><td> 17.214993</td><td>-1.302073</td><td>0.4111326</td><td>-3.167040</td><td>0.0015399895</td><td>0.0028481450</td><td>down</td></tr>\n",
       "\t<tr><th scope=row>DNAJB13</th><td> 25.286478</td><td> 1.065551</td><td>0.3401180</td><td> 3.132886</td><td>0.0017309688</td><td>0.0031772160</td><td>up  </td></tr>\n",
       "\t<tr><th scope=row>CCND2-AS1</th><td> 24.411435</td><td> 1.094670</td><td>0.3564995</td><td> 3.070608</td><td>0.0021362349</td><td>0.0038787132</td><td>up  </td></tr>\n",
       "\t<tr><th scope=row>ORM2</th><td>  9.737479</td><td> 1.796659</td><td>0.5959952</td><td> 3.014552</td><td>0.0025735870</td><td>0.0046110423</td><td>up  </td></tr>\n",
       "\t<tr><th scope=row>RPS6KA2-IT1</th><td>  8.333597</td><td> 2.001506</td><td>0.6655148</td><td> 3.007455</td><td>0.0026344481</td><td>0.0047163083</td><td>up  </td></tr>\n",
       "\t<tr><th scope=row>ALG1L</th><td> 22.510637</td><td> 1.068214</td><td>0.3636217</td><td> 2.937707</td><td>0.0033064883</td><td>0.0058425566</td><td>up  </td></tr>\n",
       "\t<tr><th scope=row>MIR4754</th><td>  1.780689</td><td> 4.149868</td><td>1.5466063</td><td> 2.683209</td><td>0.0072919477</td><td>0.0122739726</td><td>up  </td></tr>\n",
       "\t<tr><th scope=row>GNG8</th><td> 10.378455</td><td>-1.396640</td><td>0.5377197</td><td>-2.597338</td><td>0.0093949445</td><td>0.0155505839</td><td>down</td></tr>\n",
       "\t<tr><th scope=row>MIG7</th><td> 18.384573</td><td> 1.033140</td><td>0.3978532</td><td> 2.596787</td><td>0.0094100341</td><td>0.0155711329</td><td>up  </td></tr>\n",
       "\t<tr><th scope=row>RN7SL3</th><td>128.579868</td><td> 1.109485</td><td>0.4382415</td><td> 2.531675</td><td>0.0113519201</td><td>0.0185438199</td><td>up  </td></tr>\n",
       "\t<tr><th scope=row>HDAC4-AS1</th><td> 14.998165</td><td>-1.084774</td><td>0.4598392</td><td>-2.359029</td><td>0.0183228423</td><td>0.0288992881</td><td>down</td></tr>\n",
       "\t<tr><th scope=row>SNORA1</th><td> 11.005194</td><td> 1.251689</td><td>0.5348130</td><td> 2.340424</td><td>0.0192618526</td><td>0.0302693504</td><td>up  </td></tr>\n",
       "\t<tr><th scope=row>TAS2R5</th><td> 17.876176</td><td> 1.001134</td><td>0.4327437</td><td> 2.313458</td><td>0.0206974829</td><td>0.0323421894</td><td>up  </td></tr>\n",
       "\t<tr><th scope=row>MIR324</th><td> 13.774198</td><td>-1.036950</td><td>0.4554558</td><td>-2.276731</td><td>0.0228023152</td><td>0.0352891564</td><td>down</td></tr>\n",
       "\t<tr><th scope=row>ANXA2P2</th><td> 13.362481</td><td> 1.019226</td><td>0.4684483</td><td> 2.175750</td><td>0.0295739800</td><td>0.0449354232</td><td>up  </td></tr>\n",
       "\t<tr><th scope=row>SNORD52</th><td> 12.382753</td><td> 1.075622</td><td>0.4981501</td><td> 2.159232</td><td>0.0308321404</td><td>0.0467102620</td><td>up  </td></tr>\n",
       "</tbody>\n",
       "</table>\n"
      ],
      "text/latex": [
       "A data.frame: 893 × 7\n",
       "\\begin{tabular}{r|lllllll}\n",
       "  & baseMean & log2FoldChange & lfcSE & stat & pvalue & padj & sig\\\\\n",
       "  & <dbl> & <dbl> & <dbl> & <dbl> & <dbl> & <dbl> & <chr>\\\\\n",
       "\\hline\n",
       "\tNID1 &  7156.9700 & -1.758744 & 0.04146023 & -42.42002 &  0.000000e+00 &  0.000000e+00 & down\\\\\n",
       "\tPDGFRB &  1067.3636 & -3.121412 & 0.07297808 & -42.77191 &  0.000000e+00 &  0.000000e+00 & down\\\\\n",
       "\tTUBB & 10028.0264 & -1.472537 & 0.03526043 & -41.76174 &  0.000000e+00 &  0.000000e+00 & down\\\\\n",
       "\tTOP2A &  5637.9205 & -1.459316 & 0.03841448 & -37.98871 &  0.000000e+00 &  0.000000e+00 & down\\\\\n",
       "\tCOL3A1 & 19934.2905 & -1.156526 & 0.03267606 & -35.39367 & 2.136638e-274 & 4.247992e-271 & down\\\\\n",
       "\tVGF &   905.1659 & -2.633453 & 0.07439981 & -35.39596 & 1.969864e-274 & 4.247992e-271 & down\\\\\n",
       "\tNOLC1 &  5350.7068 &  1.425075 & 0.04102073 &  34.74036 & 1.938017e-264 & 3.302658e-261 & up  \\\\\n",
       "\tRPL7A &  9290.2701 & -1.232510 & 0.03667248 & -33.60859 & 1.256485e-247 & 1.873576e-244 & down\\\\\n",
       "\tSUCNR1 &   833.1696 & -2.502635 & 0.07478417 & -33.46476 & 1.569838e-245 & 2.080733e-242 & down\\\\\n",
       "\tGSN &  3355.3162 & -1.600013 & 0.04809235 & -33.26959 & 1.063343e-242 & 1.268462e-239 & down\\\\\n",
       "\tDDX21 &  8178.8505 &  1.177294 & 0.03591201 &  32.78272 & 1.038117e-235 & 1.125791e-232 & up  \\\\\n",
       "\tSLC25A5 &  2409.8300 & -1.396959 & 0.04406384 & -31.70307 & 1.409366e-220 & 1.401028e-217 & down\\\\\n",
       "\tPRC1 &  1363.8432 & -1.796129 & 0.05677805 & -31.63422 & 1.249958e-219 & 1.146981e-216 & down\\\\\n",
       "\tAMOTL2 &  1937.2214 &  1.588624 & 0.05144086 &  30.88253 & 2.050124e-209 & 1.630395e-206 & up  \\\\\n",
       "\tERMP1 &  1091.3146 & -2.053009 & 0.06746754 & -30.42958 & 2.231614e-203 & 1.663808e-200 & down\\\\\n",
       "\tCOL26A1 &  2278.3524 & -1.630216 & 0.05384206 & -30.27774 & 2.251111e-201 & 1.579618e-198 & down\\\\\n",
       "\tTIMP1 &  2408.2835 & -1.479601 & 0.04889470 & -30.26096 & 3.743322e-201 & 2.480783e-198 & down\\\\\n",
       "\tLIPA &  4246.5611 & -1.180844 & 0.03916908 & -30.14734 & 1.162151e-199 & 7.296474e-197 & down\\\\\n",
       "\tNIBAN1 &  4935.0433 &  1.341151 & 0.04563402 &  29.38929 & 7.525736e-190 & 4.488725e-187 & up  \\\\\n",
       "\tRRM1 &  1337.6848 & -1.663796 & 0.05663310 & -29.37851 & 1.033625e-189 & 5.871482e-187 & down\\\\\n",
       "\tKIF1A &   596.9147 &  3.079471 & 0.10503550 &  29.31839 & 6.046876e-189 & 3.278781e-186 & up  \\\\\n",
       "\tPDE4C &   761.7469 & -2.340746 & 0.08028193 & -29.15657 & 6.895762e-187 & 3.576502e-184 & down\\\\\n",
       "\tCDK16 &  1879.7100 &  1.470842 & 0.05045149 &  29.15360 & 7.521727e-187 & 3.738612e-184 & up  \\\\\n",
       "\tIFIT1 &  1553.9026 & -1.558584 & 0.05349657 & -29.13428 & 1.321708e-186 & 6.306660e-184 & down\\\\\n",
       "\tADGRE5 &  2195.9208 & -1.383387 & 0.04748991 & -29.13013 & 1.491624e-186 & 6.843685e-184 & down\\\\\n",
       "\tCRABP2 &  2460.1731 & -1.497975 & 0.05167057 & -28.99088 & 8.574120e-185 & 3.788173e-182 & down\\\\\n",
       "\tPCLAF &   664.9590 & -2.360534 & 0.08175676 & -28.87265 & 2.633613e-183 & 1.122013e-180 & down\\\\\n",
       "\tCTPS1 &  2965.7451 &  1.271829 & 0.04447067 &  28.59927 & 6.860380e-180 & 2.821982e-177 & up  \\\\\n",
       "\tCOL1A2 &  1916.8535 & -1.417147 & 0.04968308 & -28.52374 & 5.948889e-179 & 2.365477e-176 & down\\\\\n",
       "\tSTC2 &  4139.5377 &  1.337095 & 0.04709107 &  28.39381 & 2.411244e-177 & 9.278622e-175 & up  \\\\\n",
       "\t⋮ & ⋮ & ⋮ & ⋮ & ⋮ & ⋮ & ⋮ & ⋮\\\\\n",
       "\tSLC5A2 &  27.407415 &  1.219033 & 0.3322125 &  3.669438 & 0.0002430844 & 0.0005006481 & up  \\\\\n",
       "\tFCRLB &  24.960689 &  1.270284 & 0.3476802 &  3.653598 & 0.0002585907 & 0.0005312086 & up  \\\\\n",
       "\tMISP3 &  37.185636 & -1.017638 & 0.2816726 & -3.612838 & 0.0003028636 & 0.0006156885 & down\\\\\n",
       "\tMNX1-AS1 &   9.272305 &  2.405432 & 0.6687656 &  3.596823 & 0.0003221271 & 0.0006528464 & up  \\\\\n",
       "\tZFHX4-AS1 &  23.367551 &  1.296414 & 0.3609425 &  3.591746 & 0.0003284700 & 0.0006640093 & up  \\\\\n",
       "\tC10orf143 &  31.354131 &  1.095508 & 0.3063513 &  3.575985 & 0.0003489117 & 0.0007025941 & up  \\\\\n",
       "\tEBI3 &  28.835406 & -1.092189 & 0.3142292 & -3.475773 & 0.0005093832 & 0.0010020503 & down\\\\\n",
       "\tARRDC4 & 387.886429 &  1.883029 & 0.5435987 &  3.464006 & 0.0005321951 & 0.0010439986 & up  \\\\\n",
       "\tLOC152048 &  29.934758 &  1.105514 & 0.3234609 &  3.417767 & 0.0006313712 & 0.0012292520 & up  \\\\\n",
       "\tMEIS1-AS2 &  32.650134 & -1.047939 & 0.3091606 & -3.389628 & 0.0006998765 & 0.0013544495 & down\\\\\n",
       "\tPRR22 &  30.752006 &  1.064329 & 0.3236420 &  3.288601 & 0.0010068666 & 0.0019140896 & up  \\\\\n",
       "\tLOC100130283 &  23.865627 &  1.181199 & 0.3622573 &  3.260663 & 0.0011115187 & 0.0020989879 & up  \\\\\n",
       "\tLINC01273 &  30.609112 & -1.021119 & 0.3145720 & -3.246059 & 0.0011701475 & 0.0022023809 & down\\\\\n",
       "\tC1orf53 &   7.165743 &  2.480856 & 0.7680799 &  3.229945 & 0.0012381384 & 0.0023226534 & up  \\\\\n",
       "\tLINC02454 &  17.214993 & -1.302073 & 0.4111326 & -3.167040 & 0.0015399895 & 0.0028481450 & down\\\\\n",
       "\tDNAJB13 &  25.286478 &  1.065551 & 0.3401180 &  3.132886 & 0.0017309688 & 0.0031772160 & up  \\\\\n",
       "\tCCND2-AS1 &  24.411435 &  1.094670 & 0.3564995 &  3.070608 & 0.0021362349 & 0.0038787132 & up  \\\\\n",
       "\tORM2 &   9.737479 &  1.796659 & 0.5959952 &  3.014552 & 0.0025735870 & 0.0046110423 & up  \\\\\n",
       "\tRPS6KA2-IT1 &   8.333597 &  2.001506 & 0.6655148 &  3.007455 & 0.0026344481 & 0.0047163083 & up  \\\\\n",
       "\tALG1L &  22.510637 &  1.068214 & 0.3636217 &  2.937707 & 0.0033064883 & 0.0058425566 & up  \\\\\n",
       "\tMIR4754 &   1.780689 &  4.149868 & 1.5466063 &  2.683209 & 0.0072919477 & 0.0122739726 & up  \\\\\n",
       "\tGNG8 &  10.378455 & -1.396640 & 0.5377197 & -2.597338 & 0.0093949445 & 0.0155505839 & down\\\\\n",
       "\tMIG7 &  18.384573 &  1.033140 & 0.3978532 &  2.596787 & 0.0094100341 & 0.0155711329 & up  \\\\\n",
       "\tRN7SL3 & 128.579868 &  1.109485 & 0.4382415 &  2.531675 & 0.0113519201 & 0.0185438199 & up  \\\\\n",
       "\tHDAC4-AS1 &  14.998165 & -1.084774 & 0.4598392 & -2.359029 & 0.0183228423 & 0.0288992881 & down\\\\\n",
       "\tSNORA1 &  11.005194 &  1.251689 & 0.5348130 &  2.340424 & 0.0192618526 & 0.0302693504 & up  \\\\\n",
       "\tTAS2R5 &  17.876176 &  1.001134 & 0.4327437 &  2.313458 & 0.0206974829 & 0.0323421894 & up  \\\\\n",
       "\tMIR324 &  13.774198 & -1.036950 & 0.4554558 & -2.276731 & 0.0228023152 & 0.0352891564 & down\\\\\n",
       "\tANXA2P2 &  13.362481 &  1.019226 & 0.4684483 &  2.175750 & 0.0295739800 & 0.0449354232 & up  \\\\\n",
       "\tSNORD52 &  12.382753 &  1.075622 & 0.4981501 &  2.159232 & 0.0308321404 & 0.0467102620 & up  \\\\\n",
       "\\end{tabular}\n"
      ],
      "text/markdown": [
       "\n",
       "A data.frame: 893 × 7\n",
       "\n",
       "| <!--/--> | baseMean &lt;dbl&gt; | log2FoldChange &lt;dbl&gt; | lfcSE &lt;dbl&gt; | stat &lt;dbl&gt; | pvalue &lt;dbl&gt; | padj &lt;dbl&gt; | sig &lt;chr&gt; |\n",
       "|---|---|---|---|---|---|---|---|\n",
       "| NID1 |  7156.9700 | -1.758744 | 0.04146023 | -42.42002 |  0.000000e+00 |  0.000000e+00 | down |\n",
       "| PDGFRB |  1067.3636 | -3.121412 | 0.07297808 | -42.77191 |  0.000000e+00 |  0.000000e+00 | down |\n",
       "| TUBB | 10028.0264 | -1.472537 | 0.03526043 | -41.76174 |  0.000000e+00 |  0.000000e+00 | down |\n",
       "| TOP2A |  5637.9205 | -1.459316 | 0.03841448 | -37.98871 |  0.000000e+00 |  0.000000e+00 | down |\n",
       "| COL3A1 | 19934.2905 | -1.156526 | 0.03267606 | -35.39367 | 2.136638e-274 | 4.247992e-271 | down |\n",
       "| VGF |   905.1659 | -2.633453 | 0.07439981 | -35.39596 | 1.969864e-274 | 4.247992e-271 | down |\n",
       "| NOLC1 |  5350.7068 |  1.425075 | 0.04102073 |  34.74036 | 1.938017e-264 | 3.302658e-261 | up   |\n",
       "| RPL7A |  9290.2701 | -1.232510 | 0.03667248 | -33.60859 | 1.256485e-247 | 1.873576e-244 | down |\n",
       "| SUCNR1 |   833.1696 | -2.502635 | 0.07478417 | -33.46476 | 1.569838e-245 | 2.080733e-242 | down |\n",
       "| GSN |  3355.3162 | -1.600013 | 0.04809235 | -33.26959 | 1.063343e-242 | 1.268462e-239 | down |\n",
       "| DDX21 |  8178.8505 |  1.177294 | 0.03591201 |  32.78272 | 1.038117e-235 | 1.125791e-232 | up   |\n",
       "| SLC25A5 |  2409.8300 | -1.396959 | 0.04406384 | -31.70307 | 1.409366e-220 | 1.401028e-217 | down |\n",
       "| PRC1 |  1363.8432 | -1.796129 | 0.05677805 | -31.63422 | 1.249958e-219 | 1.146981e-216 | down |\n",
       "| AMOTL2 |  1937.2214 |  1.588624 | 0.05144086 |  30.88253 | 2.050124e-209 | 1.630395e-206 | up   |\n",
       "| ERMP1 |  1091.3146 | -2.053009 | 0.06746754 | -30.42958 | 2.231614e-203 | 1.663808e-200 | down |\n",
       "| COL26A1 |  2278.3524 | -1.630216 | 0.05384206 | -30.27774 | 2.251111e-201 | 1.579618e-198 | down |\n",
       "| TIMP1 |  2408.2835 | -1.479601 | 0.04889470 | -30.26096 | 3.743322e-201 | 2.480783e-198 | down |\n",
       "| LIPA |  4246.5611 | -1.180844 | 0.03916908 | -30.14734 | 1.162151e-199 | 7.296474e-197 | down |\n",
       "| NIBAN1 |  4935.0433 |  1.341151 | 0.04563402 |  29.38929 | 7.525736e-190 | 4.488725e-187 | up   |\n",
       "| RRM1 |  1337.6848 | -1.663796 | 0.05663310 | -29.37851 | 1.033625e-189 | 5.871482e-187 | down |\n",
       "| KIF1A |   596.9147 |  3.079471 | 0.10503550 |  29.31839 | 6.046876e-189 | 3.278781e-186 | up   |\n",
       "| PDE4C |   761.7469 | -2.340746 | 0.08028193 | -29.15657 | 6.895762e-187 | 3.576502e-184 | down |\n",
       "| CDK16 |  1879.7100 |  1.470842 | 0.05045149 |  29.15360 | 7.521727e-187 | 3.738612e-184 | up   |\n",
       "| IFIT1 |  1553.9026 | -1.558584 | 0.05349657 | -29.13428 | 1.321708e-186 | 6.306660e-184 | down |\n",
       "| ADGRE5 |  2195.9208 | -1.383387 | 0.04748991 | -29.13013 | 1.491624e-186 | 6.843685e-184 | down |\n",
       "| CRABP2 |  2460.1731 | -1.497975 | 0.05167057 | -28.99088 | 8.574120e-185 | 3.788173e-182 | down |\n",
       "| PCLAF |   664.9590 | -2.360534 | 0.08175676 | -28.87265 | 2.633613e-183 | 1.122013e-180 | down |\n",
       "| CTPS1 |  2965.7451 |  1.271829 | 0.04447067 |  28.59927 | 6.860380e-180 | 2.821982e-177 | up   |\n",
       "| COL1A2 |  1916.8535 | -1.417147 | 0.04968308 | -28.52374 | 5.948889e-179 | 2.365477e-176 | down |\n",
       "| STC2 |  4139.5377 |  1.337095 | 0.04709107 |  28.39381 | 2.411244e-177 | 9.278622e-175 | up   |\n",
       "| ⋮ | ⋮ | ⋮ | ⋮ | ⋮ | ⋮ | ⋮ | ⋮ |\n",
       "| SLC5A2 |  27.407415 |  1.219033 | 0.3322125 |  3.669438 | 0.0002430844 | 0.0005006481 | up   |\n",
       "| FCRLB |  24.960689 |  1.270284 | 0.3476802 |  3.653598 | 0.0002585907 | 0.0005312086 | up   |\n",
       "| MISP3 |  37.185636 | -1.017638 | 0.2816726 | -3.612838 | 0.0003028636 | 0.0006156885 | down |\n",
       "| MNX1-AS1 |   9.272305 |  2.405432 | 0.6687656 |  3.596823 | 0.0003221271 | 0.0006528464 | up   |\n",
       "| ZFHX4-AS1 |  23.367551 |  1.296414 | 0.3609425 |  3.591746 | 0.0003284700 | 0.0006640093 | up   |\n",
       "| C10orf143 |  31.354131 |  1.095508 | 0.3063513 |  3.575985 | 0.0003489117 | 0.0007025941 | up   |\n",
       "| EBI3 |  28.835406 | -1.092189 | 0.3142292 | -3.475773 | 0.0005093832 | 0.0010020503 | down |\n",
       "| ARRDC4 | 387.886429 |  1.883029 | 0.5435987 |  3.464006 | 0.0005321951 | 0.0010439986 | up   |\n",
       "| LOC152048 |  29.934758 |  1.105514 | 0.3234609 |  3.417767 | 0.0006313712 | 0.0012292520 | up   |\n",
       "| MEIS1-AS2 |  32.650134 | -1.047939 | 0.3091606 | -3.389628 | 0.0006998765 | 0.0013544495 | down |\n",
       "| PRR22 |  30.752006 |  1.064329 | 0.3236420 |  3.288601 | 0.0010068666 | 0.0019140896 | up   |\n",
       "| LOC100130283 |  23.865627 |  1.181199 | 0.3622573 |  3.260663 | 0.0011115187 | 0.0020989879 | up   |\n",
       "| LINC01273 |  30.609112 | -1.021119 | 0.3145720 | -3.246059 | 0.0011701475 | 0.0022023809 | down |\n",
       "| C1orf53 |   7.165743 |  2.480856 | 0.7680799 |  3.229945 | 0.0012381384 | 0.0023226534 | up   |\n",
       "| LINC02454 |  17.214993 | -1.302073 | 0.4111326 | -3.167040 | 0.0015399895 | 0.0028481450 | down |\n",
       "| DNAJB13 |  25.286478 |  1.065551 | 0.3401180 |  3.132886 | 0.0017309688 | 0.0031772160 | up   |\n",
       "| CCND2-AS1 |  24.411435 |  1.094670 | 0.3564995 |  3.070608 | 0.0021362349 | 0.0038787132 | up   |\n",
       "| ORM2 |   9.737479 |  1.796659 | 0.5959952 |  3.014552 | 0.0025735870 | 0.0046110423 | up   |\n",
       "| RPS6KA2-IT1 |   8.333597 |  2.001506 | 0.6655148 |  3.007455 | 0.0026344481 | 0.0047163083 | up   |\n",
       "| ALG1L |  22.510637 |  1.068214 | 0.3636217 |  2.937707 | 0.0033064883 | 0.0058425566 | up   |\n",
       "| MIR4754 |   1.780689 |  4.149868 | 1.5466063 |  2.683209 | 0.0072919477 | 0.0122739726 | up   |\n",
       "| GNG8 |  10.378455 | -1.396640 | 0.5377197 | -2.597338 | 0.0093949445 | 0.0155505839 | down |\n",
       "| MIG7 |  18.384573 |  1.033140 | 0.3978532 |  2.596787 | 0.0094100341 | 0.0155711329 | up   |\n",
       "| RN7SL3 | 128.579868 |  1.109485 | 0.4382415 |  2.531675 | 0.0113519201 | 0.0185438199 | up   |\n",
       "| HDAC4-AS1 |  14.998165 | -1.084774 | 0.4598392 | -2.359029 | 0.0183228423 | 0.0288992881 | down |\n",
       "| SNORA1 |  11.005194 |  1.251689 | 0.5348130 |  2.340424 | 0.0192618526 | 0.0302693504 | up   |\n",
       "| TAS2R5 |  17.876176 |  1.001134 | 0.4327437 |  2.313458 | 0.0206974829 | 0.0323421894 | up   |\n",
       "| MIR324 |  13.774198 | -1.036950 | 0.4554558 | -2.276731 | 0.0228023152 | 0.0352891564 | down |\n",
       "| ANXA2P2 |  13.362481 |  1.019226 | 0.4684483 |  2.175750 | 0.0295739800 | 0.0449354232 | up   |\n",
       "| SNORD52 |  12.382753 |  1.075622 | 0.4981501 |  2.159232 | 0.0308321404 | 0.0467102620 | up   |\n",
       "\n"
      ],
      "text/plain": [
       "             baseMean   log2FoldChange lfcSE      stat      pvalue       \n",
       "NID1          7156.9700 -1.758744      0.04146023 -42.42002  0.000000e+00\n",
       "PDGFRB        1067.3636 -3.121412      0.07297808 -42.77191  0.000000e+00\n",
       "TUBB         10028.0264 -1.472537      0.03526043 -41.76174  0.000000e+00\n",
       "TOP2A         5637.9205 -1.459316      0.03841448 -37.98871  0.000000e+00\n",
       "COL3A1       19934.2905 -1.156526      0.03267606 -35.39367 2.136638e-274\n",
       "VGF            905.1659 -2.633453      0.07439981 -35.39596 1.969864e-274\n",
       "NOLC1         5350.7068  1.425075      0.04102073  34.74036 1.938017e-264\n",
       "RPL7A         9290.2701 -1.232510      0.03667248 -33.60859 1.256485e-247\n",
       "SUCNR1         833.1696 -2.502635      0.07478417 -33.46476 1.569838e-245\n",
       "GSN           3355.3162 -1.600013      0.04809235 -33.26959 1.063343e-242\n",
       "DDX21         8178.8505  1.177294      0.03591201  32.78272 1.038117e-235\n",
       "SLC25A5       2409.8300 -1.396959      0.04406384 -31.70307 1.409366e-220\n",
       "PRC1          1363.8432 -1.796129      0.05677805 -31.63422 1.249958e-219\n",
       "AMOTL2        1937.2214  1.588624      0.05144086  30.88253 2.050124e-209\n",
       "ERMP1         1091.3146 -2.053009      0.06746754 -30.42958 2.231614e-203\n",
       "COL26A1       2278.3524 -1.630216      0.05384206 -30.27774 2.251111e-201\n",
       "TIMP1         2408.2835 -1.479601      0.04889470 -30.26096 3.743322e-201\n",
       "LIPA          4246.5611 -1.180844      0.03916908 -30.14734 1.162151e-199\n",
       "NIBAN1        4935.0433  1.341151      0.04563402  29.38929 7.525736e-190\n",
       "RRM1          1337.6848 -1.663796      0.05663310 -29.37851 1.033625e-189\n",
       "KIF1A          596.9147  3.079471      0.10503550  29.31839 6.046876e-189\n",
       "PDE4C          761.7469 -2.340746      0.08028193 -29.15657 6.895762e-187\n",
       "CDK16         1879.7100  1.470842      0.05045149  29.15360 7.521727e-187\n",
       "IFIT1         1553.9026 -1.558584      0.05349657 -29.13428 1.321708e-186\n",
       "ADGRE5        2195.9208 -1.383387      0.04748991 -29.13013 1.491624e-186\n",
       "CRABP2        2460.1731 -1.497975      0.05167057 -28.99088 8.574120e-185\n",
       "PCLAF          664.9590 -2.360534      0.08175676 -28.87265 2.633613e-183\n",
       "CTPS1         2965.7451  1.271829      0.04447067  28.59927 6.860380e-180\n",
       "COL1A2        1916.8535 -1.417147      0.04968308 -28.52374 5.948889e-179\n",
       "STC2          4139.5377  1.337095      0.04709107  28.39381 2.411244e-177\n",
       "⋮            ⋮          ⋮              ⋮          ⋮         ⋮            \n",
       "SLC5A2        27.407415  1.219033      0.3322125   3.669438 0.0002430844 \n",
       "FCRLB         24.960689  1.270284      0.3476802   3.653598 0.0002585907 \n",
       "MISP3         37.185636 -1.017638      0.2816726  -3.612838 0.0003028636 \n",
       "MNX1-AS1       9.272305  2.405432      0.6687656   3.596823 0.0003221271 \n",
       "ZFHX4-AS1     23.367551  1.296414      0.3609425   3.591746 0.0003284700 \n",
       "C10orf143     31.354131  1.095508      0.3063513   3.575985 0.0003489117 \n",
       "EBI3          28.835406 -1.092189      0.3142292  -3.475773 0.0005093832 \n",
       "ARRDC4       387.886429  1.883029      0.5435987   3.464006 0.0005321951 \n",
       "LOC152048     29.934758  1.105514      0.3234609   3.417767 0.0006313712 \n",
       "MEIS1-AS2     32.650134 -1.047939      0.3091606  -3.389628 0.0006998765 \n",
       "PRR22         30.752006  1.064329      0.3236420   3.288601 0.0010068666 \n",
       "LOC100130283  23.865627  1.181199      0.3622573   3.260663 0.0011115187 \n",
       "LINC01273     30.609112 -1.021119      0.3145720  -3.246059 0.0011701475 \n",
       "C1orf53        7.165743  2.480856      0.7680799   3.229945 0.0012381384 \n",
       "LINC02454     17.214993 -1.302073      0.4111326  -3.167040 0.0015399895 \n",
       "DNAJB13       25.286478  1.065551      0.3401180   3.132886 0.0017309688 \n",
       "CCND2-AS1     24.411435  1.094670      0.3564995   3.070608 0.0021362349 \n",
       "ORM2           9.737479  1.796659      0.5959952   3.014552 0.0025735870 \n",
       "RPS6KA2-IT1    8.333597  2.001506      0.6655148   3.007455 0.0026344481 \n",
       "ALG1L         22.510637  1.068214      0.3636217   2.937707 0.0033064883 \n",
       "MIR4754        1.780689  4.149868      1.5466063   2.683209 0.0072919477 \n",
       "GNG8          10.378455 -1.396640      0.5377197  -2.597338 0.0093949445 \n",
       "MIG7          18.384573  1.033140      0.3978532   2.596787 0.0094100341 \n",
       "RN7SL3       128.579868  1.109485      0.4382415   2.531675 0.0113519201 \n",
       "HDAC4-AS1     14.998165 -1.084774      0.4598392  -2.359029 0.0183228423 \n",
       "SNORA1        11.005194  1.251689      0.5348130   2.340424 0.0192618526 \n",
       "TAS2R5        17.876176  1.001134      0.4327437   2.313458 0.0206974829 \n",
       "MIR324        13.774198 -1.036950      0.4554558  -2.276731 0.0228023152 \n",
       "ANXA2P2       13.362481  1.019226      0.4684483   2.175750 0.0295739800 \n",
       "SNORD52       12.382753  1.075622      0.4981501   2.159232 0.0308321404 \n",
       "             padj          sig \n",
       "NID1          0.000000e+00 down\n",
       "PDGFRB        0.000000e+00 down\n",
       "TUBB          0.000000e+00 down\n",
       "TOP2A         0.000000e+00 down\n",
       "COL3A1       4.247992e-271 down\n",
       "VGF          4.247992e-271 down\n",
       "NOLC1        3.302658e-261 up  \n",
       "RPL7A        1.873576e-244 down\n",
       "SUCNR1       2.080733e-242 down\n",
       "GSN          1.268462e-239 down\n",
       "DDX21        1.125791e-232 up  \n",
       "SLC25A5      1.401028e-217 down\n",
       "PRC1         1.146981e-216 down\n",
       "AMOTL2       1.630395e-206 up  \n",
       "ERMP1        1.663808e-200 down\n",
       "COL26A1      1.579618e-198 down\n",
       "TIMP1        2.480783e-198 down\n",
       "LIPA         7.296474e-197 down\n",
       "NIBAN1       4.488725e-187 up  \n",
       "RRM1         5.871482e-187 down\n",
       "KIF1A        3.278781e-186 up  \n",
       "PDE4C        3.576502e-184 down\n",
       "CDK16        3.738612e-184 up  \n",
       "IFIT1        6.306660e-184 down\n",
       "ADGRE5       6.843685e-184 down\n",
       "CRABP2       3.788173e-182 down\n",
       "PCLAF        1.122013e-180 down\n",
       "CTPS1        2.821982e-177 up  \n",
       "COL1A2       2.365477e-176 down\n",
       "STC2         9.278622e-175 up  \n",
       "⋮            ⋮             ⋮   \n",
       "SLC5A2       0.0005006481  up  \n",
       "FCRLB        0.0005312086  up  \n",
       "MISP3        0.0006156885  down\n",
       "MNX1-AS1     0.0006528464  up  \n",
       "ZFHX4-AS1    0.0006640093  up  \n",
       "C10orf143    0.0007025941  up  \n",
       "EBI3         0.0010020503  down\n",
       "ARRDC4       0.0010439986  up  \n",
       "LOC152048    0.0012292520  up  \n",
       "MEIS1-AS2    0.0013544495  down\n",
       "PRR22        0.0019140896  up  \n",
       "LOC100130283 0.0020989879  up  \n",
       "LINC01273    0.0022023809  down\n",
       "C1orf53      0.0023226534  up  \n",
       "LINC02454    0.0028481450  down\n",
       "DNAJB13      0.0031772160  up  \n",
       "CCND2-AS1    0.0038787132  up  \n",
       "ORM2         0.0046110423  up  \n",
       "RPS6KA2-IT1  0.0047163083  up  \n",
       "ALG1L        0.0058425566  up  \n",
       "MIR4754      0.0122739726  up  \n",
       "GNG8         0.0155505839  down\n",
       "MIG7         0.0155711329  up  \n",
       "RN7SL3       0.0185438199  up  \n",
       "HDAC4-AS1    0.0288992881  down\n",
       "SNORA1       0.0302693504  up  \n",
       "TAS2R5       0.0323421894  up  \n",
       "MIR324       0.0352891564  down\n",
       "ANXA2P2      0.0449354232  up  \n",
       "SNORD52      0.0467102620  up  "
      ]
     },
     "metadata": {},
     "output_type": "display_data"
    }
   ],
   "source": [
    "### deal with res and extract DEG!!! ----------------------------------------------------->\n",
    "# 标准cutoff\n",
    "log2fc = 1  # >=1\n",
    "pv = 0.05  # <=0.05\n",
    "# 松cutoff\n",
    "# log2fc = 1  # >=1\n",
    "# pv = 1  # <=0.05\n",
    "\n",
    "\n",
    "resOrdered <- res[order(res$padj),]\n",
    "resOrdered[which(resOrdered$log2FoldChange >= log2fc & resOrdered$pvalue<pv), 'sig'] <- 'up'\n",
    "resOrdered[which(resOrdered$log2FoldChange <= -log2fc & resOrdered$pvalue<pv),'sig'] <- 'down'\n",
    "resOrdered[which(abs(resOrdered$log2FoldChange) <= log2fc & resOrdered$pvalue>=pv),'sig'] <- 'none'\n",
    "resOrdered=as.data.frame(resOrdered)\n",
    "\n",
    "write.table(resOrdered,\"plots/deseq2.all_sample.results.csv\",col.names = NA, sep = \",\", quote = FALSE)\n",
    "\n",
    "deg <- subset(resOrdered, (abs(resOrdered$log2FoldChange) >=log2fc & resOrdered$padj<pv)) ##### extract DEG !\n",
    "\n",
    "deg_matrix <- as.data.frame(deg)\n",
    "write.table(deg_matrix, 'plots/deg_result.csv', col.names = NA, sep = \",\", quote = FALSE)\n",
    "\n",
    "\n",
    "# raw count norm by deseq2\n",
    "write.table(rawcts_new, 'plots/raw_counts_norm_by_DESeq2.csv', col.names = NA, sep = \",\", quote = FALSE)\n",
    "\n",
    "print(dim(deg))\n",
    "deg"
   ]
  },
  {
   "cell_type": "code",
   "execution_count": 262,
   "metadata": {},
   "outputs": [
    {
     "data": {
      "image/png": "[encoded data removed]",
      "text/plain": [
       "plot without title"
      ]
     },
     "metadata": {
      "image/png": {
       "height": 420,
       "width": 420
      }
     },
     "output_type": "display_data"
    }
   ],
   "source": [
    "### plot heatmap ------------------------------------------------------------------------->\n",
    "### plot all genes heatmap\n",
    "select <- order(rowMeans(counts(dds,normalized=TRUE)),\n",
    "                decreasing=TRUE)[1:1000]  ### select first ordered 1000 genes(not deg)\n",
    "#                 decreasing=TRUE)[1:50]  ### select first ordered 66 genes(not deg)\n",
    "df <- as.data.frame(colData(dds)[,c(\"condition\")])\n",
    "p1000 <- pheatmap(assay(rld)[select,], cluster_rows=FALSE, show_rownames=FALSE,\n",
    "         cluster_cols=FALSE,scale = \"column\")\n",
    "p1000"
   ]
  },
  {
   "cell_type": "code",
   "execution_count": 263,
   "metadata": {},
   "outputs": [
    {
     "data": {
      "image/png": "[encoded data removed]",
      "text/plain": [
       "plot without title"
      ]
     },
     "metadata": {
      "image/png": {
       "height": 420,
       "width": 420
      }
     },
     "output_type": "display_data"
    }
   ],
   "source": [
    "select <- order(rowMeans(counts(dds,normalized=TRUE)),\n",
    "#                 decreasing=TRUE)[1:1000]  ### select first ordered 1000 genes(not deg)\n",
    "                decreasing=TRUE)[1:50]  ### select first ordered 66 genes(not deg)\n",
    "df <- as.data.frame(colData(dds)[,c(\"condition\")])\n",
    "p50 <- pheatmap(assay(rld)[select,], cluster_rows=FALSE, show_rownames=FALSE,\n",
    "         cluster_cols=FALSE,scale = \"column\")\n",
    "p50"
   ]
  },
  {
   "cell_type": "code",
   "execution_count": 264,
   "metadata": {},
   "outputs": [
    {
     "data": {
      "text/html": [
       "<strong>png:</strong> 2"
      ],
      "text/latex": [
       "\\textbf{png:} 2"
      ],
      "text/markdown": [
       "**png:** 2"
      ],
      "text/plain": [
       "png \n",
       "  2 "
      ]
     },
     "metadata": {},
     "output_type": "display_data"
    },
    {
     "data": {
      "text/html": [
       "<strong>png:</strong> 2"
      ],
      "text/latex": [
       "\\textbf{png:} 2"
      ],
      "text/markdown": [
       "**png:** 2"
      ],
      "text/plain": [
       "png \n",
       "  2 "
      ]
     },
     "metadata": {},
     "output_type": "display_data"
    }
   ],
   "source": [
    "pdf(\"plots/008_select_first_ordered_1000_transcriptsOrGenes_plot_heatmap.pdf\",height = 20,width = 20)\n",
    "p1000\n",
    "dev.off()\n",
    "pdf(\"plots/009_select_first_ordered_50_transcriptsOrGenes_plot_heatmap.pdf\",height = 20,width = 20)\n",
    "p50\n",
    "dev.off()"
   ]
  },
  {
   "cell_type": "code",
   "execution_count": 265,
   "metadata": {},
   "outputs": [
    {
     "data": {
      "image/png": "[encoded data removed]",
      "text/plain": [
       "plot without title"
      ]
     },
     "metadata": {
      "image/png": {
       "height": 420,
       "width": 420
      }
     },
     "output_type": "display_data"
    }
   ],
   "source": [
    "### plot DEG heatmap\n",
    "selected <- rownames(deg)\n",
    "pDEG <- pheatmap(assay(rld)[rownames(rld) %in% selected,], \n",
    "#                  cluster_rows=TRUE, \n",
    "#                  show_rownames=TRUE,\n",
    "                cluster_rows=TRUE, \n",
    "                show_rownames=FALSE,\n",
    "         cluster_cols=FALSE, scale = \"column\")"
   ]
  },
  {
   "cell_type": "code",
   "execution_count": 266,
   "metadata": {},
   "outputs": [
    {
     "data": {
      "text/html": [
       "<strong>png:</strong> 2"
      ],
      "text/latex": [
       "\\textbf{png:} 2"
      ],
      "text/markdown": [
       "**png:** 2"
      ],
      "text/plain": [
       "png \n",
       "  2 "
      ]
     },
     "metadata": {},
     "output_type": "display_data"
    }
   ],
   "source": [
    "pdf(\"plots/010_select_differential_expression_genes_heatmap.pdf\",height = 5,width = 20)\n",
    "pDEG\n",
    "dev.off()"
   ]
  },
  {
   "cell_type": "code",
   "execution_count": 267,
   "metadata": {},
   "outputs": [
    {
     "data": {
      "text/html": [
       "<table class=\"dataframe\">\n",
       "<caption>A data.frame: 11929 × 7</caption>\n",
       "<thead>\n",
       "\t<tr><th></th><th scope=col>baseMean</th><th scope=col>log2FoldChange</th><th scope=col>lfcSE</th><th scope=col>stat</th><th scope=col>pvalue</th><th scope=col>padj</th><th scope=col>sig</th></tr>\n",
       "\t<tr><th></th><th scope=col>&lt;dbl&gt;</th><th scope=col>&lt;dbl&gt;</th><th scope=col>&lt;dbl&gt;</th><th scope=col>&lt;dbl&gt;</th><th scope=col>&lt;dbl&gt;</th><th scope=col>&lt;dbl&gt;</th><th scope=col>&lt;chr&gt;</th></tr>\n",
       "</thead>\n",
       "<tbody>\n",
       "\t<tr><th scope=row>NID1</th><td> 7156.9700</td><td>-1.7587439</td><td>0.04146023</td><td>-42.42002</td><td> 0.000000e+00</td><td> 0.000000e+00</td><td>down</td></tr>\n",
       "\t<tr><th scope=row>PDGFRB</th><td> 1067.3636</td><td>-3.1214122</td><td>0.07297808</td><td>-42.77191</td><td> 0.000000e+00</td><td> 0.000000e+00</td><td>down</td></tr>\n",
       "\t<tr><th scope=row>TUBB</th><td>10028.0264</td><td>-1.4725369</td><td>0.03526043</td><td>-41.76174</td><td> 0.000000e+00</td><td> 0.000000e+00</td><td>down</td></tr>\n",
       "\t<tr><th scope=row>TOP2A</th><td> 5637.9205</td><td>-1.4593165</td><td>0.03841448</td><td>-37.98871</td><td> 0.000000e+00</td><td> 0.000000e+00</td><td>down</td></tr>\n",
       "\t<tr><th scope=row>COL3A1</th><td>19934.2905</td><td>-1.1565258</td><td>0.03267606</td><td>-35.39367</td><td>2.136638e-274</td><td>4.247992e-271</td><td>down</td></tr>\n",
       "\t<tr><th scope=row>VGF</th><td>  905.1659</td><td>-2.6334530</td><td>0.07439981</td><td>-35.39596</td><td>1.969864e-274</td><td>4.247992e-271</td><td>down</td></tr>\n",
       "\t<tr><th scope=row>NOLC1</th><td> 5350.7068</td><td> 1.4250748</td><td>0.04102073</td><td> 34.74036</td><td>1.938017e-264</td><td>3.302658e-261</td><td>up  </td></tr>\n",
       "\t<tr><th scope=row>RPL7A</th><td> 9290.2701</td><td>-1.2325103</td><td>0.03667248</td><td>-33.60859</td><td>1.256485e-247</td><td>1.873576e-244</td><td>down</td></tr>\n",
       "\t<tr><th scope=row>SUCNR1</th><td>  833.1696</td><td>-2.5026346</td><td>0.07478417</td><td>-33.46476</td><td>1.569838e-245</td><td>2.080733e-242</td><td>down</td></tr>\n",
       "\t<tr><th scope=row>GSN</th><td> 3355.3162</td><td>-1.6000128</td><td>0.04809235</td><td>-33.26959</td><td>1.063343e-242</td><td>1.268462e-239</td><td>down</td></tr>\n",
       "\t<tr><th scope=row>DDX21</th><td> 8178.8505</td><td> 1.1772936</td><td>0.03591201</td><td> 32.78272</td><td>1.038117e-235</td><td>1.125791e-232</td><td>up  </td></tr>\n",
       "\t<tr><th scope=row>SLC25A5</th><td> 2409.8300</td><td>-1.3969590</td><td>0.04406384</td><td>-31.70307</td><td>1.409366e-220</td><td>1.401028e-217</td><td>down</td></tr>\n",
       "\t<tr><th scope=row>PRC1</th><td> 1363.8432</td><td>-1.7961293</td><td>0.05677805</td><td>-31.63422</td><td>1.249958e-219</td><td>1.146981e-216</td><td>down</td></tr>\n",
       "\t<tr><th scope=row>HGF</th><td> 9793.7482</td><td>-0.9759796</td><td>0.03157352</td><td>-30.91134</td><td>8.411037e-210</td><td>7.166805e-207</td><td>NA  </td></tr>\n",
       "\t<tr><th scope=row>AMOTL2</th><td> 1937.2214</td><td> 1.5886240</td><td>0.05144086</td><td> 30.88253</td><td>2.050124e-209</td><td>1.630395e-206</td><td>up  </td></tr>\n",
       "\t<tr><th scope=row>ERMP1</th><td> 1091.3146</td><td>-2.0530092</td><td>0.06746754</td><td>-30.42958</td><td>2.231614e-203</td><td>1.663808e-200</td><td>down</td></tr>\n",
       "\t<tr><th scope=row>COL26A1</th><td> 2278.3524</td><td>-1.6302162</td><td>0.05384206</td><td>-30.27774</td><td>2.251111e-201</td><td>1.579618e-198</td><td>down</td></tr>\n",
       "\t<tr><th scope=row>TIMP1</th><td> 2408.2835</td><td>-1.4796007</td><td>0.04889470</td><td>-30.26096</td><td>3.743322e-201</td><td>2.480783e-198</td><td>down</td></tr>\n",
       "\t<tr><th scope=row>LIPA</th><td> 4246.5611</td><td>-1.1808437</td><td>0.03916908</td><td>-30.14734</td><td>1.162151e-199</td><td>7.296474e-197</td><td>down</td></tr>\n",
       "\t<tr><th scope=row>NIBAN1</th><td> 4935.0433</td><td> 1.3411515</td><td>0.04563402</td><td> 29.38929</td><td>7.525736e-190</td><td>4.488725e-187</td><td>up  </td></tr>\n",
       "\t<tr><th scope=row>RRM1</th><td> 1337.6848</td><td>-1.6637959</td><td>0.05663310</td><td>-29.37851</td><td>1.033625e-189</td><td>5.871482e-187</td><td>down</td></tr>\n",
       "\t<tr><th scope=row>KIF1A</th><td>  596.9147</td><td> 3.0794713</td><td>0.10503550</td><td> 29.31839</td><td>6.046876e-189</td><td>3.278781e-186</td><td>up  </td></tr>\n",
       "\t<tr><th scope=row>PDE4C</th><td>  761.7469</td><td>-2.3407458</td><td>0.08028193</td><td>-29.15657</td><td>6.895762e-187</td><td>3.576502e-184</td><td>down</td></tr>\n",
       "\t<tr><th scope=row>CDK16</th><td> 1879.7100</td><td> 1.4708424</td><td>0.05045149</td><td> 29.15360</td><td>7.521727e-187</td><td>3.738612e-184</td><td>up  </td></tr>\n",
       "\t<tr><th scope=row>IFIT1</th><td> 1553.9026</td><td>-1.5585839</td><td>0.05349657</td><td>-29.13428</td><td>1.321708e-186</td><td>6.306660e-184</td><td>down</td></tr>\n",
       "\t<tr><th scope=row>ADGRE5</th><td> 2195.9208</td><td>-1.3833871</td><td>0.04748991</td><td>-29.13013</td><td>1.491624e-186</td><td>6.843685e-184</td><td>down</td></tr>\n",
       "\t<tr><th scope=row>CRABP2</th><td> 2460.1731</td><td>-1.4979754</td><td>0.05167057</td><td>-28.99088</td><td>8.574120e-185</td><td>3.788173e-182</td><td>down</td></tr>\n",
       "\t<tr><th scope=row>PCLAF</th><td>  664.9590</td><td>-2.3605340</td><td>0.08175676</td><td>-28.87265</td><td>2.633613e-183</td><td>1.122013e-180</td><td>down</td></tr>\n",
       "\t<tr><th scope=row>CTPS1</th><td> 2965.7451</td><td> 1.2718288</td><td>0.04447067</td><td> 28.59927</td><td>6.860380e-180</td><td>2.821982e-177</td><td>up  </td></tr>\n",
       "\t<tr><th scope=row>COL1A2</th><td> 1916.8535</td><td>-1.4171472</td><td>0.04968308</td><td>-28.52374</td><td>5.948889e-179</td><td>2.365477e-176</td><td>down</td></tr>\n",
       "\t<tr><th scope=row>⋮</th><td>⋮</td><td>⋮</td><td>⋮</td><td>⋮</td><td>⋮</td><td>⋮</td><td>⋮</td></tr>\n",
       "\t<tr><th scope=row>CRYL1</th><td>  99.277124</td><td> 2.717909e-03</td><td>0.16671743</td><td> 0.0163024881</td><td>0.9869931</td><td>0.9893152</td><td>none</td></tr>\n",
       "\t<tr><th scope=row>ASCC2</th><td> 766.390317</td><td>-1.147193e-03</td><td>0.06923234</td><td>-0.0165701888</td><td>0.9867795</td><td>0.9893152</td><td>none</td></tr>\n",
       "\t<tr><th scope=row>CPEB1</th><td> 467.790135</td><td>-1.160067e-03</td><td>0.08010647</td><td>-0.0144815610</td><td>0.9884458</td><td>0.9906881</td><td>none</td></tr>\n",
       "\t<tr><th scope=row>TFAP2A</th><td>2120.477871</td><td>-6.564889e-04</td><td>0.04625656</td><td>-0.0141923417</td><td>0.9886765</td><td>0.9908361</td><td>none</td></tr>\n",
       "\t<tr><th scope=row>AP5B1</th><td> 774.100931</td><td> 8.897078e-04</td><td>0.06512518</td><td> 0.0136615023</td><td>0.9891000</td><td>0.9911773</td><td>none</td></tr>\n",
       "\t<tr><th scope=row>C1RL-AS1</th><td> 131.460598</td><td>-1.957337e-03</td><td>0.15069527</td><td>-0.0129887114</td><td>0.9896368</td><td>0.9916319</td><td>none</td></tr>\n",
       "\t<tr><th scope=row>LINC01569</th><td>  41.597865</td><td>-3.270601e-03</td><td>0.26273536</td><td>-0.0124482695</td><td>0.9900680</td><td>0.9919806</td><td>none</td></tr>\n",
       "\t<tr><th scope=row>LINC00476</th><td> 315.059220</td><td> 1.160568e-03</td><td>0.09613909</td><td> 0.0120717565</td><td>0.9903684</td><td>0.9921982</td><td>none</td></tr>\n",
       "\t<tr><th scope=row>LINC01023</th><td>  27.948965</td><td>-3.644376e-03</td><td>0.31456647</td><td>-0.0115853932</td><td>0.9907564</td><td>0.9925036</td><td>none</td></tr>\n",
       "\t<tr><th scope=row>SPEN</th><td>2341.573536</td><td>-6.427676e-04</td><td>0.05807490</td><td>-0.0110679075</td><td>0.9911693</td><td>0.9928338</td><td>none</td></tr>\n",
       "\t<tr><th scope=row>LRP3</th><td> 250.796274</td><td>-1.164708e-03</td><td>0.10788742</td><td>-0.0107955842</td><td>0.9913865</td><td>0.9929681</td><td>none</td></tr>\n",
       "\t<tr><th scope=row>ZMYM6</th><td> 314.800585</td><td>-1.095154e-03</td><td>0.10389949</td><td>-0.0105405121</td><td>0.9915900</td><td>0.9930885</td><td>none</td></tr>\n",
       "\t<tr><th scope=row>EXTL3-AS1</th><td>  20.169406</td><td> 3.702968e-03</td><td>0.36777411</td><td> 0.0100685947</td><td>0.9919666</td><td>0.9933822</td><td>none</td></tr>\n",
       "\t<tr><th scope=row>NUDT9</th><td> 241.234591</td><td> 1.093258e-03</td><td>0.11246556</td><td> 0.0097208215</td><td>0.9922440</td><td>0.9935767</td><td>none</td></tr>\n",
       "\t<tr><th scope=row>C3orf38</th><td> 413.385021</td><td>-7.689249e-04</td><td>0.08806829</td><td>-0.0087310076</td><td>0.9930338</td><td>0.9942840</td><td>none</td></tr>\n",
       "\t<tr><th scope=row>ACADS</th><td>  78.162036</td><td> 1.560520e-03</td><td>0.18657725</td><td> 0.0083639340</td><td>0.9933266</td><td>0.9944938</td><td>none</td></tr>\n",
       "\t<tr><th scope=row>SREBF1</th><td>2650.101427</td><td>-3.427770e-04</td><td>0.04162568</td><td>-0.0082347485</td><td>0.9934297</td><td>0.9945135</td><td>none</td></tr>\n",
       "\t<tr><th scope=row>CCDC130</th><td> 330.346910</td><td> 7.001979e-04</td><td>0.09451181</td><td> 0.0074085754</td><td>0.9940889</td><td>0.9950899</td><td>none</td></tr>\n",
       "\t<tr><th scope=row>TP53I13</th><td> 459.363936</td><td> 6.036148e-04</td><td>0.08454208</td><td> 0.0071398140</td><td>0.9943033</td><td>0.9952210</td><td>none</td></tr>\n",
       "\t<tr><th scope=row>SNORD102</th><td>  19.092869</td><td>-2.352101e-03</td><td>0.37682375</td><td>-0.0062419129</td><td>0.9950197</td><td>0.9958545</td><td>none</td></tr>\n",
       "\t<tr><th scope=row>CBX2</th><td>1327.181861</td><td> 3.231637e-04</td><td>0.05375958</td><td> 0.0060112771</td><td>0.9952037</td><td>0.9959551</td><td>none</td></tr>\n",
       "\t<tr><th scope=row>CBX3P2</th><td>  31.833574</td><td> 1.616673e-03</td><td>0.29290753</td><td> 0.0055193984</td><td>0.9955962</td><td>0.9962643</td><td>none</td></tr>\n",
       "\t<tr><th scope=row>IFT172</th><td> 361.122197</td><td>-4.746117e-04</td><td>0.09300717</td><td>-0.0051029588</td><td>0.9959284</td><td>0.9965132</td><td>none</td></tr>\n",
       "\t<tr><th scope=row>EAF2</th><td>  29.519929</td><td> 1.154799e-03</td><td>0.30068879</td><td> 0.0038405110</td><td>0.9969357</td><td>0.9974374</td><td>none</td></tr>\n",
       "\t<tr><th scope=row>KIAA0895</th><td> 315.509795</td><td> 3.056867e-04</td><td>0.10153915</td><td> 0.0030105303</td><td>0.9975979</td><td>0.9979326</td><td>none</td></tr>\n",
       "\t<tr><th scope=row>CSDC2</th><td>  83.393579</td><td> 5.537648e-04</td><td>0.18299362</td><td> 0.0030261428</td><td>0.9975855</td><td>0.9979326</td><td>none</td></tr>\n",
       "\t<tr><th scope=row>MFSD1</th><td> 313.586568</td><td> 1.938116e-04</td><td>0.10202863</td><td> 0.0018995805</td><td>0.9984844</td><td>0.9987355</td><td>none</td></tr>\n",
       "\t<tr><th scope=row>DET1</th><td> 167.401751</td><td>-2.160025e-04</td><td>0.13316181</td><td>-0.0016221054</td><td>0.9987057</td><td>0.9988732</td><td>none</td></tr>\n",
       "\t<tr><th scope=row>SETDB1</th><td>1164.361719</td><td>-3.460671e-05</td><td>0.05607524</td><td>-0.0006171478</td><td>0.9995076</td><td>0.9995914</td><td>none</td></tr>\n",
       "\t<tr><th scope=row>SNORA22B</th><td>   1.821739</td><td> 3.677812e-04</td><td>1.20369358</td><td> 0.0003055439</td><td>0.9997562</td><td>0.9997562</td><td>none</td></tr>\n",
       "</tbody>\n",
       "</table>\n"
      ],
      "text/latex": [
       "A data.frame: 11929 × 7\n",
       "\\begin{tabular}{r|lllllll}\n",
       "  & baseMean & log2FoldChange & lfcSE & stat & pvalue & padj & sig\\\\\n",
       "  & <dbl> & <dbl> & <dbl> & <dbl> & <dbl> & <dbl> & <chr>\\\\\n",
       "\\hline\n",
       "\tNID1 &  7156.9700 & -1.7587439 & 0.04146023 & -42.42002 &  0.000000e+00 &  0.000000e+00 & down\\\\\n",
       "\tPDGFRB &  1067.3636 & -3.1214122 & 0.07297808 & -42.77191 &  0.000000e+00 &  0.000000e+00 & down\\\\\n",
       "\tTUBB & 10028.0264 & -1.4725369 & 0.03526043 & -41.76174 &  0.000000e+00 &  0.000000e+00 & down\\\\\n",
       "\tTOP2A &  5637.9205 & -1.4593165 & 0.03841448 & -37.98871 &  0.000000e+00 &  0.000000e+00 & down\\\\\n",
       "\tCOL3A1 & 19934.2905 & -1.1565258 & 0.03267606 & -35.39367 & 2.136638e-274 & 4.247992e-271 & down\\\\\n",
       "\tVGF &   905.1659 & -2.6334530 & 0.07439981 & -35.39596 & 1.969864e-274 & 4.247992e-271 & down\\\\\n",
       "\tNOLC1 &  5350.7068 &  1.4250748 & 0.04102073 &  34.74036 & 1.938017e-264 & 3.302658e-261 & up  \\\\\n",
       "\tRPL7A &  9290.2701 & -1.2325103 & 0.03667248 & -33.60859 & 1.256485e-247 & 1.873576e-244 & down\\\\\n",
       "\tSUCNR1 &   833.1696 & -2.5026346 & 0.07478417 & -33.46476 & 1.569838e-245 & 2.080733e-242 & down\\\\\n",
       "\tGSN &  3355.3162 & -1.6000128 & 0.04809235 & -33.26959 & 1.063343e-242 & 1.268462e-239 & down\\\\\n",
       "\tDDX21 &  8178.8505 &  1.1772936 & 0.03591201 &  32.78272 & 1.038117e-235 & 1.125791e-232 & up  \\\\\n",
       "\tSLC25A5 &  2409.8300 & -1.3969590 & 0.04406384 & -31.70307 & 1.409366e-220 & 1.401028e-217 & down\\\\\n",
       "\tPRC1 &  1363.8432 & -1.7961293 & 0.05677805 & -31.63422 & 1.249958e-219 & 1.146981e-216 & down\\\\\n",
       "\tHGF &  9793.7482 & -0.9759796 & 0.03157352 & -30.91134 & 8.411037e-210 & 7.166805e-207 & NA  \\\\\n",
       "\tAMOTL2 &  1937.2214 &  1.5886240 & 0.05144086 &  30.88253 & 2.050124e-209 & 1.630395e-206 & up  \\\\\n",
       "\tERMP1 &  1091.3146 & -2.0530092 & 0.06746754 & -30.42958 & 2.231614e-203 & 1.663808e-200 & down\\\\\n",
       "\tCOL26A1 &  2278.3524 & -1.6302162 & 0.05384206 & -30.27774 & 2.251111e-201 & 1.579618e-198 & down\\\\\n",
       "\tTIMP1 &  2408.2835 & -1.4796007 & 0.04889470 & -30.26096 & 3.743322e-201 & 2.480783e-198 & down\\\\\n",
       "\tLIPA &  4246.5611 & -1.1808437 & 0.03916908 & -30.14734 & 1.162151e-199 & 7.296474e-197 & down\\\\\n",
       "\tNIBAN1 &  4935.0433 &  1.3411515 & 0.04563402 &  29.38929 & 7.525736e-190 & 4.488725e-187 & up  \\\\\n",
       "\tRRM1 &  1337.6848 & -1.6637959 & 0.05663310 & -29.37851 & 1.033625e-189 & 5.871482e-187 & down\\\\\n",
       "\tKIF1A &   596.9147 &  3.0794713 & 0.10503550 &  29.31839 & 6.046876e-189 & 3.278781e-186 & up  \\\\\n",
       "\tPDE4C &   761.7469 & -2.3407458 & 0.08028193 & -29.15657 & 6.895762e-187 & 3.576502e-184 & down\\\\\n",
       "\tCDK16 &  1879.7100 &  1.4708424 & 0.05045149 &  29.15360 & 7.521727e-187 & 3.738612e-184 & up  \\\\\n",
       "\tIFIT1 &  1553.9026 & -1.5585839 & 0.05349657 & -29.13428 & 1.321708e-186 & 6.306660e-184 & down\\\\\n",
       "\tADGRE5 &  2195.9208 & -1.3833871 & 0.04748991 & -29.13013 & 1.491624e-186 & 6.843685e-184 & down\\\\\n",
       "\tCRABP2 &  2460.1731 & -1.4979754 & 0.05167057 & -28.99088 & 8.574120e-185 & 3.788173e-182 & down\\\\\n",
       "\tPCLAF &   664.9590 & -2.3605340 & 0.08175676 & -28.87265 & 2.633613e-183 & 1.122013e-180 & down\\\\\n",
       "\tCTPS1 &  2965.7451 &  1.2718288 & 0.04447067 &  28.59927 & 6.860380e-180 & 2.821982e-177 & up  \\\\\n",
       "\tCOL1A2 &  1916.8535 & -1.4171472 & 0.04968308 & -28.52374 & 5.948889e-179 & 2.365477e-176 & down\\\\\n",
       "\t⋮ & ⋮ & ⋮ & ⋮ & ⋮ & ⋮ & ⋮ & ⋮\\\\\n",
       "\tCRYL1 &   99.277124 &  2.717909e-03 & 0.16671743 &  0.0163024881 & 0.9869931 & 0.9893152 & none\\\\\n",
       "\tASCC2 &  766.390317 & -1.147193e-03 & 0.06923234 & -0.0165701888 & 0.9867795 & 0.9893152 & none\\\\\n",
       "\tCPEB1 &  467.790135 & -1.160067e-03 & 0.08010647 & -0.0144815610 & 0.9884458 & 0.9906881 & none\\\\\n",
       "\tTFAP2A & 2120.477871 & -6.564889e-04 & 0.04625656 & -0.0141923417 & 0.9886765 & 0.9908361 & none\\\\\n",
       "\tAP5B1 &  774.100931 &  8.897078e-04 & 0.06512518 &  0.0136615023 & 0.9891000 & 0.9911773 & none\\\\\n",
       "\tC1RL-AS1 &  131.460598 & -1.957337e-03 & 0.15069527 & -0.0129887114 & 0.9896368 & 0.9916319 & none\\\\\n",
       "\tLINC01569 &   41.597865 & -3.270601e-03 & 0.26273536 & -0.0124482695 & 0.9900680 & 0.9919806 & none\\\\\n",
       "\tLINC00476 &  315.059220 &  1.160568e-03 & 0.09613909 &  0.0120717565 & 0.9903684 & 0.9921982 & none\\\\\n",
       "\tLINC01023 &   27.948965 & -3.644376e-03 & 0.31456647 & -0.0115853932 & 0.9907564 & 0.9925036 & none\\\\\n",
       "\tSPEN & 2341.573536 & -6.427676e-04 & 0.05807490 & -0.0110679075 & 0.9911693 & 0.9928338 & none\\\\\n",
       "\tLRP3 &  250.796274 & -1.164708e-03 & 0.10788742 & -0.0107955842 & 0.9913865 & 0.9929681 & none\\\\\n",
       "\tZMYM6 &  314.800585 & -1.095154e-03 & 0.10389949 & -0.0105405121 & 0.9915900 & 0.9930885 & none\\\\\n",
       "\tEXTL3-AS1 &   20.169406 &  3.702968e-03 & 0.36777411 &  0.0100685947 & 0.9919666 & 0.9933822 & none\\\\\n",
       "\tNUDT9 &  241.234591 &  1.093258e-03 & 0.11246556 &  0.0097208215 & 0.9922440 & 0.9935767 & none\\\\\n",
       "\tC3orf38 &  413.385021 & -7.689249e-04 & 0.08806829 & -0.0087310076 & 0.9930338 & 0.9942840 & none\\\\\n",
       "\tACADS &   78.162036 &  1.560520e-03 & 0.18657725 &  0.0083639340 & 0.9933266 & 0.9944938 & none\\\\\n",
       "\tSREBF1 & 2650.101427 & -3.427770e-04 & 0.04162568 & -0.0082347485 & 0.9934297 & 0.9945135 & none\\\\\n",
       "\tCCDC130 &  330.346910 &  7.001979e-04 & 0.09451181 &  0.0074085754 & 0.9940889 & 0.9950899 & none\\\\\n",
       "\tTP53I13 &  459.363936 &  6.036148e-04 & 0.08454208 &  0.0071398140 & 0.9943033 & 0.9952210 & none\\\\\n",
       "\tSNORD102 &   19.092869 & -2.352101e-03 & 0.37682375 & -0.0062419129 & 0.9950197 & 0.9958545 & none\\\\\n",
       "\tCBX2 & 1327.181861 &  3.231637e-04 & 0.05375958 &  0.0060112771 & 0.9952037 & 0.9959551 & none\\\\\n",
       "\tCBX3P2 &   31.833574 &  1.616673e-03 & 0.29290753 &  0.0055193984 & 0.9955962 & 0.9962643 & none\\\\\n",
       "\tIFT172 &  361.122197 & -4.746117e-04 & 0.09300717 & -0.0051029588 & 0.9959284 & 0.9965132 & none\\\\\n",
       "\tEAF2 &   29.519929 &  1.154799e-03 & 0.30068879 &  0.0038405110 & 0.9969357 & 0.9974374 & none\\\\\n",
       "\tKIAA0895 &  315.509795 &  3.056867e-04 & 0.10153915 &  0.0030105303 & 0.9975979 & 0.9979326 & none\\\\\n",
       "\tCSDC2 &   83.393579 &  5.537648e-04 & 0.18299362 &  0.0030261428 & 0.9975855 & 0.9979326 & none\\\\\n",
       "\tMFSD1 &  313.586568 &  1.938116e-04 & 0.10202863 &  0.0018995805 & 0.9984844 & 0.9987355 & none\\\\\n",
       "\tDET1 &  167.401751 & -2.160025e-04 & 0.13316181 & -0.0016221054 & 0.9987057 & 0.9988732 & none\\\\\n",
       "\tSETDB1 & 1164.361719 & -3.460671e-05 & 0.05607524 & -0.0006171478 & 0.9995076 & 0.9995914 & none\\\\\n",
       "\tSNORA22B &    1.821739 &  3.677812e-04 & 1.20369358 &  0.0003055439 & 0.9997562 & 0.9997562 & none\\\\\n",
       "\\end{tabular}\n"
      ],
      "text/markdown": [
       "\n",
       "A data.frame: 11929 × 7\n",
       "\n",
       "| <!--/--> | baseMean &lt;dbl&gt; | log2FoldChange &lt;dbl&gt; | lfcSE &lt;dbl&gt; | stat &lt;dbl&gt; | pvalue &lt;dbl&gt; | padj &lt;dbl&gt; | sig &lt;chr&gt; |\n",
       "|---|---|---|---|---|---|---|---|\n",
       "| NID1 |  7156.9700 | -1.7587439 | 0.04146023 | -42.42002 |  0.000000e+00 |  0.000000e+00 | down |\n",
       "| PDGFRB |  1067.3636 | -3.1214122 | 0.07297808 | -42.77191 |  0.000000e+00 |  0.000000e+00 | down |\n",
       "| TUBB | 10028.0264 | -1.4725369 | 0.03526043 | -41.76174 |  0.000000e+00 |  0.000000e+00 | down |\n",
       "| TOP2A |  5637.9205 | -1.4593165 | 0.03841448 | -37.98871 |  0.000000e+00 |  0.000000e+00 | down |\n",
       "| COL3A1 | 19934.2905 | -1.1565258 | 0.03267606 | -35.39367 | 2.136638e-274 | 4.247992e-271 | down |\n",
       "| VGF |   905.1659 | -2.6334530 | 0.07439981 | -35.39596 | 1.969864e-274 | 4.247992e-271 | down |\n",
       "| NOLC1 |  5350.7068 |  1.4250748 | 0.04102073 |  34.74036 | 1.938017e-264 | 3.302658e-261 | up   |\n",
       "| RPL7A |  9290.2701 | -1.2325103 | 0.03667248 | -33.60859 | 1.256485e-247 | 1.873576e-244 | down |\n",
       "| SUCNR1 |   833.1696 | -2.5026346 | 0.07478417 | -33.46476 | 1.569838e-245 | 2.080733e-242 | down |\n",
       "| GSN |  3355.3162 | -1.6000128 | 0.04809235 | -33.26959 | 1.063343e-242 | 1.268462e-239 | down |\n",
       "| DDX21 |  8178.8505 |  1.1772936 | 0.03591201 |  32.78272 | 1.038117e-235 | 1.125791e-232 | up   |\n",
       "| SLC25A5 |  2409.8300 | -1.3969590 | 0.04406384 | -31.70307 | 1.409366e-220 | 1.401028e-217 | down |\n",
       "| PRC1 |  1363.8432 | -1.7961293 | 0.05677805 | -31.63422 | 1.249958e-219 | 1.146981e-216 | down |\n",
       "| HGF |  9793.7482 | -0.9759796 | 0.03157352 | -30.91134 | 8.411037e-210 | 7.166805e-207 | NA   |\n",
       "| AMOTL2 |  1937.2214 |  1.5886240 | 0.05144086 |  30.88253 | 2.050124e-209 | 1.630395e-206 | up   |\n",
       "| ERMP1 |  1091.3146 | -2.0530092 | 0.06746754 | -30.42958 | 2.231614e-203 | 1.663808e-200 | down |\n",
       "| COL26A1 |  2278.3524 | -1.6302162 | 0.05384206 | -30.27774 | 2.251111e-201 | 1.579618e-198 | down |\n",
       "| TIMP1 |  2408.2835 | -1.4796007 | 0.04889470 | -30.26096 | 3.743322e-201 | 2.480783e-198 | down |\n",
       "| LIPA |  4246.5611 | -1.1808437 | 0.03916908 | -30.14734 | 1.162151e-199 | 7.296474e-197 | down |\n",
       "| NIBAN1 |  4935.0433 |  1.3411515 | 0.04563402 |  29.38929 | 7.525736e-190 | 4.488725e-187 | up   |\n",
       "| RRM1 |  1337.6848 | -1.6637959 | 0.05663310 | -29.37851 | 1.033625e-189 | 5.871482e-187 | down |\n",
       "| KIF1A |   596.9147 |  3.0794713 | 0.10503550 |  29.31839 | 6.046876e-189 | 3.278781e-186 | up   |\n",
       "| PDE4C |   761.7469 | -2.3407458 | 0.08028193 | -29.15657 | 6.895762e-187 | 3.576502e-184 | down |\n",
       "| CDK16 |  1879.7100 |  1.4708424 | 0.05045149 |  29.15360 | 7.521727e-187 | 3.738612e-184 | up   |\n",
       "| IFIT1 |  1553.9026 | -1.5585839 | 0.05349657 | -29.13428 | 1.321708e-186 | 6.306660e-184 | down |\n",
       "| ADGRE5 |  2195.9208 | -1.3833871 | 0.04748991 | -29.13013 | 1.491624e-186 | 6.843685e-184 | down |\n",
       "| CRABP2 |  2460.1731 | -1.4979754 | 0.05167057 | -28.99088 | 8.574120e-185 | 3.788173e-182 | down |\n",
       "| PCLAF |   664.9590 | -2.3605340 | 0.08175676 | -28.87265 | 2.633613e-183 | 1.122013e-180 | down |\n",
       "| CTPS1 |  2965.7451 |  1.2718288 | 0.04447067 |  28.59927 | 6.860380e-180 | 2.821982e-177 | up   |\n",
       "| COL1A2 |  1916.8535 | -1.4171472 | 0.04968308 | -28.52374 | 5.948889e-179 | 2.365477e-176 | down |\n",
       "| ⋮ | ⋮ | ⋮ | ⋮ | ⋮ | ⋮ | ⋮ | ⋮ |\n",
       "| CRYL1 |   99.277124 |  2.717909e-03 | 0.16671743 |  0.0163024881 | 0.9869931 | 0.9893152 | none |\n",
       "| ASCC2 |  766.390317 | -1.147193e-03 | 0.06923234 | -0.0165701888 | 0.9867795 | 0.9893152 | none |\n",
       "| CPEB1 |  467.790135 | -1.160067e-03 | 0.08010647 | -0.0144815610 | 0.9884458 | 0.9906881 | none |\n",
       "| TFAP2A | 2120.477871 | -6.564889e-04 | 0.04625656 | -0.0141923417 | 0.9886765 | 0.9908361 | none |\n",
       "| AP5B1 |  774.100931 |  8.897078e-04 | 0.06512518 |  0.0136615023 | 0.9891000 | 0.9911773 | none |\n",
       "| C1RL-AS1 |  131.460598 | -1.957337e-03 | 0.15069527 | -0.0129887114 | 0.9896368 | 0.9916319 | none |\n",
       "| LINC01569 |   41.597865 | -3.270601e-03 | 0.26273536 | -0.0124482695 | 0.9900680 | 0.9919806 | none |\n",
       "| LINC00476 |  315.059220 |  1.160568e-03 | 0.09613909 |  0.0120717565 | 0.9903684 | 0.9921982 | none |\n",
       "| LINC01023 |   27.948965 | -3.644376e-03 | 0.31456647 | -0.0115853932 | 0.9907564 | 0.9925036 | none |\n",
       "| SPEN | 2341.573536 | -6.427676e-04 | 0.05807490 | -0.0110679075 | 0.9911693 | 0.9928338 | none |\n",
       "| LRP3 |  250.796274 | -1.164708e-03 | 0.10788742 | -0.0107955842 | 0.9913865 | 0.9929681 | none |\n",
       "| ZMYM6 |  314.800585 | -1.095154e-03 | 0.10389949 | -0.0105405121 | 0.9915900 | 0.9930885 | none |\n",
       "| EXTL3-AS1 |   20.169406 |  3.702968e-03 | 0.36777411 |  0.0100685947 | 0.9919666 | 0.9933822 | none |\n",
       "| NUDT9 |  241.234591 |  1.093258e-03 | 0.11246556 |  0.0097208215 | 0.9922440 | 0.9935767 | none |\n",
       "| C3orf38 |  413.385021 | -7.689249e-04 | 0.08806829 | -0.0087310076 | 0.9930338 | 0.9942840 | none |\n",
       "| ACADS |   78.162036 |  1.560520e-03 | 0.18657725 |  0.0083639340 | 0.9933266 | 0.9944938 | none |\n",
       "| SREBF1 | 2650.101427 | -3.427770e-04 | 0.04162568 | -0.0082347485 | 0.9934297 | 0.9945135 | none |\n",
       "| CCDC130 |  330.346910 |  7.001979e-04 | 0.09451181 |  0.0074085754 | 0.9940889 | 0.9950899 | none |\n",
       "| TP53I13 |  459.363936 |  6.036148e-04 | 0.08454208 |  0.0071398140 | 0.9943033 | 0.9952210 | none |\n",
       "| SNORD102 |   19.092869 | -2.352101e-03 | 0.37682375 | -0.0062419129 | 0.9950197 | 0.9958545 | none |\n",
       "| CBX2 | 1327.181861 |  3.231637e-04 | 0.05375958 |  0.0060112771 | 0.9952037 | 0.9959551 | none |\n",
       "| CBX3P2 |   31.833574 |  1.616673e-03 | 0.29290753 |  0.0055193984 | 0.9955962 | 0.9962643 | none |\n",
       "| IFT172 |  361.122197 | -4.746117e-04 | 0.09300717 | -0.0051029588 | 0.9959284 | 0.9965132 | none |\n",
       "| EAF2 |   29.519929 |  1.154799e-03 | 0.30068879 |  0.0038405110 | 0.9969357 | 0.9974374 | none |\n",
       "| KIAA0895 |  315.509795 |  3.056867e-04 | 0.10153915 |  0.0030105303 | 0.9975979 | 0.9979326 | none |\n",
       "| CSDC2 |   83.393579 |  5.537648e-04 | 0.18299362 |  0.0030261428 | 0.9975855 | 0.9979326 | none |\n",
       "| MFSD1 |  313.586568 |  1.938116e-04 | 0.10202863 |  0.0018995805 | 0.9984844 | 0.9987355 | none |\n",
       "| DET1 |  167.401751 | -2.160025e-04 | 0.13316181 | -0.0016221054 | 0.9987057 | 0.9988732 | none |\n",
       "| SETDB1 | 1164.361719 | -3.460671e-05 | 0.05607524 | -0.0006171478 | 0.9995076 | 0.9995914 | none |\n",
       "| SNORA22B |    1.821739 |  3.677812e-04 | 1.20369358 |  0.0003055439 | 0.9997562 | 0.9997562 | none |\n",
       "\n"
      ],
      "text/plain": [
       "          baseMean    log2FoldChange lfcSE      stat          pvalue       \n",
       "NID1       7156.9700  -1.7587439     0.04146023 -42.42002      0.000000e+00\n",
       "PDGFRB     1067.3636  -3.1214122     0.07297808 -42.77191      0.000000e+00\n",
       "TUBB      10028.0264  -1.4725369     0.03526043 -41.76174      0.000000e+00\n",
       "TOP2A      5637.9205  -1.4593165     0.03841448 -37.98871      0.000000e+00\n",
       "COL3A1    19934.2905  -1.1565258     0.03267606 -35.39367     2.136638e-274\n",
       "VGF         905.1659  -2.6334530     0.07439981 -35.39596     1.969864e-274\n",
       "NOLC1      5350.7068   1.4250748     0.04102073  34.74036     1.938017e-264\n",
       "RPL7A      9290.2701  -1.2325103     0.03667248 -33.60859     1.256485e-247\n",
       "SUCNR1      833.1696  -2.5026346     0.07478417 -33.46476     1.569838e-245\n",
       "GSN        3355.3162  -1.6000128     0.04809235 -33.26959     1.063343e-242\n",
       "DDX21      8178.8505   1.1772936     0.03591201  32.78272     1.038117e-235\n",
       "SLC25A5    2409.8300  -1.3969590     0.04406384 -31.70307     1.409366e-220\n",
       "PRC1       1363.8432  -1.7961293     0.05677805 -31.63422     1.249958e-219\n",
       "HGF        9793.7482  -0.9759796     0.03157352 -30.91134     8.411037e-210\n",
       "AMOTL2     1937.2214   1.5886240     0.05144086  30.88253     2.050124e-209\n",
       "ERMP1      1091.3146  -2.0530092     0.06746754 -30.42958     2.231614e-203\n",
       "COL26A1    2278.3524  -1.6302162     0.05384206 -30.27774     2.251111e-201\n",
       "TIMP1      2408.2835  -1.4796007     0.04889470 -30.26096     3.743322e-201\n",
       "LIPA       4246.5611  -1.1808437     0.03916908 -30.14734     1.162151e-199\n",
       "NIBAN1     4935.0433   1.3411515     0.04563402  29.38929     7.525736e-190\n",
       "RRM1       1337.6848  -1.6637959     0.05663310 -29.37851     1.033625e-189\n",
       "KIF1A       596.9147   3.0794713     0.10503550  29.31839     6.046876e-189\n",
       "PDE4C       761.7469  -2.3407458     0.08028193 -29.15657     6.895762e-187\n",
       "CDK16      1879.7100   1.4708424     0.05045149  29.15360     7.521727e-187\n",
       "IFIT1      1553.9026  -1.5585839     0.05349657 -29.13428     1.321708e-186\n",
       "ADGRE5     2195.9208  -1.3833871     0.04748991 -29.13013     1.491624e-186\n",
       "CRABP2     2460.1731  -1.4979754     0.05167057 -28.99088     8.574120e-185\n",
       "PCLAF       664.9590  -2.3605340     0.08175676 -28.87265     2.633613e-183\n",
       "CTPS1      2965.7451   1.2718288     0.04447067  28.59927     6.860380e-180\n",
       "COL1A2     1916.8535  -1.4171472     0.04968308 -28.52374     5.948889e-179\n",
       "⋮         ⋮           ⋮              ⋮          ⋮             ⋮            \n",
       "CRYL1       99.277124  2.717909e-03  0.16671743  0.0163024881 0.9869931    \n",
       "ASCC2      766.390317 -1.147193e-03  0.06923234 -0.0165701888 0.9867795    \n",
       "CPEB1      467.790135 -1.160067e-03  0.08010647 -0.0144815610 0.9884458    \n",
       "TFAP2A    2120.477871 -6.564889e-04  0.04625656 -0.0141923417 0.9886765    \n",
       "AP5B1      774.100931  8.897078e-04  0.06512518  0.0136615023 0.9891000    \n",
       "C1RL-AS1   131.460598 -1.957337e-03  0.15069527 -0.0129887114 0.9896368    \n",
       "LINC01569   41.597865 -3.270601e-03  0.26273536 -0.0124482695 0.9900680    \n",
       "LINC00476  315.059220  1.160568e-03  0.09613909  0.0120717565 0.9903684    \n",
       "LINC01023   27.948965 -3.644376e-03  0.31456647 -0.0115853932 0.9907564    \n",
       "SPEN      2341.573536 -6.427676e-04  0.05807490 -0.0110679075 0.9911693    \n",
       "LRP3       250.796274 -1.164708e-03  0.10788742 -0.0107955842 0.9913865    \n",
       "ZMYM6      314.800585 -1.095154e-03  0.10389949 -0.0105405121 0.9915900    \n",
       "EXTL3-AS1   20.169406  3.702968e-03  0.36777411  0.0100685947 0.9919666    \n",
       "NUDT9      241.234591  1.093258e-03  0.11246556  0.0097208215 0.9922440    \n",
       "C3orf38    413.385021 -7.689249e-04  0.08806829 -0.0087310076 0.9930338    \n",
       "ACADS       78.162036  1.560520e-03  0.18657725  0.0083639340 0.9933266    \n",
       "SREBF1    2650.101427 -3.427770e-04  0.04162568 -0.0082347485 0.9934297    \n",
       "CCDC130    330.346910  7.001979e-04  0.09451181  0.0074085754 0.9940889    \n",
       "TP53I13    459.363936  6.036148e-04  0.08454208  0.0071398140 0.9943033    \n",
       "SNORD102    19.092869 -2.352101e-03  0.37682375 -0.0062419129 0.9950197    \n",
       "CBX2      1327.181861  3.231637e-04  0.05375958  0.0060112771 0.9952037    \n",
       "CBX3P2      31.833574  1.616673e-03  0.29290753  0.0055193984 0.9955962    \n",
       "IFT172     361.122197 -4.746117e-04  0.09300717 -0.0051029588 0.9959284    \n",
       "EAF2        29.519929  1.154799e-03  0.30068879  0.0038405110 0.9969357    \n",
       "KIAA0895   315.509795  3.056867e-04  0.10153915  0.0030105303 0.9975979    \n",
       "CSDC2       83.393579  5.537648e-04  0.18299362  0.0030261428 0.9975855    \n",
       "MFSD1      313.586568  1.938116e-04  0.10202863  0.0018995805 0.9984844    \n",
       "DET1       167.401751 -2.160025e-04  0.13316181 -0.0016221054 0.9987057    \n",
       "SETDB1    1164.361719 -3.460671e-05  0.05607524 -0.0006171478 0.9995076    \n",
       "SNORA22B     1.821739  3.677812e-04  1.20369358  0.0003055439 0.9997562    \n",
       "          padj          sig \n",
       "NID1       0.000000e+00 down\n",
       "PDGFRB     0.000000e+00 down\n",
       "TUBB       0.000000e+00 down\n",
       "TOP2A      0.000000e+00 down\n",
       "COL3A1    4.247992e-271 down\n",
       "VGF       4.247992e-271 down\n",
       "NOLC1     3.302658e-261 up  \n",
       "RPL7A     1.873576e-244 down\n",
       "SUCNR1    2.080733e-242 down\n",
       "GSN       1.268462e-239 down\n",
       "DDX21     1.125791e-232 up  \n",
       "SLC25A5   1.401028e-217 down\n",
       "PRC1      1.146981e-216 down\n",
       "HGF       7.166805e-207 NA  \n",
       "AMOTL2    1.630395e-206 up  \n",
       "ERMP1     1.663808e-200 down\n",
       "COL26A1   1.579618e-198 down\n",
       "TIMP1     2.480783e-198 down\n",
       "LIPA      7.296474e-197 down\n",
       "NIBAN1    4.488725e-187 up  \n",
       "RRM1      5.871482e-187 down\n",
       "KIF1A     3.278781e-186 up  \n",
       "PDE4C     3.576502e-184 down\n",
       "CDK16     3.738612e-184 up  \n",
       "IFIT1     6.306660e-184 down\n",
       "ADGRE5    6.843685e-184 down\n",
       "CRABP2    3.788173e-182 down\n",
       "PCLAF     1.122013e-180 down\n",
       "CTPS1     2.821982e-177 up  \n",
       "COL1A2    2.365477e-176 down\n",
       "⋮         ⋮             ⋮   \n",
       "CRYL1     0.9893152     none\n",
       "ASCC2     0.9893152     none\n",
       "CPEB1     0.9906881     none\n",
       "TFAP2A    0.9908361     none\n",
       "AP5B1     0.9911773     none\n",
       "C1RL-AS1  0.9916319     none\n",
       "LINC01569 0.9919806     none\n",
       "LINC00476 0.9921982     none\n",
       "LINC01023 0.9925036     none\n",
       "SPEN      0.9928338     none\n",
       "LRP3      0.9929681     none\n",
       "ZMYM6     0.9930885     none\n",
       "EXTL3-AS1 0.9933822     none\n",
       "NUDT9     0.9935767     none\n",
       "C3orf38   0.9942840     none\n",
       "ACADS     0.9944938     none\n",
       "SREBF1    0.9945135     none\n",
       "CCDC130   0.9950899     none\n",
       "TP53I13   0.9952210     none\n",
       "SNORD102  0.9958545     none\n",
       "CBX2      0.9959551     none\n",
       "CBX3P2    0.9962643     none\n",
       "IFT172    0.9965132     none\n",
       "EAF2      0.9974374     none\n",
       "KIAA0895  0.9979326     none\n",
       "CSDC2     0.9979326     none\n",
       "MFSD1     0.9987355     none\n",
       "DET1      0.9988732     none\n",
       "SETDB1    0.9995914     none\n",
       "SNORA22B  0.9997562     none"
      ]
     },
     "metadata": {},
     "output_type": "display_data"
    }
   ],
   "source": [
    "resOrdered"
   ]
  },
  {
   "cell_type": "code",
   "execution_count": 268,
   "metadata": {},
   "outputs": [
    {
     "name": "stderr",
     "output_type": "stream",
     "text": [
      "Warning message:\n",
      "“Removed 136 rows containing missing values (geom_point).”\n"
     ]
    },
    {
     "data": {
      "image/png": "[encoded data removed]",
      "text/plain": [
       "plot without title"
      ]
     },
     "metadata": {
      "image/png": {
       "height": 420,
       "width": 420
      }
     },
     "output_type": "display_data"
    }
   ],
   "source": [
    "### plot valcano ------------------------------------------------------------------------>\n",
    "vp <- ggplot(data = resOrdered, aes(x = log2FoldChange, y = -log10(padj),color = sig)) +\n",
    "  geom_point(size = 1.7, alpha=0.8) +  #绘制散点图\n",
    "  scale_color_manual(values = c('#B22222', 'gray', '#4169E1'), limits = c('up', 'none', 'down')) +  #自定义点的颜色\n",
    "  labs(x = 'log2 Fold Change', y = '-log10 adjust p-value', title = 'control vs treat', color = '') +  #坐标轴标题\n",
    "  theme(plot.title = element_text(hjust = 0.5, size = 14), panel.grid = element_blank(), #背景色、网格线、图例等主题修改\n",
    "        panel.background = element_rect(color = 'black', fill = 'transparent'),\n",
    "        legend.key = element_rect(fill = 'transparent')) +\n",
    "  geom_vline(xintercept = c(-1, 1), lty = 3, color = 'black') +  #添加阈值线\n",
    "  geom_hline(yintercept = 1.3, lty = 3, color = 'black') +\n",
    "  # xlim(-2, 2) + ylim(0, 5)\n",
    "  xlim(-10, 10) + ylim(0, 100)\n",
    "\n",
    "vp"
   ]
  },
  {
   "cell_type": "code",
   "execution_count": 269,
   "metadata": {},
   "outputs": [
    {
     "name": "stderr",
     "output_type": "stream",
     "text": [
      "Warning message:\n",
      "“Removed 136 rows containing missing values (geom_point).”\n"
     ]
    },
    {
     "data": {
      "text/html": [
       "<strong>png:</strong> 2"
      ],
      "text/latex": [
       "\\textbf{png:} 2"
      ],
      "text/markdown": [
       "**png:** 2"
      ],
      "text/plain": [
       "png \n",
       "  2 "
      ]
     },
     "metadata": {},
     "output_type": "display_data"
    }
   ],
   "source": [
    "pdf(\"plots/011_select_differential_expression_genes_valcano_plot.pdf\",height = 5,width = 8)\n",
    "vp\n",
    "dev.off()"
   ]
  },
  {
   "cell_type": "markdown",
   "metadata": {},
   "source": [
    "# 转换所有基因名和差异表达基因名"
   ]
  },
  {
   "cell_type": "code",
   "execution_count": 129,
   "metadata": {},
   "outputs": [],
   "source": [
    "library(tidyverse)"
   ]
  },
  {
   "cell_type": "code",
   "execution_count": 130,
   "metadata": {},
   "outputs": [
    {
     "name": "stderr",
     "output_type": "stream",
     "text": [
      "New names:\n",
      "* `` -> ...1\n",
      "\n",
      "\u001b[1mRows: \u001b[22m\u001b[34m1164\u001b[39m \u001b[1mColumns: \u001b[22m\u001b[34m8\u001b[39m\n",
      "\n",
      "\u001b[36m──\u001b[39m \u001b[1mColumn specification\u001b[22m \u001b[36m─────────────────────────────────────────────────────────────────────────────────────────────────────\u001b[39m\n",
      "\u001b[1mDelimiter:\u001b[22m \",\"\n",
      "\u001b[31mchr\u001b[39m (2): ...1, sig\n",
      "\u001b[32mdbl\u001b[39m (6): baseMean, log2FoldChange, lfcSE, stat, pvalue, padj\n",
      "\n",
      "\n",
      "\u001b[36mℹ\u001b[39m Use `spec()` to retrieve the full column specification for this data.\n",
      "\u001b[36mℹ\u001b[39m Specify the column types or set `show_col_types = FALSE` to quiet this message.\n",
      "\n",
      "New names:\n",
      "* `` -> ...1\n",
      "\n",
      "\u001b[1mRows: \u001b[22m\u001b[34m22245\u001b[39m \u001b[1mColumns: \u001b[22m\u001b[34m8\u001b[39m\n",
      "\n",
      "\u001b[36m──\u001b[39m \u001b[1mColumn specification\u001b[22m \u001b[36m─────────────────────────────────────────────────────────────────────────────────────────────────────\u001b[39m\n",
      "\u001b[1mDelimiter:\u001b[22m \",\"\n",
      "\u001b[31mchr\u001b[39m (2): ...1, sig\n",
      "\u001b[32mdbl\u001b[39m (6): baseMean, log2FoldChange, lfcSE, stat, pvalue, padj\n",
      "\n",
      "\n",
      "\u001b[36mℹ\u001b[39m Use `spec()` to retrieve the full column specification for this data.\n",
      "\u001b[36mℹ\u001b[39m Specify the column types or set `show_col_types = FALSE` to quiet this message.\n",
      "\n"
     ]
    },
    {
     "data": {
      "text/html": [
       "<style>\n",
       ".list-inline {list-style: none; margin:0; padding: 0}\n",
       ".list-inline>li {display: inline-block}\n",
       ".list-inline>li:not(:last-child)::after {content: \"\\00b7\"; padding: 0 .5ex}\n",
       "</style>\n",
       "<ol class=list-inline><li>'...1'</li><li>'baseMean'</li><li>'log2FoldChange'</li><li>'lfcSE'</li><li>'stat'</li><li>'pvalue'</li><li>'padj'</li><li>'sig'</li></ol>\n"
      ],
      "text/latex": [
       "\\begin{enumerate*}\n",
       "\\item '...1'\n",
       "\\item 'baseMean'\n",
       "\\item 'log2FoldChange'\n",
       "\\item 'lfcSE'\n",
       "\\item 'stat'\n",
       "\\item 'pvalue'\n",
       "\\item 'padj'\n",
       "\\item 'sig'\n",
       "\\end{enumerate*}\n"
      ],
      "text/markdown": [
       "1. '...1'\n",
       "2. 'baseMean'\n",
       "3. 'log2FoldChange'\n",
       "4. 'lfcSE'\n",
       "5. 'stat'\n",
       "6. 'pvalue'\n",
       "7. 'padj'\n",
       "8. 'sig'\n",
       "\n",
       "\n"
      ],
      "text/plain": [
       "[1] \"...1\"           \"baseMean\"       \"log2FoldChange\" \"lfcSE\"         \n",
       "[5] \"stat\"           \"pvalue\"         \"padj\"           \"sig\"           "
      ]
     },
     "metadata": {},
     "output_type": "display_data"
    }
   ],
   "source": [
    "deg_res <- read_csv(\"plots/deg_result.csv\")\n",
    "all_res <- read_csv(\"plots/deseq2.all_sample.results.csv\")\n",
    "colnames(deg_res)"
   ]
  },
  {
   "cell_type": "markdown",
   "metadata": {},
   "source": [
    "```\n",
    "git clone https://github.com/xuzhougeng/org.At.tair.db.git\n",
    "cd org.At.tair.db\n",
    "Rscript org.At.tair.db.R\n",
    "```"
   ]
  },
  {
   "cell_type": "code",
   "execution_count": 98,
   "metadata": {},
   "outputs": [
    {
     "ename": "ERROR",
     "evalue": "Error in library(org.Mm.eg.db): 不存在叫‘org.Mm.eg.db’这个名字的程辑包\n",
     "output_type": "error",
     "traceback": [
      "Error in library(org.Mm.eg.db): 不存在叫‘org.Mm.eg.db’这个名字的程辑包\nTraceback:\n",
      "1. library(org.Mm.eg.db)"
     ]
    }
   ],
   "source": [
    "library(AnnotationDbi)\n",
    "library(org.Mm.eg.db)"
   ]
  },
  {
   "cell_type": "code",
   "execution_count": 5,
   "metadata": {},
   "outputs": [
    {
     "name": "stderr",
     "output_type": "stream",
     "text": [
      "'select()' returned 1:many mapping between keys and columns\n",
      "\n"
     ]
    },
    {
     "data": {
      "text/html": [
       "<table class=\"dataframe\">\n",
       "<caption>A tibble: 6 × 9</caption>\n",
       "<thead>\n",
       "\t<tr><th scope=col>X1</th><th scope=col>deg_anno</th><th scope=col>baseMean</th><th scope=col>log2FoldChange</th><th scope=col>lfcSE</th><th scope=col>stat</th><th scope=col>pvalue</th><th scope=col>padj</th><th scope=col>sig</th></tr>\n",
       "\t<tr><th scope=col>&lt;chr&gt;</th><th scope=col>&lt;chr&gt;</th><th scope=col>&lt;dbl&gt;</th><th scope=col>&lt;dbl&gt;</th><th scope=col>&lt;dbl&gt;</th><th scope=col>&lt;dbl&gt;</th><th scope=col>&lt;dbl&gt;</th><th scope=col>&lt;dbl&gt;</th><th scope=col>&lt;chr&gt;</th></tr>\n",
       "</thead>\n",
       "<tbody>\n",
       "\t<tr><td>ENSMUSG00000029408</td><td>Abcb9  </td><td> 80.38315</td><td>-24.581070</td><td>2.9974166</td><td>-8.200752</td><td>2.388883e-16</td><td>3.022176e-12</td><td>down</td></tr>\n",
       "\t<tr><td>ENSMUSG00000037049</td><td>Smpd1  </td><td>141.58058</td><td>  6.420548</td><td>0.8244638</td><td> 7.787545</td><td>6.832394e-15</td><td>2.881221e-11</td><td>up  </td></tr>\n",
       "\t<tr><td>ENSMUSG00000025017</td><td>Pik3ap1</td><td>111.78980</td><td>  6.856110</td><td>0.8763867</td><td> 7.823157</td><td>5.151483e-15</td><td>2.881221e-11</td><td>up  </td></tr>\n",
       "\t<tr><td>ENSMUSG00000018983</td><td>E2f2   </td><td> 97.63604</td><td>  7.634844</td><td>1.0049858</td><td> 7.596967</td><td>3.031520e-14</td><td>9.587940e-11</td><td>up  </td></tr>\n",
       "\t<tr><td>ENSMUSG00000032125</td><td>Robo4  </td><td> 78.60206</td><td> -7.695032</td><td>1.0231181</td><td>-7.521157</td><td>5.429347e-14</td><td>1.373734e-10</td><td>down</td></tr>\n",
       "\t<tr><td>ENSMUSG00000032589</td><td>Bsn    </td><td> 93.65185</td><td>  7.634114</td><td>1.0367615</td><td> 7.363423</td><td>1.792532e-13</td><td>3.779554e-10</td><td>up  </td></tr>\n",
       "</tbody>\n",
       "</table>\n"
      ],
      "text/latex": [
       "A tibble: 6 × 9\n",
       "\\begin{tabular}{lllllllll}\n",
       " X1 & deg\\_anno & baseMean & log2FoldChange & lfcSE & stat & pvalue & padj & sig\\\\\n",
       " <chr> & <chr> & <dbl> & <dbl> & <dbl> & <dbl> & <dbl> & <dbl> & <chr>\\\\\n",
       "\\hline\n",
       "\t ENSMUSG00000029408 & Abcb9   &  80.38315 & -24.581070 & 2.9974166 & -8.200752 & 2.388883e-16 & 3.022176e-12 & down\\\\\n",
       "\t ENSMUSG00000037049 & Smpd1   & 141.58058 &   6.420548 & 0.8244638 &  7.787545 & 6.832394e-15 & 2.881221e-11 & up  \\\\\n",
       "\t ENSMUSG00000025017 & Pik3ap1 & 111.78980 &   6.856110 & 0.8763867 &  7.823157 & 5.151483e-15 & 2.881221e-11 & up  \\\\\n",
       "\t ENSMUSG00000018983 & E2f2    &  97.63604 &   7.634844 & 1.0049858 &  7.596967 & 3.031520e-14 & 9.587940e-11 & up  \\\\\n",
       "\t ENSMUSG00000032125 & Robo4   &  78.60206 &  -7.695032 & 1.0231181 & -7.521157 & 5.429347e-14 & 1.373734e-10 & down\\\\\n",
       "\t ENSMUSG00000032589 & Bsn     &  93.65185 &   7.634114 & 1.0367615 &  7.363423 & 1.792532e-13 & 3.779554e-10 & up  \\\\\n",
       "\\end{tabular}\n"
      ],
      "text/markdown": [
       "\n",
       "A tibble: 6 × 9\n",
       "\n",
       "| X1 &lt;chr&gt; | deg_anno &lt;chr&gt; | baseMean &lt;dbl&gt; | log2FoldChange &lt;dbl&gt; | lfcSE &lt;dbl&gt; | stat &lt;dbl&gt; | pvalue &lt;dbl&gt; | padj &lt;dbl&gt; | sig &lt;chr&gt; |\n",
       "|---|---|---|---|---|---|---|---|---|\n",
       "| ENSMUSG00000029408 | Abcb9   |  80.38315 | -24.581070 | 2.9974166 | -8.200752 | 2.388883e-16 | 3.022176e-12 | down |\n",
       "| ENSMUSG00000037049 | Smpd1   | 141.58058 |   6.420548 | 0.8244638 |  7.787545 | 6.832394e-15 | 2.881221e-11 | up   |\n",
       "| ENSMUSG00000025017 | Pik3ap1 | 111.78980 |   6.856110 | 0.8763867 |  7.823157 | 5.151483e-15 | 2.881221e-11 | up   |\n",
       "| ENSMUSG00000018983 | E2f2    |  97.63604 |   7.634844 | 1.0049858 |  7.596967 | 3.031520e-14 | 9.587940e-11 | up   |\n",
       "| ENSMUSG00000032125 | Robo4   |  78.60206 |  -7.695032 | 1.0231181 | -7.521157 | 5.429347e-14 | 1.373734e-10 | down |\n",
       "| ENSMUSG00000032589 | Bsn     |  93.65185 |   7.634114 | 1.0367615 |  7.363423 | 1.792532e-13 | 3.779554e-10 | up   |\n",
       "\n"
      ],
      "text/plain": [
       "  X1                 deg_anno baseMean  log2FoldChange lfcSE     stat     \n",
       "1 ENSMUSG00000029408 Abcb9     80.38315 -24.581070     2.9974166 -8.200752\n",
       "2 ENSMUSG00000037049 Smpd1    141.58058   6.420548     0.8244638  7.787545\n",
       "3 ENSMUSG00000025017 Pik3ap1  111.78980   6.856110     0.8763867  7.823157\n",
       "4 ENSMUSG00000018983 E2f2      97.63604   7.634844     1.0049858  7.596967\n",
       "5 ENSMUSG00000032125 Robo4     78.60206  -7.695032     1.0231181 -7.521157\n",
       "6 ENSMUSG00000032589 Bsn       93.65185   7.634114     1.0367615  7.363423\n",
       "  pvalue       padj         sig \n",
       "1 2.388883e-16 3.022176e-12 down\n",
       "2 6.832394e-15 2.881221e-11 up  \n",
       "3 5.151483e-15 2.881221e-11 up  \n",
       "4 3.031520e-14 9.587940e-11 up  \n",
       "5 5.429347e-14 1.373734e-10 down\n",
       "6 1.792532e-13 3.779554e-10 up  "
      ]
     },
     "metadata": {},
     "output_type": "display_data"
    }
   ],
   "source": [
    "deg_anno <- AnnotationDbi::mapIds(\n",
    "    org.Mm.eg.db, \n",
    "    keys=as.vector(deg_res$X1), \n",
    "    column=\"SYMBOL\", \n",
    "    keytype=\"ENSEMBL\"\n",
    ")\n",
    "deg_res_final <- deg_res %>% add_column(\n",
    "    deg_anno,\n",
    "    .after=\"X1\"\n",
    ")\n",
    "head(deg_res_final)"
   ]
  },
  {
   "cell_type": "code",
   "execution_count": 6,
   "metadata": {},
   "outputs": [
    {
     "name": "stderr",
     "output_type": "stream",
     "text": [
      "'select()' returned 1:many mapping between keys and columns\n",
      "\n"
     ]
    },
    {
     "data": {
      "text/html": [
       "<table class=\"dataframe\">\n",
       "<caption>A tibble: 6 × 9</caption>\n",
       "<thead>\n",
       "\t<tr><th scope=col>X1</th><th scope=col>all_anno</th><th scope=col>baseMean</th><th scope=col>log2FoldChange</th><th scope=col>lfcSE</th><th scope=col>stat</th><th scope=col>pvalue</th><th scope=col>padj</th><th scope=col>sig</th></tr>\n",
       "\t<tr><th scope=col>&lt;chr&gt;</th><th scope=col>&lt;chr&gt;</th><th scope=col>&lt;dbl&gt;</th><th scope=col>&lt;dbl&gt;</th><th scope=col>&lt;dbl&gt;</th><th scope=col>&lt;dbl&gt;</th><th scope=col>&lt;dbl&gt;</th><th scope=col>&lt;dbl&gt;</th><th scope=col>&lt;chr&gt;</th></tr>\n",
       "</thead>\n",
       "<tbody>\n",
       "\t<tr><td>ENSMUSG00000029408</td><td>Abcb9  </td><td> 80.38315</td><td>-24.581070</td><td>2.9974166</td><td>-8.200752</td><td>2.388883e-16</td><td>3.022176e-12</td><td>down</td></tr>\n",
       "\t<tr><td>ENSMUSG00000037049</td><td>Smpd1  </td><td>141.58058</td><td>  6.420548</td><td>0.8244638</td><td> 7.787545</td><td>6.832394e-15</td><td>2.881221e-11</td><td>up  </td></tr>\n",
       "\t<tr><td>ENSMUSG00000025017</td><td>Pik3ap1</td><td>111.78980</td><td>  6.856110</td><td>0.8763867</td><td> 7.823157</td><td>5.151483e-15</td><td>2.881221e-11</td><td>up  </td></tr>\n",
       "\t<tr><td>ENSMUSG00000018983</td><td>E2f2   </td><td> 97.63604</td><td>  7.634844</td><td>1.0049858</td><td> 7.596967</td><td>3.031520e-14</td><td>9.587940e-11</td><td>up  </td></tr>\n",
       "\t<tr><td>ENSMUSG00000032125</td><td>Robo4  </td><td> 78.60206</td><td> -7.695032</td><td>1.0231181</td><td>-7.521157</td><td>5.429347e-14</td><td>1.373734e-10</td><td>down</td></tr>\n",
       "\t<tr><td>ENSMUSG00000032589</td><td>Bsn    </td><td> 93.65185</td><td>  7.634114</td><td>1.0367615</td><td> 7.363423</td><td>1.792532e-13</td><td>3.779554e-10</td><td>up  </td></tr>\n",
       "</tbody>\n",
       "</table>\n"
      ],
      "text/latex": [
       "A tibble: 6 × 9\n",
       "\\begin{tabular}{lllllllll}\n",
       " X1 & all\\_anno & baseMean & log2FoldChange & lfcSE & stat & pvalue & padj & sig\\\\\n",
       " <chr> & <chr> & <dbl> & <dbl> & <dbl> & <dbl> & <dbl> & <dbl> & <chr>\\\\\n",
       "\\hline\n",
       "\t ENSMUSG00000029408 & Abcb9   &  80.38315 & -24.581070 & 2.9974166 & -8.200752 & 2.388883e-16 & 3.022176e-12 & down\\\\\n",
       "\t ENSMUSG00000037049 & Smpd1   & 141.58058 &   6.420548 & 0.8244638 &  7.787545 & 6.832394e-15 & 2.881221e-11 & up  \\\\\n",
       "\t ENSMUSG00000025017 & Pik3ap1 & 111.78980 &   6.856110 & 0.8763867 &  7.823157 & 5.151483e-15 & 2.881221e-11 & up  \\\\\n",
       "\t ENSMUSG00000018983 & E2f2    &  97.63604 &   7.634844 & 1.0049858 &  7.596967 & 3.031520e-14 & 9.587940e-11 & up  \\\\\n",
       "\t ENSMUSG00000032125 & Robo4   &  78.60206 &  -7.695032 & 1.0231181 & -7.521157 & 5.429347e-14 & 1.373734e-10 & down\\\\\n",
       "\t ENSMUSG00000032589 & Bsn     &  93.65185 &   7.634114 & 1.0367615 &  7.363423 & 1.792532e-13 & 3.779554e-10 & up  \\\\\n",
       "\\end{tabular}\n"
      ],
      "text/markdown": [
       "\n",
       "A tibble: 6 × 9\n",
       "\n",
       "| X1 &lt;chr&gt; | all_anno &lt;chr&gt; | baseMean &lt;dbl&gt; | log2FoldChange &lt;dbl&gt; | lfcSE &lt;dbl&gt; | stat &lt;dbl&gt; | pvalue &lt;dbl&gt; | padj &lt;dbl&gt; | sig &lt;chr&gt; |\n",
       "|---|---|---|---|---|---|---|---|---|\n",
       "| ENSMUSG00000029408 | Abcb9   |  80.38315 | -24.581070 | 2.9974166 | -8.200752 | 2.388883e-16 | 3.022176e-12 | down |\n",
       "| ENSMUSG00000037049 | Smpd1   | 141.58058 |   6.420548 | 0.8244638 |  7.787545 | 6.832394e-15 | 2.881221e-11 | up   |\n",
       "| ENSMUSG00000025017 | Pik3ap1 | 111.78980 |   6.856110 | 0.8763867 |  7.823157 | 5.151483e-15 | 2.881221e-11 | up   |\n",
       "| ENSMUSG00000018983 | E2f2    |  97.63604 |   7.634844 | 1.0049858 |  7.596967 | 3.031520e-14 | 9.587940e-11 | up   |\n",
       "| ENSMUSG00000032125 | Robo4   |  78.60206 |  -7.695032 | 1.0231181 | -7.521157 | 5.429347e-14 | 1.373734e-10 | down |\n",
       "| ENSMUSG00000032589 | Bsn     |  93.65185 |   7.634114 | 1.0367615 |  7.363423 | 1.792532e-13 | 3.779554e-10 | up   |\n",
       "\n"
      ],
      "text/plain": [
       "  X1                 all_anno baseMean  log2FoldChange lfcSE     stat     \n",
       "1 ENSMUSG00000029408 Abcb9     80.38315 -24.581070     2.9974166 -8.200752\n",
       "2 ENSMUSG00000037049 Smpd1    141.58058   6.420548     0.8244638  7.787545\n",
       "3 ENSMUSG00000025017 Pik3ap1  111.78980   6.856110     0.8763867  7.823157\n",
       "4 ENSMUSG00000018983 E2f2      97.63604   7.634844     1.0049858  7.596967\n",
       "5 ENSMUSG00000032125 Robo4     78.60206  -7.695032     1.0231181 -7.521157\n",
       "6 ENSMUSG00000032589 Bsn       93.65185   7.634114     1.0367615  7.363423\n",
       "  pvalue       padj         sig \n",
       "1 2.388883e-16 3.022176e-12 down\n",
       "2 6.832394e-15 2.881221e-11 up  \n",
       "3 5.151483e-15 2.881221e-11 up  \n",
       "4 3.031520e-14 9.587940e-11 up  \n",
       "5 5.429347e-14 1.373734e-10 down\n",
       "6 1.792532e-13 3.779554e-10 up  "
      ]
     },
     "metadata": {},
     "output_type": "display_data"
    }
   ],
   "source": [
    "all_anno <- AnnotationDbi::mapIds(\n",
    "    org.Mm.eg.db, \n",
    "    keys=as.vector(all_res$X1), \n",
    "    column=\"SYMBOL\", \n",
    "    keytype=\"ENSEMBL\"\n",
    ")\n",
    "all_res_final <- all_res %>% add_column(\n",
    "    all_anno,\n",
    "    .after=\"X1\"\n",
    ")\n",
    "head(all_res_final)"
   ]
  },
  {
   "cell_type": "code",
   "execution_count": 8,
   "metadata": {},
   "outputs": [
    {
     "name": "stderr",
     "output_type": "stream",
     "text": [
      "\n",
      "\u001b[36m──\u001b[39m \u001b[1m\u001b[1mColumn specification\u001b[1m\u001b[22m \u001b[36m────────────────────────────────────────────────────────\u001b[39m\n",
      "cols(\n",
      "  Geneid = \u001b[31mcol_character()\u001b[39m,\n",
      "  WT1 = \u001b[32mcol_double()\u001b[39m,\n",
      "  WT2 = \u001b[32mcol_double()\u001b[39m,\n",
      "  WT3 = \u001b[32mcol_double()\u001b[39m,\n",
      "  WT4 = \u001b[32mcol_double()\u001b[39m,\n",
      "  KO1 = \u001b[32mcol_double()\u001b[39m,\n",
      "  KO2 = \u001b[32mcol_double()\u001b[39m,\n",
      "  KO3 = \u001b[32mcol_double()\u001b[39m,\n",
      "  KO4 = \u001b[32mcol_double()\u001b[39m\n",
      ")\n",
      "\n",
      "\n"
     ]
    },
    {
     "data": {
      "text/html": [
       "<table class=\"dataframe\">\n",
       "<caption>A tibble: 6 × 9</caption>\n",
       "<thead>\n",
       "\t<tr><th scope=col>Geneid</th><th scope=col>WT1</th><th scope=col>WT2</th><th scope=col>WT3</th><th scope=col>WT4</th><th scope=col>KO1</th><th scope=col>KO2</th><th scope=col>KO3</th><th scope=col>KO4</th></tr>\n",
       "\t<tr><th scope=col>&lt;chr&gt;</th><th scope=col>&lt;dbl&gt;</th><th scope=col>&lt;dbl&gt;</th><th scope=col>&lt;dbl&gt;</th><th scope=col>&lt;dbl&gt;</th><th scope=col>&lt;dbl&gt;</th><th scope=col>&lt;dbl&gt;</th><th scope=col>&lt;dbl&gt;</th><th scope=col>&lt;dbl&gt;</th></tr>\n",
       "</thead>\n",
       "<tbody>\n",
       "\t<tr><td>ENSMUSG00000102693.1</td><td>0</td><td>0</td><td>0</td><td>0</td><td>0</td><td>0</td><td>0</td><td>0</td></tr>\n",
       "\t<tr><td>ENSMUSG00000064842.1</td><td>0</td><td>0</td><td>0</td><td>0</td><td>0</td><td>0</td><td>0</td><td>0</td></tr>\n",
       "\t<tr><td>ENSMUSG00000051951.5</td><td>0</td><td>0</td><td>0</td><td>0</td><td>0</td><td>0</td><td>0</td><td>0</td></tr>\n",
       "\t<tr><td>ENSMUSG00000102851.1</td><td>0</td><td>0</td><td>0</td><td>0</td><td>0</td><td>0</td><td>0</td><td>0</td></tr>\n",
       "\t<tr><td>ENSMUSG00000103377.1</td><td>0</td><td>0</td><td>0</td><td>0</td><td>0</td><td>0</td><td>0</td><td>0</td></tr>\n",
       "\t<tr><td>ENSMUSG00000104017.1</td><td>0</td><td>0</td><td>0</td><td>0</td><td>0</td><td>0</td><td>0</td><td>0</td></tr>\n",
       "</tbody>\n",
       "</table>\n"
      ],
      "text/latex": [
       "A tibble: 6 × 9\n",
       "\\begin{tabular}{lllllllll}\n",
       " Geneid & WT1 & WT2 & WT3 & WT4 & KO1 & KO2 & KO3 & KO4\\\\\n",
       " <chr> & <dbl> & <dbl> & <dbl> & <dbl> & <dbl> & <dbl> & <dbl> & <dbl>\\\\\n",
       "\\hline\n",
       "\t ENSMUSG00000102693.1 & 0 & 0 & 0 & 0 & 0 & 0 & 0 & 0\\\\\n",
       "\t ENSMUSG00000064842.1 & 0 & 0 & 0 & 0 & 0 & 0 & 0 & 0\\\\\n",
       "\t ENSMUSG00000051951.5 & 0 & 0 & 0 & 0 & 0 & 0 & 0 & 0\\\\\n",
       "\t ENSMUSG00000102851.1 & 0 & 0 & 0 & 0 & 0 & 0 & 0 & 0\\\\\n",
       "\t ENSMUSG00000103377.1 & 0 & 0 & 0 & 0 & 0 & 0 & 0 & 0\\\\\n",
       "\t ENSMUSG00000104017.1 & 0 & 0 & 0 & 0 & 0 & 0 & 0 & 0\\\\\n",
       "\\end{tabular}\n"
      ],
      "text/markdown": [
       "\n",
       "A tibble: 6 × 9\n",
       "\n",
       "| Geneid &lt;chr&gt; | WT1 &lt;dbl&gt; | WT2 &lt;dbl&gt; | WT3 &lt;dbl&gt; | WT4 &lt;dbl&gt; | KO1 &lt;dbl&gt; | KO2 &lt;dbl&gt; | KO3 &lt;dbl&gt; | KO4 &lt;dbl&gt; |\n",
       "|---|---|---|---|---|---|---|---|---|\n",
       "| ENSMUSG00000102693.1 | 0 | 0 | 0 | 0 | 0 | 0 | 0 | 0 |\n",
       "| ENSMUSG00000064842.1 | 0 | 0 | 0 | 0 | 0 | 0 | 0 | 0 |\n",
       "| ENSMUSG00000051951.5 | 0 | 0 | 0 | 0 | 0 | 0 | 0 | 0 |\n",
       "| ENSMUSG00000102851.1 | 0 | 0 | 0 | 0 | 0 | 0 | 0 | 0 |\n",
       "| ENSMUSG00000103377.1 | 0 | 0 | 0 | 0 | 0 | 0 | 0 | 0 |\n",
       "| ENSMUSG00000104017.1 | 0 | 0 | 0 | 0 | 0 | 0 | 0 | 0 |\n",
       "\n"
      ],
      "text/plain": [
       "  Geneid               WT1 WT2 WT3 WT4 KO1 KO2 KO3 KO4\n",
       "1 ENSMUSG00000102693.1 0   0   0   0   0   0   0   0  \n",
       "2 ENSMUSG00000064842.1 0   0   0   0   0   0   0   0  \n",
       "3 ENSMUSG00000051951.5 0   0   0   0   0   0   0   0  \n",
       "4 ENSMUSG00000102851.1 0   0   0   0   0   0   0   0  \n",
       "5 ENSMUSG00000103377.1 0   0   0   0   0   0   0   0  \n",
       "6 ENSMUSG00000104017.1 0   0   0   0   0   0   0   0  "
      ]
     },
     "metadata": {},
     "output_type": "display_data"
    }
   ],
   "source": [
    "all_features <- read_tsv(\"all_feature_fix.csv\")\n",
    "head(all_features)"
   ]
  },
  {
   "cell_type": "code",
   "execution_count": 63,
   "metadata": {},
   "outputs": [
    {
     "data": {
      "text/html": [
       "<style>\n",
       ".list-inline {list-style: none; margin:0; padding: 0}\n",
       ".list-inline>li {display: inline-block}\n",
       ".list-inline>li:not(:last-child)::after {content: \"\\00b7\"; padding: 0 .5ex}\n",
       "</style>\n",
       "<ol class=list-inline><li>'ENSMUSG00000102693.1'</li><li>'ENSMUSG00000064842.1'</li><li>'ENSMUSG00000051951.5'</li><li>'ENSMUSG00000102851.1'</li><li>'ENSMUSG00000103377.1'</li><li>'ENSMUSG00000104017.1'</li></ol>\n"
      ],
      "text/latex": [
       "\\begin{enumerate*}\n",
       "\\item 'ENSMUSG00000102693.1'\n",
       "\\item 'ENSMUSG00000064842.1'\n",
       "\\item 'ENSMUSG00000051951.5'\n",
       "\\item 'ENSMUSG00000102851.1'\n",
       "\\item 'ENSMUSG00000103377.1'\n",
       "\\item 'ENSMUSG00000104017.1'\n",
       "\\end{enumerate*}\n"
      ],
      "text/markdown": [
       "1. 'ENSMUSG00000102693.1'\n",
       "2. 'ENSMUSG00000064842.1'\n",
       "3. 'ENSMUSG00000051951.5'\n",
       "4. 'ENSMUSG00000102851.1'\n",
       "5. 'ENSMUSG00000103377.1'\n",
       "6. 'ENSMUSG00000104017.1'\n",
       "\n",
       "\n"
      ],
      "text/plain": [
       "[1] \"ENSMUSG00000102693.1\" \"ENSMUSG00000064842.1\" \"ENSMUSG00000051951.5\"\n",
       "[4] \"ENSMUSG00000102851.1\" \"ENSMUSG00000103377.1\" \"ENSMUSG00000104017.1\""
      ]
     },
     "metadata": {},
     "output_type": "display_data"
    }
   ],
   "source": [
    "head(all_features$Geneid)"
   ]
  },
  {
   "cell_type": "code",
   "execution_count": 67,
   "metadata": {},
   "outputs": [
    {
     "data": {
      "text/html": [
       "<table class=\"dataframe\">\n",
       "<caption>A tibble: 6 × 9</caption>\n",
       "<thead>\n",
       "\t<tr><th scope=col>Geneid</th><th scope=col>WT1</th><th scope=col>WT2</th><th scope=col>WT3</th><th scope=col>WT4</th><th scope=col>KO1</th><th scope=col>KO2</th><th scope=col>KO3</th><th scope=col>KO4</th></tr>\n",
       "\t<tr><th scope=col>&lt;chr&gt;</th><th scope=col>&lt;dbl&gt;</th><th scope=col>&lt;dbl&gt;</th><th scope=col>&lt;dbl&gt;</th><th scope=col>&lt;dbl&gt;</th><th scope=col>&lt;dbl&gt;</th><th scope=col>&lt;dbl&gt;</th><th scope=col>&lt;dbl&gt;</th><th scope=col>&lt;dbl&gt;</th></tr>\n",
       "</thead>\n",
       "<tbody>\n",
       "\t<tr><td>ENSMUSG00000102693</td><td>0</td><td>0</td><td>0</td><td>0</td><td>0</td><td>0</td><td>0</td><td>0</td></tr>\n",
       "\t<tr><td>ENSMUSG00000064842</td><td>0</td><td>0</td><td>0</td><td>0</td><td>0</td><td>0</td><td>0</td><td>0</td></tr>\n",
       "\t<tr><td>ENSMUSG00000051951</td><td>0</td><td>0</td><td>0</td><td>0</td><td>0</td><td>0</td><td>0</td><td>0</td></tr>\n",
       "\t<tr><td>ENSMUSG00000102851</td><td>0</td><td>0</td><td>0</td><td>0</td><td>0</td><td>0</td><td>0</td><td>0</td></tr>\n",
       "\t<tr><td>ENSMUSG00000103377</td><td>0</td><td>0</td><td>0</td><td>0</td><td>0</td><td>0</td><td>0</td><td>0</td></tr>\n",
       "\t<tr><td>ENSMUSG00000104017</td><td>0</td><td>0</td><td>0</td><td>0</td><td>0</td><td>0</td><td>0</td><td>0</td></tr>\n",
       "</tbody>\n",
       "</table>\n"
      ],
      "text/latex": [
       "A tibble: 6 × 9\n",
       "\\begin{tabular}{lllllllll}\n",
       " Geneid & WT1 & WT2 & WT3 & WT4 & KO1 & KO2 & KO3 & KO4\\\\\n",
       " <chr> & <dbl> & <dbl> & <dbl> & <dbl> & <dbl> & <dbl> & <dbl> & <dbl>\\\\\n",
       "\\hline\n",
       "\t ENSMUSG00000102693 & 0 & 0 & 0 & 0 & 0 & 0 & 0 & 0\\\\\n",
       "\t ENSMUSG00000064842 & 0 & 0 & 0 & 0 & 0 & 0 & 0 & 0\\\\\n",
       "\t ENSMUSG00000051951 & 0 & 0 & 0 & 0 & 0 & 0 & 0 & 0\\\\\n",
       "\t ENSMUSG00000102851 & 0 & 0 & 0 & 0 & 0 & 0 & 0 & 0\\\\\n",
       "\t ENSMUSG00000103377 & 0 & 0 & 0 & 0 & 0 & 0 & 0 & 0\\\\\n",
       "\t ENSMUSG00000104017 & 0 & 0 & 0 & 0 & 0 & 0 & 0 & 0\\\\\n",
       "\\end{tabular}\n"
      ],
      "text/markdown": [
       "\n",
       "A tibble: 6 × 9\n",
       "\n",
       "| Geneid &lt;chr&gt; | WT1 &lt;dbl&gt; | WT2 &lt;dbl&gt; | WT3 &lt;dbl&gt; | WT4 &lt;dbl&gt; | KO1 &lt;dbl&gt; | KO2 &lt;dbl&gt; | KO3 &lt;dbl&gt; | KO4 &lt;dbl&gt; |\n",
       "|---|---|---|---|---|---|---|---|---|\n",
       "| ENSMUSG00000102693 | 0 | 0 | 0 | 0 | 0 | 0 | 0 | 0 |\n",
       "| ENSMUSG00000064842 | 0 | 0 | 0 | 0 | 0 | 0 | 0 | 0 |\n",
       "| ENSMUSG00000051951 | 0 | 0 | 0 | 0 | 0 | 0 | 0 | 0 |\n",
       "| ENSMUSG00000102851 | 0 | 0 | 0 | 0 | 0 | 0 | 0 | 0 |\n",
       "| ENSMUSG00000103377 | 0 | 0 | 0 | 0 | 0 | 0 | 0 | 0 |\n",
       "| ENSMUSG00000104017 | 0 | 0 | 0 | 0 | 0 | 0 | 0 | 0 |\n",
       "\n"
      ],
      "text/plain": [
       "  Geneid             WT1 WT2 WT3 WT4 KO1 KO2 KO3 KO4\n",
       "1 ENSMUSG00000102693 0   0   0   0   0   0   0   0  \n",
       "2 ENSMUSG00000064842 0   0   0   0   0   0   0   0  \n",
       "3 ENSMUSG00000051951 0   0   0   0   0   0   0   0  \n",
       "4 ENSMUSG00000102851 0   0   0   0   0   0   0   0  \n",
       "5 ENSMUSG00000103377 0   0   0   0   0   0   0   0  \n",
       "6 ENSMUSG00000104017 0   0   0   0   0   0   0   0  "
      ]
     },
     "metadata": {},
     "output_type": "display_data"
    }
   ],
   "source": [
    "### remove version in ensembl id ----------------------------------------------------------->\n",
    "gn <- stringr::str_split(all_features$Geneid,\"\\\\.\",simplify = T)[,1]\n",
    "all_features$Geneid <- gn\n",
    "head(all_features)"
   ]
  },
  {
   "cell_type": "code",
   "execution_count": 68,
   "metadata": {},
   "outputs": [
    {
     "name": "stderr",
     "output_type": "stream",
     "text": [
      "'select()' returned 1:many mapping between keys and columns\n",
      "\n"
     ]
    },
    {
     "data": {
      "text/html": [
       "<table class=\"dataframe\">\n",
       "<caption>A tibble: 6 × 10</caption>\n",
       "<thead>\n",
       "\t<tr><th scope=col>Geneid</th><th scope=col>all_features_anno</th><th scope=col>WT1</th><th scope=col>WT2</th><th scope=col>WT3</th><th scope=col>WT4</th><th scope=col>KO1</th><th scope=col>KO2</th><th scope=col>KO3</th><th scope=col>KO4</th></tr>\n",
       "\t<tr><th scope=col>&lt;chr&gt;</th><th scope=col>&lt;chr&gt;</th><th scope=col>&lt;dbl&gt;</th><th scope=col>&lt;dbl&gt;</th><th scope=col>&lt;dbl&gt;</th><th scope=col>&lt;dbl&gt;</th><th scope=col>&lt;dbl&gt;</th><th scope=col>&lt;dbl&gt;</th><th scope=col>&lt;dbl&gt;</th><th scope=col>&lt;dbl&gt;</th></tr>\n",
       "</thead>\n",
       "<tbody>\n",
       "\t<tr><td>ENSMUSG00000102693</td><td>NA     </td><td>0</td><td>0</td><td>0</td><td>0</td><td>0</td><td>0</td><td>0</td><td>0</td></tr>\n",
       "\t<tr><td>ENSMUSG00000064842</td><td>Gm26206</td><td>0</td><td>0</td><td>0</td><td>0</td><td>0</td><td>0</td><td>0</td><td>0</td></tr>\n",
       "\t<tr><td>ENSMUSG00000051951</td><td>Xkr4   </td><td>0</td><td>0</td><td>0</td><td>0</td><td>0</td><td>0</td><td>0</td><td>0</td></tr>\n",
       "\t<tr><td>ENSMUSG00000102851</td><td>Gm18956</td><td>0</td><td>0</td><td>0</td><td>0</td><td>0</td><td>0</td><td>0</td><td>0</td></tr>\n",
       "\t<tr><td>ENSMUSG00000103377</td><td>NA     </td><td>0</td><td>0</td><td>0</td><td>0</td><td>0</td><td>0</td><td>0</td><td>0</td></tr>\n",
       "\t<tr><td>ENSMUSG00000104017</td><td>NA     </td><td>0</td><td>0</td><td>0</td><td>0</td><td>0</td><td>0</td><td>0</td><td>0</td></tr>\n",
       "</tbody>\n",
       "</table>\n"
      ],
      "text/latex": [
       "A tibble: 6 × 10\n",
       "\\begin{tabular}{llllllllll}\n",
       " Geneid & all\\_features\\_anno & WT1 & WT2 & WT3 & WT4 & KO1 & KO2 & KO3 & KO4\\\\\n",
       " <chr> & <chr> & <dbl> & <dbl> & <dbl> & <dbl> & <dbl> & <dbl> & <dbl> & <dbl>\\\\\n",
       "\\hline\n",
       "\t ENSMUSG00000102693 & NA      & 0 & 0 & 0 & 0 & 0 & 0 & 0 & 0\\\\\n",
       "\t ENSMUSG00000064842 & Gm26206 & 0 & 0 & 0 & 0 & 0 & 0 & 0 & 0\\\\\n",
       "\t ENSMUSG00000051951 & Xkr4    & 0 & 0 & 0 & 0 & 0 & 0 & 0 & 0\\\\\n",
       "\t ENSMUSG00000102851 & Gm18956 & 0 & 0 & 0 & 0 & 0 & 0 & 0 & 0\\\\\n",
       "\t ENSMUSG00000103377 & NA      & 0 & 0 & 0 & 0 & 0 & 0 & 0 & 0\\\\\n",
       "\t ENSMUSG00000104017 & NA      & 0 & 0 & 0 & 0 & 0 & 0 & 0 & 0\\\\\n",
       "\\end{tabular}\n"
      ],
      "text/markdown": [
       "\n",
       "A tibble: 6 × 10\n",
       "\n",
       "| Geneid &lt;chr&gt; | all_features_anno &lt;chr&gt; | WT1 &lt;dbl&gt; | WT2 &lt;dbl&gt; | WT3 &lt;dbl&gt; | WT4 &lt;dbl&gt; | KO1 &lt;dbl&gt; | KO2 &lt;dbl&gt; | KO3 &lt;dbl&gt; | KO4 &lt;dbl&gt; |\n",
       "|---|---|---|---|---|---|---|---|---|---|\n",
       "| ENSMUSG00000102693 | NA      | 0 | 0 | 0 | 0 | 0 | 0 | 0 | 0 |\n",
       "| ENSMUSG00000064842 | Gm26206 | 0 | 0 | 0 | 0 | 0 | 0 | 0 | 0 |\n",
       "| ENSMUSG00000051951 | Xkr4    | 0 | 0 | 0 | 0 | 0 | 0 | 0 | 0 |\n",
       "| ENSMUSG00000102851 | Gm18956 | 0 | 0 | 0 | 0 | 0 | 0 | 0 | 0 |\n",
       "| ENSMUSG00000103377 | NA      | 0 | 0 | 0 | 0 | 0 | 0 | 0 | 0 |\n",
       "| ENSMUSG00000104017 | NA      | 0 | 0 | 0 | 0 | 0 | 0 | 0 | 0 |\n",
       "\n"
      ],
      "text/plain": [
       "  Geneid             all_features_anno WT1 WT2 WT3 WT4 KO1 KO2 KO3 KO4\n",
       "1 ENSMUSG00000102693 NA                0   0   0   0   0   0   0   0  \n",
       "2 ENSMUSG00000064842 Gm26206           0   0   0   0   0   0   0   0  \n",
       "3 ENSMUSG00000051951 Xkr4              0   0   0   0   0   0   0   0  \n",
       "4 ENSMUSG00000102851 Gm18956           0   0   0   0   0   0   0   0  \n",
       "5 ENSMUSG00000103377 NA                0   0   0   0   0   0   0   0  \n",
       "6 ENSMUSG00000104017 NA                0   0   0   0   0   0   0   0  "
      ]
     },
     "metadata": {},
     "output_type": "display_data"
    }
   ],
   "source": [
    "all_features_anno <- AnnotationDbi::mapIds(\n",
    "    org.Mm.eg.db, \n",
    "    keys=as.vector(all_features$Geneid), \n",
    "    column=\"SYMBOL\", \n",
    "    keytype=\"ENSEMBL\"\n",
    ")\n",
    "all_features_final <- all_features %>% add_column(\n",
    "    all_features_anno,\n",
    "    .after=\"Geneid\"\n",
    ")\n",
    "head(all_features_final)"
   ]
  },
  {
   "cell_type": "code",
   "execution_count": 69,
   "metadata": {},
   "outputs": [],
   "source": [
    "write_tsv(deg_res_final,\"deg_result_symbol.tsv\")\n",
    "write_tsv(all_res_final,\"all_result_symbol.tsv\")\n",
    "write_tsv(all_features_final, \"all_features_symbol.tsv\")"
   ]
  },
  {
   "cell_type": "code",
   "execution_count": null,
   "metadata": {},
   "outputs": [],
   "source": []
  }
 ],
 "metadata": {
  "kernelspec": {
   "display_name": "R",
   "language": "R",
   "name": "ir"
  },
  "language_info": {
   "codemirror_mode": "r",
   "file_extension": ".r",
   "mimetype": "text/x-r-source",
   "name": "R",
   "pygments_lexer": "r",
   "version": "4.1.2"
  }
 },
 "nbformat": 4,
 "nbformat_minor": 4
}
