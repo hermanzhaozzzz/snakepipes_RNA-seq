{
 "cells": [
  {
   "cell_type": "markdown",
   "metadata": {
    "tags": []
   },
   "source": [
    "# RNA-seq standard protocol"
   ]
  },
  {
   "cell_type": "code",
   "execution_count": 3,
   "metadata": {},
   "outputs": [],
   "source": [
    "# !pip install bioat"
   ]
  },
  {
   "cell_type": "code",
   "execution_count": 1,
   "metadata": {
    "tags": []
   },
   "outputs": [],
   "source": [
    "import glob\n",
    "import json\n",
    "from bioat.lib.libpath import HOME"
   ]
  },
  {
   "cell_type": "markdown",
   "metadata": {},
   "source": [
    "## 参数设置"
   ]
  },
  {
   "cell_type": "code",
   "execution_count": 2,
   "metadata": {
    "tags": []
   },
   "outputs": [],
   "source": [
    "thread = 20"
   ]
  },
  {
   "cell_type": "markdown",
   "metadata": {},
   "source": [
    "## 生成samples.json"
   ]
  },
  {
   "cell_type": "code",
   "execution_count": 3,
   "metadata": {
    "tags": []
   },
   "outputs": [],
   "source": [
    "ls = glob.glob(\"../fastq/*.fastq.gz\")\n",
    "ls.sort()\n",
    "assert ls != []  # 需要非空\n",
    "ls_se = [i for i in ls if i.endswith(\"SE.fastq.gz\")]\n",
    "ls_pe = [i for i in ls if i.endswith(\"R1.fastq.gz\")]"
   ]
  },
  {
   "cell_type": "code",
   "execution_count": 4,
   "metadata": {
    "tags": []
   },
   "outputs": [],
   "source": [
    "if ls_se:\n",
    "    ls_sample = [i.split(\"/\")[-1].split(\"_SE.fastq\")[0] for i in ls_se]\n",
    "    end_type = \"SE\"\n",
    "\n",
    "if ls_pe:\n",
    "    ls_sample = [i.split(\"/\")[-1].split(\"_R1.fastq\")[0] for i in ls_pe]\n",
    "    end_type = \"PE\""
   ]
  },
  {
   "cell_type": "code",
   "execution_count": 5,
   "metadata": {},
   "outputs": [
    {
     "data": {
      "text/plain": [
       "'/home/gengpuze'"
      ]
     },
     "execution_count": 5,
     "metadata": {},
     "output_type": "execute_result"
    }
   ],
   "source": [
    "HOME"
   ]
  },
  {
   "cell_type": "code",
   "execution_count": 6,
   "metadata": {
    "tags": []
   },
   "outputs": [],
   "source": [
    "# HG38\n",
    "# GENOME = f\"{HOME}/1.database/db_genomes/genome_fa/genome_ucsc_hg38/genome_ucsc_hg38.fa.star_index/hg38_only_chromosome.fa\"\n",
    "# STAR_INDEX = f\"{HOME}/1.database/db_genomes/genome_fa/genome_ucsc_hg38/genome_ucsc_hg38.fa.star_index\"\n",
    "# ANNOTATION_GTF = f\"{HOME}/1.database/db_genomes/genome_annotation/genome_ucsc_hg38/201902-RefSeq_gene.from_UCSC.hg38.rm_XM_XR.sorted.gtf\"\n",
    "\n",
    "# 这里是小鼠的, 没改变量名\n",
    "GENOME = f\"{HOME}/1.database/db_genomes/genome_fa/genome_gencode_GRCm38.p6/GRCm38.p6.genome.fa\"\n",
    "STAR_INDEX = f\"{HOME}/1.database/db_genomes/genome_fa/genome_gencode_GRCm38.p6/star_index_150bp\"\n",
    "ANNOTATION_GTF = f\"{HOME}/1.database/db_genomes/genome_annotation/genome_gencode_GRCm38.p6/gencode.vM25.annotation.gtf\"\n",
    "\n",
    "\n",
    "\n",
    "# 这里是拟南芥的, 没改变量名\n",
    "# GENOME = f\"{HOME}/1.database/db_genomes/genome_fa/genome_ensemblgenomes_tair10.28/genome.fa\"\n",
    "# STAR_INDEX = f\"{HOME}/1.database/db_genomes/genome_fa/genome_ensemblgenomes_tair10.28/star_index_50bp\"\n",
    "# ANNOTATION_GTF = f\"{HOME}/1.database/db_genomes/genome_annotation/genome_ensemblgenomes_tair10.28/Arabidopsis_thaliana.TAIR10.28.gtf\""
   ]
  },
  {
   "cell_type": "code",
   "execution_count": 7,
   "metadata": {
    "tags": []
   },
   "outputs": [
    {
     "data": {
      "text/plain": [
       "{'seq_mode': 'PE',\n",
       " 'samples': ['RNA-seq_CTCF-AID_auxin1day_rep1',\n",
       "  'RNA-seq_CTCF-AID_auxin1day_rep2',\n",
       "  'RNA-seq_CTCF-AID_auxin1day_rep3',\n",
       "  'RNA-seq_CTCF-AID_auxin2days_rep1',\n",
       "  'RNA-seq_CTCF-AID_auxin2days_rep2',\n",
       "  'RNA-seq_CTCF-AID_auxin2days_rep3',\n",
       "  'RNA-seq_CTCF-AID_auxin4days_rep1',\n",
       "  'RNA-seq_CTCF-AID_auxin4days_rep2',\n",
       "  'RNA-seq_CTCF-AID_auxin4days_rep3',\n",
       "  'RNA-seq_CTCF-AID_untreated_rep1',\n",
       "  'RNA-seq_CTCF-AID_untreated_rep2',\n",
       "  'RNA-seq_CTCF-AID_untreated_rep3',\n",
       "  'RNA-seq_CTCF-AID_washoff2days_rep1',\n",
       "  'RNA-seq_CTCF-AID_washoff2days_rep2',\n",
       "  'RNA-seq_CTCF-AID_washoff2days_rep3',\n",
       "  'RNA-seq_WT-untagged_auxin2days_rep1',\n",
       "  'RNA-seq_WT-untagged_auxin2days_rep2',\n",
       "  'RNA-seq_WT-untagged_auxin2days_rep3',\n",
       "  'RNA-seq_WT-untagged_auxin4days_rep1',\n",
       "  'RNA-seq_WT-untagged_auxin4days_rep2',\n",
       "  'RNA-seq_WT-untagged_auxin4days_rep3',\n",
       "  'RNA-seq_WT-untagged_untreated_rep1',\n",
       "  'RNA-seq_WT-untagged_untreated_rep2',\n",
       "  'RNA-seq_WT-untagged_untreated_rep3'],\n",
       " 'thread': 20,\n",
       " 'genome': '/home/gengpuze/1.database/db_genomes/genome_fa/genome_gencode_GRCm38.p6/GRCm38.p6.genome.fa',\n",
       " 'star_index': '/home/gengpuze/1.database/db_genomes/genome_fa/genome_gencode_GRCm38.p6/star_index_150bp',\n",
       " 'annotation_gtf': '/home/gengpuze/1.database/db_genomes/genome_annotation/genome_gencode_GRCm38.p6/gencode.vM25.annotation.gtf'}"
      ]
     },
     "execution_count": 7,
     "metadata": {},
     "output_type": "execute_result"
    }
   ],
   "source": [
    "dt = {\n",
    "    \"seq_mode\": end_type,\n",
    "    \"samples\": ls_sample, \n",
    "    \"thread\": thread,\n",
    "    \"genome\": GENOME,\n",
    "    \"star_index\": STAR_INDEX,\n",
    "    \"annotation_gtf\": ANNOTATION_GTF,\n",
    "}\n",
    "dt"
   ]
  },
  {
   "cell_type": "code",
   "execution_count": 8,
   "metadata": {
    "tags": []
   },
   "outputs": [],
   "source": [
    "with open(\"./samples.json\", \"wt\") as f:\n",
    "    f.write(json.dumps(dt))"
   ]
  },
  {
   "cell_type": "code",
   "execution_count": null,
   "metadata": {},
   "outputs": [],
   "source": []
  }
 ],
 "metadata": {
  "kernelspec": {
   "display_name": "snakepipes_RNA-seq",
   "language": "python",
   "name": "snakepipes_rna-seq"
  },
  "language_info": {
   "codemirror_mode": {
    "name": "ipython",
    "version": 3
   },
   "file_extension": ".py",
   "mimetype": "text/x-python",
   "name": "python",
   "nbconvert_exporter": "python",
   "pygments_lexer": "ipython3",
   "version": "3.11.3"
  }
 },
 "nbformat": 4,
 "nbformat_minor": 4
}
