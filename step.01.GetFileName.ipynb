{
 "cells": [
  {
   "cell_type": "markdown",
   "metadata": {
    "tags": []
   },
   "source": [
    "# RNA-seq standard protocol"
   ]
  },
  {
   "cell_type": "code",
   "execution_count": 2,
   "metadata": {
    "execution": {
     "iopub.execute_input": "2023-05-24T13:12:34.836540Z",
     "iopub.status.busy": "2023-05-24T13:12:34.836150Z",
     "iopub.status.idle": "2023-05-24T13:12:34.839812Z",
     "shell.execute_reply": "2023-05-24T13:12:34.839141Z",
     "shell.execute_reply.started": "2023-05-24T13:12:34.836515Z"
    },
    "tags": []
   },
   "outputs": [],
   "source": [
    "import glob\n",
    "import json"
   ]
  },
  {
   "cell_type": "markdown",
   "metadata": {},
   "source": [
    "## 参数设置"
   ]
  },
  {
   "cell_type": "code",
   "execution_count": 3,
   "metadata": {
    "execution": {
     "iopub.execute_input": "2023-05-24T13:12:35.289214Z",
     "iopub.status.busy": "2023-05-24T13:12:35.288827Z",
     "iopub.status.idle": "2023-05-24T13:12:35.292521Z",
     "shell.execute_reply": "2023-05-24T13:12:35.291844Z",
     "shell.execute_reply.started": "2023-05-24T13:12:35.289188Z"
    },
    "tags": []
   },
   "outputs": [],
   "source": [
    "thread = 20"
   ]
  },
  {
   "cell_type": "markdown",
   "metadata": {},
   "source": [
    "## 生成samples.json"
   ]
  },
  {
   "cell_type": "code",
   "execution_count": 4,
   "metadata": {
    "execution": {
     "iopub.execute_input": "2023-05-24T13:12:37.452507Z",
     "iopub.status.busy": "2023-05-24T13:12:37.452122Z",
     "iopub.status.idle": "2023-05-24T13:12:37.457305Z",
     "shell.execute_reply": "2023-05-24T13:12:37.456562Z",
     "shell.execute_reply.started": "2023-05-24T13:12:37.452481Z"
    },
    "tags": []
   },
   "outputs": [],
   "source": [
    "ls = glob.glob(\"../fastq/*.fastq.gz\")\n",
    "ls.sort()\n",
    "assert ls != []  # 需要非空\n",
    "ls_se = [i for i in ls if i.endswith(\"SE.fastq.gz\")]\n",
    "ls_pe = [i for i in ls if i.endswith(\"R1.fastq.gz\")]"
   ]
  },
  {
   "cell_type": "code",
   "execution_count": 7,
   "metadata": {
    "execution": {
     "iopub.execute_input": "2023-05-24T13:14:04.279185Z",
     "iopub.status.busy": "2023-05-24T13:14:04.278786Z",
     "iopub.status.idle": "2023-05-24T13:14:04.283675Z",
     "shell.execute_reply": "2023-05-24T13:14:04.282958Z",
     "shell.execute_reply.started": "2023-05-24T13:14:04.279159Z"
    },
    "tags": []
   },
   "outputs": [],
   "source": [
    "if ls_se:\n",
    "    ls_sample = [i.split(\"/\")[-1].split(\"_SE.fastq\")[0] for i in ls_se]\n",
    "    end_type = \"SE\"\n",
    "\n",
    "if ls_pe:\n",
    "    ls_sample = [i.split(\"/\")[-1].split(\"_R1.fastq\")[0] for i in ls_pe]\n",
    "    end_type = \"PE\""
   ]
  },
  {
   "cell_type": "code",
   "execution_count": 11,
   "metadata": {
    "execution": {
     "iopub.execute_input": "2023-05-24T13:42:46.802742Z",
     "iopub.status.busy": "2023-05-24T13:42:46.802419Z",
     "iopub.status.idle": "2023-05-24T13:42:46.807197Z",
     "shell.execute_reply": "2023-05-24T13:42:46.806488Z",
     "shell.execute_reply.started": "2023-05-24T13:42:46.802717Z"
    },
    "tags": []
   },
   "outputs": [],
   "source": [
    "DB_PATH = \"/lustre1/chengqiyi_pkuhpc/zhaohn/1.database\"\n",
    "\n",
    "# HG38\n",
    "GENOME = f\"{DB_PATH}/db_genomes/genome_fa/genome_ucsc_hg38/genome_ucsc_hg38.fa.star_index/hg38_only_chromosome.fa\"\n",
    "STAR_INDEX = f\"{DB_PATH}/db_genomes/genome_fa/genome_ucsc_hg38/genome_ucsc_hg38.fa.star_index\"\n",
    "ANNOTATION_GTF = f\"{DB_PATH}/db_genomes/genome_annotation/genome_ucsc_hg38/201902-RefSeq_gene.from_UCSC.hg38.rm_XM_XR.sorted.gtf\"\n",
    "\n",
    "# 这里是小鼠的, 没改变量名\n",
    "# GENOME = f\"{DB_PATH}/db_genomes/genome_fa/genome_gencode_GRCm38.p6/GRCm38.p6.genome.fa\"\n",
    "# STAR_INDEX = f\"{DB_PATH}/db_genomes/genome_fa/genome_gencode_GRCm38.p6/star_index_150bp\"\n",
    "# ANNOTATION_GTF = f\"{DB_PATH}/db_genomes/genome_annotation/genome_gencode_GRCm38.p6/gencode.vM25.annotation.gtf\"\n",
    "\n",
    "\n",
    "\n",
    "# 这里是拟南芥的, 没改变量名\n",
    "# GENOME = f\"{DB_PATH}/db_genomes/genome_fa/genome_ensemblgenomes_tair10.28/genome.fa\"\n",
    "# STAR_INDEX = f\"{DB_PATH}/db_genomes/genome_fa/genome_ensemblgenomes_tair10.28/star_index_50bp\"\n",
    "# ANNOTATION_GTF = f\"{DB_PATH}/db_genomes/genome_annotation/genome_ensemblgenomes_tair10.28/Arabidopsis_thaliana.TAIR10.28.gtf\""
   ]
  },
  {
   "cell_type": "code",
   "execution_count": 12,
   "metadata": {
    "execution": {
     "iopub.execute_input": "2023-05-24T13:42:49.212462Z",
     "iopub.status.busy": "2023-05-24T13:42:49.212135Z",
     "iopub.status.idle": "2023-05-24T13:42:49.218354Z",
     "shell.execute_reply": "2023-05-24T13:42:49.217582Z",
     "shell.execute_reply.started": "2023-05-24T13:42:49.212436Z"
    },
    "tags": []
   },
   "outputs": [
    {
     "data": {
      "text/plain": [
       "{'seq_mode': 'PE',\n",
       " 'samples': ['ATACSeq_GFP-NLS_REP-1',\n",
       "  'ATACSeq_GFP_REP-1',\n",
       "  'ATACSeq_ND6-DddAwt_REP-1',\n",
       "  'ATACSeq_ND6-DddAwt_REP-2',\n",
       "  'ATACSeq_SIRT6-DddA11_REP-1',\n",
       "  'ATACSeq_SIRT6-DddA11_REP-2',\n",
       "  'test'],\n",
       " 'thread': 20,\n",
       " 'genome': '/lustre1/chengqiyi_pkuhpc/zhaohn/1.database/db_genomes/genome_fa/genome_ucsc_hg38/genome_ucsc_hg38.fa.star_index/hg38_only_chromosome.fa',\n",
       " 'star_index': '/lustre1/chengqiyi_pkuhpc/zhaohn/1.database/db_genomes/genome_fa/genome_ucsc_hg38/genome_ucsc_hg38.fa.star_index',\n",
       " 'annotation_gtf': '/lustre1/chengqiyi_pkuhpc/zhaohn/1.database/db_genomes/genome_annotation/genome_ucsc_hg38/201902-RefSeq_gene.from_UCSC.hg38.rm_XM_XR.sorted.gtf'}"
      ]
     },
     "execution_count": 12,
     "metadata": {},
     "output_type": "execute_result"
    }
   ],
   "source": [
    "dt = {\n",
    "    \"seq_mode\": end_type,\n",
    "    \"samples\": ls_sample, \n",
    "    \"thread\": thread,\n",
    "    \"genome\": GENOME,\n",
    "    \"star_index\": STAR_INDEX,\n",
    "    \"annotation_gtf\": ANNOTATION_GTF,\n",
    "}\n",
    "dt"
   ]
  },
  {
   "cell_type": "code",
   "execution_count": 13,
   "metadata": {
    "execution": {
     "iopub.execute_input": "2023-05-24T13:42:49.449547Z",
     "iopub.status.busy": "2023-05-24T13:42:49.449155Z",
     "iopub.status.idle": "2023-05-24T13:42:49.465569Z",
     "shell.execute_reply": "2023-05-24T13:42:49.464783Z",
     "shell.execute_reply.started": "2023-05-24T13:42:49.449521Z"
    },
    "tags": []
   },
   "outputs": [],
   "source": [
    "with open(\"./samples.json\", \"wt\") as f:\n",
    "    f.write(json.dumps(dt))"
   ]
  },
  {
   "cell_type": "code",
   "execution_count": null,
   "metadata": {},
   "outputs": [],
   "source": []
  }
 ],
 "metadata": {
  "kernelspec": {
   "display_name": "Python 3 (ipykernel)",
   "language": "python",
   "name": "python3"
  },
  "language_info": {
   "codemirror_mode": {
    "name": "ipython",
    "version": 3
   },
   "file_extension": ".py",
   "mimetype": "text/x-python",
   "name": "python",
   "nbconvert_exporter": "python",
   "pygments_lexer": "ipython3",
   "version": "3.10.11"
  }
 },
 "nbformat": 4,
 "nbformat_minor": 4
}
